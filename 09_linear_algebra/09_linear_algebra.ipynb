{
 "cells": [
  {
   "cell_type": "markdown",
   "metadata": {},
   "source": [
    "**Содержание**<a id='toc0_'></a>    \n",
    "- [Защита персональных данных клиентов](#toc1_)    \n",
    "  - [Загрузка данных](#toc1_1_)    \n",
    "    - [Импорт библиотек](#toc1_1_1_)    \n",
    "    - [Загрузка данных](#toc1_1_2_)    \n",
    "    - [Вывод](#toc1_1_3_)    \n",
    "  - [Умножение матриц](#toc1_2_)    \n",
    "      - [**Ответ:**](#toc1_2_1_1_)    \n",
    "  - [Алгоритм преобразования](#toc1_3_)    \n",
    "  - [Проверка алгоритма](#toc1_4_)    \n",
    "      - [Вывод](#toc1_4_1_1_)    \n",
    "  - [Вывод](#toc1_5_)    \n",
    "  - [Чек-лист проверки](#toc1_6_)    \n",
    "\n",
    "<!-- vscode-jupyter-toc-config\n",
    "\tnumbering=false\n",
    "\tanchor=true\n",
    "\tflat=false\n",
    "\tminLevel=1\n",
    "\tmaxLevel=6\n",
    "\t/vscode-jupyter-toc-config -->\n",
    "<!-- THIS CELL WILL BE REPLACED ON TOC UPDATE. DO NOT WRITE YOUR TEXT IN THIS CELL -->"
   ]
  },
  {
   "cell_type": "markdown",
   "metadata": {},
   "source": [
    "# <a id='toc1_'></a>Защита персональных данных клиентов [](#toc0_)"
   ]
  },
  {
   "cell_type": "markdown",
   "metadata": {},
   "source": [
    "Нам нужно защитить данные клиентов страховой компании «Хоть потоп». Разработаем такой метод преобразования данных, чтобы по ним было сложно восстановить персональную информацию.\n",
    "\n",
    "Нужно защитить данные, чтобы при преобразовании качество моделей машинного обучения не ухудшилось. Подбирать наилучшую модель не требуется.\n",
    "\n",
    "## Описание данных\n",
    "\n",
    "* Признаки: пол, возраст и зарплата застрахованного, количество членов его семьи.\n",
    "* Целевой признак: количество страховых выплат клиенту за последние 5 лет."
   ]
  },
  {
   "cell_type": "markdown",
   "metadata": {},
   "source": [
    "## <a id='toc1_1_'></a>Загрузка данных [](#toc0_)"
   ]
  },
  {
   "cell_type": "markdown",
   "metadata": {},
   "source": [
    "### <a id='toc1_1_1_'></a>Импорт библиотек [](#toc0_)"
   ]
  },
  {
   "cell_type": "code",
   "execution_count": 1,
   "metadata": {},
   "outputs": [],
   "source": [
    "import pandas as pd\n",
    "import numpy as np\n",
    "import matplotlib.pyplot as plt\n",
    "import seaborn as sns\n",
    "from scipy import stats as st\n",
    "%matplotlib inline\n",
    "\n",
    "from sklearn.metrics import r2_score\n",
    "\n",
    "from sklearn.model_selection import train_test_split\n",
    "\n",
    "from sklearn.linear_model import LinearRegression\n",
    "from sklearn.pipeline import FeatureUnion, Pipeline, make_pipeline\n",
    "from sklearn.base import BaseEstimator, TransformerMixin\n",
    "from statsmodels.stats.outliers_influence import variance_inflation_factor\n",
    "from statsmodels.tools.tools import add_constant"
   ]
  },
  {
   "cell_type": "code",
   "execution_count": 2,
   "metadata": {},
   "outputs": [],
   "source": [
    "class matrix_transformer(BaseEstimator, TransformerMixin):\n",
    "    def __init__(self):\n",
    "        pass\n",
    "\n",
    "    def fit(self, X, y = None):\n",
    "        while hasattr(self, 'key_encoding') == False:\n",
    "            key_encoding = np.random.randn(X.shape[1], X.shape[1])\n",
    "            try: \n",
    "                key_decoding = np.linalg.inv(key_encoding)\n",
    "                self.key_encoding = key_encoding\n",
    "            except:\n",
    "                continue\n",
    "        return self\n",
    "\n",
    "    def transform(self, X, y = None):\n",
    "        X_ = X.copy()\n",
    "        X_ = X @ self.key_encoding\n",
    "        return X_\n",
    "    \n",
    "\n",
    "class protection_info():\n",
    "    \n",
    "\n",
    "    ### Создание экземпляра класса\n",
    "\n",
    "    def __init__(self, df):\n",
    "        assert type(df) == pd.core.frame.DataFrame, 'Экземпляр класса должен иметь тип pd.DataFrame'\n",
    "\n",
    "        try:\n",
    "            self.data = df\n",
    "        except:\n",
    "            'Не получилось создать экземпляр класса'\n",
    "\n",
    "    @classmethod\n",
    "    def instance_from_link(cls,link):\n",
    "        return protection_info(\n",
    "            df=pd.read_csv(link,header=0, names=['sex','age','salary','family_members','insurance_payments'])\n",
    "        )\n",
    "    \n",
    "    ### Обработка данных\n",
    "    def check_duplicated(self):\n",
    "        print(f'Количество дубликатов: {self.data.duplicated().sum()}')\n",
    "\n",
    "    def drop_duplicated(self, method='first'):\n",
    "        self.data = self.data.drop_duplicates(keep=method)\n",
    "    \n",
    "    def check_misses(self):\n",
    "        misses = pd.DataFrame(self.data.isna().sum().sort_values(ascending=False), columns=['misses'])\n",
    "        misses['per'] = self.data.isna().mean().sort_values(ascending=False).apply(lambda x : '{:.2%}'.format(x))\n",
    "        misses = misses.loc[misses['misses'] > 0]\n",
    "        if misses.shape[0] > 0:\n",
    "            return misses\n",
    "        else:\n",
    "            print('Пропусков в данных нет')\n",
    "\n",
    "    ### ML\n",
    "\n",
    "    def features_target_splitter(self, print_status=True):\n",
    "        self.features = self.data.drop('insurance_payments', axis=1)\n",
    "        self.target = self.data['insurance_payments']\n",
    "        if print_status:\n",
    "            print(f'Признаки содержат в себе следующие колонки: {[col for col in self.features.columns]}')\n",
    "            print(f'Таргет содержит в себе следующие колонки: {self.target.name}')\n",
    "\n",
    "\n",
    "    def train_test_splitter(self, print_status=True):\n",
    "        self.X_train, self.X_test, self.y_train, self.y_test = train_test_split(self.features, self.target, test_size=.25, random_state=42)\n",
    "        if print_status:\n",
    "            print('Размер обучающей выборки составляет: {}. Отношение к полному датасету: {:.0%}.'.format(self.X_train.shape[0], self.X_train.shape[0] / self.data.shape[0]))\n",
    "            print('Размер тестовой выборки составляет: {}. Отношение к полному датасету: {:.0%}.'.format(self.X_test.shape[0], self.X_test.shape[0] / self.data.shape[0]))\n",
    "                \n",
    "\n",
    "    def LinearRegression(self, crypto=False):\n",
    "        if crypto:\n",
    "            model_c = LinearRegression()\n",
    "            model_c.fit(self.X_train_encoded, self.y_train)\n",
    "            predictions = model_c.predict(self.X_test_encoded)\n",
    "            score = r2_score(self.y_test, predictions)\n",
    "            print(f'r2_score модели: {score.round(2)}')\n",
    "            return predictions\n",
    "        else:\n",
    "            model = LinearRegression()\n",
    "            model.fit(self.X_train, self.y_train)\n",
    "            predictions = model.predict(self.X_test)\n",
    "            score = r2_score(self.y_test, predictions)\n",
    "            print(f'r2_score модели: {score.round(2)}')\n",
    "            return predictions\n",
    "    \n",
    "\n",
    "    ## Шифрование\n",
    "    \n",
    "    def create_encryption_key(self):\n",
    "        while hasattr(self, 'key_encoding') == False:\n",
    "            key_encoding = np.random.randn(self.features.shape[1], self.features.shape[1])\n",
    "            try: \n",
    "                self.key_decoding = np.linalg.inv(key_encoding)\n",
    "                self.key_encoding = key_encoding\n",
    "            except:\n",
    "                continue\n",
    "    \n",
    "    def encoding_data(self, print_status=True):\n",
    "        self.X_train_encoded = self.X_train @ self.key_encoding\n",
    "        self.X_test_encoded = self.X_test @ self.key_encoding\n",
    "        if print_status:\n",
    "            print(self.X_train_encoded.head(5))\n",
    "    \n",
    "    def decoding_data(self, print_status=True):\n",
    "        self.X_train_encoded = self.X_train_encoded @ self.key_decoding\n",
    "        self.X_test_encoded = self.X_test_encoded @ self.key_decoding\n",
    "        if print_status:\n",
    "            print(self.X_train_encoded.head(5))\n",
    "            \n",
    "    \n",
    "    def pipeline_predict(self):\n",
    "        pipe_cripto = Pipeline([\n",
    "            ('transformer', matrix_transformer()),\n",
    "            ('model', LinearRegression()),\n",
    "        ])\n",
    "\n",
    "\n",
    "        pipe_cripto.fit(self.X_train, self.y_train)\n",
    "\n",
    "        self.predictions = pipe_cripto.predict(self.X_test)"
   ]
  },
  {
   "cell_type": "markdown",
   "metadata": {},
   "source": [
    "### <a id='toc1_1_2_'></a>Загрузка данных [](#toc0_)"
   ]
  },
  {
   "cell_type": "code",
   "execution_count": 3,
   "metadata": {},
   "outputs": [],
   "source": [
    "pers_info_1 = protection_info.instance_from_link('https://code.s3.yandex.net/datasets/insurance.csv')"
   ]
  },
  {
   "cell_type": "code",
   "execution_count": 4,
   "metadata": {},
   "outputs": [
    {
     "data": {
      "image/png": "[encoded data removed]",
      "text/plain": [
       "<Figure size 1200x1200 with 6 Axes>"
      ]
     },
     "metadata": {},
     "output_type": "display_data"
    }
   ],
   "source": [
    "pers_info_1.data.hist(figsize=(12,12))\n",
    "plt.show()"
   ]
  },
  {
   "cell_type": "code",
   "execution_count": 5,
   "metadata": {},
   "outputs": [
    {
     "data": {
      "text/html": [
       "<div>\n",
       "<style scoped>\n",
       "    .dataframe tbody tr th:only-of-type {\n",
       "        vertical-align: middle;\n",
       "    }\n",
       "\n",
       "    .dataframe tbody tr th {\n",
       "        vertical-align: top;\n",
       "    }\n",
       "\n",
       "    .dataframe thead th {\n",
       "        text-align: right;\n",
       "    }\n",
       "</style>\n",
       "<table border=\"1\" class=\"dataframe\">\n",
       "  <thead>\n",
       "    <tr style=\"text-align: right;\">\n",
       "      <th></th>\n",
       "      <th>sex</th>\n",
       "      <th>age</th>\n",
       "      <th>salary</th>\n",
       "      <th>family_members</th>\n",
       "      <th>insurance_payments</th>\n",
       "    </tr>\n",
       "  </thead>\n",
       "  <tbody>\n",
       "    <tr>\n",
       "      <th>count</th>\n",
       "      <td>5000.000000</td>\n",
       "      <td>5000.000000</td>\n",
       "      <td>5000.000000</td>\n",
       "      <td>5000.000000</td>\n",
       "      <td>5000.000000</td>\n",
       "    </tr>\n",
       "    <tr>\n",
       "      <th>mean</th>\n",
       "      <td>0.499000</td>\n",
       "      <td>30.952800</td>\n",
       "      <td>39916.360000</td>\n",
       "      <td>1.194200</td>\n",
       "      <td>0.148000</td>\n",
       "    </tr>\n",
       "    <tr>\n",
       "      <th>std</th>\n",
       "      <td>0.500049</td>\n",
       "      <td>8.440807</td>\n",
       "      <td>9900.083569</td>\n",
       "      <td>1.091387</td>\n",
       "      <td>0.463183</td>\n",
       "    </tr>\n",
       "    <tr>\n",
       "      <th>min</th>\n",
       "      <td>0.000000</td>\n",
       "      <td>18.000000</td>\n",
       "      <td>5300.000000</td>\n",
       "      <td>0.000000</td>\n",
       "      <td>0.000000</td>\n",
       "    </tr>\n",
       "    <tr>\n",
       "      <th>25%</th>\n",
       "      <td>0.000000</td>\n",
       "      <td>24.000000</td>\n",
       "      <td>33300.000000</td>\n",
       "      <td>0.000000</td>\n",
       "      <td>0.000000</td>\n",
       "    </tr>\n",
       "    <tr>\n",
       "      <th>50%</th>\n",
       "      <td>0.000000</td>\n",
       "      <td>30.000000</td>\n",
       "      <td>40200.000000</td>\n",
       "      <td>1.000000</td>\n",
       "      <td>0.000000</td>\n",
       "    </tr>\n",
       "    <tr>\n",
       "      <th>75%</th>\n",
       "      <td>1.000000</td>\n",
       "      <td>37.000000</td>\n",
       "      <td>46600.000000</td>\n",
       "      <td>2.000000</td>\n",
       "      <td>0.000000</td>\n",
       "    </tr>\n",
       "    <tr>\n",
       "      <th>max</th>\n",
       "      <td>1.000000</td>\n",
       "      <td>65.000000</td>\n",
       "      <td>79000.000000</td>\n",
       "      <td>6.000000</td>\n",
       "      <td>5.000000</td>\n",
       "    </tr>\n",
       "  </tbody>\n",
       "</table>\n",
       "</div>"
      ],
      "text/plain": [
       "               sex          age        salary  family_members  \\\n",
       "count  5000.000000  5000.000000   5000.000000     5000.000000   \n",
       "mean      0.499000    30.952800  39916.360000        1.194200   \n",
       "std       0.500049     8.440807   9900.083569        1.091387   \n",
       "min       0.000000    18.000000   5300.000000        0.000000   \n",
       "25%       0.000000    24.000000  33300.000000        0.000000   \n",
       "50%       0.000000    30.000000  40200.000000        1.000000   \n",
       "75%       1.000000    37.000000  46600.000000        2.000000   \n",
       "max       1.000000    65.000000  79000.000000        6.000000   \n",
       "\n",
       "       insurance_payments  \n",
       "count         5000.000000  \n",
       "mean             0.148000  \n",
       "std              0.463183  \n",
       "min              0.000000  \n",
       "25%              0.000000  \n",
       "50%              0.000000  \n",
       "75%              0.000000  \n",
       "max              5.000000  "
      ]
     },
     "execution_count": 5,
     "metadata": {},
     "output_type": "execute_result"
    }
   ],
   "source": [
    "pers_info_1.data.describe()"
   ]
  },
  {
   "cell_type": "markdown",
   "metadata": {},
   "source": [
    "Данные представляют собой 5 колонок и 5000 строк.\n",
    "\n",
    "В них входят:\n",
    "\n",
    "1) `sex` - колонка признака, определяющая пол. Возможные значения: `1` или `0`;\n",
    "2) `age` - колонка признака, определяющая возраст. В данных присутствуют значения от `18` до `65` лет;\n",
    "3) `salary` - колонка признака, определяющая зарплату. Значения: `5300` - `79000`;\n",
    "4) `family_members` - колонка признака, определяющая количество людей в семье. Принимает значения от от `0` до `6`;\n",
    "5) `insurance_payments` - целевой признак. Определяет количество страховых выплат. Принимает значения от `0` до `5`.\n",
    "\n",
    "Аномалий в данных не обнаружено.\n",
    "\n",
    "Проверим дубликаты и пропуски:"
   ]
  },
  {
   "cell_type": "code",
   "execution_count": 6,
   "metadata": {},
   "outputs": [
    {
     "name": "stdout",
     "output_type": "stream",
     "text": [
      "Количество дубликатов: 153\n"
     ]
    }
   ],
   "source": [
    "pers_info_1.check_duplicated()"
   ]
  },
  {
   "cell_type": "markdown",
   "metadata": {},
   "source": [
    "Обнаружено 153 дубликата. Посмотрим на них:"
   ]
  },
  {
   "cell_type": "code",
   "execution_count": 7,
   "metadata": {},
   "outputs": [
    {
     "data": {
      "text/html": [
       "<div>\n",
       "<style scoped>\n",
       "    .dataframe tbody tr th:only-of-type {\n",
       "        vertical-align: middle;\n",
       "    }\n",
       "\n",
       "    .dataframe tbody tr th {\n",
       "        vertical-align: top;\n",
       "    }\n",
       "\n",
       "    .dataframe thead th {\n",
       "        text-align: right;\n",
       "    }\n",
       "</style>\n",
       "<table border=\"1\" class=\"dataframe\">\n",
       "  <thead>\n",
       "    <tr style=\"text-align: right;\">\n",
       "      <th></th>\n",
       "      <th>sex</th>\n",
       "      <th>age</th>\n",
       "      <th>salary</th>\n",
       "      <th>family_members</th>\n",
       "      <th>insurance_payments</th>\n",
       "    </tr>\n",
       "  </thead>\n",
       "  <tbody>\n",
       "    <tr>\n",
       "      <th>2955</th>\n",
       "      <td>1</td>\n",
       "      <td>32.0</td>\n",
       "      <td>21600.0</td>\n",
       "      <td>0</td>\n",
       "      <td>0</td>\n",
       "    </tr>\n",
       "    <tr>\n",
       "      <th>2988</th>\n",
       "      <td>1</td>\n",
       "      <td>32.0</td>\n",
       "      <td>21600.0</td>\n",
       "      <td>0</td>\n",
       "      <td>0</td>\n",
       "    </tr>\n",
       "    <tr>\n",
       "      <th>361</th>\n",
       "      <td>0</td>\n",
       "      <td>50.0</td>\n",
       "      <td>24700.0</td>\n",
       "      <td>1</td>\n",
       "      <td>2</td>\n",
       "    </tr>\n",
       "    <tr>\n",
       "      <th>2869</th>\n",
       "      <td>0</td>\n",
       "      <td>50.0</td>\n",
       "      <td>24700.0</td>\n",
       "      <td>1</td>\n",
       "      <td>2</td>\n",
       "    </tr>\n",
       "    <tr>\n",
       "      <th>333</th>\n",
       "      <td>0</td>\n",
       "      <td>32.0</td>\n",
       "      <td>25600.0</td>\n",
       "      <td>1</td>\n",
       "      <td>0</td>\n",
       "    </tr>\n",
       "    <tr>\n",
       "      <th>...</th>\n",
       "      <td>...</td>\n",
       "      <td>...</td>\n",
       "      <td>...</td>\n",
       "      <td>...</td>\n",
       "      <td>...</td>\n",
       "    </tr>\n",
       "    <tr>\n",
       "      <th>2465</th>\n",
       "      <td>0</td>\n",
       "      <td>40.0</td>\n",
       "      <td>54000.0</td>\n",
       "      <td>2</td>\n",
       "      <td>0</td>\n",
       "    </tr>\n",
       "    <tr>\n",
       "      <th>1042</th>\n",
       "      <td>0</td>\n",
       "      <td>33.0</td>\n",
       "      <td>59300.0</td>\n",
       "      <td>2</td>\n",
       "      <td>0</td>\n",
       "    </tr>\n",
       "    <tr>\n",
       "      <th>2231</th>\n",
       "      <td>0</td>\n",
       "      <td>33.0</td>\n",
       "      <td>59300.0</td>\n",
       "      <td>2</td>\n",
       "      <td>0</td>\n",
       "    </tr>\n",
       "    <tr>\n",
       "      <th>1418</th>\n",
       "      <td>1</td>\n",
       "      <td>28.0</td>\n",
       "      <td>59900.0</td>\n",
       "      <td>0</td>\n",
       "      <td>0</td>\n",
       "    </tr>\n",
       "    <tr>\n",
       "      <th>1742</th>\n",
       "      <td>1</td>\n",
       "      <td>28.0</td>\n",
       "      <td>59900.0</td>\n",
       "      <td>0</td>\n",
       "      <td>0</td>\n",
       "    </tr>\n",
       "  </tbody>\n",
       "</table>\n",
       "<p>300 rows × 5 columns</p>\n",
       "</div>"
      ],
      "text/plain": [
       "      sex   age   salary  family_members  insurance_payments\n",
       "2955    1  32.0  21600.0               0                   0\n",
       "2988    1  32.0  21600.0               0                   0\n",
       "361     0  50.0  24700.0               1                   2\n",
       "2869    0  50.0  24700.0               1                   2\n",
       "333     0  32.0  25600.0               1                   0\n",
       "...   ...   ...      ...             ...                 ...\n",
       "2465    0  40.0  54000.0               2                   0\n",
       "1042    0  33.0  59300.0               2                   0\n",
       "2231    0  33.0  59300.0               2                   0\n",
       "1418    1  28.0  59900.0               0                   0\n",
       "1742    1  28.0  59900.0               0                   0\n",
       "\n",
       "[300 rows x 5 columns]"
      ]
     },
     "execution_count": 7,
     "metadata": {},
     "output_type": "execute_result"
    }
   ],
   "source": [
    "pers_info_1.data[pers_info_1.data.duplicated(keep=False)].sort_values(by='salary')"
   ]
  },
  {
   "cell_type": "markdown",
   "metadata": {},
   "source": [
    "Удалим дубликаты:"
   ]
  },
  {
   "cell_type": "code",
   "execution_count": 8,
   "metadata": {},
   "outputs": [],
   "source": [
    "pers_info_1.drop_duplicated()"
   ]
  },
  {
   "cell_type": "code",
   "execution_count": 9,
   "metadata": {},
   "outputs": [
    {
     "name": "stdout",
     "output_type": "stream",
     "text": [
      "Количество дубликатов: 0\n"
     ]
    }
   ],
   "source": [
    "pers_info_1.check_duplicated()"
   ]
  },
  {
   "cell_type": "markdown",
   "metadata": {},
   "source": [
    "Проверим пропуски:"
   ]
  },
  {
   "cell_type": "code",
   "execution_count": 10,
   "metadata": {},
   "outputs": [
    {
     "name": "stdout",
     "output_type": "stream",
     "text": [
      "Пропусков в данных нет\n"
     ]
    }
   ],
   "source": [
    "pers_info_1.check_misses()"
   ]
  },
  {
   "cell_type": "markdown",
   "metadata": {},
   "source": [
    "Построим корреляционную карту:"
   ]
  },
  {
   "cell_type": "code",
   "execution_count": 11,
   "metadata": {},
   "outputs": [
    {
     "data": {
      "image/png": "[encoded data removed]",
      "text/plain": [
       "<Figure size 640x480 with 2 Axes>"
      ]
     },
     "metadata": {},
     "output_type": "display_data"
    }
   ],
   "source": [
    "sns.heatmap(pers_info_1.data.corr(), vmin = -1, vmax = +1, annot = True, cmap = 'coolwarm',mask = np.triu(pers_info_1.data.corr()))\n",
    "plt.xticks(rotation=-20)\n",
    "plt.title('Корреляционная карта')\n",
    "plt.show()"
   ]
  },
  {
   "cell_type": "markdown",
   "metadata": {},
   "source": [
    "Признаки слабо коррелированны между собой. Наибольшая корреляция наблюдается у целевого признака `insurance_payments` и `age`. Рассчитаем коэффициент инфляции дисперсии:"
   ]
  },
  {
   "cell_type": "code",
   "execution_count": 12,
   "metadata": {},
   "outputs": [
    {
     "data": {
      "text/plain": [
       "const                 40.575996\n",
       "sex                    1.000469\n",
       "age                    1.752399\n",
       "salary                 1.001567\n",
       "family_members         1.003101\n",
       "insurance_payments     1.755005\n",
       "dtype: float64"
      ]
     },
     "execution_count": 12,
     "metadata": {},
     "output_type": "execute_result"
    }
   ],
   "source": [
    "pd.Series([variance_inflation_factor(add_constant(pers_info_1.data).values, i) \n",
    "               for i in range(add_constant(pers_info_1.data).shape[1])], \n",
    "              index=add_constant(pers_info_1.data).columns)"
   ]
  },
  {
   "cell_type": "markdown",
   "metadata": {},
   "source": [
    "Коэффициента инфляции дисперсии у признаков составляет от `1` до `1.755`, что свидетельствует об отсутствии корреляции между переменной-предиктором и любыми другими переменными-предикторами в модели."
   ]
  },
  {
   "cell_type": "markdown",
   "metadata": {},
   "source": [
    "### <a id='toc1_1_3_'></a>Вывод [](#toc0_)\n",
    "\n",
    "Данные представляют собой 5 колонок и 5000 строк. В них были обнаружены `153` дубликата. Пропусков в данных нет, аномалий также не наблюдается. \n",
    "\n",
    "Датасет представляет собой:\n",
    "\n",
    "1) `sex` - колонка признака, определяющая пол. Возможные значения: `1` или `0`;\n",
    "2) `age` - колонка признака, определяющая возраст. В данных присутствуют значения от `18` до `65` лет;\n",
    "3) `salary` - колонка признака, определяющая зарплату. Значения: `5300` - `79000`;\n",
    "4) `family_members` - колонка признака, определяющая количество людей в семье. Принимает значения от от `0` до `6`;\n",
    "5) `insurance_payments` - целевой признак. Определяет количество страховых выплат. Принимает значения от `0` до `5`."
   ]
  },
  {
   "cell_type": "markdown",
   "metadata": {},
   "source": [
    "## <a id='toc1_2_'></a>Умножение матриц [](#toc0_)"
   ]
  },
  {
   "cell_type": "markdown",
   "metadata": {},
   "source": [
    "В этом задании вы можете записывать формулы в *Jupyter Notebook.*\n",
    "\n",
    "Чтобы записать формулу внутри текста, окружите её символами доллара \\\\$; если снаружи —  двойными символами \\\\$\\\\$. Эти формулы записываются на языке вёрстки *LaTeX.* \n",
    "\n",
    "Для примера мы записали формулы линейной регрессии. Можете их скопировать и отредактировать, чтобы решить задачу.\n",
    "\n",
    "Работать в *LaTeX* необязательно."
   ]
  },
  {
   "cell_type": "markdown",
   "metadata": {},
   "source": [
    "Обозначения:\n",
    "\n",
    "- $X$ — матрица признаков (нулевой столбец состоит из единиц)\n",
    "\n",
    "- $y$ — вектор целевого признака\n",
    "\n",
    "- $P$ — матрица, на которую умножаются признаки\n",
    "\n",
    "- $w$ — вектор весов линейной регрессии (нулевой элемент равен сдвигу)"
   ]
  },
  {
   "cell_type": "markdown",
   "metadata": {},
   "source": [
    "Предсказания:\n",
    "\n",
    "$$\n",
    "a = Xw\n",
    "$$\n",
    "\n",
    "Задача обучения:\n",
    "\n",
    "$$\n",
    "w = \\arg\\min_w MSE(Xw, y)\n",
    "$$\n",
    "\n",
    "Формула обучения:\n",
    "\n",
    "$$\n",
    "w = (X^T X)^{-1} X^T y\n",
    "$$"
   ]
  },
  {
   "cell_type": "markdown",
   "metadata": {},
   "source": [
    "Необходимо доказать:\n",
    "$$\n",
    "a = a_{v2}\n",
    "$$"
   ]
  },
  {
   "cell_type": "markdown",
   "metadata": {},
   "source": [
    "<div class=\"\">\n",
    "<font size=\"2\"><b>Попытка №3</b></font>\n",
    "\n",
    "Введем новый `признак`:\n",
    "\n",
    "1) $X_{v2} = XP$,\n",
    "\n",
    "В таком случае, `формула обучения` для нового признака будет иметь следующий вид:\n",
    "\n",
    "2) $w_{v2} = (X_{v2}^TX_{v2})^{-1}X_{v2}^Ty$,\n",
    "\n",
    "Или в полной форме:\n",
    "\n",
    "3) $w_{v2} = ((XP)^T(XP))^{-1}(XP)^Ty$,\n",
    "\n",
    "Преобразуем формулу:\n",
    "\n",
    "4) $w_{v2} = (P^T X^T X P)^{-1} (XP)^T y$,\n",
    "5) $w_{v2} = (P^T (X^T X) P)^{-1} P^T X^T y$,\n",
    "6) $w_{v2} = P^{-1} (X^T X)^{-1} (P^T)^{-1} P^T X^T y$,\n",
    "\n",
    "Поскольку при умножении матрицы на обратную матрицу получается единичная матрица `E`, преобразуем $(P^T)^{-1}$ и $P^T$ получим:\n",
    "\n",
    "7) $w_{v2} = P^{-1} (X^T X)^{-1} E X^Ty$,\n",
    "\n",
    "8) $w_{v2} = P^{-1} (X^T X)^{-1} X^Ty$,\n",
    "\n",
    "Согласно формуле обучения, получаем:\n",
    "\n",
    "9) $w_{v2}= P^{-1} w$,\n",
    "\n",
    "Теперь, имея вектор весов для получим формулу предсказания:\n",
    "\n",
    "10) $a_{v2} = X_{v2}P^{-1}w$,\n",
    "\n",
    "Заменим на полную запись:\n",
    "\n",
    "11) $a_{v2} = XPP^{-1}w$,\n",
    "\n",
    "Сократим обратные матрицы:\n",
    "\n",
    "12) $a_{v2} = XEw$,\n",
    "\n",
    "В результате получим:\n",
    "\n",
    "13) $a_{v2} = Xw$,\n",
    "\n",
    "Таким образом, можно заключить, что:\n",
    "\n",
    "14) $a = a_{v2}$."
   ]
  },
  {
   "cell_type": "markdown",
   "metadata": {},
   "source": [
    "#### <a id='toc1_2_1_1_'></a>**Ответ:** [](#toc0_)\n",
    "\n",
    "*При умножении исходных признаков (матрицы признаков) на произвольную обратимую матрицу, качество линейной регрессии не изменится.*"
   ]
  },
  {
   "cell_type": "markdown",
   "metadata": {},
   "source": [
    "## <a id='toc1_3_'></a>Алгоритм преобразования [](#toc0_)"
   ]
  },
  {
   "cell_type": "markdown",
   "metadata": {},
   "source": [
    "Алгоритм преобразования можно представить следующим образом:\n",
    "\n",
    "1) Получаем размер матрицы, которую необходимо зашифровать;\n",
    "2) Создаем ключ шифрования, который представляет собой обратимую матрицу. Стоит учесть размеры матрицы: умножение матрицы на матрицу возможно, если ширина первой матрицы А ($𝑚×𝑛$) равна высоте второй матрицы В ($𝑛×r$);\n",
    "3) Умножаем матрицу признаков на ключ шифрования, тем самым получая новую, зашифрованную матрицу;\n",
    "4) В результате преобразования получаем новую матрицу признаков, из которой тяжело получить информацию о персональных данных. При этом данные не потеряют своей пригодности для использования их в линейной регрессии; "
   ]
  },
  {
   "cell_type": "markdown",
   "metadata": {},
   "source": [
    "## <a id='toc1_4_'></a>Проверка алгоритма [](#toc0_)"
   ]
  },
  {
   "cell_type": "markdown",
   "metadata": {},
   "source": [
    "Разделим датасет на признаки и таргет:"
   ]
  },
  {
   "cell_type": "code",
   "execution_count": 13,
   "metadata": {},
   "outputs": [
    {
     "name": "stdout",
     "output_type": "stream",
     "text": [
      "Признаки содержат в себе следующие колонки: ['sex', 'age', 'salary', 'family_members']\n",
      "Таргет содержит в себе следующие колонки: insurance_payments\n"
     ]
    }
   ],
   "source": [
    "pers_info_1.features_target_splitter()"
   ]
  },
  {
   "cell_type": "markdown",
   "metadata": {},
   "source": [
    "Разделим признаки и таргет на тренированную и тестовую выборку:"
   ]
  },
  {
   "cell_type": "code",
   "execution_count": 14,
   "metadata": {},
   "outputs": [
    {
     "name": "stdout",
     "output_type": "stream",
     "text": [
      "Размер обучающей выборки составляет: 3635. Отношение к полному датасету: 75%.\n",
      "Размер тестовой выборки составляет: 1212. Отношение к полному датасету: 25%.\n"
     ]
    }
   ],
   "source": [
    "pers_info_1.train_test_splitter()"
   ]
  },
  {
   "cell_type": "markdown",
   "metadata": {},
   "source": [
    "Получим оценку r_2 для наших данных:"
   ]
  },
  {
   "cell_type": "code",
   "execution_count": 15,
   "metadata": {},
   "outputs": [
    {
     "name": "stdout",
     "output_type": "stream",
     "text": [
      "r2_score модели: 0.44\n"
     ]
    }
   ],
   "source": [
    "predicts_simple = pers_info_1.LinearRegression()"
   ]
  },
  {
   "cell_type": "markdown",
   "metadata": {},
   "source": [
    "Создадим ключ шифрования:"
   ]
  },
  {
   "cell_type": "code",
   "execution_count": 16,
   "metadata": {},
   "outputs": [],
   "source": [
    "pers_info_1.create_encryption_key()"
   ]
  },
  {
   "cell_type": "markdown",
   "metadata": {},
   "source": [
    "Ключ шифрования представляет собой матрицу:"
   ]
  },
  {
   "cell_type": "code",
   "execution_count": 17,
   "metadata": {},
   "outputs": [
    {
     "data": {
      "text/plain": [
       "array([[-0.08959304,  0.31505605,  0.43223377, -1.48537353],\n",
       "       [ 1.46975723, -0.2038332 ,  0.8609464 ,  1.60473099],\n",
       "       [ 0.48011109,  0.91028987, -0.6048051 ,  1.70094469],\n",
       "       [ 2.86420969, -1.16431336,  1.36418763,  0.93516752]])"
      ]
     },
     "execution_count": 17,
     "metadata": {},
     "output_type": "execute_result"
    }
   ],
   "source": [
    "pers_info_1.key_encoding"
   ]
  },
  {
   "cell_type": "markdown",
   "metadata": {},
   "source": [
    "Проверим, как соотносятся первоначальные данные с зашифрованными:"
   ]
  },
  {
   "cell_type": "code",
   "execution_count": 18,
   "metadata": {},
   "outputs": [
    {
     "data": {
      "text/html": [
       "<div>\n",
       "<style scoped>\n",
       "    .dataframe tbody tr th:only-of-type {\n",
       "        vertical-align: middle;\n",
       "    }\n",
       "\n",
       "    .dataframe tbody tr th {\n",
       "        vertical-align: top;\n",
       "    }\n",
       "\n",
       "    .dataframe thead th {\n",
       "        text-align: right;\n",
       "    }\n",
       "</style>\n",
       "<table border=\"1\" class=\"dataframe\">\n",
       "  <thead>\n",
       "    <tr style=\"text-align: right;\">\n",
       "      <th></th>\n",
       "      <th>sex</th>\n",
       "      <th>age</th>\n",
       "      <th>salary</th>\n",
       "      <th>family_members</th>\n",
       "    </tr>\n",
       "  </thead>\n",
       "  <tbody>\n",
       "    <tr>\n",
       "      <th>4364</th>\n",
       "      <td>1</td>\n",
       "      <td>26.0</td>\n",
       "      <td>45400.0</td>\n",
       "      <td>0</td>\n",
       "    </tr>\n",
       "    <tr>\n",
       "      <th>2339</th>\n",
       "      <td>1</td>\n",
       "      <td>30.0</td>\n",
       "      <td>52600.0</td>\n",
       "      <td>4</td>\n",
       "    </tr>\n",
       "    <tr>\n",
       "      <th>3349</th>\n",
       "      <td>1</td>\n",
       "      <td>43.0</td>\n",
       "      <td>46500.0</td>\n",
       "      <td>1</td>\n",
       "    </tr>\n",
       "    <tr>\n",
       "      <th>1172</th>\n",
       "      <td>1</td>\n",
       "      <td>29.0</td>\n",
       "      <td>45100.0</td>\n",
       "      <td>0</td>\n",
       "    </tr>\n",
       "    <tr>\n",
       "      <th>1902</th>\n",
       "      <td>1</td>\n",
       "      <td>40.0</td>\n",
       "      <td>42700.0</td>\n",
       "      <td>3</td>\n",
       "    </tr>\n",
       "  </tbody>\n",
       "</table>\n",
       "</div>"
      ],
      "text/plain": [
       "      sex   age   salary  family_members\n",
       "4364    1  26.0  45400.0               0\n",
       "2339    1  30.0  52600.0               4\n",
       "3349    1  43.0  46500.0               1\n",
       "1172    1  29.0  45100.0               0\n",
       "1902    1  40.0  42700.0               3"
      ]
     },
     "execution_count": 18,
     "metadata": {},
     "output_type": "execute_result"
    }
   ],
   "source": [
    "pers_info_1.X_train.head(5)"
   ]
  },
  {
   "cell_type": "code",
   "execution_count": 19,
   "metadata": {},
   "outputs": [
    {
     "name": "stdout",
     "output_type": "stream",
     "text": [
      "                 0             1             2             3\n",
      "4364  21835.167360  41322.175576 -27435.334894  77263.126719\n",
      "2339  25309.303041  47870.790067 -31781.031109  89520.088106\n",
      "3349  22391.139636  42318.864957 -28084.620233  79162.381476\n",
      "1172  21695.543306  41048.477115 -27251.310524  76757.657504\n",
      "1902  20568.036661  38858.046317 -25786.215300  72695.847783\n"
     ]
    }
   ],
   "source": [
    "pers_info_1.encoding_data()"
   ]
  },
  {
   "cell_type": "markdown",
   "metadata": {},
   "source": [
    "Из представленных данных можно сделать вывод, что по зашифрованной матрицы без дешифровки получить исходные персональные данные невозможно. Посмотрим, на дешифрованыне данные:"
   ]
  },
  {
   "cell_type": "code",
   "execution_count": 20,
   "metadata": {},
   "outputs": [
    {
     "name": "stdout",
     "output_type": "stream",
     "text": [
      "        0     1        2             3\n",
      "4364  1.0  26.0  45400.0 -3.637979e-12\n",
      "2339  1.0  30.0  52600.0  4.000000e+00\n",
      "3349  1.0  43.0  46500.0  1.000000e+00\n",
      "1172  1.0  29.0  45100.0 -3.637979e-12\n",
      "1902  1.0  40.0  42700.0  3.000000e+00\n"
     ]
    }
   ],
   "source": [
    "pers_info_1.decoding_data()"
   ]
  },
  {
   "cell_type": "markdown",
   "metadata": {},
   "source": [
    "Зашифруем данные и обучим линейную регрессию. Проверим её оценку и предсказания:"
   ]
  },
  {
   "cell_type": "code",
   "execution_count": 21,
   "metadata": {},
   "outputs": [
    {
     "name": "stdout",
     "output_type": "stream",
     "text": [
      "r2_score модели: 0.44\n"
     ]
    }
   ],
   "source": [
    "pers_info_1.encoding_data(print_status=False)\n",
    "predicts_encoding = pers_info_1.LinearRegression(crypto=True)"
   ]
  },
  {
   "cell_type": "code",
   "execution_count": 22,
   "metadata": {},
   "outputs": [],
   "source": [
    "pers_info_1.pipeline_predict()"
   ]
  },
  {
   "cell_type": "code",
   "execution_count": 23,
   "metadata": {},
   "outputs": [
    {
     "name": "stdout",
     "output_type": "stream",
     "text": [
      "Разница между предсказаниями составляет: 2.021792799184952e-12\n"
     ]
    }
   ],
   "source": [
    "print(f'Разница между предсказаниями составляет: {np.mean(pers_info_1.predictions - predicts_simple)}')"
   ]
  },
  {
   "cell_type": "markdown",
   "metadata": {},
   "source": [
    "#### <a id='toc1_4_1_1_'></a>Вывод [](#toc0_)\n",
    "\n",
    "1) `r_2` score имеет одинаковое значение и составляет: `0.44`;\n",
    "2) Разница между предсказаниями составляет зависит от ключа шифрования, но во всех случаях стремиться к нулю. Можно заключить, что предсказания идентичны;\n",
    "3) Из зашифрованных данных без предтворительной дешифровки получить информацию о персональных данных не представляется возможным. "
   ]
  },
  {
   "cell_type": "markdown",
   "metadata": {},
   "source": [
    "## <a id='toc1_5_'></a>Вывод [](#toc0_)\n",
    "\n",
    "a) Обработка данных\n",
    "\n",
    "* Изначальные данные содержали в себе 5 колонок и 5000 строк. Представляли собой:\n",
    "   1) `sex` - колонка признака, определяющая пол. Возможные значения: `1` или `0`;\n",
    "   2) `age` - колонка признака, определяющая возраст. В данных присутствуют значения от `18` до `65` лет;\n",
    "   3) `salary` - колонка признака, определяющая зарплату. Значения: `5300` - `79000`;\n",
    "   4) `family_members` - колонка признака, определяющая количество людей в семье. Принимает значения от от `0` до `6`;\n",
    "   5) `insurance_payments` - целевой признак. Определяет количество страховых выплат. Принимает значения от `0` до `5`.\n",
    "* Данные имели 153 дубликата, которые были удалены;\n",
    "* Данные не имели пропусков и аномалий;\n",
    "\n",
    "b) Умножение матриц\n",
    "\n",
    "* Теоретическим путем было выявлено и обосновано, что при умножении исходных признаков (матрицы признаков) на произвольную обратимую матрицу, качество линейной регрессии не изменяется;\n",
    "\n",
    "c) Алгоритм шифрования данных\n",
    "\n",
    "  1) Получаем размер матрицы, которую необходимо зашифровать;\n",
    "  2) Создаем ключ шифрования, который представляет собой обратимую матрицу. Стоит учесть размеры матрицы: умножение матрицы на матрицу возможно, если ширина первой матрицы А ($𝑚×𝑛$) равна высоте второй матрицы В ($𝑛×r$);\n",
    "  3) Умножаем матрицу признаков на ключ шифрования, тем самым получая новую, зашифрованную матрицу;\n",
    "  4) В результате преобразования получаем новую матрицу признаков, из которой тяжело получить информацию о персональных данных. При этом данные не потеряют своей пригодности для использования их в линейной регрессии; \n",
    "   \n",
    "d) Проверка алгоритма шифрованная данных\n",
    "\n",
    "  1) `r_2` score имеет одинаковое значение и составляет: `0.44`;\n",
    "  2) Разница между предсказаниями составляет зависит от ключа шифрования, но во всех случаях стремиться к нулю. Можно заключить, что предсказания идентичны;\n",
    "  3) Из зашифрованных данных без предтворительной дешифровки получить информацию о персональных данных не представляется возможным. "
   ]
  }
 ],
 "metadata": {
  "ExecuteTimeLog": [
   {
    "duration": 2820,
    "start_time": "2023-06-10T15:25:15.883Z"
   },
   {
    "duration": 14,
    "start_time": "2023-06-10T15:25:18.706Z"
   },
   {
    "duration": 76,
    "start_time": "2023-06-10T15:25:18.722Z"
   },
   {
    "duration": 642,
    "start_time": "2023-06-10T15:25:18.800Z"
   },
   {
    "duration": 104,
    "start_time": "2023-06-10T15:25:19.443Z"
   },
   {
    "duration": 6,
    "start_time": "2023-06-10T15:25:19.548Z"
   },
   {
    "duration": 20,
    "start_time": "2023-06-10T15:25:19.556Z"
   },
   {
    "duration": 5,
    "start_time": "2023-06-10T15:25:19.578Z"
   },
   {
    "duration": 6,
    "start_time": "2023-06-10T15:25:19.584Z"
   },
   {
    "duration": 9,
    "start_time": "2023-06-10T15:25:19.593Z"
   },
   {
    "duration": 4,
    "start_time": "2023-06-10T15:25:19.603Z"
   },
   {
    "duration": 37,
    "start_time": "2023-06-10T15:25:19.609Z"
   },
   {
    "duration": 14,
    "start_time": "2023-06-10T15:25:19.648Z"
   },
   {
    "duration": 3,
    "start_time": "2023-06-10T15:25:19.664Z"
   },
   {
    "duration": 10,
    "start_time": "2023-06-10T15:25:19.668Z"
   },
   {
    "duration": 77,
    "start_time": "2023-06-10T15:25:19.679Z"
   },
   {
    "duration": 90,
    "start_time": "2023-06-10T15:25:19.758Z"
   },
   {
    "duration": 7,
    "start_time": "2023-06-10T15:25:19.850Z"
   },
   {
    "duration": 12,
    "start_time": "2023-06-10T15:25:19.859Z"
   },
   {
    "duration": 4,
    "start_time": "2023-06-10T15:25:19.873Z"
   }
  ],
  "kernelspec": {
   "display_name": "Python 3 (ipykernel)",
   "language": "python",
   "name": "python3"
  },
  "language_info": {
   "codemirror_mode": {
    "name": "ipython",
    "version": 3
   },
   "file_extension": ".py",
   "mimetype": "text/x-python",
   "name": "python",
   "nbconvert_exporter": "python",
   "pygments_lexer": "ipython3",
   "version": "3.9.5"
  },
  "toc": {
   "base_numbering": 1,
   "nav_menu": {},
   "number_sections": true,
   "sideBar": true,
   "skip_h1_title": true,
   "title_cell": "Содержание",
   "title_sidebar": "Contents",
   "toc_cell": true,
   "toc_position": {},
   "toc_section_display": true,
   "toc_window_display": false
  },
  "vscode": {
   "interpreter": {
    "hash": "0f722720931fbd7bac8fa92a0efaafb415e0b529bea29341344773e6eccc6c21"
   }
  }
 },
 "nbformat": 4,
 "nbformat_minor": 2
}
