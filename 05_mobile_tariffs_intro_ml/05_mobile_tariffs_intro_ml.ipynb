{
 "cells": [
  {
   "cell_type": "markdown",
   "metadata": {},
   "source": [
    "# Рекомендация тарифов"
   ]
  },
  {
   "cell_type": "markdown",
   "metadata": {},
   "source": [
    "В вашем распоряжении данные о поведении клиентов, которые уже перешли на эти тарифы (из проекта курса «Статистический анализ данных»). Нужно построить модель для задачи классификации, которая выберет подходящий тариф. Предобработка данных не понадобится — вы её уже сделали.\n",
    "\n",
    "Постройте модель с максимально большим значением *accuracy*. Чтобы сдать проект успешно, нужно довести долю правильных ответов по крайней мере до 0.75. Проверьте *accuracy* на тестовой выборке самостоятельно."
   ]
  },
  {
   "cell_type": "markdown",
   "metadata": {},
   "source": [
    "## Откройте и изучите файл"
   ]
  },
  {
   "cell_type": "code",
   "execution_count": 1,
   "metadata": {},
   "outputs": [],
   "source": [
    "import numpy as np\n",
    "import pandas as pd\n",
    "from sklearn.model_selection import train_test_split\n",
    "from sklearn.tree import DecisionTreeClassifier \n",
    "from sklearn.ensemble import RandomForestClassifier\n",
    "from sklearn.linear_model import LogisticRegression\n",
    "from sklearn.metrics import accuracy_score \n",
    "from sklearn.metrics import classification_report"
   ]
  },
  {
   "cell_type": "code",
   "execution_count": 2,
   "metadata": {},
   "outputs": [],
   "source": [
    "try:\n",
    "    data = pd.read_csv('/Volumes/GoogleDrive/My Drive/YP/users_behavior.csv')\n",
    "except:\n",
    "    data = pd.read_csv('https://code.s3.yandex.net/datasets/users_behavior.csv')"
   ]
  },
  {
   "cell_type": "code",
   "execution_count": 3,
   "metadata": {},
   "outputs": [
    {
     "data": {
      "text/html": [
       "<div>\n",
       "<style scoped>\n",
       "    .dataframe tbody tr th:only-of-type {\n",
       "        vertical-align: middle;\n",
       "    }\n",
       "\n",
       "    .dataframe tbody tr th {\n",
       "        vertical-align: top;\n",
       "    }\n",
       "\n",
       "    .dataframe thead th {\n",
       "        text-align: right;\n",
       "    }\n",
       "</style>\n",
       "<table border=\"1\" class=\"dataframe\">\n",
       "  <thead>\n",
       "    <tr style=\"text-align: right;\">\n",
       "      <th></th>\n",
       "      <th>calls</th>\n",
       "      <th>minutes</th>\n",
       "      <th>messages</th>\n",
       "      <th>mb_used</th>\n",
       "      <th>is_ultra</th>\n",
       "    </tr>\n",
       "  </thead>\n",
       "  <tbody>\n",
       "    <tr>\n",
       "      <th>0</th>\n",
       "      <td>40.0</td>\n",
       "      <td>311.90</td>\n",
       "      <td>83.0</td>\n",
       "      <td>19915.42</td>\n",
       "      <td>0</td>\n",
       "    </tr>\n",
       "    <tr>\n",
       "      <th>1</th>\n",
       "      <td>85.0</td>\n",
       "      <td>516.75</td>\n",
       "      <td>56.0</td>\n",
       "      <td>22696.96</td>\n",
       "      <td>0</td>\n",
       "    </tr>\n",
       "    <tr>\n",
       "      <th>2</th>\n",
       "      <td>77.0</td>\n",
       "      <td>467.66</td>\n",
       "      <td>86.0</td>\n",
       "      <td>21060.45</td>\n",
       "      <td>0</td>\n",
       "    </tr>\n",
       "    <tr>\n",
       "      <th>3</th>\n",
       "      <td>106.0</td>\n",
       "      <td>745.53</td>\n",
       "      <td>81.0</td>\n",
       "      <td>8437.39</td>\n",
       "      <td>1</td>\n",
       "    </tr>\n",
       "    <tr>\n",
       "      <th>4</th>\n",
       "      <td>66.0</td>\n",
       "      <td>418.74</td>\n",
       "      <td>1.0</td>\n",
       "      <td>14502.75</td>\n",
       "      <td>0</td>\n",
       "    </tr>\n",
       "    <tr>\n",
       "      <th>5</th>\n",
       "      <td>58.0</td>\n",
       "      <td>344.56</td>\n",
       "      <td>21.0</td>\n",
       "      <td>15823.37</td>\n",
       "      <td>0</td>\n",
       "    </tr>\n",
       "    <tr>\n",
       "      <th>6</th>\n",
       "      <td>57.0</td>\n",
       "      <td>431.64</td>\n",
       "      <td>20.0</td>\n",
       "      <td>3738.90</td>\n",
       "      <td>1</td>\n",
       "    </tr>\n",
       "    <tr>\n",
       "      <th>7</th>\n",
       "      <td>15.0</td>\n",
       "      <td>132.40</td>\n",
       "      <td>6.0</td>\n",
       "      <td>21911.60</td>\n",
       "      <td>0</td>\n",
       "    </tr>\n",
       "    <tr>\n",
       "      <th>8</th>\n",
       "      <td>7.0</td>\n",
       "      <td>43.39</td>\n",
       "      <td>3.0</td>\n",
       "      <td>2538.67</td>\n",
       "      <td>1</td>\n",
       "    </tr>\n",
       "    <tr>\n",
       "      <th>9</th>\n",
       "      <td>90.0</td>\n",
       "      <td>665.41</td>\n",
       "      <td>38.0</td>\n",
       "      <td>17358.61</td>\n",
       "      <td>0</td>\n",
       "    </tr>\n",
       "  </tbody>\n",
       "</table>\n",
       "</div>"
      ],
      "text/plain": [
       "   calls  minutes  messages   mb_used  is_ultra\n",
       "0   40.0   311.90      83.0  19915.42         0\n",
       "1   85.0   516.75      56.0  22696.96         0\n",
       "2   77.0   467.66      86.0  21060.45         0\n",
       "3  106.0   745.53      81.0   8437.39         1\n",
       "4   66.0   418.74       1.0  14502.75         0\n",
       "5   58.0   344.56      21.0  15823.37         0\n",
       "6   57.0   431.64      20.0   3738.90         1\n",
       "7   15.0   132.40       6.0  21911.60         0\n",
       "8    7.0    43.39       3.0   2538.67         1\n",
       "9   90.0   665.41      38.0  17358.61         0"
      ]
     },
     "execution_count": 3,
     "metadata": {},
     "output_type": "execute_result"
    }
   ],
   "source": [
    "data.head(10)"
   ]
  },
  {
   "cell_type": "code",
   "execution_count": 4,
   "metadata": {},
   "outputs": [
    {
     "name": "stdout",
     "output_type": "stream",
     "text": [
      "<class 'pandas.core.frame.DataFrame'>\n",
      "RangeIndex: 3214 entries, 0 to 3213\n",
      "Data columns (total 5 columns):\n",
      " #   Column    Non-Null Count  Dtype  \n",
      "---  ------    --------------  -----  \n",
      " 0   calls     3214 non-null   float64\n",
      " 1   minutes   3214 non-null   float64\n",
      " 2   messages  3214 non-null   float64\n",
      " 3   mb_used   3214 non-null   float64\n",
      " 4   is_ultra  3214 non-null   int64  \n",
      "dtypes: float64(4), int64(1)\n",
      "memory usage: 125.7 KB\n"
     ]
    }
   ],
   "source": [
    "data.info()"
   ]
  },
  {
   "cell_type": "markdown",
   "metadata": {},
   "source": [
    "Целевой признак - `is_ultra`. Так как значение может иметь два состояния - `1` и `0`, можно заключить, что перед нами стоит задача бинарной классификации. "
   ]
  },
  {
   "cell_type": "markdown",
   "metadata": {},
   "source": [
    "## Разбейте данные на выборки"
   ]
  },
  {
   "cell_type": "markdown",
   "metadata": {},
   "source": [
    "Разделим выборку датасет на две части. Первая часть будет содержать в себе все признаки - `features`, во второй части будет хранится целевое значение - `target`."
   ]
  },
  {
   "cell_type": "code",
   "execution_count": 5,
   "metadata": {},
   "outputs": [],
   "source": [
    "features = data.drop('is_ultra',axis=1)\n",
    "target = data['is_ultra']"
   ]
  },
  {
   "cell_type": "markdown",
   "metadata": {},
   "source": [
    "Проверим результат:"
   ]
  },
  {
   "cell_type": "code",
   "execution_count": 6,
   "metadata": {},
   "outputs": [
    {
     "data": {
      "text/html": [
       "<div>\n",
       "<style scoped>\n",
       "    .dataframe tbody tr th:only-of-type {\n",
       "        vertical-align: middle;\n",
       "    }\n",
       "\n",
       "    .dataframe tbody tr th {\n",
       "        vertical-align: top;\n",
       "    }\n",
       "\n",
       "    .dataframe thead th {\n",
       "        text-align: right;\n",
       "    }\n",
       "</style>\n",
       "<table border=\"1\" class=\"dataframe\">\n",
       "  <thead>\n",
       "    <tr style=\"text-align: right;\">\n",
       "      <th></th>\n",
       "      <th>calls</th>\n",
       "      <th>minutes</th>\n",
       "      <th>messages</th>\n",
       "      <th>mb_used</th>\n",
       "    </tr>\n",
       "  </thead>\n",
       "  <tbody>\n",
       "    <tr>\n",
       "      <th>3209</th>\n",
       "      <td>122.0</td>\n",
       "      <td>910.98</td>\n",
       "      <td>20.0</td>\n",
       "      <td>35124.90</td>\n",
       "    </tr>\n",
       "    <tr>\n",
       "      <th>3210</th>\n",
       "      <td>25.0</td>\n",
       "      <td>190.36</td>\n",
       "      <td>0.0</td>\n",
       "      <td>3275.61</td>\n",
       "    </tr>\n",
       "    <tr>\n",
       "      <th>3211</th>\n",
       "      <td>97.0</td>\n",
       "      <td>634.44</td>\n",
       "      <td>70.0</td>\n",
       "      <td>13974.06</td>\n",
       "    </tr>\n",
       "    <tr>\n",
       "      <th>3212</th>\n",
       "      <td>64.0</td>\n",
       "      <td>462.32</td>\n",
       "      <td>90.0</td>\n",
       "      <td>31239.78</td>\n",
       "    </tr>\n",
       "    <tr>\n",
       "      <th>3213</th>\n",
       "      <td>80.0</td>\n",
       "      <td>566.09</td>\n",
       "      <td>6.0</td>\n",
       "      <td>29480.52</td>\n",
       "    </tr>\n",
       "  </tbody>\n",
       "</table>\n",
       "</div>"
      ],
      "text/plain": [
       "      calls  minutes  messages   mb_used\n",
       "3209  122.0   910.98      20.0  35124.90\n",
       "3210   25.0   190.36       0.0   3275.61\n",
       "3211   97.0   634.44      70.0  13974.06\n",
       "3212   64.0   462.32      90.0  31239.78\n",
       "3213   80.0   566.09       6.0  29480.52"
      ]
     },
     "execution_count": 6,
     "metadata": {},
     "output_type": "execute_result"
    }
   ],
   "source": [
    "features.tail()"
   ]
  },
  {
   "cell_type": "code",
   "execution_count": 7,
   "metadata": {},
   "outputs": [
    {
     "data": {
      "text/plain": [
       "3209    1\n",
       "3210    0\n",
       "3211    0\n",
       "3212    0\n",
       "3213    1\n",
       "Name: is_ultra, dtype: int64"
      ]
     },
     "execution_count": 7,
     "metadata": {},
     "output_type": "execute_result"
    }
   ],
   "source": [
    "target.tail()"
   ]
  },
  {
   "cell_type": "markdown",
   "metadata": {},
   "source": [
    "Теперь разделим имеющиеся выборки на три части:\n",
    "\n",
    "1. Обучающая выборка - `60%`;\n",
    "2. Валидационная выборка - `20%`;\n",
    "3. Тестовая выборка - `20%`."
   ]
  },
  {
   "cell_type": "code",
   "execution_count": 8,
   "metadata": {},
   "outputs": [],
   "source": [
    "features_train, features_valid_test, target_train, target_valid_test = (\n",
    "    train_test_split(features, \n",
    "                     target, \n",
    "                     test_size=.4, \n",
    "                     random_state=12345)\n",
    " )\n",
    "features_valid, features_test, target_valid, target_test = (\n",
    "    train_test_split(features_valid_test,\n",
    "                     target_valid_test, \n",
    "                     test_size=.5, \n",
    "                     random_state=12345)\n",
    ")"
   ]
  },
  {
   "cell_type": "code",
   "execution_count": 9,
   "metadata": {},
   "outputs": [
    {
     "name": "stdout",
     "output_type": "stream",
     "text": [
      "Датасет имеет размер в 3214 строк\n",
      "\n",
      "Обучающая выборка состоит из 1928 строк. Процентное соотношение обучающей выборки к полной: 60%\n",
      "****************************************************************************************************\n",
      "Обучающая выборка состоит из 643 строк. Процентное соотношение обучающей выборки к полной: 20%\n",
      "****************************************************************************************************\n",
      "Обучающая выборка состоит из 643 строк. Процентное соотношение обучающей выборки к полной: 20%\n",
      "****************************************************************************************************\n"
     ]
    }
   ],
   "source": [
    "lst_shapes = [features_train.shape[0],features_valid.shape[0],features_test.shape[0]]\n",
    "print(f'Датасет имеет размер в {data.shape[0]} строк' + '\\n')\n",
    "for value in lst_shapes:\n",
    "    print('Обучающая выборка состоит из {} строк. Процентное соотношение обучающей выборки к полной: {:.0%}'\n",
    "          .format(value,value/data.shape[0]))\n",
    "    print('*' * 100)"
   ]
  },
  {
   "cell_type": "markdown",
   "metadata": {},
   "source": [
    "В результате мы имеем:\n",
    "\n",
    "1. `features_train` и `target_train` - обучающая выборка из 1928 строк;\n",
    "2. `features_valid` и `target_valid` - валидационная выборка из 643 строк;\n",
    "3. `features_test` и `target_test` - тестовая выборка из 643 строк."
   ]
  },
  {
   "cell_type": "markdown",
   "metadata": {},
   "source": [
    "## Исследуйте модели"
   ]
  },
  {
   "cell_type": "code",
   "execution_count": 10,
   "metadata": {},
   "outputs": [],
   "source": [
    "#Создадим словарь лучших моделей\n",
    "dict_best_model = {}"
   ]
  },
  {
   "cell_type": "markdown",
   "metadata": {},
   "source": [
    "Исходя из задачи выберем модели классификации:"
   ]
  },
  {
   "cell_type": "markdown",
   "metadata": {},
   "source": [
    "### DecisionTreeClassifier"
   ]
  },
  {
   "cell_type": "code",
   "execution_count": 11,
   "metadata": {},
   "outputs": [
    {
     "name": "stdout",
     "output_type": "stream",
     "text": [
      "Accuracy наилучшей модели с глубиной дерева 3 на валидационной выборке: 0.785\n"
     ]
    }
   ],
   "source": [
    "best_model_decision_tree_classifier = None\n",
    "best_result_decision_tree_classifier = 0\n",
    "best_depth_decision_tree_classifier = 0\n",
    "for depth in range(1, 30):\n",
    "\tmodel = DecisionTreeClassifier(random_state=12345, max_depth=depth) \n",
    "\tmodel.fit(features_train,target_train) \n",
    "\tpredictions = model.predict(features_valid)\n",
    "\tresult = accuracy_score(target_valid, predictions)\n",
    "\tif result > best_result_decision_tree_classifier:\n",
    "\t\tbest_model_decision_tree_classifier = model\n",
    "\t\tbest_result_decision_tree_classifier = result\n",
    "\t\tbest_depth_decision_tree_classifier = depth\n",
    "\n",
    "\n",
    "dict_best_model['DecisionTreeClassifier'] = best_model_decision_tree_classifier\n",
    "print(\"Accuracy наилучшей модели с глубиной дерева {} на валидационной выборке: {:.3}\"\n",
    "      .format(best_depth_decision_tree_classifier,\n",
    "              best_result_decision_tree_classifier))"
   ]
  },
  {
   "cell_type": "markdown",
   "metadata": {},
   "source": [
    "### RandomForestClassifier"
   ]
  },
  {
   "cell_type": "code",
   "execution_count": 12,
   "metadata": {},
   "outputs": [
    {
     "name": "stdout",
     "output_type": "stream",
     "text": [
      "Accuracy наилучшей модели с количеством деревьев равным 23 на валидационной выборке: 0.795\n"
     ]
    }
   ],
   "source": [
    "best_model_random_forest_classifier = None\n",
    "best_result_random_forest_classifier  = 0\n",
    "for est in range(1, 30):\n",
    "    model = RandomForestClassifier(random_state=12345, n_estimators=est)\n",
    "    model.fit(features_train, target_train)\n",
    "    predictions = model.predict(features_valid)\n",
    "    result = accuracy_score(target_valid,predictions) \n",
    "    if result > best_result_random_forest_classifier :\n",
    "        best_model_random_forest_classifier  = model \n",
    "        best_result_random_forest_classifier  = result\n",
    "        best_est_random_forest_classifier  = est\n",
    "\n",
    "dict_best_model['RandomForestClassifier'] = best_model_random_forest_classifier\n",
    "print(\"Accuracy наилучшей модели с количеством деревьев равным {} на валидационной выборке: {:.3}\"\n",
    "      .format(best_est_random_forest_classifier,\n",
    "              best_result_random_forest_classifier))"
   ]
  },
  {
   "cell_type": "markdown",
   "metadata": {},
   "source": [
    "### LogisticRegression"
   ]
  },
  {
   "cell_type": "code",
   "execution_count": 13,
   "metadata": {},
   "outputs": [
    {
     "name": "stdout",
     "output_type": "stream",
     "text": [
      "Accuracy наилучшей модели с количеством итераций 100 на валидационной выборке: 0.711\n"
     ]
    }
   ],
   "source": [
    "best_model_logistic_regression = None\n",
    "best_result_random_logistic_regression  = 0\n",
    "for iter in range(100, 2500, 100):\n",
    "    model = LogisticRegression(random_state=12345, solver='lbfgs', max_iter=iter)\n",
    "    model.fit(features_train, target_train)\n",
    "    predictions = model.predict(features_valid)\n",
    "    result = accuracy_score(target_valid,predictions)\n",
    "    if result > best_result_random_logistic_regression:\n",
    "        best_model_logistic_regression = model\n",
    "        best_result_random_logistic_regression = result\n",
    "        best_iter = iter\n",
    " \n",
    "dict_best_model['LogisticRegression'] = best_model_logistic_regression        \n",
    "print(\"Accuracy наилучшей модели с количеством итераций {} на валидационной выборке: {:.3}\"\n",
    "      .format(best_iter,\n",
    "              best_result_random_logistic_regression))"
   ]
  },
  {
   "cell_type": "markdown",
   "metadata": {},
   "source": [
    "## Проверьте модель на тестовой выборке"
   ]
  },
  {
   "cell_type": "code",
   "execution_count": 14,
   "metadata": {},
   "outputs": [
    {
     "name": "stdout",
     "output_type": "stream",
     "text": [
      "Accuracy наилучшей модели DecisionTreeClassifier на тестовых данных: 0.779\n",
      "****************************************************************************************************\n",
      "Accuracy наилучшей модели RandomForestClassifier на тестовых данных: 0.781\n",
      "****************************************************************************************************\n",
      "Accuracy наилучшей модели LogisticRegression на тестовых данных: 0.684\n",
      "****************************************************************************************************\n"
     ]
    }
   ],
   "source": [
    "for key in dict_best_model:\n",
    "    predict = dict_best_model[key].predict(features_test)\n",
    "    result = accuracy_score(target_test, predict)\n",
    "    print('Accuracy наилучшей модели {} на тестовых данных: {:.3}'.format(key,result))\n",
    "    print('*' * 100) "
   ]
  },
  {
   "cell_type": "markdown",
   "metadata": {},
   "source": [
    "Целевой показатель (выше 0.75) Accuracy был достигнут для двух моделей - `DecisionTreeClassifier` и `RandomForestClassifier`. \n",
    "\n",
    "При этом, не смотря на то, что `RandomForestCLassifier` показал `Accuracy` выше, разница между тестовым значением и валидационным составляет: `0.014`. В то время как у `DecisionTreeClassifier` это значение меньше: `0.06`. \n",
    "\n",
    "Стоит учитывать это при выборе модели. Однако, если произвести интерполяцию, можно сделать вывод, что точность `RandomForestCLassifier` при прогнозирование данных окажется выше. "
   ]
  },
  {
   "cell_type": "code",
   "execution_count": 15,
   "metadata": {},
   "outputs": [
    {
     "name": "stdout",
     "output_type": "stream",
     "text": [
      "              precision    recall  f1-score   support\n",
      "\n",
      "    is_smart       0.82      0.87      0.84       440\n",
      "    is_ultra       0.68      0.58      0.63       203\n",
      "\n",
      "    accuracy                           0.78       643\n",
      "   macro avg       0.75      0.73      0.74       643\n",
      "weighted avg       0.77      0.78      0.78       643\n",
      "\n"
     ]
    }
   ],
   "source": [
    "report = classification_report(target_test, \n",
    "                               dict_best_model['RandomForestClassifier'].predict(features_test), \n",
    "                               target_names=['is_smart', 'is_ultra'])\n",
    "print(report)"
   ]
  },
  {
   "cell_type": "markdown",
   "metadata": {},
   "source": [
    "Нас интересует `f1-score`, которая представляет собой среднее гармоническое между precision и recall. Значение метрики - `0.63`, что свидетельствует о среднем качестве модели. "
   ]
  },
  {
   "cell_type": "markdown",
   "metadata": {},
   "source": [
    "## Вывод\n",
    "\n",
    "В исследовании был проведен анализ архива тарифов оператора сотовой связи. \n",
    "\n",
    "a. Исходные данные:\n",
    "\n",
    "Исход данные представляли собой датасет с размером: 3214 строки и 5 колонок.\n",
    "\n",
    "b. Разделение данных: \n",
    "\n",
    "Исходя из поставленной задачи данные были разделены на целевой показатель `is_ultra` и признаки: `calls`,`minutes`,`messages`,`mb_used`;\n",
    "\n",
    "После `features` и `target` были разделены на три выборки: `train`, `valid`, `test`.\n",
    "\n",
    "c. Проведено обучение и оценены модели с разными гиперпараметрами;\n",
    "\n",
    "d. Модели были протестированы на тестовых данных. Наилучшей моделью оказалась `RandomForestClassifier` c `n_estimators` равным `23`. `Accuracy` составило `0.78`."
   ]
  }
 ],
 "metadata": {
  "ExecuteTimeLog": [
   {
    "duration": 2426,
    "start_time": "2023-04-12T17:14:30.320Z"
   },
   {
    "duration": 118,
    "start_time": "2023-04-12T17:14:32.749Z"
   },
   {
    "duration": 19,
    "start_time": "2023-04-12T17:14:32.869Z"
   },
   {
    "duration": 12,
    "start_time": "2023-04-12T17:14:32.890Z"
   },
   {
    "duration": 14,
    "start_time": "2023-04-12T17:14:32.904Z"
   },
   {
    "duration": 20,
    "start_time": "2023-04-12T17:14:32.920Z"
   },
   {
    "duration": 22,
    "start_time": "2023-04-12T17:14:32.942Z"
   },
   {
    "duration": 20,
    "start_time": "2023-04-12T17:14:32.966Z"
   },
   {
    "duration": 6,
    "start_time": "2023-04-12T17:14:32.988Z"
   },
   {
    "duration": 9,
    "start_time": "2023-04-12T17:14:32.996Z"
   },
   {
    "duration": 287,
    "start_time": "2023-04-12T17:14:33.007Z"
   },
   {
    "duration": 2080,
    "start_time": "2023-04-12T17:14:33.296Z"
   },
   {
    "duration": 492,
    "start_time": "2023-04-12T17:14:35.378Z"
   },
   {
    "duration": 17,
    "start_time": "2023-04-12T17:14:35.873Z"
   },
   {
    "duration": 15,
    "start_time": "2023-04-12T17:14:35.892Z"
   },
   {
    "duration": 2291,
    "start_time": "2023-04-12T17:16:04.341Z"
   },
   {
    "duration": 68,
    "start_time": "2023-04-12T17:16:06.635Z"
   },
   {
    "duration": 22,
    "start_time": "2023-04-12T17:16:06.706Z"
   },
   {
    "duration": 21,
    "start_time": "2023-04-12T17:16:06.730Z"
   },
   {
    "duration": 8,
    "start_time": "2023-04-12T17:16:06.754Z"
   },
   {
    "duration": 11,
    "start_time": "2023-04-12T17:16:06.764Z"
   },
   {
    "duration": 13,
    "start_time": "2023-04-12T17:16:06.776Z"
   },
   {
    "duration": 12,
    "start_time": "2023-04-12T17:16:06.790Z"
   },
   {
    "duration": 7,
    "start_time": "2023-04-12T17:16:06.803Z"
   },
   {
    "duration": 4,
    "start_time": "2023-04-12T17:16:06.811Z"
   },
   {
    "duration": 329,
    "start_time": "2023-04-12T17:16:06.817Z"
   },
   {
    "duration": 1851,
    "start_time": "2023-04-12T17:16:07.148Z"
   },
   {
    "duration": 475,
    "start_time": "2023-04-12T17:16:09.001Z"
   },
   {
    "duration": 17,
    "start_time": "2023-04-12T17:16:09.478Z"
   },
   {
    "duration": 17,
    "start_time": "2023-04-12T17:16:09.497Z"
   },
   {
    "duration": 68,
    "start_time": "2023-04-25T09:44:51.242Z"
   }
  ],
  "kernelspec": {
   "display_name": "Python 3 (ipykernel)",
   "language": "python",
   "name": "python3"
  },
  "language_info": {
   "codemirror_mode": {
    "name": "ipython",
    "version": 3
   },
   "file_extension": ".py",
   "mimetype": "text/x-python",
   "name": "python",
   "nbconvert_exporter": "python",
   "pygments_lexer": "ipython3",
   "version": "3.9.5"
  },
  "toc": {
   "base_numbering": 1,
   "nav_menu": {},
   "number_sections": true,
   "sideBar": true,
   "skip_h1_title": true,
   "title_cell": "Table of Contents",
   "title_sidebar": "Contents",
   "toc_cell": false,
   "toc_position": {},
   "toc_section_display": true,
   "toc_window_display": true
  },
  "vscode": {
   "interpreter": {
    "hash": "0f722720931fbd7bac8fa92a0efaafb415e0b529bea29341344773e6eccc6c21"
   }
  }
 },
 "nbformat": 4,
 "nbformat_minor": 2
}
