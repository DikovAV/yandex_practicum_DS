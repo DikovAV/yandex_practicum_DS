{
 "cells": [
  {
   "cell_type": "markdown",
   "metadata": {},
   "source": [
    "# <a id='toc1_'></a>Выбор локации для скважины   [](#toc0_)"
   ]
  },
  {
   "cell_type": "markdown",
   "metadata": {},
   "source": [
    "# Введение"
   ]
  },
  {
   "cell_type": "markdown",
   "metadata": {},
   "source": [
    "Допустим, вы работаете в добывающей компании «ГлавРосГосНефть». Нужно решить, где бурить новую скважину.\n",
    "\n",
    "Вам предоставлены пробы нефти в трёх регионах: в каждом 10 000 месторождений, где измерили качество нефти и объём её запасов. Постройте модель машинного обучения, которая поможет определить регион, где добыча принесёт наибольшую прибыль. Проанализируйте возможную прибыль и риски техникой *Bootstrap.*\n",
    "\n",
    "Шаги для выбора локации:\n",
    "\n",
    "- В избранном регионе ищут месторождения, для каждого определяют значения признаков;\n",
    "- Строят модель и оценивают объём запасов;\n",
    "- Выбирают месторождения с самым высокими оценками значений. Количество месторождений зависит от бюджета компании и стоимости разработки одной скважины;\n",
    "- Прибыль равна суммарной прибыли отобранных месторождений.\n",
    "\n",
    "# Описание данных\n",
    "\n",
    "- id — уникальный идентификатор скважины;\n",
    "- f0, f1, f2 — три значимых признака точек;\n",
    "- product — объём запасов в скважине (тыс. баррелей).\n",
    "\n",
    "# Условия задачи\n",
    "\n",
    "- Для обучения модели подходит только линейная регрессия (остальные — недостаточно предсказуемые).\n",
    "- При разведке региона исследуют 500 точек, из которых с помощью машинного обучения выбирают 200 лучших для разработки.\n",
    "- Бюджет на разработку скважин в регионе — 10 млрд рублей.\n",
    "- При нынешних ценах один баррель сырья приносит 450 рублей дохода. Доход с каждой единицы продукта составляет 450 тыс. рублей, поскольку объём указан в тысячах баррелей.\n",
    "- После оценки рисков нужно оставить лишь те регионы, в которых вероятность убытков меньше 2.5%. Среди них выбирают регион с наибольшей средней прибылью."
   ]
  },
  {
   "cell_type": "markdown",
   "metadata": {},
   "source": [
    "**Table of contents**<a id='toc0_'></a>    \n",
    "- [Выбор локации для скважины  ](#toc1_)    \n",
    "  - [Загрузка и подготовка данных  ](#toc1_1_)    \n",
    "    - [Создание класса oil_well  ](#toc1_1_1_)    \n",
    "    - [Создание экземпляров класса  ](#toc1_1_2_)    \n",
    "    - [Вывод  ](#toc1_1_3_)    \n",
    "  - [Обучение и проверка модели  ](#toc1_2_)    \n",
    "    - [train_test_split  ](#toc1_2_1_)    \n",
    "    - [Scaling  ](#toc1_2_2_)    \n",
    "    - [Обучение Linear Regression  ](#toc1_2_3_)    \n",
    "    - [Вывод:  ](#toc1_2_4_)    \n",
    "  - [Подготовка к расчёту прибыли  ](#toc1_3_)    \n",
    "    - [Вывод:  ](#toc1_3_1_)    \n",
    "  - [Расчёт прибыли и рисков  ](#toc1_4_)    \n",
    "    - [Прибыль  ](#toc1_4_1_)    \n",
    "    - [Вывод  ](#toc1_4_2_)    \n",
    "  - [Bootstrap  ](#toc1_5_)    \n",
    "    - [Вывод:  ](#toc1_5_1_)    \n",
    "  - [Вывод  ](#toc1_6_)    \n",
    "        - [a. Обработка данных  ](#toc1_6_1_1_1_)    \n",
    "        - [b. Разделение данных и обучение модели  ](#toc1_6_1_1_2_)    \n",
    "        - [c. Подготовительные расчеты  ](#toc1_6_1_1_3_)    \n",
    "        - [d. Работа модели на тестовых данных  ](#toc1_6_1_1_4_)    \n",
    "        - [f. Bootstrap  ](#toc1_6_1_1_5_)    \n",
    "\n",
    "<!-- vscode-jupyter-toc-config\n",
    "\tnumbering=false\n",
    "\tanchor=true\n",
    "\tflat=false\n",
    "\tminLevel=1\n",
    "\tmaxLevel=6\n",
    "\t/vscode-jupyter-toc-config -->\n",
    "<!-- THIS CELL WILL BE REPLACED ON TOC UPDATE. DO NOT WRITE YOUR TEXT IN THIS CELL -->"
   ]
  },
  {
   "cell_type": "markdown",
   "metadata": {},
   "source": [
    "## <a id='toc1_1_'></a>Загрузка и подготовка данных   [](#toc0_)"
   ]
  },
  {
   "cell_type": "code",
   "execution_count": 1,
   "metadata": {},
   "outputs": [],
   "source": [
    "import pandas as pd\n",
    "import numpy as np\n",
    "import matplotlib.pyplot as plt\n",
    "from math import sqrt\n",
    "%matplotlib inline\n",
    "\n",
    "from sklearn.model_selection import train_test_split\n",
    "from sklearn.preprocessing import StandardScaler\n",
    "from sklearn.metrics import mean_squared_error\n",
    "\n",
    "from scipy import stats as st\n",
    "\n",
    "from sklearn.linear_model import LinearRegression"
   ]
  },
  {
   "cell_type": "markdown",
   "metadata": {},
   "source": [
    "### <a id='toc1_1_1_'></a>Создание класса oil_well   [](#toc0_)"
   ]
  },
  {
   "cell_type": "code",
   "execution_count": 2,
   "metadata": {},
   "outputs": [],
   "source": [
    "class oil_well_geo_data():\n",
    "    \n",
    "    all_oil_well = []\n",
    "    \n",
    "    def __init__(self, link:str) -> None:\n",
    "        try:\n",
    "            self.data = pd.read_csv(link,index_col='id')\n",
    "        except:\n",
    "            print('Не получилось получить данные. Проверьте путь!')\n",
    "        oil_well_geo_data.all_oil_well.append(self)\n",
    "        self.num_of_region = len(oil_well_geo_data.all_oil_well)\n",
    "        return None\n",
    "    \n",
    "    def train_valid_split(self, split_size=.25,r_state=12345):\n",
    "        features = self.data.drop(columns=['product'])\n",
    "        target = self.data['product']\n",
    "        self.train_features, self.valid_features, self.train_target, self.valid_target = train_test_split(\n",
    "                                                                            features,\n",
    "                                                                            target,\n",
    "                                                                            test_size=split_size,\n",
    "                                                                            random_state=r_state)\n",
    "\n",
    "    def features_scaling(self):\n",
    "        scaler = StandardScaler()\n",
    "        try:\n",
    "            self.train_features = pd.DataFrame(scaler.\n",
    "                                            fit_transform(self.train_features),\n",
    "                                            index=self.train_features.index)\n",
    "            self.valid_features = pd.DataFrame(scaler.\n",
    "                                            transform(self.valid_features),\n",
    "                                            index=self.valid_features.index)\n",
    "        except:\n",
    "            print(\"An error has occurred. Probably train_features or valid_features doesn't exist. Try to use method train_valid_split\")\n",
    "        \n",
    "    \n",
    "    def linear_regression(self, print_status=True):\n",
    "        try:\n",
    "            model_regression = LinearRegression()\n",
    "            model_regression.fit(self.train_features,\n",
    "                                self.train_target)\n",
    "            self.predicts = pd.Series(model_regression.predict(self.valid_features),\n",
    "                                index=self.valid_features.index)\n",
    "            RMSE = sqrt(mean_squared_error(self.valid_target, self.predicts))\n",
    "            self.average_predicts = self.predicts.mean()\n",
    "            self.average_real = self.valid_target.mean()\n",
    "            if print_status:\n",
    "                print(f'После обучения Linear Regression в регионе №{self.num_of_region} имеет следующие параметры:')\n",
    "                print('RMSE: {:.3}'.format(RMSE))\n",
    "                print('Среднее предсказанное количество сырья: {:.3}'.format(self.average_predicts))\n",
    "                print('Среднее действительное количество сырья: {:.3}'.format(self.average_real))\n",
    "        except:\n",
    "            print(\"An error has occurred. Probably train_features or valid_features doesn't exist. Try to use method train_valid_split\")\n",
    "    \n",
    "    def break_even_calculation(self, breakeven_threshold=111.11):\n",
    "        try:\n",
    "            sorted_max_possible = self.valid_target.sort_values(ascending=False)\n",
    "            above_thresholds_sorted = sorted_max_possible.loc[sorted_max_possible > breakeven_threshold]\n",
    "            print('Количество скважин выше заданного порога в 112 барралей в регионе №{} составляет: {} скважин. Отношение к общему количество скважин: {:.2%}'\n",
    "                .format(self.num_of_region,\n",
    "                    self.human_format(above_thresholds_sorted.count()),\n",
    "                    above_thresholds_sorted.count() / 25000)\n",
    "                )\n",
    "        except:\n",
    "            print(\"An error has occurred. Probably train_features or valid_features doesn't exist. Try to use method train_valid_split or linear_regression\")\n",
    "        \n",
    "    def human_format(self, num) -> str:\n",
    "        num = float('{:.3g}'.format(num))\n",
    "        magnitude = 0\n",
    "        while abs(num) >= 1000:\n",
    "            magnitude += 1\n",
    "            num /= 1000.0\n",
    "        return '{} {}'.format('{:f}'.format(num).rstrip('0').rstrip('.'), ['', 'тыс.', 'милл.', 'млрд.'][magnitude])\n",
    "    \n",
    "    def check_duplicated(self):\n",
    "        print(f'Количество дубликатов в регионе №{self.num_of_region}: {self.data.duplicated().sum()}')\n",
    "        \n",
    "        \n",
    "    \n",
    "    def revenue(self, limit=200, ONE_Q_INCOME=45e4, BUDGET=10e9):\n",
    "        sorted = self.predicts.sort_values(ascending=False)[:limit]\n",
    "        selected = self.valid_target[sorted.index]\n",
    "        self.sum_selected_chosen = selected.sum()\n",
    "        self.sorted_target_sum = self.valid_target.sort_values(ascending=False)[:limit].sum()\n",
    "        self.max_profit = selected.sum() * ONE_Q_INCOME - BUDGET\n",
    "        self.max_possible_profit = self.sorted_target_sum * ONE_Q_INCOME - BUDGET\n",
    "        \n",
    "    def __bootstrap_revenue(self,target,probabilities,\n",
    "                LIMIT=200, ONE_Q_INCOME=45e4, BUDGET=10e9):\n",
    "        sorted = probabilities.sort_values(ascending=False)\n",
    "        selected = self.valid_target[sorted.index][:LIMIT]\n",
    "        # код ревьюера\n",
    "        if len(selected) > LIMIT:\n",
    "            print('Скважин больше, чем мы можем себе позволить')\n",
    "        sum_selected_chosen = selected.sum()\n",
    "        max_profit = sum_selected_chosen.sum() * ONE_Q_INCOME - BUDGET\n",
    "        return max_profit\n",
    "        \n",
    "    def bootstrap(self, r_state=12345,n_max=500,n_chosen=200,print_status=True, confidence_level=.95):\n",
    "        state = np.random.RandomState(r_state)\n",
    "        values = []\n",
    "        for _ in range(1000):\n",
    "            target_subsample = self.valid_target.sample(n=n_max, replace=True, random_state=state)\n",
    "            probs_subsample = self.predicts[target_subsample.index]\n",
    "            values.append(self.__bootstrap_revenue(target_subsample,probs_subsample, n_chosen)) \n",
    "        self.values = pd.Series(values)\n",
    "        self.confidence_interval = st.t.interval(confidence_level, len(values)-1, self.values.mean(), self.values.sem())\n",
    "        risk = (self.values<0).mean()\n",
    "        lower_low = self.values.loc[self.values < 0].min()\n",
    "        lower_high = self.values.loc[self.values < 0].max()\n",
    "        if print_status:\n",
    "            print(f'В регионе №{self.num_of_region}:')\n",
    "            print('Среднее значение выручки: {}'.format(self.human_format(self.values.mean())))\n",
    "            print('Доверительный интервал {:.0%} для средней выручки лежит между {} - {}'.format(confidence_level, self.human_format(self.confidence_interval[0]), self.human_format(self.confidence_interval[1])))\n",
    "            print('Возможный убыток варьируется от: {} до {}'.format(self.human_format(lower_low),self.human_format(lower_high)))\n",
    "            print('Риск убытка составляет : {:.2%}'.format(risk))\n",
    "            \n",
    "    def plot_values(self):\n",
    "        plt.hist(self.values.loc[(self.values <= self.values.loc[(self.values >=0)].min())], bins=3, alpha=.45, color='red')\n",
    "        height, bins, patches  = plt.hist(self.values.loc[self.values >= self.values.loc[(self.values >= 0)].min()], bins=25, alpha=0.45, color='green')\n",
    "        plt.fill_betweenx([0, height.max()], self.confidence_interval[0], self.confidence_interval[1], color='b', alpha=0.4)\n",
    "        plt.title(f\"Гистограмма распределения средней прибыли в регионе №{self.num_of_region}\")\n",
    "        plt.legend(['Прибыль больше 0', \n",
    "                    'Убыток больше 0'])\n",
    "        plt.xlabel('Прибыль')\n",
    "        plt.ylabel('Частота')\n",
    "        plt.show()"
   ]
  },
  {
   "cell_type": "markdown",
   "metadata": {},
   "source": [
    "### <a id='toc1_1_2_'></a>Создание экземпляров класса   [](#toc0_)"
   ]
  },
  {
   "cell_type": "code",
   "execution_count": 3,
   "metadata": {},
   "outputs": [],
   "source": [
    "data_1 = oil_well_geo_data('https://code.s3.yandex.net/datasets/geo_data_0.csv')\n",
    "data_2 = oil_well_geo_data('https://code.s3.yandex.net/datasets/geo_data_1.csv')\n",
    "data_3 = oil_well_geo_data('https://code.s3.yandex.net/datasets/geo_data_2.csv')"
   ]
  },
  {
   "cell_type": "markdown",
   "metadata": {},
   "source": [
    "Проверим дубликаты:"
   ]
  },
  {
   "cell_type": "code",
   "execution_count": 4,
   "metadata": {},
   "outputs": [
    {
     "name": "stdout",
     "output_type": "stream",
     "text": [
      "Количество дубликатов в регионе №1: 0\n",
      "Количество дубликатов в регионе №2: 0\n",
      "Количество дубликатов в регионе №3: 0\n"
     ]
    }
   ],
   "source": [
    "for data in oil_well_geo_data.all_oil_well:\n",
    "    data.check_duplicated()"
   ]
  },
  {
   "cell_type": "markdown",
   "metadata": {},
   "source": [
    "Дубликатов не обнаружено. Проверим, уникальны ли `ID` во всех трех датасетах:"
   ]
  },
  {
   "cell_type": "code",
   "execution_count": 5,
   "metadata": {},
   "outputs": [
    {
     "name": "stdout",
     "output_type": "stream",
     "text": [
      "Количество неуникальных id в первом и втором датасете: 10\n",
      "Количество неуникальных id в первом и третьем датасете: 17\n",
      "Количество неуникальных id во втором и в третьем датасете: 4\n"
     ]
    }
   ],
   "source": [
    "print(f'Количество неуникальных id в первом и втором датасете: {len(data_1.data.index.intersection(data_2.data.index))}')\n",
    "print(f'Количество неуникальных id в первом и третьем датасете: {len(data_1.data.index.intersection(data_3.data.index))}')\n",
    "print(f'Количество неуникальных id во втором и в третьем датасете: {len(data_2.data.index.intersection(data_3.data.index))}')"
   ]
  },
  {
   "cell_type": "markdown",
   "metadata": {},
   "source": [
    "Обнаружены не уникальные `ID`."
   ]
  },
  {
   "cell_type": "code",
   "execution_count": 6,
   "metadata": {},
   "outputs": [
    {
     "name": "stdout",
     "output_type": "stream",
     "text": [
      "Количество дубликатов в объеденном датасете: 0.\n"
     ]
    }
   ],
   "source": [
    "data = pd.concat([data_1.data.reset_index(),data_2.data.reset_index(),data_3.data.reset_index()], ignore_index=True)\n",
    "print(f'Количество дубликатов в объеденном датасете: {data.duplicated().sum()}.')"
   ]
  },
  {
   "cell_type": "code",
   "execution_count": 7,
   "metadata": {},
   "outputs": [
    {
     "data": {
      "text/html": [
       "<div>\n",
       "<style scoped>\n",
       "    .dataframe tbody tr th:only-of-type {\n",
       "        vertical-align: middle;\n",
       "    }\n",
       "\n",
       "    .dataframe tbody tr th {\n",
       "        vertical-align: top;\n",
       "    }\n",
       "\n",
       "    .dataframe thead th {\n",
       "        text-align: right;\n",
       "    }\n",
       "</style>\n",
       "<table border=\"1\" class=\"dataframe\">\n",
       "  <thead>\n",
       "    <tr style=\"text-align: right;\">\n",
       "      <th></th>\n",
       "      <th>id</th>\n",
       "      <th>f0</th>\n",
       "      <th>f1</th>\n",
       "      <th>f2</th>\n",
       "      <th>product</th>\n",
       "    </tr>\n",
       "  </thead>\n",
       "  <tbody>\n",
       "    <tr>\n",
       "      <th>227380</th>\n",
       "      <td>2tyMi</td>\n",
       "      <td>-1.789602</td>\n",
       "      <td>-1.359044</td>\n",
       "      <td>-4.840745</td>\n",
       "      <td>145.901447</td>\n",
       "    </tr>\n",
       "    <tr>\n",
       "      <th>45429</th>\n",
       "      <td>2tyMi</td>\n",
       "      <td>0.576679</td>\n",
       "      <td>-0.411140</td>\n",
       "      <td>-3.725859</td>\n",
       "      <td>69.292672</td>\n",
       "    </tr>\n",
       "    <tr>\n",
       "      <th>105849</th>\n",
       "      <td>5ltQ6</td>\n",
       "      <td>-3.435401</td>\n",
       "      <td>-12.296043</td>\n",
       "      <td>1.999796</td>\n",
       "      <td>57.085625</td>\n",
       "    </tr>\n",
       "    <tr>\n",
       "      <th>184461</th>\n",
       "      <td>5ltQ6</td>\n",
       "      <td>18.213839</td>\n",
       "      <td>2.191999</td>\n",
       "      <td>3.993869</td>\n",
       "      <td>107.813044</td>\n",
       "    </tr>\n",
       "    <tr>\n",
       "      <th>272896</th>\n",
       "      <td>5ssQt</td>\n",
       "      <td>-0.651825</td>\n",
       "      <td>0.782415</td>\n",
       "      <td>2.690636</td>\n",
       "      <td>120.108761</td>\n",
       "    </tr>\n",
       "    <tr>\n",
       "      <th>16753</th>\n",
       "      <td>5ssQt</td>\n",
       "      <td>-1.005117</td>\n",
       "      <td>0.268726</td>\n",
       "      <td>-0.407822</td>\n",
       "      <td>53.206029</td>\n",
       "    </tr>\n",
       "    <tr>\n",
       "      <th>66136</th>\n",
       "      <td>74z30</td>\n",
       "      <td>1.084962</td>\n",
       "      <td>-0.312358</td>\n",
       "      <td>6.990771</td>\n",
       "      <td>127.643327</td>\n",
       "    </tr>\n",
       "    <tr>\n",
       "      <th>64022</th>\n",
       "      <td>74z30</td>\n",
       "      <td>0.741456</td>\n",
       "      <td>0.459229</td>\n",
       "      <td>5.153109</td>\n",
       "      <td>140.771492</td>\n",
       "    </tr>\n",
       "    <tr>\n",
       "      <th>3389</th>\n",
       "      <td>A5aEY</td>\n",
       "      <td>-0.039949</td>\n",
       "      <td>0.156872</td>\n",
       "      <td>0.209861</td>\n",
       "      <td>89.249364</td>\n",
       "    </tr>\n",
       "    <tr>\n",
       "      <th>51970</th>\n",
       "      <td>A5aEY</td>\n",
       "      <td>-0.180335</td>\n",
       "      <td>0.935548</td>\n",
       "      <td>-2.094773</td>\n",
       "      <td>33.020205</td>\n",
       "    </tr>\n",
       "    <tr>\n",
       "      <th>69163</th>\n",
       "      <td>AGS9W</td>\n",
       "      <td>-0.933795</td>\n",
       "      <td>0.116194</td>\n",
       "      <td>-3.655896</td>\n",
       "      <td>19.230453</td>\n",
       "    </tr>\n",
       "    <tr>\n",
       "      <th>42529</th>\n",
       "      <td>AGS9W</td>\n",
       "      <td>1.454747</td>\n",
       "      <td>-0.479651</td>\n",
       "      <td>0.683380</td>\n",
       "      <td>126.370504</td>\n",
       "    </tr>\n",
       "    <tr>\n",
       "      <th>14777</th>\n",
       "      <td>CXJ2r</td>\n",
       "      <td>1.799663</td>\n",
       "      <td>0.152615</td>\n",
       "      <td>2.308270</td>\n",
       "      <td>124.783815</td>\n",
       "    </tr>\n",
       "    <tr>\n",
       "      <th>123086</th>\n",
       "      <td>CXJ2r</td>\n",
       "      <td>4.595329</td>\n",
       "      <td>-1.967882</td>\n",
       "      <td>4.000767</td>\n",
       "      <td>107.813044</td>\n",
       "    </tr>\n",
       "    <tr>\n",
       "      <th>261622</th>\n",
       "      <td>D8TNs</td>\n",
       "      <td>0.280382</td>\n",
       "      <td>0.061393</td>\n",
       "      <td>4.887870</td>\n",
       "      <td>114.943876</td>\n",
       "    </tr>\n",
       "  </tbody>\n",
       "</table>\n",
       "</div>"
      ],
      "text/plain": [
       "           id         f0         f1        f2     product\n",
       "227380  2tyMi  -1.789602  -1.359044 -4.840745  145.901447\n",
       "45429   2tyMi   0.576679  -0.411140 -3.725859   69.292672\n",
       "105849  5ltQ6  -3.435401 -12.296043  1.999796   57.085625\n",
       "184461  5ltQ6  18.213839   2.191999  3.993869  107.813044\n",
       "272896  5ssQt  -0.651825   0.782415  2.690636  120.108761\n",
       "16753   5ssQt  -1.005117   0.268726 -0.407822   53.206029\n",
       "66136   74z30   1.084962  -0.312358  6.990771  127.643327\n",
       "64022   74z30   0.741456   0.459229  5.153109  140.771492\n",
       "3389    A5aEY  -0.039949   0.156872  0.209861   89.249364\n",
       "51970   A5aEY  -0.180335   0.935548 -2.094773   33.020205\n",
       "69163   AGS9W  -0.933795   0.116194 -3.655896   19.230453\n",
       "42529   AGS9W   1.454747  -0.479651  0.683380  126.370504\n",
       "14777   CXJ2r   1.799663   0.152615  2.308270  124.783815\n",
       "123086  CXJ2r   4.595329  -1.967882  4.000767  107.813044\n",
       "261622  D8TNs   0.280382   0.061393  4.887870  114.943876"
      ]
     },
     "execution_count": 7,
     "metadata": {},
     "output_type": "execute_result"
    }
   ],
   "source": [
    "data[data.duplicated(subset=['id'],keep=False)].sort_values(by='id').head(15)"
   ]
  },
  {
   "cell_type": "markdown",
   "metadata": {},
   "source": [
    "Одинаковые `id` принадлежат разным объектам."
   ]
  },
  {
   "cell_type": "code",
   "execution_count": 8,
   "metadata": {},
   "outputs": [
    {
     "name": "stdout",
     "output_type": "stream",
     "text": [
      "Количество дубликатов без учета id: 0\n"
     ]
    }
   ],
   "source": [
    "print('Количество дубликатов без учета id: {}'.format(data.drop(columns=['id']).duplicated().sum()))"
   ]
  },
  {
   "cell_type": "code",
   "execution_count": 9,
   "metadata": {},
   "outputs": [
    {
     "name": "stdout",
     "output_type": "stream",
     "text": [
      "<class 'pandas.core.frame.DataFrame'>\n",
      "Index: 100000 entries, txEyH to 1CWhH\n",
      "Data columns (total 4 columns):\n",
      " #   Column   Non-Null Count   Dtype  \n",
      "---  ------   --------------   -----  \n",
      " 0   f0       100000 non-null  float64\n",
      " 1   f1       100000 non-null  float64\n",
      " 2   f2       100000 non-null  float64\n",
      " 3   product  100000 non-null  float64\n",
      "dtypes: float64(4)\n",
      "memory usage: 3.8+ MB\n"
     ]
    }
   ],
   "source": [
    "data_1.data.info()"
   ]
  },
  {
   "cell_type": "code",
   "execution_count": 10,
   "metadata": {},
   "outputs": [
    {
     "name": "stdout",
     "output_type": "stream",
     "text": [
      "<class 'pandas.core.frame.DataFrame'>\n",
      "Index: 100000 entries, kBEdx to relB0\n",
      "Data columns (total 4 columns):\n",
      " #   Column   Non-Null Count   Dtype  \n",
      "---  ------   --------------   -----  \n",
      " 0   f0       100000 non-null  float64\n",
      " 1   f1       100000 non-null  float64\n",
      " 2   f2       100000 non-null  float64\n",
      " 3   product  100000 non-null  float64\n",
      "dtypes: float64(4)\n",
      "memory usage: 3.8+ MB\n"
     ]
    }
   ],
   "source": [
    "data_2.data.info()"
   ]
  },
  {
   "cell_type": "code",
   "execution_count": 11,
   "metadata": {},
   "outputs": [
    {
     "name": "stdout",
     "output_type": "stream",
     "text": [
      "<class 'pandas.core.frame.DataFrame'>\n",
      "Index: 100000 entries, fwXo0 to V9kWn\n",
      "Data columns (total 4 columns):\n",
      " #   Column   Non-Null Count   Dtype  \n",
      "---  ------   --------------   -----  \n",
      " 0   f0       100000 non-null  float64\n",
      " 1   f1       100000 non-null  float64\n",
      " 2   f2       100000 non-null  float64\n",
      " 3   product  100000 non-null  float64\n",
      "dtypes: float64(4)\n",
      "memory usage: 3.8+ MB\n"
     ]
    }
   ],
   "source": [
    "data_3.data.info()"
   ]
  },
  {
   "cell_type": "code",
   "execution_count": 12,
   "metadata": {},
   "outputs": [
    {
     "data": {
      "text/html": [
       "<div>\n",
       "<style scoped>\n",
       "    .dataframe tbody tr th:only-of-type {\n",
       "        vertical-align: middle;\n",
       "    }\n",
       "\n",
       "    .dataframe tbody tr th {\n",
       "        vertical-align: top;\n",
       "    }\n",
       "\n",
       "    .dataframe thead th {\n",
       "        text-align: right;\n",
       "    }\n",
       "</style>\n",
       "<table border=\"1\" class=\"dataframe\">\n",
       "  <thead>\n",
       "    <tr style=\"text-align: right;\">\n",
       "      <th></th>\n",
       "      <th>f0</th>\n",
       "      <th>f1</th>\n",
       "      <th>f2</th>\n",
       "      <th>product</th>\n",
       "    </tr>\n",
       "    <tr>\n",
       "      <th>id</th>\n",
       "      <th></th>\n",
       "      <th></th>\n",
       "      <th></th>\n",
       "      <th></th>\n",
       "    </tr>\n",
       "  </thead>\n",
       "  <tbody>\n",
       "    <tr>\n",
       "      <th>fwXo0</th>\n",
       "      <td>-1.146987</td>\n",
       "      <td>0.963328</td>\n",
       "      <td>-0.828965</td>\n",
       "      <td>27.758673</td>\n",
       "    </tr>\n",
       "    <tr>\n",
       "      <th>WJtFt</th>\n",
       "      <td>0.262778</td>\n",
       "      <td>0.269839</td>\n",
       "      <td>-2.530187</td>\n",
       "      <td>56.069697</td>\n",
       "    </tr>\n",
       "    <tr>\n",
       "      <th>ovLUW</th>\n",
       "      <td>0.194587</td>\n",
       "      <td>0.289035</td>\n",
       "      <td>-5.586433</td>\n",
       "      <td>62.871910</td>\n",
       "    </tr>\n",
       "    <tr>\n",
       "      <th>q6cA6</th>\n",
       "      <td>2.236060</td>\n",
       "      <td>-0.553760</td>\n",
       "      <td>0.930038</td>\n",
       "      <td>114.572842</td>\n",
       "    </tr>\n",
       "    <tr>\n",
       "      <th>WPMUX</th>\n",
       "      <td>-0.515993</td>\n",
       "      <td>1.716266</td>\n",
       "      <td>5.899011</td>\n",
       "      <td>149.600746</td>\n",
       "    </tr>\n",
       "  </tbody>\n",
       "</table>\n",
       "</div>"
      ],
      "text/plain": [
       "             f0        f1        f2     product\n",
       "id                                             \n",
       "fwXo0 -1.146987  0.963328 -0.828965   27.758673\n",
       "WJtFt  0.262778  0.269839 -2.530187   56.069697\n",
       "ovLUW  0.194587  0.289035 -5.586433   62.871910\n",
       "q6cA6  2.236060 -0.553760  0.930038  114.572842\n",
       "WPMUX -0.515993  1.716266  5.899011  149.600746"
      ]
     },
     "execution_count": 12,
     "metadata": {},
     "output_type": "execute_result"
    }
   ],
   "source": [
    "data_3.data.head()"
   ]
  },
  {
   "cell_type": "markdown",
   "metadata": {},
   "source": [
    "Каждый датасет состоит из 100000 строк и 4 колонок, которые представляют собой: три признака (тип данных: `float64`) - `f0`, `f1`, `f2` и один целевой признак - `product`. Пропусков в данных нет."
   ]
  },
  {
   "cell_type": "code",
   "execution_count": 13,
   "metadata": {},
   "outputs": [
    {
     "data": {
      "image/png": "[encoded data removed]",
      "text/plain": [
       "<Figure size 864x576 with 4 Axes>"
      ]
     },
     "metadata": {
      "needs_background": "light"
     },
     "output_type": "display_data"
    }
   ],
   "source": [
    "data_1.data.hist(bins=30, figsize=(12,8))\n",
    "plt.show()"
   ]
  },
  {
   "cell_type": "code",
   "execution_count": 14,
   "metadata": {},
   "outputs": [
    {
     "data": {
      "image/png": "[encoded data removed]",
      "text/plain": [
       "<Figure size 864x576 with 4 Axes>"
      ]
     },
     "metadata": {
      "needs_background": "light"
     },
     "output_type": "display_data"
    }
   ],
   "source": [
    "data_2.data.hist(bins=30, figsize=(12,8))\n",
    "plt.show()"
   ]
  },
  {
   "cell_type": "code",
   "execution_count": 15,
   "metadata": {},
   "outputs": [
    {
     "data": {
      "image/png": "[encoded data removed]",
      "text/plain": [
       "<Figure size 864x576 with 4 Axes>"
      ]
     },
     "metadata": {
      "needs_background": "light"
     },
     "output_type": "display_data"
    }
   ],
   "source": [
    "data_3.data.hist(bins=30, figsize=(12,8))\n",
    "plt.show()"
   ]
  },
  {
   "cell_type": "markdown",
   "metadata": {},
   "source": [
    "Из графиков распределения параметров можно сделать вывод, что каждый регион имеет свои отличительные особенности. В связи с этим не следует обучать модель по всем регионам, для каждого региона должна быть своя модель."
   ]
  },
  {
   "cell_type": "markdown",
   "metadata": {},
   "source": [
    "### <a id='toc1_1_3_'></a>Вывод   [](#toc0_)\n",
    "\n",
    "Данные представляют собой несколько датасетов, каждый который состоит из нескольких признаков и целевого признака. \n",
    "\n",
    "Все три исследуемые нами региона имеют:\n",
    "1) Три признака - `f0`,`f1`,`f2`;\n",
    "2) Один целевой признак - `product`;\n",
    "3) 10000 строк;\n",
    "4) Не имеют пропусков."
   ]
  },
  {
   "cell_type": "markdown",
   "metadata": {},
   "source": [
    "## <a id='toc1_2_'></a>Обучение и проверка модели   [](#toc0_)"
   ]
  },
  {
   "cell_type": "markdown",
   "metadata": {},
   "source": [
    "### <a id='toc1_2_1_'></a>train_test_split   [](#toc0_)"
   ]
  },
  {
   "cell_type": "markdown",
   "metadata": {},
   "source": [
    "Разделим выборки на обучающую и валидационую для каждого региона:"
   ]
  },
  {
   "cell_type": "code",
   "execution_count": 16,
   "metadata": {},
   "outputs": [
    {
     "name": "stdout",
     "output_type": "stream",
     "text": [
      "Регион №1 имеет размер в 100000 строк\n",
      "train_features состоит из 75000 строк. Процентное соотношение обучающей выборки к полной: 75%\n",
      "valid_features состоит из 25000 строк. Процентное соотношение валидационой выборки к полной: 25%\n",
      "****************************************************************************************************\n",
      "Регион №2 имеет размер в 100000 строк\n",
      "train_features состоит из 75000 строк. Процентное соотношение обучающей выборки к полной: 75%\n",
      "valid_features состоит из 25000 строк. Процентное соотношение валидационой выборки к полной: 25%\n",
      "****************************************************************************************************\n",
      "Регион №3 имеет размер в 100000 строк\n",
      "train_features состоит из 75000 строк. Процентное соотношение обучающей выборки к полной: 75%\n",
      "valid_features состоит из 25000 строк. Процентное соотношение валидационой выборки к полной: 25%\n",
      "****************************************************************************************************\n"
     ]
    }
   ],
   "source": [
    "for data in oil_well_geo_data.all_oil_well:\n",
    "    data.train_valid_split()\n",
    "    print(f'Регион №{data.num_of_region} имеет размер в {data.data.shape[0]} строк')\n",
    "    print('train_features состоит из {} строк. Процентное соотношение обучающей выборки к полной: {:.0%}'\n",
    "            .format(data.train_features.shape[0],data.train_features.shape[0]/data.data.shape[0]))\n",
    "    print('valid_features состоит из {} строк. Процентное соотношение валидационой выборки к полной: {:.0%}'\n",
    "            .format(data.valid_features.shape[0],data.valid_features.shape[0]/data.data.shape[0]))\n",
    "    print('*' * 100)\n",
    "                "
   ]
  },
  {
   "cell_type": "markdown",
   "metadata": {},
   "source": [
    "### <a id='toc1_2_2_'></a>Scaling   [](#toc0_)\n",
    "\n",
    "Произведем скалирование признаков:"
   ]
  },
  {
   "cell_type": "code",
   "execution_count": 17,
   "metadata": {},
   "outputs": [],
   "source": [
    "for data in oil_well_geo_data.all_oil_well:\n",
    "    data.features_scaling()"
   ]
  },
  {
   "cell_type": "markdown",
   "metadata": {},
   "source": [
    "### <a id='toc1_2_3_'></a>Обучение Linear Regression   [](#toc0_)"
   ]
  },
  {
   "cell_type": "code",
   "execution_count": 18,
   "metadata": {},
   "outputs": [
    {
     "name": "stdout",
     "output_type": "stream",
     "text": [
      "После обучения Linear Regression в регионе №1 имеет следующие параметры:\n",
      "RMSE: 37.6\n",
      "Среднее предсказанное количество сырья: 92.6\n",
      "Среднее действительное количество сырья: 92.1\n",
      "****************************************************************************************************\n",
      "После обучения Linear Regression в регионе №2 имеет следующие параметры:\n",
      "RMSE: 0.893\n",
      "Среднее предсказанное количество сырья: 68.7\n",
      "Среднее действительное количество сырья: 68.7\n",
      "****************************************************************************************************\n",
      "После обучения Linear Regression в регионе №3 имеет следующие параметры:\n",
      "RMSE: 40.0\n",
      "Среднее предсказанное количество сырья: 95.0\n",
      "Среднее действительное количество сырья: 94.9\n",
      "****************************************************************************************************\n"
     ]
    }
   ],
   "source": [
    "for data in oil_well_geo_data.all_oil_well:\n",
    "    data.linear_regression()\n",
    "    print('*' * 100)"
   ]
  },
  {
   "cell_type": "markdown",
   "metadata": {},
   "source": [
    "### <a id='toc1_2_4_'></a>Вывод:   [](#toc0_)\n",
    "\n",
    "1) Самая маленькая `Root-Mean-Square-Error` наблюдается у модели для второго региона и составляет `0.893`;\n",
    "2) Наблюдается сильный дисбаланс среднего количество сырья между регионами. Так в третьем регионе фактическое среднее количество сырья составило `94.9`, что больше на ~40%, чем среднее количество сырья во втором регионе - `68.7`."
   ]
  },
  {
   "cell_type": "markdown",
   "metadata": {},
   "source": [
    "## <a id='toc1_3_'></a>Подготовка к расчёту прибыли   [](#toc0_)"
   ]
  },
  {
   "cell_type": "markdown",
   "metadata": {},
   "source": [
    "Бюджет на разработку скважин в регионе - `10 млрд. рублей`.\n",
    "\n",
    "Доход с одной единицы - `450 тысяч рублей`. \n",
    "\n",
    "По условию задачи, выбираются `200` лучших скважин из `500`.\n",
    "\n",
    "Следовательно, чтобы точка стала безубыточной и начала приносить прибыль, нужно:"
   ]
  },
  {
   "cell_type": "code",
   "execution_count": 19,
   "metadata": {},
   "outputs": [
    {
     "name": "stdout",
     "output_type": "stream",
     "text": [
      "Точка безубыточности составляет 22222.22 баррелей;\n",
      "Средний запас сырья в скважине должен составлять: 111.11 единиц.\n"
     ]
    }
   ],
   "source": [
    "BUDGET = 10 ** 10\n",
    "ONE_Q_INCOME = 45 * 10 ** 4\n",
    "SELECTED_Q = 200\n",
    "break_even_point = BUDGET / ONE_Q_INCOME\n",
    "break_even_point_q = BUDGET / (ONE_Q_INCOME * SELECTED_Q)\n",
    "print('Точка безубыточности составляет {:.2f} баррелей;'.format(break_even_point))\n",
    "print('Средний запас сырья в скважине должен составлять: {:.2f} единиц.'.format(break_even_point_q))"
   ]
  },
  {
   "cell_type": "markdown",
   "metadata": {},
   "source": [
    "Точка безубыточности достигается при `111.11` единицах сырья в скважине, в то время как в наших данных самое большое количество среднего сырья - `95`.\n",
    "Посмотрим, какое количество скважин соответствует условию безубыточности:"
   ]
  },
  {
   "cell_type": "code",
   "execution_count": 20,
   "metadata": {},
   "outputs": [
    {
     "name": "stdout",
     "output_type": "stream",
     "text": [
      "Количество скважин выше заданного порога в 111.11 барралей в регионе №1 составляет: 9.06 тыс. скважин. Отношение к общему количество скважин: 36.24%\n",
      "Количество скважин выше заданного порога в 111.11 барралей в регионе №2 составляет: 4.19 тыс. скважин. Отношение к общему количество скважин: 16.74%\n",
      "Количество скважин выше заданного порога в 111.11 барралей в регионе №3 составляет: 9.54 тыс. скважин. Отношение к общему количество скважин: 38.16%\n"
     ]
    }
   ],
   "source": [
    "for data in oil_well_geo_data.all_oil_well:\n",
    "    max_possible = data.valid_target.sort_values(ascending=False)\n",
    "    above_thresholds_sorted = max_possible.loc[max_possible > 111.11]\n",
    "    print('Количество скважин выше заданного порога в 111.11 барралей в регионе №{} составляет: {} скважин. Отношение к общему количество скважин: {:.2%}'\n",
    "          .format(data.num_of_region,\n",
    "                  data.human_format(above_thresholds_sorted.count()),\n",
    "                  above_thresholds_sorted.count() / 25000)\n",
    "          )"
   ]
  },
  {
   "cell_type": "markdown",
   "metadata": {},
   "source": [
    "### <a id='toc1_3_1_'></a>Вывод:   [](#toc0_)\n",
    "\n",
    "Количество среднего сырья в скважинах меньше, чем необходимое количество (`111.11`) для достижения точки безубыточности. Соответствие по регионам:\n",
    "\n",
    "1) В первом регионе соответствуют `36.24%` скважин;\n",
    "2) Во втором регионе соответствуют `16.74%` скважин;\n",
    "3) В третьем регионе соответствуют `38.16%` скважин.\n"
   ]
  },
  {
   "cell_type": "markdown",
   "metadata": {},
   "source": [
    "## <a id='toc1_4_'></a>Расчёт прибыли и рисков   [](#toc0_)"
   ]
  },
  {
   "cell_type": "markdown",
   "metadata": {},
   "source": [
    "### <a id='toc1_4_1_'></a>Прибыль   [](#toc0_)"
   ]
  },
  {
   "cell_type": "code",
   "execution_count": 21,
   "metadata": {},
   "outputs": [
    {
     "name": "stdout",
     "output_type": "stream",
     "text": [
      "В регионе №1:\n",
      "Количество барралей в выбраных скважинах: 29.6 тыс. Прибыль с выбранных скважин: 3.32 млрд.\n",
      "Максимально возможное количество барралей в регионе: 36.7 тыс. Максимальная прибыль в регионе: 6.51 млрд.\n",
      "Разница: -7.09 тыс. барралей и -3.19 млрд. рублей.\n",
      "****************************************************************************************************\n",
      "В регионе №2:\n",
      "Количество барралей в выбраных скважинах: 27.6 тыс. Прибыль с выбранных скважин: 2.42 млрд.\n",
      "Максимально возможное количество барралей в регионе: 27.6 тыс. Максимальная прибыль в регионе: 2.42 млрд.\n",
      "Разница: 0  барралей и 0  рублей.\n",
      "****************************************************************************************************\n",
      "В регионе №3:\n",
      "Количество барралей в выбраных скважинах: 28.2 тыс. Прибыль с выбранных скважин: 2.71 млрд.\n",
      "Максимально возможное количество барралей в регионе: 37.7 тыс. Максимальная прибыль в регионе: 6.94 млрд.\n",
      "Разница: -9.41 тыс. барралей и -4.23 млрд. рублей.\n",
      "****************************************************************************************************\n"
     ]
    }
   ],
   "source": [
    "for data in oil_well_geo_data.all_oil_well:\n",
    "    data.revenue()\n",
    "    print(f'В регионе №{data.num_of_region}:')\n",
    "    print('Количество барралей в выбраных скважинах: {} Прибыль с выбранных скважин: {}'.format(\n",
    "        data.human_format(data.sum_selected_chosen),\n",
    "        data.human_format(data.max_profit)))\n",
    "    print('Максимально возможное количество барралей в регионе: {} Максимальная прибыль в регионе: {}'.format(\n",
    "        data.human_format(data.sorted_target_sum),\n",
    "        data.human_format(data.max_possible_profit)))\n",
    "    print('Разница: {} барралей и {} рублей.'.format(\n",
    "        data.human_format(data.sum_selected_chosen- data.sorted_target_sum),\n",
    "        data.human_format(data.max_profit- data.max_possible_profit)))\n",
    "    print('*' * 100)"
   ]
  },
  {
   "cell_type": "markdown",
   "metadata": {},
   "source": [
    "### <a id='toc1_4_2_'></a>Вывод   [](#toc0_)\n",
    "\n",
    "1. Максимальное количество барражей в скважинах в регионе №1 - `29.6 тыс.`. При этом данный показатель меньше на `7 тыс.` баррелей, чем максимально возможное количество;\n",
    "2. Минимальная разница в регионе №2.\n",
    "\n",
    "Таким образом, лучшим регионом можно назвать первый регион с максимальной прибылью в `3.32 млрд.`. Оценим риск с помощью техники boostrap."
   ]
  },
  {
   "cell_type": "markdown",
   "metadata": {},
   "source": [
    "Это не прибыль а доход"
   ]
  },
  {
   "cell_type": "markdown",
   "metadata": {},
   "source": [
    "## <a id='toc1_5_'></a>Bootstrap   [](#toc0_)"
   ]
  },
  {
   "cell_type": "code",
   "execution_count": 22,
   "metadata": {
    "scrolled": true
   },
   "outputs": [
    {
     "name": "stdout",
     "output_type": "stream",
     "text": [
      "В регионе №1:\n",
      "Среднее значение выручки: 396 милл.\n",
      "Доверительный интервал 95% для средней выручки лежит между 380 милл. - 413 милл.\n",
      "Возможный убыток варьируется от: -370 милл. до -2.35 милл.\n",
      "Риск убытка составляет : 6.90%\n",
      "****************************************************************************************************\n",
      "В регионе №2:\n",
      "Среднее значение выручки: 456 милл.\n",
      "Доверительный интервал 95% для средней выручки лежит между 443 милл. - 469 милл.\n",
      "Возможный убыток варьируется от: -192 милл. до -6.73 милл.\n",
      "Риск убытка составляет : 1.50%\n",
      "****************************************************************************************************\n",
      "В регионе №3:\n",
      "Среднее значение выручки: 404 милл.\n",
      "Доверительный интервал 95% для средней выручки лежит между 387 милл. - 421 милл.\n",
      "Возможный убыток варьируется от: -418 милл. до -751 тыс.\n",
      "Риск убытка составляет : 7.60%\n",
      "****************************************************************************************************\n"
     ]
    }
   ],
   "source": [
    "for data in oil_well_geo_data.all_oil_well:\n",
    "    data.bootstrap()\n",
    "    print('*' * 100)"
   ]
  },
  {
   "cell_type": "code",
   "execution_count": 23,
   "metadata": {},
   "outputs": [
    {
     "data": {
      "image/png": "[encoded data removed]",
      "text/plain": [
       "<Figure size 432x288 with 1 Axes>"
      ]
     },
     "metadata": {
      "needs_background": "light"
     },
     "output_type": "display_data"
    }
   ],
   "source": [
    "data_1.plot_values()"
   ]
  },
  {
   "cell_type": "code",
   "execution_count": 24,
   "metadata": {},
   "outputs": [
    {
     "data": {
      "image/png": "[encoded data removed]",
      "text/plain": [
       "<Figure size 432x288 with 1 Axes>"
      ]
     },
     "metadata": {
      "needs_background": "light"
     },
     "output_type": "display_data"
    }
   ],
   "source": [
    "data_2.plot_values()"
   ]
  },
  {
   "cell_type": "code",
   "execution_count": 25,
   "metadata": {},
   "outputs": [
    {
     "data": {
      "image/png": "[encoded data removed]",
      "text/plain": [
       "<Figure size 432x288 with 1 Axes>"
      ]
     },
     "metadata": {
      "needs_background": "light"
     },
     "output_type": "display_data"
    }
   ],
   "source": [
    "data_3.plot_values()"
   ]
  },
  {
   "cell_type": "markdown",
   "metadata": {},
   "source": [
    "### <a id='toc1_5_1_'></a>Вывод:   [](#toc0_)\n",
    "\n",
    "Наилучший регион №1 после оценки модели имеет наихудшие результаты после применения техники `Bootstrap`.\n",
    "\n",
    "1. Лучшая средняя выручка у региона №2 - `456 милл.`, на втором месте регион №3 - `404 милл.`, на третьем - `396 милл.`;\n",
    "2. Наилучший диапазон `95%` доверительного интервала у региона №2;\n",
    "3. Риск убытков в регионах:\n",
    "    - Регион №1: от `-370 милл.` - до `-2.35 милл.` с вероятностью в `6.90%`;\n",
    "    - Регион №2: от `-192 милл.` - до `-6.73 милл.` с вероятностью в `1.50%`;\n",
    "    - Регион №3: от `-418 милл.` - до `-751 тыс.` с вероятностью в `7.60%`.\n",
    "\n",
    "Из условия задачи, нам нужен регион с риском < `2.5%`. Таким образом, остаются только один региона: второй.\n",
    "\n",
    "Можно заключить, что второй регион наилучший по параметру риск/прибыль => это наилучший регион для добычи. "
   ]
  },
  {
   "cell_type": "markdown",
   "metadata": {},
   "source": [
    "## <a id='toc1_6_'></a>Вывод   [](#toc0_)\n",
    "\n",
    "##### <a id='toc1_6_1_1_1_'></a>a. Обработка данных   [](#toc0_)\n",
    "Данные представляют собой несколько датасетов, каждый который состоит из нескольких признаков и целевого признака. \n",
    "\n",
    "Три исследуемые нами региона имеют:\n",
    "- Три признака - `f0`,`f1`,`f2`;\n",
    "- Один целевой признак - `product`;\n",
    "- 10000 строк;\n",
    "- Не имеют пропусков и дубликатов.\n",
    "\n",
    "##### <a id='toc1_6_1_1_2_'></a>b. Разделение данных и обучение модели   [](#toc0_)\n",
    "\n",
    "Данные по регионам были распределены на тренировачную и тестовую выборку. Признаки были отскалированы, для прогнозирования была выбрана модель Linear Regression.\n",
    "\n",
    "После обучения модели получились следующие результаты:\n",
    "\n",
    "- Самая маленькая `Root-Mean-Square-Error` наблюдается у модели для второго региона и составляет `0.893`;\n",
    "- Наибольшее количество среднего сырья наблюдается в регионе №3 - `95`, наименьшее - в регионе №2 и составляет `68.7`;\n",
    "- Наблюдается сильный дисбаланс среднего количество сырья между регионами. Так в третьем регионе фактическое среднее количество сырья составило `94.9`, что больше на ~40%, чем среднее количество сырья во втором регионе - `68.7`.\n",
    "\n",
    "##### <a id='toc1_6_1_1_3_'></a>c. Подготовительные расчеты   [](#toc0_)\n",
    "\n",
    "Было рассчитано необходимое среднее количество сырья в скважинах, для достижения точки безубыточности: `111.11` барралей. \n",
    "Количество среднего сырья в скважинах меньше, чем необходимое количество. Соответствие по регионам:\n",
    "\n",
    "-  В первом регионе соответствуют `36.24%` скважин;\n",
    "-  Во втором регионе соответствуют `16.74%` скважин;\n",
    "-  В третьем регионе соответствуют `38.16%` скважин.\n",
    "\n",
    "##### <a id='toc1_6_1_1_4_'></a>d. Работа модели на тестовых данных   [](#toc0_)\n",
    "\n",
    "Обученная модель была протестирована на тестовых данных. Были получены следующие результаты:\n",
    "\n",
    "-  Максимальное количество барражей в скважинах в регионе №1 - `29.6 тыс.`. При этом данный показатель меньше на `7 тыс.` баррелей, чем максимально возможное количество;\n",
    "-  Минимальная разница в регионе №2.\n",
    "\n",
    "Таким образом, лучшим регионом можно назвать первый регион с максимальной прибылью в `3.32 млрд.`.\n",
    "\n",
    "##### <a id='toc1_6_1_1_5_'></a>f. Bootstrap   [](#toc0_)\n",
    "\n",
    "После оценки регионов с помощью техники `Bootstrap` были получены следующие результаты:\n",
    "\n",
    "\n",
    "1. Лучшая средняя выручка у региона №2 - `456 милл.`, на втором месте регион №3 - `404 милл.`, на третьем - `396 милл.`;\n",
    "2. Наилучший диапазон `95%` доверительного интервала у региона №2;\n",
    "3. Риск убытков в регионах:\n",
    "    - Регион №1: от `-370 милл.` - до `-2.35 милл.` с вероятностью в `6.90%`;\n",
    "    - Регион №2: от `-192 милл.` - до `-6.73 милл.` с вероятностью в `1.50%`;\n",
    "    - Регион №3: от `-418 милл.` - до `-751 тыс.` с вероятностью в `7.60%`.\n",
    "\n",
    "Из условия задачи, нам нужен регион с риском < `2.5%`. Таким образом, остается только один регион: второй.\n",
    "\n",
    "Можно заключить, что `второй регион` наилучший по параметру риск/прибыль => это `наилучший регион` для добычи."
   ]
  }
 ],
 "metadata": {
  "ExecuteTimeLog": [
   {
    "duration": 1732,
    "start_time": "2023-05-18T12:37:38.577Z"
   },
   {
    "duration": 30,
    "start_time": "2023-05-18T12:37:40.315Z"
   },
   {
    "duration": 1494,
    "start_time": "2023-05-18T12:37:40.347Z"
   },
   {
    "duration": 86,
    "start_time": "2023-05-18T12:37:41.843Z"
   },
   {
    "duration": 214,
    "start_time": "2023-05-18T12:37:41.931Z"
   },
   {
    "duration": 244,
    "start_time": "2023-05-18T12:37:42.147Z"
   },
   {
    "duration": 103,
    "start_time": "2023-05-18T12:37:42.393Z"
   },
   {
    "duration": 13,
    "start_time": "2023-05-18T12:37:42.498Z"
   },
   {
    "duration": 10,
    "start_time": "2023-05-18T12:37:42.515Z"
   },
   {
    "duration": 9,
    "start_time": "2023-05-18T12:37:42.527Z"
   },
   {
    "duration": 680,
    "start_time": "2023-05-18T12:37:42.537Z"
   },
   {
    "duration": 723,
    "start_time": "2023-05-18T12:37:43.219Z"
   },
   {
    "duration": 659,
    "start_time": "2023-05-18T12:37:43.943Z"
   },
   {
    "duration": 151,
    "start_time": "2023-05-18T12:37:44.605Z"
   },
   {
    "duration": 47,
    "start_time": "2023-05-18T12:37:44.758Z"
   },
   {
    "duration": 376,
    "start_time": "2023-05-18T12:37:44.807Z"
   },
   {
    "duration": 12,
    "start_time": "2023-05-18T12:37:45.198Z"
   },
   {
    "duration": 24,
    "start_time": "2023-05-18T12:37:45.219Z"
   },
   {
    "duration": 90,
    "start_time": "2023-05-18T12:37:45.244Z"
   },
   {
    "duration": 8023,
    "start_time": "2023-05-18T12:37:45.335Z"
   },
   {
    "duration": 255,
    "start_time": "2023-05-18T12:37:53.359Z"
   },
   {
    "duration": 231,
    "start_time": "2023-05-18T12:37:53.616Z"
   },
   {
    "duration": 212,
    "start_time": "2023-05-18T12:37:53.849Z"
   },
   {
    "duration": 124,
    "start_time": "2023-05-18T12:50:14.965Z"
   },
   {
    "duration": 5,
    "start_time": "2023-05-18T12:50:29.663Z"
   },
   {
    "duration": 1594,
    "start_time": "2023-05-18T13:31:10.812Z"
   },
   {
    "duration": 22,
    "start_time": "2023-05-18T13:31:12.408Z"
   },
   {
    "duration": 1614,
    "start_time": "2023-05-18T13:31:12.431Z"
   },
   {
    "duration": 87,
    "start_time": "2023-05-18T13:31:14.047Z"
   },
   {
    "duration": 205,
    "start_time": "2023-05-18T13:31:14.136Z"
   },
   {
    "duration": 212,
    "start_time": "2023-05-18T13:31:14.343Z"
   },
   {
    "duration": 98,
    "start_time": "2023-05-18T13:31:14.556Z"
   },
   {
    "duration": 9,
    "start_time": "2023-05-18T13:31:14.656Z"
   },
   {
    "duration": 26,
    "start_time": "2023-05-18T13:31:14.666Z"
   },
   {
    "duration": 17,
    "start_time": "2023-05-18T13:31:14.699Z"
   },
   {
    "duration": 632,
    "start_time": "2023-05-18T13:31:14.717Z"
   },
   {
    "duration": 853,
    "start_time": "2023-05-18T13:31:15.351Z"
   },
   {
    "duration": 653,
    "start_time": "2023-05-18T13:31:16.211Z"
   },
   {
    "duration": 155,
    "start_time": "2023-05-18T13:31:16.866Z"
   },
   {
    "duration": 25,
    "start_time": "2023-05-18T13:31:17.022Z"
   },
   {
    "duration": 535,
    "start_time": "2023-05-18T13:31:17.049Z"
   },
   {
    "duration": 13,
    "start_time": "2023-05-18T13:31:17.587Z"
   },
   {
    "duration": 44,
    "start_time": "2023-05-18T13:31:17.606Z"
   },
   {
    "duration": 66,
    "start_time": "2023-05-18T13:31:17.652Z"
   },
   {
    "duration": 7628,
    "start_time": "2023-05-18T13:31:17.721Z"
   },
   {
    "duration": 286,
    "start_time": "2023-05-18T13:31:25.351Z"
   },
   {
    "duration": 251,
    "start_time": "2023-05-18T13:31:25.639Z"
   },
   {
    "duration": 220,
    "start_time": "2023-05-18T13:31:25.892Z"
   },
   {
    "duration": 1640,
    "start_time": "2023-05-18T13:32:56.849Z"
   },
   {
    "duration": 36,
    "start_time": "2023-05-18T13:32:58.501Z"
   },
   {
    "duration": 1165,
    "start_time": "2023-05-18T13:32:58.539Z"
   },
   {
    "duration": 101,
    "start_time": "2023-05-18T13:32:59.706Z"
   },
   {
    "duration": 231,
    "start_time": "2023-05-18T13:32:59.809Z"
   },
   {
    "duration": 241,
    "start_time": "2023-05-18T13:33:00.042Z"
   },
   {
    "duration": 98,
    "start_time": "2023-05-18T13:33:00.288Z"
   },
   {
    "duration": 36,
    "start_time": "2023-05-18T13:33:00.389Z"
   },
   {
    "duration": 59,
    "start_time": "2023-05-18T13:33:00.428Z"
   },
   {
    "duration": 50,
    "start_time": "2023-05-18T13:33:00.492Z"
   },
   {
    "duration": 705,
    "start_time": "2023-05-18T13:33:00.545Z"
   },
   {
    "duration": 787,
    "start_time": "2023-05-18T13:33:01.252Z"
   },
   {
    "duration": 716,
    "start_time": "2023-05-18T13:33:02.042Z"
   },
   {
    "duration": 171,
    "start_time": "2023-05-18T13:33:02.762Z"
   },
   {
    "duration": 51,
    "start_time": "2023-05-18T13:33:02.935Z"
   },
   {
    "duration": 420,
    "start_time": "2023-05-18T13:33:02.988Z"
   },
   {
    "duration": 82,
    "start_time": "2023-05-18T13:33:03.414Z"
   },
   {
    "duration": 32,
    "start_time": "2023-05-18T13:33:03.506Z"
   },
   {
    "duration": 140,
    "start_time": "2023-05-18T13:33:03.539Z"
   },
   {
    "duration": 0,
    "start_time": "2023-05-18T13:33:03.682Z"
   },
   {
    "duration": 0,
    "start_time": "2023-05-18T13:33:03.687Z"
   },
   {
    "duration": 0,
    "start_time": "2023-05-18T13:33:03.689Z"
   },
   {
    "duration": 0,
    "start_time": "2023-05-18T13:33:03.690Z"
   },
   {
    "duration": 8768,
    "start_time": "2023-05-18T13:33:14.064Z"
   },
   {
    "duration": 1532,
    "start_time": "2023-05-18T13:36:12.698Z"
   },
   {
    "duration": 21,
    "start_time": "2023-05-18T13:36:14.234Z"
   },
   {
    "duration": 1250,
    "start_time": "2023-05-18T13:36:14.257Z"
   },
   {
    "duration": 105,
    "start_time": "2023-05-18T13:36:15.509Z"
   },
   {
    "duration": 242,
    "start_time": "2023-05-18T13:36:15.616Z"
   },
   {
    "duration": 239,
    "start_time": "2023-05-18T13:36:15.860Z"
   },
   {
    "duration": 109,
    "start_time": "2023-05-18T13:36:16.108Z"
   },
   {
    "duration": 14,
    "start_time": "2023-05-18T13:36:16.219Z"
   },
   {
    "duration": 13,
    "start_time": "2023-05-18T13:36:16.235Z"
   },
   {
    "duration": 29,
    "start_time": "2023-05-18T13:36:16.252Z"
   },
   {
    "duration": 718,
    "start_time": "2023-05-18T13:36:16.283Z"
   },
   {
    "duration": 836,
    "start_time": "2023-05-18T13:36:17.006Z"
   },
   {
    "duration": 670,
    "start_time": "2023-05-18T13:36:17.845Z"
   },
   {
    "duration": 176,
    "start_time": "2023-05-18T13:36:18.517Z"
   },
   {
    "duration": 43,
    "start_time": "2023-05-18T13:36:18.698Z"
   },
   {
    "duration": 362,
    "start_time": "2023-05-18T13:36:18.743Z"
   },
   {
    "duration": 70,
    "start_time": "2023-05-18T13:36:19.117Z"
   },
   {
    "duration": 27,
    "start_time": "2023-05-18T13:36:19.203Z"
   },
   {
    "duration": 50,
    "start_time": "2023-05-18T13:36:19.232Z"
   },
   {
    "duration": 164,
    "start_time": "2023-05-18T13:36:19.290Z"
   },
   {
    "duration": 0,
    "start_time": "2023-05-18T13:36:19.457Z"
   },
   {
    "duration": 0,
    "start_time": "2023-05-18T13:36:19.459Z"
   },
   {
    "duration": 0,
    "start_time": "2023-05-18T13:36:19.461Z"
   },
   {
    "duration": 1488,
    "start_time": "2023-05-18T13:38:27.647Z"
   },
   {
    "duration": 21,
    "start_time": "2023-05-18T13:38:29.137Z"
   },
   {
    "duration": 1155,
    "start_time": "2023-05-18T13:38:29.159Z"
   },
   {
    "duration": 99,
    "start_time": "2023-05-18T13:38:30.316Z"
   },
   {
    "duration": 216,
    "start_time": "2023-05-18T13:38:30.417Z"
   },
   {
    "duration": 235,
    "start_time": "2023-05-18T13:38:30.635Z"
   },
   {
    "duration": 120,
    "start_time": "2023-05-18T13:38:30.878Z"
   },
   {
    "duration": 13,
    "start_time": "2023-05-18T13:38:31.005Z"
   },
   {
    "duration": 28,
    "start_time": "2023-05-18T13:38:31.020Z"
   },
   {
    "duration": 29,
    "start_time": "2023-05-18T13:38:31.052Z"
   },
   {
    "duration": 668,
    "start_time": "2023-05-18T13:38:31.085Z"
   },
   {
    "duration": 768,
    "start_time": "2023-05-18T13:38:31.755Z"
   },
   {
    "duration": 626,
    "start_time": "2023-05-18T13:38:32.524Z"
   },
   {
    "duration": 143,
    "start_time": "2023-05-18T13:38:33.152Z"
   },
   {
    "duration": 28,
    "start_time": "2023-05-18T13:38:33.302Z"
   },
   {
    "duration": 261,
    "start_time": "2023-05-18T13:38:33.332Z"
   },
   {
    "duration": 14,
    "start_time": "2023-05-18T13:38:33.595Z"
   },
   {
    "duration": 90,
    "start_time": "2023-05-18T13:38:33.612Z"
   },
   {
    "duration": 42,
    "start_time": "2023-05-18T13:38:33.704Z"
   },
   {
    "duration": 148,
    "start_time": "2023-05-18T13:38:33.748Z"
   },
   {
    "duration": 0,
    "start_time": "2023-05-18T13:38:33.899Z"
   },
   {
    "duration": 0,
    "start_time": "2023-05-18T13:38:33.900Z"
   },
   {
    "duration": 0,
    "start_time": "2023-05-18T13:38:33.901Z"
   },
   {
    "duration": 1436,
    "start_time": "2023-05-18T13:39:32.408Z"
   },
   {
    "duration": 20,
    "start_time": "2023-05-18T13:39:33.847Z"
   },
   {
    "duration": 1598,
    "start_time": "2023-05-18T13:39:33.869Z"
   },
   {
    "duration": 96,
    "start_time": "2023-05-18T13:39:35.470Z"
   },
   {
    "duration": 254,
    "start_time": "2023-05-18T13:39:35.567Z"
   },
   {
    "duration": 229,
    "start_time": "2023-05-18T13:39:35.822Z"
   },
   {
    "duration": 100,
    "start_time": "2023-05-18T13:39:36.053Z"
   },
   {
    "duration": 10,
    "start_time": "2023-05-18T13:39:36.155Z"
   },
   {
    "duration": 24,
    "start_time": "2023-05-18T13:39:36.178Z"
   },
   {
    "duration": 14,
    "start_time": "2023-05-18T13:39:36.209Z"
   },
   {
    "duration": 694,
    "start_time": "2023-05-18T13:39:36.225Z"
   },
   {
    "duration": 817,
    "start_time": "2023-05-18T13:39:36.921Z"
   },
   {
    "duration": 675,
    "start_time": "2023-05-18T13:39:37.741Z"
   },
   {
    "duration": 153,
    "start_time": "2023-05-18T13:39:38.418Z"
   },
   {
    "duration": 33,
    "start_time": "2023-05-18T13:39:38.573Z"
   },
   {
    "duration": 310,
    "start_time": "2023-05-18T13:39:38.609Z"
   },
   {
    "duration": 13,
    "start_time": "2023-05-18T13:39:38.986Z"
   },
   {
    "duration": 98,
    "start_time": "2023-05-18T13:39:39.008Z"
   },
   {
    "duration": 46,
    "start_time": "2023-05-18T13:39:39.108Z"
   },
   {
    "duration": 8581,
    "start_time": "2023-05-18T13:39:39.156Z"
   },
   {
    "duration": 307,
    "start_time": "2023-05-18T13:39:47.739Z"
   },
   {
    "duration": 272,
    "start_time": "2023-05-18T13:39:48.048Z"
   },
   {
    "duration": 239,
    "start_time": "2023-05-18T13:39:48.322Z"
   },
   {
    "duration": 7,
    "start_time": "2023-05-18T13:53:28.605Z"
   },
   {
    "duration": 159,
    "start_time": "2023-05-18T13:53:39.465Z"
   },
   {
    "duration": 9,
    "start_time": "2023-05-18T13:54:10.920Z"
   },
   {
    "duration": 1508,
    "start_time": "2023-05-18T14:02:00.407Z"
   },
   {
    "duration": 26,
    "start_time": "2023-05-18T14:02:01.918Z"
   },
   {
    "duration": 1523,
    "start_time": "2023-05-18T14:02:01.947Z"
   },
   {
    "duration": 87,
    "start_time": "2023-05-18T14:02:03.472Z"
   },
   {
    "duration": 229,
    "start_time": "2023-05-18T14:02:03.562Z"
   },
   {
    "duration": 222,
    "start_time": "2023-05-18T14:02:03.793Z"
   },
   {
    "duration": 103,
    "start_time": "2023-05-18T14:02:04.016Z"
   },
   {
    "duration": 10,
    "start_time": "2023-05-18T14:02:04.120Z"
   },
   {
    "duration": 10,
    "start_time": "2023-05-18T14:02:04.131Z"
   },
   {
    "duration": 9,
    "start_time": "2023-05-18T14:02:04.142Z"
   },
   {
    "duration": 668,
    "start_time": "2023-05-18T14:02:04.179Z"
   },
   {
    "duration": 799,
    "start_time": "2023-05-18T14:02:04.849Z"
   },
   {
    "duration": 682,
    "start_time": "2023-05-18T14:02:05.650Z"
   },
   {
    "duration": 188,
    "start_time": "2023-05-18T14:02:06.335Z"
   },
   {
    "duration": 27,
    "start_time": "2023-05-18T14:02:06.524Z"
   },
   {
    "duration": 426,
    "start_time": "2023-05-18T14:02:06.552Z"
   },
   {
    "duration": 15,
    "start_time": "2023-05-18T14:02:06.982Z"
   },
   {
    "duration": 112,
    "start_time": "2023-05-18T14:02:07.000Z"
   },
   {
    "duration": 43,
    "start_time": "2023-05-18T14:02:07.116Z"
   },
   {
    "duration": 7775,
    "start_time": "2023-05-18T14:02:07.161Z"
   },
   {
    "duration": 228,
    "start_time": "2023-05-18T14:02:14.938Z"
   },
   {
    "duration": 232,
    "start_time": "2023-05-18T14:02:15.167Z"
   },
   {
    "duration": 250,
    "start_time": "2023-05-18T14:02:15.408Z"
   },
   {
    "duration": 1543,
    "start_time": "2023-05-18T14:05:20.503Z"
   },
   {
    "duration": 20,
    "start_time": "2023-05-18T14:05:22.048Z"
   },
   {
    "duration": 1529,
    "start_time": "2023-05-18T14:05:22.070Z"
   },
   {
    "duration": 79,
    "start_time": "2023-05-18T14:05:23.606Z"
   },
   {
    "duration": 209,
    "start_time": "2023-05-18T14:05:23.692Z"
   },
   {
    "duration": 226,
    "start_time": "2023-05-18T14:05:23.907Z"
   },
   {
    "duration": 100,
    "start_time": "2023-05-18T14:05:24.135Z"
   },
   {
    "duration": 9,
    "start_time": "2023-05-18T14:05:24.236Z"
   },
   {
    "duration": 8,
    "start_time": "2023-05-18T14:05:24.247Z"
   },
   {
    "duration": 41,
    "start_time": "2023-05-18T14:05:24.256Z"
   },
   {
    "duration": 660,
    "start_time": "2023-05-18T14:05:24.306Z"
   },
   {
    "duration": 806,
    "start_time": "2023-05-18T14:05:24.967Z"
   },
   {
    "duration": 685,
    "start_time": "2023-05-18T14:05:25.777Z"
   },
   {
    "duration": 171,
    "start_time": "2023-05-18T14:05:26.465Z"
   },
   {
    "duration": 29,
    "start_time": "2023-05-18T14:05:26.637Z"
   },
   {
    "duration": 467,
    "start_time": "2023-05-18T14:05:26.667Z"
   },
   {
    "duration": 52,
    "start_time": "2023-05-18T14:05:27.136Z"
   },
   {
    "duration": 31,
    "start_time": "2023-05-18T14:05:27.194Z"
   },
   {
    "duration": 65,
    "start_time": "2023-05-18T14:05:27.227Z"
   },
   {
    "duration": 8388,
    "start_time": "2023-05-18T14:05:27.300Z"
   },
   {
    "duration": 280,
    "start_time": "2023-05-18T14:05:35.694Z"
   },
   {
    "duration": 255,
    "start_time": "2023-05-18T14:05:35.975Z"
   },
   {
    "duration": 221,
    "start_time": "2023-05-18T14:05:36.232Z"
   },
   {
    "duration": 5,
    "start_time": "2023-05-18T14:35:26.556Z"
   },
   {
    "duration": 2030,
    "start_time": "2023-05-18T14:35:34.402Z"
   },
   {
    "duration": 44,
    "start_time": "2023-05-18T14:35:38.067Z"
   },
   {
    "duration": 40,
    "start_time": "2023-05-18T14:35:39.299Z"
   },
   {
    "duration": 1739,
    "start_time": "2023-05-18T14:35:40.961Z"
   },
   {
    "duration": 153,
    "start_time": "2023-05-18T14:35:44.446Z"
   },
   {
    "duration": 310,
    "start_time": "2023-05-18T14:35:45.505Z"
   },
   {
    "duration": 273,
    "start_time": "2023-05-18T14:35:46.272Z"
   },
   {
    "duration": 140,
    "start_time": "2023-05-18T14:35:46.650Z"
   },
   {
    "duration": 27,
    "start_time": "2023-05-18T14:35:47.818Z"
   },
   {
    "duration": 25,
    "start_time": "2023-05-18T14:35:48.169Z"
   },
   {
    "duration": 16,
    "start_time": "2023-05-18T14:35:48.569Z"
   },
   {
    "duration": 1681,
    "start_time": "2023-05-18T14:35:49.173Z"
   },
   {
    "duration": 884,
    "start_time": "2023-05-18T14:35:50.857Z"
   },
   {
    "duration": 751,
    "start_time": "2023-05-18T14:35:51.746Z"
   },
   {
    "duration": 214,
    "start_time": "2023-05-18T14:35:52.673Z"
   },
   {
    "duration": 50,
    "start_time": "2023-05-18T14:35:53.610Z"
   },
   {
    "duration": 315,
    "start_time": "2023-05-18T14:35:55.019Z"
   },
   {
    "duration": 5,
    "start_time": "2023-05-18T14:35:56.468Z"
   },
   {
    "duration": 43,
    "start_time": "2023-05-18T14:35:57.504Z"
   },
   {
    "duration": 122,
    "start_time": "2023-05-18T14:35:59.783Z"
   },
   {
    "duration": 262,
    "start_time": "2023-05-18T14:36:11.259Z"
   },
   {
    "duration": 1841,
    "start_time": "2023-05-18T14:36:58.151Z"
   },
   {
    "duration": 53,
    "start_time": "2023-05-18T14:37:00.006Z"
   },
   {
    "duration": 55,
    "start_time": "2023-05-18T14:37:00.068Z"
   },
   {
    "duration": 1726,
    "start_time": "2023-05-18T14:37:01.606Z"
   },
   {
    "duration": 110,
    "start_time": "2023-05-18T14:37:03.350Z"
   },
   {
    "duration": 339,
    "start_time": "2023-05-18T14:37:04.054Z"
   },
   {
    "duration": 281,
    "start_time": "2023-05-18T14:37:04.773Z"
   },
   {
    "duration": 164,
    "start_time": "2023-05-18T14:37:05.274Z"
   },
   {
    "duration": 21,
    "start_time": "2023-05-18T14:37:06.393Z"
   },
   {
    "duration": 13,
    "start_time": "2023-05-18T14:37:06.753Z"
   },
   {
    "duration": 29,
    "start_time": "2023-05-18T14:37:07.113Z"
   },
   {
    "duration": 1043,
    "start_time": "2023-05-18T14:37:07.878Z"
   },
   {
    "duration": 951,
    "start_time": "2023-05-18T14:37:08.936Z"
   },
   {
    "duration": 879,
    "start_time": "2023-05-18T14:37:09.889Z"
   },
   {
    "duration": 199,
    "start_time": "2023-05-18T14:37:11.091Z"
   },
   {
    "duration": 71,
    "start_time": "2023-05-18T14:37:11.860Z"
   },
   {
    "duration": 615,
    "start_time": "2023-05-18T14:37:13.114Z"
   },
   {
    "duration": 8,
    "start_time": "2023-05-18T14:37:14.854Z"
   },
   {
    "duration": 42,
    "start_time": "2023-05-18T14:37:15.706Z"
   },
   {
    "duration": 78,
    "start_time": "2023-05-18T14:37:17.177Z"
   },
   {
    "duration": 12866,
    "start_time": "2023-05-18T14:37:18.525Z"
   },
   {
    "duration": 1600,
    "start_time": "2023-05-18T15:02:30.360Z"
   },
   {
    "duration": 37,
    "start_time": "2023-05-18T15:02:31.963Z"
   },
   {
    "duration": 1456,
    "start_time": "2023-05-18T15:02:32.008Z"
   },
   {
    "duration": 98,
    "start_time": "2023-05-18T15:02:33.466Z"
   },
   {
    "duration": 226,
    "start_time": "2023-05-18T15:02:33.567Z"
   },
   {
    "duration": 218,
    "start_time": "2023-05-18T15:02:33.795Z"
   },
   {
    "duration": 103,
    "start_time": "2023-05-18T15:02:34.016Z"
   },
   {
    "duration": 10,
    "start_time": "2023-05-18T15:02:34.121Z"
   },
   {
    "duration": 9,
    "start_time": "2023-05-18T15:02:34.133Z"
   },
   {
    "duration": 20,
    "start_time": "2023-05-18T15:02:34.144Z"
   },
   {
    "duration": 665,
    "start_time": "2023-05-18T15:02:34.180Z"
   },
   {
    "duration": 850,
    "start_time": "2023-05-18T15:02:34.847Z"
   },
   {
    "duration": 838,
    "start_time": "2023-05-18T15:02:35.702Z"
   },
   {
    "duration": 166,
    "start_time": "2023-05-18T15:02:36.544Z"
   },
   {
    "duration": 32,
    "start_time": "2023-05-18T15:02:36.716Z"
   },
   {
    "duration": 265,
    "start_time": "2023-05-18T15:02:36.750Z"
   },
   {
    "duration": 70,
    "start_time": "2023-05-18T15:02:37.020Z"
   },
   {
    "duration": 36,
    "start_time": "2023-05-18T15:02:37.099Z"
   },
   {
    "duration": 95,
    "start_time": "2023-05-18T15:02:37.137Z"
   },
   {
    "duration": 10739,
    "start_time": "2023-05-18T15:02:37.233Z"
   },
   {
    "duration": 270,
    "start_time": "2023-05-18T15:02:47.974Z"
   },
   {
    "duration": 256,
    "start_time": "2023-05-18T15:02:48.246Z"
   },
   {
    "duration": 218,
    "start_time": "2023-05-18T15:02:48.508Z"
   },
   {
    "duration": 1591,
    "start_time": "2023-05-18T19:31:03.050Z"
   },
   {
    "duration": 20,
    "start_time": "2023-05-18T19:31:04.643Z"
   },
   {
    "duration": 1400,
    "start_time": "2023-05-18T19:31:04.665Z"
   },
   {
    "duration": 81,
    "start_time": "2023-05-18T19:31:06.067Z"
   },
   {
    "duration": 178,
    "start_time": "2023-05-18T19:31:06.150Z"
   },
   {
    "duration": 190,
    "start_time": "2023-05-18T19:31:06.330Z"
   },
   {
    "duration": 101,
    "start_time": "2023-05-18T19:31:06.525Z"
   },
   {
    "duration": 114,
    "start_time": "2023-05-18T19:31:06.629Z"
   },
   {
    "duration": 10,
    "start_time": "2023-05-18T19:31:06.745Z"
   },
   {
    "duration": 12,
    "start_time": "2023-05-18T19:31:06.757Z"
   },
   {
    "duration": 31,
    "start_time": "2023-05-18T19:31:06.771Z"
   },
   {
    "duration": 29,
    "start_time": "2023-05-18T19:31:06.804Z"
   },
   {
    "duration": 135,
    "start_time": "2023-05-18T19:31:06.835Z"
   },
   {
    "duration": 0,
    "start_time": "2023-05-18T19:31:06.972Z"
   },
   {
    "duration": 0,
    "start_time": "2023-05-18T19:31:06.973Z"
   },
   {
    "duration": 0,
    "start_time": "2023-05-18T19:31:06.974Z"
   },
   {
    "duration": 0,
    "start_time": "2023-05-18T19:31:06.975Z"
   },
   {
    "duration": 0,
    "start_time": "2023-05-18T19:31:06.976Z"
   },
   {
    "duration": 0,
    "start_time": "2023-05-18T19:31:06.977Z"
   },
   {
    "duration": 0,
    "start_time": "2023-05-18T19:31:06.978Z"
   },
   {
    "duration": 0,
    "start_time": "2023-05-18T19:31:06.980Z"
   },
   {
    "duration": 0,
    "start_time": "2023-05-18T19:31:06.981Z"
   },
   {
    "duration": 0,
    "start_time": "2023-05-18T19:31:06.982Z"
   },
   {
    "duration": 0,
    "start_time": "2023-05-18T19:31:06.983Z"
   },
   {
    "duration": 0,
    "start_time": "2023-05-18T19:31:07.011Z"
   },
   {
    "duration": 0,
    "start_time": "2023-05-18T19:31:07.011Z"
   },
   {
    "duration": 1366,
    "start_time": "2023-05-18T19:33:20.201Z"
   },
   {
    "duration": 19,
    "start_time": "2023-05-18T19:33:21.569Z"
   },
   {
    "duration": 1076,
    "start_time": "2023-05-18T19:33:21.590Z"
   },
   {
    "duration": 75,
    "start_time": "2023-05-18T19:33:22.668Z"
   },
   {
    "duration": 190,
    "start_time": "2023-05-18T19:33:22.744Z"
   },
   {
    "duration": 151,
    "start_time": "2023-05-18T19:33:22.936Z"
   },
   {
    "duration": 84,
    "start_time": "2023-05-18T19:33:23.089Z"
   },
   {
    "duration": 108,
    "start_time": "2023-05-18T19:33:23.175Z"
   },
   {
    "duration": 18,
    "start_time": "2023-05-18T19:33:23.285Z"
   },
   {
    "duration": 40,
    "start_time": "2023-05-18T19:33:23.305Z"
   },
   {
    "duration": 10,
    "start_time": "2023-05-18T19:33:23.346Z"
   },
   {
    "duration": 8,
    "start_time": "2023-05-18T19:33:23.358Z"
   },
   {
    "duration": 611,
    "start_time": "2023-05-18T19:33:23.367Z"
   },
   {
    "duration": 670,
    "start_time": "2023-05-18T19:33:23.980Z"
   },
   {
    "duration": 610,
    "start_time": "2023-05-18T19:33:24.652Z"
   },
   {
    "duration": 95,
    "start_time": "2023-05-18T19:33:25.263Z"
   },
   {
    "duration": 22,
    "start_time": "2023-05-18T19:33:25.359Z"
   },
   {
    "duration": 323,
    "start_time": "2023-05-18T19:33:25.406Z"
   },
   {
    "duration": 6,
    "start_time": "2023-05-18T19:33:25.796Z"
   },
   {
    "duration": 46,
    "start_time": "2023-05-18T19:33:25.803Z"
   },
   {
    "duration": 35,
    "start_time": "2023-05-18T19:33:25.850Z"
   },
   {
    "duration": 7278,
    "start_time": "2023-05-18T19:33:25.886Z"
   },
   {
    "duration": 212,
    "start_time": "2023-05-18T19:33:33.165Z"
   },
   {
    "duration": 222,
    "start_time": "2023-05-18T19:33:33.378Z"
   },
   {
    "duration": 198,
    "start_time": "2023-05-18T19:33:33.602Z"
   }
  ],
  "kernelspec": {
   "display_name": "Python 3 (ipykernel)",
   "language": "python",
   "name": "python3"
  },
  "language_info": {
   "codemirror_mode": {
    "name": "ipython",
    "version": 3
   },
   "file_extension": ".py",
   "mimetype": "text/x-python",
   "name": "python",
   "nbconvert_exporter": "python",
   "pygments_lexer": "ipython3",
   "version": "3.9.5"
  },
  "toc": {
   "base_numbering": 1,
   "nav_menu": {},
   "number_sections": true,
   "sideBar": true,
   "skip_h1_title": true,
   "title_cell": "Table of Contents",
   "title_sidebar": "Contents",
   "toc_cell": false,
   "toc_position": {},
   "toc_section_display": true,
   "toc_window_display": true
  },
  "vscode": {
   "interpreter": {
    "hash": "0f722720931fbd7bac8fa92a0efaafb415e0b529bea29341344773e6eccc6c21"
   }
  }
 },
 "nbformat": 4,
 "nbformat_minor": 2
}
