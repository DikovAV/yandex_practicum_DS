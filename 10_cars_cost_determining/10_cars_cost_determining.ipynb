{
 "cells": [
  {
   "cell_type": "markdown",
   "metadata": {},
   "source": [
    "# Определение стоимости автомобилей"
   ]
  },
  {
   "cell_type": "markdown",
   "metadata": {},
   "source": [
    "Сервис по продаже автомобилей с пробегом «Не бит, не крашен» разрабатывает приложение для привлечения новых клиентов. В нём можно быстро узнать рыночную стоимость своего автомобиля. В вашем распоряжении исторические данные: технические характеристики, комплектации и цены автомобилей. Вам нужно построить модель для определения стоимости. \n",
    "\n",
    "Заказчику важны:\n",
    "\n",
    "- качество предсказания;\n",
    "- скорость предсказания;\n",
    "- время обучения.\n",
    "\n",
    "# Описание данных\n",
    "\n",
    "Признаки:\n",
    "\n",
    "- DateCrawled — дата скачивания анкеты из базы\n",
    "- VehicleType — тип автомобильного кузова\n",
    "- RegistrationYear — год регистрации автомобиля\n",
    "- Gearbox — тип коробки передач\n",
    "- Power — мощность (л. с.)\n",
    "- Model — модель автомобиля\n",
    "- Kilometer — пробег (км)\n",
    "- RegistrationMonth — месяц регистрации автомобиля\n",
    "- FuelType — тип топлива\n",
    "- Brand — марка автомобиля\n",
    "- NotRepaired — была машина в ремонте или нет\n",
    "- DateCreated — дата создания анкеты\n",
    "- NumberOfPictures — количество фотографий автомобиля\n",
    "- PostalCode — почтовый индекс владельца анкеты (пользователя)\n",
    "- LastSeen — дата последней активности пользователя\n",
    "\n",
    "Целевой признак:\n",
    "\n",
    "- Price — цена (евро)"
   ]
  },
  {
   "cell_type": "markdown",
   "metadata": {},
   "source": [
    "## Подготовка данных"
   ]
  },
  {
   "cell_type": "code",
   "execution_count": 2,
   "metadata": {},
   "outputs": [
    {
     "name": "stderr",
     "output_type": "stream",
     "text": [
      "/Applications/anaconda3/envs/Back_tester/lib/python3.10/site-packages/scipy/__init__.py:155: UserWarning: A NumPy version >=1.18.5 and <1.25.0 is required for this version of SciPy (detected version 1.25.0\n",
      "  warnings.warn(f\"A NumPy version >={np_minversion} and <{np_maxversion}\"\n"
     ]
    }
   ],
   "source": [
    "import pandas as pd\n",
    "import matplotlib.pyplot as plt\n",
    "import seaborn as sns\n",
    "from scipy import stats as st\n",
    "%matplotlib inline\n",
    "\n",
    "from sklearn.metrics import mean_squared_error\n",
    "from sklearn.metrics import make_scorer\n",
    "from sklearn.pipeline import make_pipeline\n",
    "from sklearn.pipeline import Pipeline\n",
    "\n",
    "\n",
    "from sklearn.preprocessing import StandardScaler\n",
    "from sklearn.model_selection import GridSearchCV\n",
    "from sklearn.preprocessing import OneHotEncoder\n",
    "from sklearn.compose import ColumnTransformer\n",
    "from sklearn.model_selection import train_test_split, GridSearchCV\n",
    "from sklearn.preprocessing import OrdinalEncoder\n",
    "\n",
    "from sklearn.tree import DecisionTreeRegressor\n",
    "\n",
    "from catboost import CatBoostRegressor \n",
    "from lightgbm import LGBMRegressor\n",
    "\n",
    "\n",
    "#from gensim.models import Word2Vec\n",
    "#import gensim.downloader\n",
    "\n",
    "import category_encoders as ce\n",
    "import timeit\n",
    "import time"
   ]
  },
  {
   "cell_type": "code",
   "execution_count": 3,
   "metadata": {},
   "outputs": [],
   "source": [
    "class car_appraisal():\n",
    "    \n",
    "    \n",
    "    ### Создание экземпляра класса\n",
    "    def __init__(self, df):\n",
    "        self.data = df\n",
    "        self.models_dict = {}\n",
    "    \n",
    "    @classmethod\n",
    "    def instance_from_link(cls,link):\n",
    "        return car_appraisal(\n",
    "            df=pd.read_csv(link,header=0)\n",
    "        )\n",
    "        \n",
    "    ### Обработка данных\n",
    "    \n",
    "    def check_duplicated(self):\n",
    "        print(f'Количество дубликатов: {self.data.duplicated().sum()}')\n",
    "\n",
    "    def check_misses(self):\n",
    "        misses = pd.DataFrame(self.data.isna().sum().sort_values(ascending=False), columns=['misses'])\n",
    "        misses['per'] = self.data.isna().mean().sort_values(ascending=False).apply(lambda x : '{:.2%}'.format(x))\n",
    "        misses = misses.loc[misses['misses'] > 0]\n",
    "        if misses.shape[0] > 0:\n",
    "            return misses\n",
    "        else:\n",
    "            print('Пропусков в данных нет')\n",
    "            \n",
    "    ### plot\n",
    "    \n",
    "    def plot_hist(self, features=None, left_val = 0.05, right_val = 0.95, quantile_clac=True):\n",
    "        assert features!=None, 'Не выбран столбец с данными'\n",
    "        assert features in self.data.columns, f'Выбран неверный столбец с данными: {features}'\n",
    "        \n",
    "        if quantile_clac:\n",
    "            left_val = self.data[features].quantile(left_val)\n",
    "            right_val = self.data[features].quantile(right_val)\n",
    "            \n",
    "        \n",
    "        fig = plt.figure(figsize=(12,8))\n",
    "        ax1 = fig.add_subplot(211)\n",
    "        ax1.set_title(f'Гистограмма распределения {features}')\n",
    "        sns.histplot(self.data[features], color='blue')\n",
    "        ax2 = fig.add_subplot(223)\n",
    "        ax2.set_title(f'Левый хвост ')\n",
    "        sns.histplot(self.data[features].loc[self.data[features] < left_val], color='blue')\n",
    "        ax3 = fig.add_subplot(224)\n",
    "        ax3.set_title(f'Правый хвост')\n",
    "        sns.histplot(self.data[features].loc[self.data[features] > right_val], color='blue')\n",
    "        plt.show()\n",
    "        \n",
    "    ### ML\n",
    "    \n",
    "    def features_target_splitter(self):\n",
    "        self.features = self.data.drop(columns=['Price'])\n",
    "        self.target = self.data['Price']\n",
    "        \n",
    "    def train_test_splitter(self):\n",
    "        self.features_train, self.features_test, self.target_train, self.target_test = train_test_split(self.features,\n",
    "                                                                            self.target, \n",
    "                                                                            test_size=.25,\n",
    "                                                                            random_state=12345)\n",
    "        \n",
    "    def OHE_count(self):\n",
    "        \n",
    "        cat_cols = self.features.select_dtypes(include=[\"object\"]).columns.tolist()\n",
    "        num_cols = self.features.select_dtypes(exclude=[\"object\"]).columns.tolist()\n",
    "        \n",
    "        cat_preprocessing_ohe = make_pipeline(\n",
    "            OneHotEncoder(handle_unknown=\"ignore\", sparse=False),\n",
    "        )\n",
    "        \n",
    "        num_preprocessing = make_pipeline(StandardScaler())\n",
    "        \n",
    "        preprocessing_ohe = ColumnTransformer(\n",
    "            [(\"num\", num_preprocessing, num_cols), (\"cat\", cat_preprocessing_ohe, cat_cols)]\n",
    "        )\n",
    "        self.features_train_OHE = preprocessing_ohe.fit_transform(self.features_train)\n",
    "\n",
    "        #print('Количество колонок при использовании только OHE: {}'.format(len(features_train_OHE.columns)))\n",
    "        \n",
    "    def OHE_ME_endcoding(self):\n",
    "        self.features_train_encoded = self.features_train\n",
    "        self.features_test_encoded = self.features_test\n",
    "\n",
    "        cat_cols = list(set(self.features_test_encoded.select_dtypes(include=[\"object\"]).columns) - set(['Brand','Model']))\n",
    "        nom_cols = ['Brand','Model']\n",
    "        num_cols = self.features_test_encoded.select_dtypes(exclude=[\"object\"]).columns.tolist()\n",
    "\n",
    "        cat_preprocessing_ohe = make_pipeline(\n",
    "            OneHotEncoder(handle_unknown=\"ignore\", sparse=False),\n",
    "        )\n",
    "        \n",
    "        num_preprocessing = make_pipeline(StandardScaler())\n",
    "\n",
    "        nom_preprocessing = make_pipeline(ce.m_estimate.MEstimateEncoder())\n",
    "\n",
    "        preprocessing_full = ColumnTransformer(\n",
    "            [(\"num\", num_preprocessing, num_cols), (\"cat\", cat_preprocessing_ohe, cat_cols), ('nom',nom_preprocessing, nom_cols)]\n",
    "        )\n",
    "\n",
    "        self.features_train_encoded = preprocessing_full.fit_transform(self.features_train_encoded, self.target_train)\n",
    "        self.features_test_encoded = preprocessing_full.transform(self.features_test_encoded)\n",
    "\n",
    "\n",
    "    @staticmethod\n",
    "    def __rmse(target,predict):\n",
    "        return mean_squared_error(target,predict, squared=False)\n",
    "    \n",
    "    @staticmethod\n",
    "    def features_cat_cast(features):\n",
    "        cat_features_val = features.select_dtypes(include=[\"object\"]).columns.tolist()\n",
    "        for feature in cat_features_val:\n",
    "            features[feature] = pd.Series(features[feature], dtype=\"category\")\n",
    "        return features\n",
    "\n",
    "    def LGBM(self):\n",
    "\n",
    "        start_time = time.time()\n",
    "\n",
    "        cat_features_val = self.features_train.select_dtypes(include=[\"object\"]).columns.tolist()\n",
    "        model = LGBMRegressor(random_state=1235)\n",
    "\n",
    "        score = make_scorer(car_appraisal.__rmse, greater_is_better=False)\n",
    "\n",
    "        param_grid = {\n",
    "            'n_estimators' : [50, 100],\n",
    "            'max_depth' : [7, 10],\n",
    "        }\n",
    "\n",
    "        self.LGBM_result = GridSearchCV(\n",
    "            estimator=model,\n",
    "            param_grid=param_grid,\n",
    "            cv=3,\n",
    "            verbose=5,\n",
    "            scoring=score,\n",
    "            return_train_score=True,\n",
    "        )\n",
    "        for feature in cat_features_val:\n",
    "            self.features_train[feature] = pd.Series(self.features_train[feature], dtype=\"category\")\n",
    "\n",
    "        self.LGBM_result.fit(self.features_train, self.target_train)\n",
    "\n",
    "        self.models_dict['LGBM'] = {'time' : time.time() - start_time}\n",
    "        self.models_dict['LGBM']['score'] = self.LGBM_result.best_score_ * (-1)\n",
    "\n",
    "    def Catboost(self):\n",
    "\n",
    "        start_time = time.time()\n",
    "        \n",
    "        cat_features_val = self.features.select_dtypes(include=[\"object\"]).columns.tolist()\n",
    "        model = CatBoostRegressor(random_state=12345,cat_features=cat_features_val, silent=True)\n",
    "        \n",
    "        param_grid = {\n",
    "            'n_estimators' : [50, 100],\n",
    "            'max_depth' : [7, 10],\n",
    "        }\n",
    "        \n",
    "        \n",
    "        score = make_scorer(car_appraisal.__rmse, greater_is_better=False)\n",
    "        \n",
    "        self.CatBoostRegressor_result = GridSearchCV(\n",
    "            estimator=model,\n",
    "            param_grid=param_grid,\n",
    "            cv=5,\n",
    "            verbose=5,\n",
    "            scoring=score,\n",
    "            return_train_score=True,\n",
    "        )\n",
    "\n",
    "\n",
    "        self.CatBoostRegressor_result.fit(self.features_train, self.target_train)\n",
    "\n",
    "        self.models_dict['Catboost'] = {'time' : time.time() - start_time}\n",
    "        self.models_dict['Catboost']['score'] = self.CatBoostRegressor_result.best_score_ * (-1)\n",
    "        \n",
    "    def DecisionTree_regressor(self):\n",
    "\n",
    "        start_time = time.time()\n",
    "\n",
    "        model = DecisionTreeRegressor()\n",
    "        \n",
    "        score = make_scorer(car_appraisal.__rmse, greater_is_better=False)\n",
    "\n",
    "        param_grid = {\n",
    "            'max_depth' : [10, 15,25],\n",
    "        }\n",
    "\n",
    "        self.DecisionTreeRegressor_result = GridSearchCV(\n",
    "            estimator=model,\n",
    "            param_grid=param_grid,\n",
    "            cv=3,\n",
    "            verbose=5,\n",
    "            scoring=score,\n",
    "            return_train_score=True\n",
    "        )\n",
    "\n",
    "        self.DecisionTreeRegressor_result.fit(self.features_train_encoded, self.target_train)\n",
    "\n",
    "        \n",
    "        self.models_dict['DecisionTree'] = {'time' : time.time() - start_time}\n",
    "        self.models_dict['DecisionTree']['score'] = self.DecisionTreeRegressor_result.best_score_ * (-1)\n",
    "    \n",
    "        "
   ]
  },
  {
   "cell_type": "code",
   "execution_count": 4,
   "metadata": {},
   "outputs": [],
   "source": [
    "try:\n",
    "    auto_data = car_appraisal.instance_from_link(r'/Users/Desktop/practicum/math_2/autos.csv')\n",
    "except:\n",
    "    auto_data = car_appraisal.instance_from_link(r'https://code.s3.yandex.net/datasets/autos.csv')"
   ]
  },
  {
   "cell_type": "code",
   "execution_count": 5,
   "metadata": {},
   "outputs": [
    {
     "data": {
      "text/html": [
       "<div>\n",
       "<style scoped>\n",
       "    .dataframe tbody tr th:only-of-type {\n",
       "        vertical-align: middle;\n",
       "    }\n",
       "\n",
       "    .dataframe tbody tr th {\n",
       "        vertical-align: top;\n",
       "    }\n",
       "\n",
       "    .dataframe thead th {\n",
       "        text-align: right;\n",
       "    }\n",
       "</style>\n",
       "<table border=\"1\" class=\"dataframe\">\n",
       "  <thead>\n",
       "    <tr style=\"text-align: right;\">\n",
       "      <th></th>\n",
       "      <th>DateCrawled</th>\n",
       "      <th>Price</th>\n",
       "      <th>VehicleType</th>\n",
       "      <th>RegistrationYear</th>\n",
       "      <th>Gearbox</th>\n",
       "      <th>Power</th>\n",
       "      <th>Model</th>\n",
       "      <th>Kilometer</th>\n",
       "      <th>RegistrationMonth</th>\n",
       "      <th>FuelType</th>\n",
       "      <th>Brand</th>\n",
       "      <th>Repaired</th>\n",
       "      <th>DateCreated</th>\n",
       "      <th>NumberOfPictures</th>\n",
       "      <th>PostalCode</th>\n",
       "      <th>LastSeen</th>\n",
       "    </tr>\n",
       "  </thead>\n",
       "  <tbody>\n",
       "    <tr>\n",
       "      <th>0</th>\n",
       "      <td>2016-03-24 11:52:17</td>\n",
       "      <td>480</td>\n",
       "      <td>NaN</td>\n",
       "      <td>1993</td>\n",
       "      <td>manual</td>\n",
       "      <td>0</td>\n",
       "      <td>golf</td>\n",
       "      <td>150000</td>\n",
       "      <td>0</td>\n",
       "      <td>petrol</td>\n",
       "      <td>volkswagen</td>\n",
       "      <td>NaN</td>\n",
       "      <td>2016-03-24 00:00:00</td>\n",
       "      <td>0</td>\n",
       "      <td>70435</td>\n",
       "      <td>2016-04-07 03:16:57</td>\n",
       "    </tr>\n",
       "    <tr>\n",
       "      <th>1</th>\n",
       "      <td>2016-03-24 10:58:45</td>\n",
       "      <td>18300</td>\n",
       "      <td>coupe</td>\n",
       "      <td>2011</td>\n",
       "      <td>manual</td>\n",
       "      <td>190</td>\n",
       "      <td>NaN</td>\n",
       "      <td>125000</td>\n",
       "      <td>5</td>\n",
       "      <td>gasoline</td>\n",
       "      <td>audi</td>\n",
       "      <td>yes</td>\n",
       "      <td>2016-03-24 00:00:00</td>\n",
       "      <td>0</td>\n",
       "      <td>66954</td>\n",
       "      <td>2016-04-07 01:46:50</td>\n",
       "    </tr>\n",
       "    <tr>\n",
       "      <th>2</th>\n",
       "      <td>2016-03-14 12:52:21</td>\n",
       "      <td>9800</td>\n",
       "      <td>suv</td>\n",
       "      <td>2004</td>\n",
       "      <td>auto</td>\n",
       "      <td>163</td>\n",
       "      <td>grand</td>\n",
       "      <td>125000</td>\n",
       "      <td>8</td>\n",
       "      <td>gasoline</td>\n",
       "      <td>jeep</td>\n",
       "      <td>NaN</td>\n",
       "      <td>2016-03-14 00:00:00</td>\n",
       "      <td>0</td>\n",
       "      <td>90480</td>\n",
       "      <td>2016-04-05 12:47:46</td>\n",
       "    </tr>\n",
       "    <tr>\n",
       "      <th>3</th>\n",
       "      <td>2016-03-17 16:54:04</td>\n",
       "      <td>1500</td>\n",
       "      <td>small</td>\n",
       "      <td>2001</td>\n",
       "      <td>manual</td>\n",
       "      <td>75</td>\n",
       "      <td>golf</td>\n",
       "      <td>150000</td>\n",
       "      <td>6</td>\n",
       "      <td>petrol</td>\n",
       "      <td>volkswagen</td>\n",
       "      <td>no</td>\n",
       "      <td>2016-03-17 00:00:00</td>\n",
       "      <td>0</td>\n",
       "      <td>91074</td>\n",
       "      <td>2016-03-17 17:40:17</td>\n",
       "    </tr>\n",
       "    <tr>\n",
       "      <th>4</th>\n",
       "      <td>2016-03-31 17:25:20</td>\n",
       "      <td>3600</td>\n",
       "      <td>small</td>\n",
       "      <td>2008</td>\n",
       "      <td>manual</td>\n",
       "      <td>69</td>\n",
       "      <td>fabia</td>\n",
       "      <td>90000</td>\n",
       "      <td>7</td>\n",
       "      <td>gasoline</td>\n",
       "      <td>skoda</td>\n",
       "      <td>no</td>\n",
       "      <td>2016-03-31 00:00:00</td>\n",
       "      <td>0</td>\n",
       "      <td>60437</td>\n",
       "      <td>2016-04-06 10:17:21</td>\n",
       "    </tr>\n",
       "    <tr>\n",
       "      <th>5</th>\n",
       "      <td>2016-04-04 17:36:23</td>\n",
       "      <td>650</td>\n",
       "      <td>sedan</td>\n",
       "      <td>1995</td>\n",
       "      <td>manual</td>\n",
       "      <td>102</td>\n",
       "      <td>3er</td>\n",
       "      <td>150000</td>\n",
       "      <td>10</td>\n",
       "      <td>petrol</td>\n",
       "      <td>bmw</td>\n",
       "      <td>yes</td>\n",
       "      <td>2016-04-04 00:00:00</td>\n",
       "      <td>0</td>\n",
       "      <td>33775</td>\n",
       "      <td>2016-04-06 19:17:07</td>\n",
       "    </tr>\n",
       "    <tr>\n",
       "      <th>6</th>\n",
       "      <td>2016-04-01 20:48:51</td>\n",
       "      <td>2200</td>\n",
       "      <td>convertible</td>\n",
       "      <td>2004</td>\n",
       "      <td>manual</td>\n",
       "      <td>109</td>\n",
       "      <td>2_reihe</td>\n",
       "      <td>150000</td>\n",
       "      <td>8</td>\n",
       "      <td>petrol</td>\n",
       "      <td>peugeot</td>\n",
       "      <td>no</td>\n",
       "      <td>2016-04-01 00:00:00</td>\n",
       "      <td>0</td>\n",
       "      <td>67112</td>\n",
       "      <td>2016-04-05 18:18:39</td>\n",
       "    </tr>\n",
       "    <tr>\n",
       "      <th>7</th>\n",
       "      <td>2016-03-21 18:54:38</td>\n",
       "      <td>0</td>\n",
       "      <td>sedan</td>\n",
       "      <td>1980</td>\n",
       "      <td>manual</td>\n",
       "      <td>50</td>\n",
       "      <td>other</td>\n",
       "      <td>40000</td>\n",
       "      <td>7</td>\n",
       "      <td>petrol</td>\n",
       "      <td>volkswagen</td>\n",
       "      <td>no</td>\n",
       "      <td>2016-03-21 00:00:00</td>\n",
       "      <td>0</td>\n",
       "      <td>19348</td>\n",
       "      <td>2016-03-25 16:47:58</td>\n",
       "    </tr>\n",
       "    <tr>\n",
       "      <th>8</th>\n",
       "      <td>2016-04-04 23:42:13</td>\n",
       "      <td>14500</td>\n",
       "      <td>bus</td>\n",
       "      <td>2014</td>\n",
       "      <td>manual</td>\n",
       "      <td>125</td>\n",
       "      <td>c_max</td>\n",
       "      <td>30000</td>\n",
       "      <td>8</td>\n",
       "      <td>petrol</td>\n",
       "      <td>ford</td>\n",
       "      <td>NaN</td>\n",
       "      <td>2016-04-04 00:00:00</td>\n",
       "      <td>0</td>\n",
       "      <td>94505</td>\n",
       "      <td>2016-04-04 23:42:13</td>\n",
       "    </tr>\n",
       "    <tr>\n",
       "      <th>9</th>\n",
       "      <td>2016-03-17 10:53:50</td>\n",
       "      <td>999</td>\n",
       "      <td>small</td>\n",
       "      <td>1998</td>\n",
       "      <td>manual</td>\n",
       "      <td>101</td>\n",
       "      <td>golf</td>\n",
       "      <td>150000</td>\n",
       "      <td>0</td>\n",
       "      <td>NaN</td>\n",
       "      <td>volkswagen</td>\n",
       "      <td>NaN</td>\n",
       "      <td>2016-03-17 00:00:00</td>\n",
       "      <td>0</td>\n",
       "      <td>27472</td>\n",
       "      <td>2016-03-31 17:17:06</td>\n",
       "    </tr>\n",
       "  </tbody>\n",
       "</table>\n",
       "</div>"
      ],
      "text/plain": [
       "           DateCrawled  Price  VehicleType  RegistrationYear Gearbox  Power  \\\n",
       "0  2016-03-24 11:52:17    480          NaN              1993  manual      0   \n",
       "1  2016-03-24 10:58:45  18300        coupe              2011  manual    190   \n",
       "2  2016-03-14 12:52:21   9800          suv              2004    auto    163   \n",
       "3  2016-03-17 16:54:04   1500        small              2001  manual     75   \n",
       "4  2016-03-31 17:25:20   3600        small              2008  manual     69   \n",
       "5  2016-04-04 17:36:23    650        sedan              1995  manual    102   \n",
       "6  2016-04-01 20:48:51   2200  convertible              2004  manual    109   \n",
       "7  2016-03-21 18:54:38      0        sedan              1980  manual     50   \n",
       "8  2016-04-04 23:42:13  14500          bus              2014  manual    125   \n",
       "9  2016-03-17 10:53:50    999        small              1998  manual    101   \n",
       "\n",
       "     Model  Kilometer  RegistrationMonth  FuelType       Brand Repaired  \\\n",
       "0     golf     150000                  0    petrol  volkswagen      NaN   \n",
       "1      NaN     125000                  5  gasoline        audi      yes   \n",
       "2    grand     125000                  8  gasoline        jeep      NaN   \n",
       "3     golf     150000                  6    petrol  volkswagen       no   \n",
       "4    fabia      90000                  7  gasoline       skoda       no   \n",
       "5      3er     150000                 10    petrol         bmw      yes   \n",
       "6  2_reihe     150000                  8    petrol     peugeot       no   \n",
       "7    other      40000                  7    petrol  volkswagen       no   \n",
       "8    c_max      30000                  8    petrol        ford      NaN   \n",
       "9     golf     150000                  0       NaN  volkswagen      NaN   \n",
       "\n",
       "           DateCreated  NumberOfPictures  PostalCode             LastSeen  \n",
       "0  2016-03-24 00:00:00                 0       70435  2016-04-07 03:16:57  \n",
       "1  2016-03-24 00:00:00                 0       66954  2016-04-07 01:46:50  \n",
       "2  2016-03-14 00:00:00                 0       90480  2016-04-05 12:47:46  \n",
       "3  2016-03-17 00:00:00                 0       91074  2016-03-17 17:40:17  \n",
       "4  2016-03-31 00:00:00                 0       60437  2016-04-06 10:17:21  \n",
       "5  2016-04-04 00:00:00                 0       33775  2016-04-06 19:17:07  \n",
       "6  2016-04-01 00:00:00                 0       67112  2016-04-05 18:18:39  \n",
       "7  2016-03-21 00:00:00                 0       19348  2016-03-25 16:47:58  \n",
       "8  2016-04-04 00:00:00                 0       94505  2016-04-04 23:42:13  \n",
       "9  2016-03-17 00:00:00                 0       27472  2016-03-31 17:17:06  "
      ]
     },
     "execution_count": 5,
     "metadata": {},
     "output_type": "execute_result"
    }
   ],
   "source": [
    "auto_data.data.head(10)"
   ]
  },
  {
   "cell_type": "markdown",
   "metadata": {},
   "source": [
    "Признаки\n",
    "\n",
    "- DateCrawled — дата скачивания анкеты из базы\n",
    "- VehicleType — тип автомобильного кузова\n",
    "- RegistrationYear — год регистрации автомобиля\n",
    "- Gearbox — тип коробки передач\n",
    "- Power — мощность (л. с.)\n",
    "- Model — модель автомобиля\n",
    "- Kilometer — пробег (км)\n",
    "- RegistrationMonth — месяц регистрации автомобиля\n",
    "- FuelType — тип топлива\n",
    "- Brand — марка автомобиля\n",
    "- Repaired — была машина в ремонте или нет\n",
    "- DateCreated — дата создания анкеты\n",
    "- NumberOfPictures — количество фотографий автомобиля\n",
    "- PostalCode — почтовый индекс владельца анкеты (пользователя)\n",
    "- LastSeen — дата последней активности пользователя\n",
    "\n",
    "\n",
    "Целевой признак\n",
    "\n",
    "- Price — цена (евро)"
   ]
  },
  {
   "cell_type": "code",
   "execution_count": 6,
   "metadata": {},
   "outputs": [
    {
     "data": {
      "image/png": "[encoded data removed]",
      "text/plain": [
       "<Figure size 1500x1200 with 9 Axes>"
      ]
     },
     "metadata": {},
     "output_type": "display_data"
    }
   ],
   "source": [
    "auto_data.data.hist(figsize=(15,12))\n",
    "plt.show()"
   ]
  },
  {
   "cell_type": "code",
   "execution_count": 7,
   "metadata": {},
   "outputs": [
    {
     "data": {
      "text/html": [
       "<div>\n",
       "<style scoped>\n",
       "    .dataframe tbody tr th:only-of-type {\n",
       "        vertical-align: middle;\n",
       "    }\n",
       "\n",
       "    .dataframe tbody tr th {\n",
       "        vertical-align: top;\n",
       "    }\n",
       "\n",
       "    .dataframe thead th {\n",
       "        text-align: right;\n",
       "    }\n",
       "</style>\n",
       "<table border=\"1\" class=\"dataframe\">\n",
       "  <thead>\n",
       "    <tr style=\"text-align: right;\">\n",
       "      <th></th>\n",
       "      <th>Price</th>\n",
       "      <th>RegistrationYear</th>\n",
       "      <th>Power</th>\n",
       "      <th>Kilometer</th>\n",
       "      <th>RegistrationMonth</th>\n",
       "      <th>NumberOfPictures</th>\n",
       "      <th>PostalCode</th>\n",
       "    </tr>\n",
       "  </thead>\n",
       "  <tbody>\n",
       "    <tr>\n",
       "      <th>count</th>\n",
       "      <td>354369.000000</td>\n",
       "      <td>354369.000000</td>\n",
       "      <td>354369.000000</td>\n",
       "      <td>354369.000000</td>\n",
       "      <td>354369.000000</td>\n",
       "      <td>354369.0</td>\n",
       "      <td>354369.000000</td>\n",
       "    </tr>\n",
       "    <tr>\n",
       "      <th>mean</th>\n",
       "      <td>4416.656776</td>\n",
       "      <td>2004.234448</td>\n",
       "      <td>110.094337</td>\n",
       "      <td>128211.172535</td>\n",
       "      <td>5.714645</td>\n",
       "      <td>0.0</td>\n",
       "      <td>50508.689087</td>\n",
       "    </tr>\n",
       "    <tr>\n",
       "      <th>std</th>\n",
       "      <td>4514.158514</td>\n",
       "      <td>90.227958</td>\n",
       "      <td>189.850405</td>\n",
       "      <td>37905.341530</td>\n",
       "      <td>3.726421</td>\n",
       "      <td>0.0</td>\n",
       "      <td>25783.096248</td>\n",
       "    </tr>\n",
       "    <tr>\n",
       "      <th>min</th>\n",
       "      <td>0.000000</td>\n",
       "      <td>1000.000000</td>\n",
       "      <td>0.000000</td>\n",
       "      <td>5000.000000</td>\n",
       "      <td>0.000000</td>\n",
       "      <td>0.0</td>\n",
       "      <td>1067.000000</td>\n",
       "    </tr>\n",
       "    <tr>\n",
       "      <th>25%</th>\n",
       "      <td>1050.000000</td>\n",
       "      <td>1999.000000</td>\n",
       "      <td>69.000000</td>\n",
       "      <td>125000.000000</td>\n",
       "      <td>3.000000</td>\n",
       "      <td>0.0</td>\n",
       "      <td>30165.000000</td>\n",
       "    </tr>\n",
       "    <tr>\n",
       "      <th>50%</th>\n",
       "      <td>2700.000000</td>\n",
       "      <td>2003.000000</td>\n",
       "      <td>105.000000</td>\n",
       "      <td>150000.000000</td>\n",
       "      <td>6.000000</td>\n",
       "      <td>0.0</td>\n",
       "      <td>49413.000000</td>\n",
       "    </tr>\n",
       "    <tr>\n",
       "      <th>75%</th>\n",
       "      <td>6400.000000</td>\n",
       "      <td>2008.000000</td>\n",
       "      <td>143.000000</td>\n",
       "      <td>150000.000000</td>\n",
       "      <td>9.000000</td>\n",
       "      <td>0.0</td>\n",
       "      <td>71083.000000</td>\n",
       "    </tr>\n",
       "    <tr>\n",
       "      <th>max</th>\n",
       "      <td>20000.000000</td>\n",
       "      <td>9999.000000</td>\n",
       "      <td>20000.000000</td>\n",
       "      <td>150000.000000</td>\n",
       "      <td>12.000000</td>\n",
       "      <td>0.0</td>\n",
       "      <td>99998.000000</td>\n",
       "    </tr>\n",
       "  </tbody>\n",
       "</table>\n",
       "</div>"
      ],
      "text/plain": [
       "               Price  RegistrationYear          Power      Kilometer  \\\n",
       "count  354369.000000     354369.000000  354369.000000  354369.000000   \n",
       "mean     4416.656776       2004.234448     110.094337  128211.172535   \n",
       "std      4514.158514         90.227958     189.850405   37905.341530   \n",
       "min         0.000000       1000.000000       0.000000    5000.000000   \n",
       "25%      1050.000000       1999.000000      69.000000  125000.000000   \n",
       "50%      2700.000000       2003.000000     105.000000  150000.000000   \n",
       "75%      6400.000000       2008.000000     143.000000  150000.000000   \n",
       "max     20000.000000       9999.000000   20000.000000  150000.000000   \n",
       "\n",
       "       RegistrationMonth  NumberOfPictures     PostalCode  \n",
       "count      354369.000000          354369.0  354369.000000  \n",
       "mean            5.714645               0.0   50508.689087  \n",
       "std             3.726421               0.0   25783.096248  \n",
       "min             0.000000               0.0    1067.000000  \n",
       "25%             3.000000               0.0   30165.000000  \n",
       "50%             6.000000               0.0   49413.000000  \n",
       "75%             9.000000               0.0   71083.000000  \n",
       "max            12.000000               0.0   99998.000000  "
      ]
     },
     "execution_count": 7,
     "metadata": {},
     "output_type": "execute_result"
    }
   ],
   "source": [
    "auto_data.data.describe()"
   ]
  },
  {
   "cell_type": "markdown",
   "metadata": {},
   "source": [
    "Данные содержат в себе `354369` строк и `16` колонок, которые представляют собой 15 признаков и один целевой признак - `Price`. \n",
    "\n",
    "В данных содержатся неинформативные столбцы и аномалии:\n",
    "\n",
    "К неинформативным столбцам можно отнести: \n",
    "\n",
    "1. RegistrationMonth;\n",
    "2. NumberOfPictures (столбец, состоящий нулей);\n",
    "3. PostalCode;\n",
    "4. DateCrawled;\n",
    "5. LastSeen;\n",
    "6. DateCreated.\n",
    "\n",
    "Аномалии содержаться в: \n",
    "\n",
    "1. Целевом признаке `Price`;\n",
    "1. Признаках - `Power`, `RegistrationYear`"
   ]
  },
  {
   "cell_type": "markdown",
   "metadata": {},
   "source": [
    "### Обработка неинформативных столбцов"
   ]
  },
  {
   "cell_type": "markdown",
   "metadata": {},
   "source": [
    "Удалим неинформативные столбцы:"
   ]
  },
  {
   "cell_type": "code",
   "execution_count": 8,
   "metadata": {},
   "outputs": [],
   "source": [
    "auto_data.data.drop(columns=['NumberOfPictures','PostalCode',\\\n",
    "                            'DateCrawled','LastSeen','RegistrationMonth',\\\n",
    "                            'DateCreated'], inplace=True)"
   ]
  },
  {
   "cell_type": "markdown",
   "metadata": {},
   "source": [
    "### Проверка дубликатов"
   ]
  },
  {
   "cell_type": "markdown",
   "metadata": {},
   "source": [
    "Проверим дубликаты:"
   ]
  },
  {
   "cell_type": "code",
   "execution_count": 9,
   "metadata": {},
   "outputs": [
    {
     "name": "stdout",
     "output_type": "stream",
     "text": [
      "Количество дубликатов: 45040\n"
     ]
    }
   ],
   "source": [
    "auto_data.check_duplicated()"
   ]
  },
  {
   "cell_type": "code",
   "execution_count": 10,
   "metadata": {},
   "outputs": [
    {
     "data": {
      "text/html": [
       "<div>\n",
       "<style scoped>\n",
       "    .dataframe tbody tr th:only-of-type {\n",
       "        vertical-align: middle;\n",
       "    }\n",
       "\n",
       "    .dataframe tbody tr th {\n",
       "        vertical-align: top;\n",
       "    }\n",
       "\n",
       "    .dataframe thead th {\n",
       "        text-align: right;\n",
       "    }\n",
       "</style>\n",
       "<table border=\"1\" class=\"dataframe\">\n",
       "  <thead>\n",
       "    <tr style=\"text-align: right;\">\n",
       "      <th></th>\n",
       "      <th>Price</th>\n",
       "      <th>VehicleType</th>\n",
       "      <th>RegistrationYear</th>\n",
       "      <th>Gearbox</th>\n",
       "      <th>Power</th>\n",
       "      <th>Model</th>\n",
       "      <th>Kilometer</th>\n",
       "      <th>FuelType</th>\n",
       "      <th>Brand</th>\n",
       "      <th>Repaired</th>\n",
       "    </tr>\n",
       "  </thead>\n",
       "  <tbody>\n",
       "    <tr>\n",
       "      <th>310656</th>\n",
       "      <td>10900</td>\n",
       "      <td>other</td>\n",
       "      <td>1958</td>\n",
       "      <td>manual</td>\n",
       "      <td>65</td>\n",
       "      <td>other</td>\n",
       "      <td>80000</td>\n",
       "      <td>petrol</td>\n",
       "      <td>alfa_romeo</td>\n",
       "      <td>NaN</td>\n",
       "    </tr>\n",
       "    <tr>\n",
       "      <th>311988</th>\n",
       "      <td>10900</td>\n",
       "      <td>other</td>\n",
       "      <td>1958</td>\n",
       "      <td>manual</td>\n",
       "      <td>65</td>\n",
       "      <td>other</td>\n",
       "      <td>80000</td>\n",
       "      <td>petrol</td>\n",
       "      <td>alfa_romeo</td>\n",
       "      <td>NaN</td>\n",
       "    </tr>\n",
       "    <tr>\n",
       "      <th>128248</th>\n",
       "      <td>10600</td>\n",
       "      <td>coupe</td>\n",
       "      <td>1970</td>\n",
       "      <td>manual</td>\n",
       "      <td>87</td>\n",
       "      <td>other</td>\n",
       "      <td>90000</td>\n",
       "      <td>petrol</td>\n",
       "      <td>alfa_romeo</td>\n",
       "      <td>no</td>\n",
       "    </tr>\n",
       "    <tr>\n",
       "      <th>155924</th>\n",
       "      <td>10600</td>\n",
       "      <td>coupe</td>\n",
       "      <td>1970</td>\n",
       "      <td>manual</td>\n",
       "      <td>87</td>\n",
       "      <td>other</td>\n",
       "      <td>90000</td>\n",
       "      <td>petrol</td>\n",
       "      <td>alfa_romeo</td>\n",
       "      <td>no</td>\n",
       "    </tr>\n",
       "    <tr>\n",
       "      <th>280439</th>\n",
       "      <td>16900</td>\n",
       "      <td>sedan</td>\n",
       "      <td>1973</td>\n",
       "      <td>manual</td>\n",
       "      <td>131</td>\n",
       "      <td>other</td>\n",
       "      <td>125000</td>\n",
       "      <td>petrol</td>\n",
       "      <td>alfa_romeo</td>\n",
       "      <td>no</td>\n",
       "    </tr>\n",
       "    <tr>\n",
       "      <th>...</th>\n",
       "      <td>...</td>\n",
       "      <td>...</td>\n",
       "      <td>...</td>\n",
       "      <td>...</td>\n",
       "      <td>...</td>\n",
       "      <td>...</td>\n",
       "      <td>...</td>\n",
       "      <td>...</td>\n",
       "      <td>...</td>\n",
       "      <td>...</td>\n",
       "    </tr>\n",
       "    <tr>\n",
       "      <th>120499</th>\n",
       "      <td>9999</td>\n",
       "      <td>NaN</td>\n",
       "      <td>2017</td>\n",
       "      <td>manual</td>\n",
       "      <td>0</td>\n",
       "      <td>NaN</td>\n",
       "      <td>150000</td>\n",
       "      <td>NaN</td>\n",
       "      <td>volvo</td>\n",
       "      <td>NaN</td>\n",
       "    </tr>\n",
       "    <tr>\n",
       "      <th>194624</th>\n",
       "      <td>530</td>\n",
       "      <td>NaN</td>\n",
       "      <td>2017</td>\n",
       "      <td>manual</td>\n",
       "      <td>144</td>\n",
       "      <td>850</td>\n",
       "      <td>150000</td>\n",
       "      <td>petrol</td>\n",
       "      <td>volvo</td>\n",
       "      <td>NaN</td>\n",
       "    </tr>\n",
       "    <tr>\n",
       "      <th>250922</th>\n",
       "      <td>0</td>\n",
       "      <td>NaN</td>\n",
       "      <td>2017</td>\n",
       "      <td>manual</td>\n",
       "      <td>116</td>\n",
       "      <td>v40</td>\n",
       "      <td>150000</td>\n",
       "      <td>NaN</td>\n",
       "      <td>volvo</td>\n",
       "      <td>no</td>\n",
       "    </tr>\n",
       "    <tr>\n",
       "      <th>287455</th>\n",
       "      <td>350</td>\n",
       "      <td>NaN</td>\n",
       "      <td>2017</td>\n",
       "      <td>manual</td>\n",
       "      <td>0</td>\n",
       "      <td>v40</td>\n",
       "      <td>150000</td>\n",
       "      <td>gasoline</td>\n",
       "      <td>volvo</td>\n",
       "      <td>yes</td>\n",
       "    </tr>\n",
       "    <tr>\n",
       "      <th>289218</th>\n",
       "      <td>0</td>\n",
       "      <td>NaN</td>\n",
       "      <td>2017</td>\n",
       "      <td>manual</td>\n",
       "      <td>116</td>\n",
       "      <td>v40</td>\n",
       "      <td>150000</td>\n",
       "      <td>NaN</td>\n",
       "      <td>volvo</td>\n",
       "      <td>no</td>\n",
       "    </tr>\n",
       "  </tbody>\n",
       "</table>\n",
       "<p>76590 rows × 10 columns</p>\n",
       "</div>"
      ],
      "text/plain": [
       "        Price VehicleType  RegistrationYear Gearbox  Power  Model  Kilometer  \\\n",
       "310656  10900       other              1958  manual     65  other      80000   \n",
       "311988  10900       other              1958  manual     65  other      80000   \n",
       "128248  10600       coupe              1970  manual     87  other      90000   \n",
       "155924  10600       coupe              1970  manual     87  other      90000   \n",
       "280439  16900       sedan              1973  manual    131  other     125000   \n",
       "...       ...         ...               ...     ...    ...    ...        ...   \n",
       "120499   9999         NaN              2017  manual      0    NaN     150000   \n",
       "194624    530         NaN              2017  manual    144    850     150000   \n",
       "250922      0         NaN              2017  manual    116    v40     150000   \n",
       "287455    350         NaN              2017  manual      0    v40     150000   \n",
       "289218      0         NaN              2017  manual    116    v40     150000   \n",
       "\n",
       "        FuelType       Brand Repaired  \n",
       "310656    petrol  alfa_romeo      NaN  \n",
       "311988    petrol  alfa_romeo      NaN  \n",
       "128248    petrol  alfa_romeo       no  \n",
       "155924    petrol  alfa_romeo       no  \n",
       "280439    petrol  alfa_romeo       no  \n",
       "...          ...         ...      ...  \n",
       "120499       NaN       volvo      NaN  \n",
       "194624    petrol       volvo      NaN  \n",
       "250922       NaN       volvo       no  \n",
       "287455  gasoline       volvo      yes  \n",
       "289218       NaN       volvo       no  \n",
       "\n",
       "[76590 rows x 10 columns]"
      ]
     },
     "execution_count": 10,
     "metadata": {},
     "output_type": "execute_result"
    }
   ],
   "source": [
    "auto_data.data[auto_data.data.duplicated(keep=False)].sort_values(\n",
    "                                                    by=['Brand','RegistrationYear'])"
   ]
  },
  {
   "cell_type": "code",
   "execution_count": 11,
   "metadata": {},
   "outputs": [],
   "source": [
    "auto_data.data.drop_duplicates(inplace=True)"
   ]
  },
  {
   "cell_type": "code",
   "execution_count": 12,
   "metadata": {},
   "outputs": [
    {
     "name": "stdout",
     "output_type": "stream",
     "text": [
      "Количество дубликатов: 0\n"
     ]
    }
   ],
   "source": [
    "auto_data.check_duplicated()"
   ]
  },
  {
   "cell_type": "markdown",
   "metadata": {},
   "source": [
    "### Пропуски"
   ]
  },
  {
   "cell_type": "code",
   "execution_count": 13,
   "metadata": {},
   "outputs": [
    {
     "data": {
      "text/html": [
       "<div>\n",
       "<style scoped>\n",
       "    .dataframe tbody tr th:only-of-type {\n",
       "        vertical-align: middle;\n",
       "    }\n",
       "\n",
       "    .dataframe tbody tr th {\n",
       "        vertical-align: top;\n",
       "    }\n",
       "\n",
       "    .dataframe thead th {\n",
       "        text-align: right;\n",
       "    }\n",
       "</style>\n",
       "<table border=\"1\" class=\"dataframe\">\n",
       "  <thead>\n",
       "    <tr style=\"text-align: right;\">\n",
       "      <th></th>\n",
       "      <th>misses</th>\n",
       "      <th>per</th>\n",
       "    </tr>\n",
       "  </thead>\n",
       "  <tbody>\n",
       "    <tr>\n",
       "      <th>Repaired</th>\n",
       "      <td>64558</td>\n",
       "      <td>20.87%</td>\n",
       "    </tr>\n",
       "    <tr>\n",
       "      <th>VehicleType</th>\n",
       "      <td>34559</td>\n",
       "      <td>11.17%</td>\n",
       "    </tr>\n",
       "    <tr>\n",
       "      <th>FuelType</th>\n",
       "      <td>30764</td>\n",
       "      <td>9.95%</td>\n",
       "    </tr>\n",
       "    <tr>\n",
       "      <th>Model</th>\n",
       "      <td>18361</td>\n",
       "      <td>5.94%</td>\n",
       "    </tr>\n",
       "    <tr>\n",
       "      <th>Gearbox</th>\n",
       "      <td>17207</td>\n",
       "      <td>5.56%</td>\n",
       "    </tr>\n",
       "  </tbody>\n",
       "</table>\n",
       "</div>"
      ],
      "text/plain": [
       "             misses     per\n",
       "Repaired      64558  20.87%\n",
       "VehicleType   34559  11.17%\n",
       "FuelType      30764   9.95%\n",
       "Model         18361   5.94%\n",
       "Gearbox       17207   5.56%"
      ]
     },
     "execution_count": 13,
     "metadata": {},
     "output_type": "execute_result"
    }
   ],
   "source": [
    "auto_data.check_misses()"
   ]
  },
  {
   "cell_type": "markdown",
   "metadata": {},
   "source": [
    "В данных содержится множество пропусков. Если их удалить, то потеряется большой процент тренировочных данных. К тому же это не решит главную проблему - рабочие данные, вероятно, тоже могут содержать пропуски. \n",
    "\n",
    "Заменим все пропуски на маркер - `unknown`. Пропуски в столбце `Repaired` заполним значением `no`, так как, вероятно, если этот параметр не указан, то машина не была в ремонте."
   ]
  },
  {
   "cell_type": "code",
   "execution_count": 14,
   "metadata": {},
   "outputs": [
    {
     "data": {
      "text/plain": [
       "no     211328\n",
       "yes     33443\n",
       "Name: Repaired, dtype: int64"
      ]
     },
     "execution_count": 14,
     "metadata": {},
     "output_type": "execute_result"
    }
   ],
   "source": [
    "auto_data.data['Repaired'].value_counts()"
   ]
  },
  {
   "cell_type": "code",
   "execution_count": 15,
   "metadata": {},
   "outputs": [],
   "source": [
    "auto_data.data['Repaired'].fillna('no', inplace=True)"
   ]
  },
  {
   "cell_type": "code",
   "execution_count": 16,
   "metadata": {},
   "outputs": [],
   "source": [
    "auto_data.data['VehicleType'].fillna('unknown', inplace=True)"
   ]
  },
  {
   "cell_type": "code",
   "execution_count": 17,
   "metadata": {},
   "outputs": [],
   "source": [
    "auto_data.data['Model'].fillna('unknown', inplace=True)"
   ]
  },
  {
   "cell_type": "code",
   "execution_count": 18,
   "metadata": {},
   "outputs": [],
   "source": [
    "auto_data.data['Gearbox'].fillna('unknown', inplace=True)"
   ]
  },
  {
   "cell_type": "code",
   "execution_count": 19,
   "metadata": {},
   "outputs": [],
   "source": [
    "auto_data.data['FuelType'].fillna('unknown', inplace=True)"
   ]
  },
  {
   "cell_type": "code",
   "execution_count": 20,
   "metadata": {},
   "outputs": [
    {
     "name": "stdout",
     "output_type": "stream",
     "text": [
      "Пропусков в данных нет\n"
     ]
    }
   ],
   "source": [
    "auto_data.check_misses()"
   ]
  },
  {
   "cell_type": "markdown",
   "metadata": {},
   "source": [
    "### Аномалии"
   ]
  },
  {
   "cell_type": "code",
   "execution_count": 21,
   "metadata": {},
   "outputs": [
    {
     "data": {
      "image/png": "[encoded data removed]",
      "text/plain": [
       "<Figure size 1200x800 with 3 Axes>"
      ]
     },
     "metadata": {},
     "output_type": "display_data"
    }
   ],
   "source": [
    "auto_data.plot_hist(features='Price')"
   ]
  },
  {
   "cell_type": "markdown",
   "metadata": {},
   "source": [
    "В столбце `Price` содержится множество выбросов - наблюдаются нулевые и около нулевые значения. Удалим все значения меньше `100`."
   ]
  },
  {
   "cell_type": "code",
   "execution_count": 22,
   "metadata": {},
   "outputs": [],
   "source": [
    "auto_data.data = auto_data.data.query('Price >= 100')"
   ]
  },
  {
   "cell_type": "code",
   "execution_count": 23,
   "metadata": {},
   "outputs": [
    {
     "data": {
      "image/png": "[encoded data removed]",
      "text/plain": [
       "<Figure size 1200x1000 with 2 Axes>"
      ]
     },
     "metadata": {},
     "output_type": "display_data"
    }
   ],
   "source": [
    "fig = plt.figure(figsize=(12,10))\n",
    "plt.subplot(211)\n",
    "ax1 = auto_data.data['RegistrationYear'].loc[auto_data.data['RegistrationYear'] < 1990].hist(bins=100)\n",
    "ax1.set_ylim([0, 500])\n",
    "ax1.set_xlim([1900, 1990])\n",
    "plt.title('Левый хвост распределения RegistrationYear')\n",
    "plt.subplot(212)\n",
    "ax = auto_data.data['RegistrationYear'].loc[auto_data.data['RegistrationYear'] > 2022].hist(bins=100)\n",
    "plt.title('Правый хвост распределения RegistrationYear')\n",
    "plt.show()"
   ]
  },
  {
   "cell_type": "markdown",
   "metadata": {},
   "source": [
    "В колонке с датой регистрации автомобиля множество аномалий:\n",
    "\n",
    "1) Имеются автомобили, зарегистрированные в 1910-1950 годах;\n",
    "2) Также имеются автомобили, зарегистрированные в `будущем`.\n",
    "\n",
    "Удалим найденные аномалии."
   ]
  },
  {
   "cell_type": "code",
   "execution_count": 24,
   "metadata": {},
   "outputs": [],
   "source": [
    "auto_data.data = auto_data.data.query('RegistrationYear < 2016 & RegistrationYear > 1960')"
   ]
  },
  {
   "cell_type": "markdown",
   "metadata": {},
   "source": [
    "Крайняя дата в данных - `'2016-04-07 14:36:58'`. "
   ]
  },
  {
   "cell_type": "code",
   "execution_count": 25,
   "metadata": {},
   "outputs": [
    {
     "data": {
      "image/png": "[encoded data removed]",
      "text/plain": [
       "<Figure size 1200x800 with 3 Axes>"
      ]
     },
     "metadata": {},
     "output_type": "display_data"
    }
   ],
   "source": [
    "auto_data.plot_hist(features='Power',left_val= 100,right_val=350 ,quantile_clac=False)"
   ]
  },
  {
   "cell_type": "markdown",
   "metadata": {},
   "source": [
    "В столбце `Power` найдено множество столбцов, где значения равны 0, либо больше адекватных значений. Обработаем найденные аномалии: "
   ]
  },
  {
   "cell_type": "code",
   "execution_count": 26,
   "metadata": {},
   "outputs": [],
   "source": [
    "auto_data.data = auto_data.data.loc[(auto_data.data['Power'] <= 400) & (auto_data.data['Power'] >= 40)]"
   ]
  },
  {
   "cell_type": "code",
   "execution_count": 27,
   "metadata": {},
   "outputs": [
    {
     "data": {
      "text/html": [
       "<div>\n",
       "<style scoped>\n",
       "    .dataframe tbody tr th:only-of-type {\n",
       "        vertical-align: middle;\n",
       "    }\n",
       "\n",
       "    .dataframe tbody tr th {\n",
       "        vertical-align: top;\n",
       "    }\n",
       "\n",
       "    .dataframe thead th {\n",
       "        text-align: right;\n",
       "    }\n",
       "</style>\n",
       "<table border=\"1\" class=\"dataframe\">\n",
       "  <thead>\n",
       "    <tr style=\"text-align: right;\">\n",
       "      <th></th>\n",
       "      <th>Price</th>\n",
       "      <th>RegistrationYear</th>\n",
       "      <th>Power</th>\n",
       "      <th>Kilometer</th>\n",
       "    </tr>\n",
       "  </thead>\n",
       "  <tbody>\n",
       "    <tr>\n",
       "      <th>count</th>\n",
       "      <td>248749.00000</td>\n",
       "      <td>248749.000000</td>\n",
       "      <td>248749.000000</td>\n",
       "      <td>248749.000000</td>\n",
       "    </tr>\n",
       "    <tr>\n",
       "      <th>mean</th>\n",
       "      <td>5011.89134</td>\n",
       "      <td>2002.668405</td>\n",
       "      <td>122.081785</td>\n",
       "      <td>127321.516870</td>\n",
       "    </tr>\n",
       "    <tr>\n",
       "      <th>std</th>\n",
       "      <td>4664.89056</td>\n",
       "      <td>6.180416</td>\n",
       "      <td>52.620279</td>\n",
       "      <td>37181.841466</td>\n",
       "    </tr>\n",
       "    <tr>\n",
       "      <th>min</th>\n",
       "      <td>100.00000</td>\n",
       "      <td>1961.000000</td>\n",
       "      <td>40.000000</td>\n",
       "      <td>5000.000000</td>\n",
       "    </tr>\n",
       "    <tr>\n",
       "      <th>25%</th>\n",
       "      <td>1450.00000</td>\n",
       "      <td>1999.000000</td>\n",
       "      <td>80.000000</td>\n",
       "      <td>125000.000000</td>\n",
       "    </tr>\n",
       "    <tr>\n",
       "      <th>50%</th>\n",
       "      <td>3390.00000</td>\n",
       "      <td>2003.000000</td>\n",
       "      <td>115.000000</td>\n",
       "      <td>150000.000000</td>\n",
       "    </tr>\n",
       "    <tr>\n",
       "      <th>75%</th>\n",
       "      <td>7250.00000</td>\n",
       "      <td>2007.000000</td>\n",
       "      <td>150.000000</td>\n",
       "      <td>150000.000000</td>\n",
       "    </tr>\n",
       "    <tr>\n",
       "      <th>max</th>\n",
       "      <td>20000.00000</td>\n",
       "      <td>2015.000000</td>\n",
       "      <td>400.000000</td>\n",
       "      <td>150000.000000</td>\n",
       "    </tr>\n",
       "  </tbody>\n",
       "</table>\n",
       "</div>"
      ],
      "text/plain": [
       "              Price  RegistrationYear          Power      Kilometer\n",
       "count  248749.00000     248749.000000  248749.000000  248749.000000\n",
       "mean     5011.89134       2002.668405     122.081785  127321.516870\n",
       "std      4664.89056          6.180416      52.620279   37181.841466\n",
       "min       100.00000       1961.000000      40.000000    5000.000000\n",
       "25%      1450.00000       1999.000000      80.000000  125000.000000\n",
       "50%      3390.00000       2003.000000     115.000000  150000.000000\n",
       "75%      7250.00000       2007.000000     150.000000  150000.000000\n",
       "max     20000.00000       2015.000000     400.000000  150000.000000"
      ]
     },
     "execution_count": 27,
     "metadata": {},
     "output_type": "execute_result"
    }
   ],
   "source": [
    "auto_data.data.describe()"
   ]
  },
  {
   "cell_type": "markdown",
   "metadata": {},
   "source": [
    "### Вывод:\n",
    "\n",
    "Изначальные данные содержали в себе  `354369` строк и `16` колонок, которые представляют собой 15 признаков и один целевой признак - `Price`. \n",
    "\n",
    "В данных содержались неинформативные столбцы и аномалии:\n",
    "\n",
    "К неинформативным столбцам можно отнести: \n",
    "\n",
    "1. RegistrationMonth;\n",
    "2. NumberOfPictures (столбец, состоящий нулей);\n",
    "3. PostalCode;\n",
    "4. DateCrawled;\n",
    "5. LastSeen;\n",
    "6. DateCreated.\n",
    "\n",
    "Аномалии содержаться в: \n",
    "\n",
    "1. Целевом признаке `Price`;\n",
    "1. Признаках - `Power`, `RegistrationYear`\n",
    "\n",
    "Пропуски содержались в следующих в колонках:\n",
    "\n",
    "1. `Repaired` - `20.87`;\n",
    "2. `VehicleType` - `11.17`;\n",
    "3. `FuelType` - `9.95`;\n",
    "4. `Model` - `5.94`;\n",
    "5. `Gearbox` - `5.56`.\n",
    "\n",
    "Была проделана следующая работа:\n",
    "\n",
    "1. Были удалены неинформативные столбцы;\n",
    "2. Обработаны и удалены аномальные значения;\n",
    "3. Пропуски заполнены маркерами `unknown`."
   ]
  },
  {
   "cell_type": "markdown",
   "metadata": {},
   "source": [
    "## Обучение моделей"
   ]
  },
  {
   "cell_type": "markdown",
   "metadata": {},
   "source": [
    "Разделим выборку на признаки и целевой признак:"
   ]
  },
  {
   "cell_type": "code",
   "execution_count": 28,
   "metadata": {},
   "outputs": [],
   "source": [
    "auto_data.features_target_splitter()"
   ]
  },
  {
   "cell_type": "markdown",
   "metadata": {},
   "source": [
    "Закодируем признаки с помощью `ordinal_encoder` и `one_hot_encoder`"
   ]
  },
  {
   "cell_type": "code",
   "execution_count": 29,
   "metadata": {},
   "outputs": [],
   "source": [
    "auto_data.train_test_splitter()"
   ]
  },
  {
   "cell_type": "code",
   "execution_count": 30,
   "metadata": {},
   "outputs": [
    {
     "name": "stderr",
     "output_type": "stream",
     "text": [
      "/Applications/anaconda3/envs/Back_tester/lib/python3.10/site-packages/sklearn/preprocessing/_encoders.py:868: FutureWarning: `sparse` was renamed to `sparse_output` in version 1.2 and will be removed in 1.4. `sparse_output` is ignored unless you leave `sparse` to its default value.\n",
      "  warnings.warn(\n"
     ]
    }
   ],
   "source": [
    "auto_data.OHE_ME_endcoding()"
   ]
  },
  {
   "cell_type": "code",
   "execution_count": 31,
   "metadata": {
    "scrolled": true
   },
   "outputs": [
    {
     "name": "stdout",
     "output_type": "stream",
     "text": [
      "Fitting 3 folds for each of 4 candidates, totalling 12 fits\n",
      "[CV 1/3] END max_depth=7, n_estimators=50;, score=(train=-1601.481, test=-1657.162) total time=   1.2s\n",
      "[CV 2/3] END max_depth=7, n_estimators=50;, score=(train=-1607.014, test=-1643.313) total time=   0.8s\n",
      "[CV 3/3] END max_depth=7, n_estimators=50;, score=(train=-1607.302, test=-1641.255) total time=   0.7s\n",
      "[CV 1/3] END max_depth=7, n_estimators=100;, score=(train=-1535.932, test=-1617.735) total time=   0.9s\n",
      "[CV 2/3] END max_depth=7, n_estimators=100;, score=(train=-1540.665, test=-1606.567) total time=   0.8s\n",
      "[CV 3/3] END max_depth=7, n_estimators=100;, score=(train=-1541.224, test=-1600.179) total time=   0.8s\n",
      "[CV 1/3] END max_depth=10, n_estimators=50;, score=(train=-1600.320, test=-1656.649) total time=   0.5s\n",
      "[CV 2/3] END max_depth=10, n_estimators=50;, score=(train=-1604.444, test=-1641.495) total time=   0.5s\n",
      "[CV 3/3] END max_depth=10, n_estimators=50;, score=(train=-1604.277, test=-1641.954) total time=   0.5s\n",
      "[CV 1/3] END max_depth=10, n_estimators=100;, score=(train=-1533.068, test=-1618.026) total time=   0.9s\n",
      "[CV 2/3] END max_depth=10, n_estimators=100;, score=(train=-1535.694, test=-1604.917) total time=   0.8s\n",
      "[CV 3/3] END max_depth=10, n_estimators=100;, score=(train=-1536.291, test=-1600.979) total time=   0.8s\n"
     ]
    }
   ],
   "source": [
    "auto_data.LGBM()"
   ]
  },
  {
   "cell_type": "code",
   "execution_count": 32,
   "metadata": {},
   "outputs": [
    {
     "name": "stdout",
     "output_type": "stream",
     "text": [
      "Fitting 5 folds for each of 4 candidates, totalling 20 fits\n",
      "[CV 1/5] END max_depth=7, n_estimators=50;, score=(train=-1618.807, test=-1686.618) total time=   2.9s\n",
      "[CV 2/5] END max_depth=7, n_estimators=50;, score=(train=-1611.651, test=-1658.164) total time=   1.8s\n",
      "[CV 3/5] END max_depth=7, n_estimators=50;, score=(train=-1621.006, test=-1663.792) total time=   1.6s\n",
      "[CV 4/5] END max_depth=7, n_estimators=50;, score=(train=-1625.113, test=-1654.370) total time=   1.6s\n",
      "[CV 5/5] END max_depth=7, n_estimators=50;, score=(train=-1618.981, test=-1662.440) total time=   1.7s\n",
      "[CV 1/5] END max_depth=7, n_estimators=100;, score=(train=-1555.135, test=-1648.324) total time=   3.1s\n",
      "[CV 2/5] END max_depth=7, n_estimators=100;, score=(train=-1542.607, test=-1622.803) total time=   3.4s\n",
      "[CV 3/5] END max_depth=7, n_estimators=100;, score=(train=-1553.119, test=-1630.253) total time=   3.6s\n",
      "[CV 4/5] END max_depth=7, n_estimators=100;, score=(train=-1560.080, test=-1615.635) total time=   3.2s\n",
      "[CV 5/5] END max_depth=7, n_estimators=100;, score=(train=-1557.931, test=-1634.937) total time=   3.1s\n",
      "[CV 1/5] END max_depth=10, n_estimators=50;, score=(train=-1511.780, test=-1644.763) total time=   2.6s\n",
      "[CV 2/5] END max_depth=10, n_estimators=50;, score=(train=-1495.473, test=-1610.748) total time=   3.3s\n",
      "[CV 3/5] END max_depth=10, n_estimators=50;, score=(train=-1500.883, test=-1619.441) total time=   2.8s\n",
      "[CV 4/5] END max_depth=10, n_estimators=50;, score=(train=-1511.590, test=-1610.623) total time=   2.9s\n",
      "[CV 5/5] END max_depth=10, n_estimators=50;, score=(train=-1505.244, test=-1623.056) total time=   2.6s\n",
      "[CV 1/5] END max_depth=10, n_estimators=100;, score=(train=-1425.994, test=-1616.563) total time=   5.6s\n",
      "[CV 2/5] END max_depth=10, n_estimators=100;, score=(train=-1426.080, test=-1590.883) total time=   4.6s\n",
      "[CV 3/5] END max_depth=10, n_estimators=100;, score=(train=-1424.641, test=-1604.972) total time=   4.5s\n",
      "[CV 4/5] END max_depth=10, n_estimators=100;, score=(train=-1435.547, test=-1586.421) total time=   4.5s\n",
      "[CV 5/5] END max_depth=10, n_estimators=100;, score=(train=-1421.589, test=-1600.021) total time=   4.4s\n"
     ]
    }
   ],
   "source": [
    "auto_data.Catboost()"
   ]
  },
  {
   "cell_type": "code",
   "execution_count": 33,
   "metadata": {},
   "outputs": [
    {
     "name": "stdout",
     "output_type": "stream",
     "text": [
      "Fitting 3 folds for each of 3 candidates, totalling 9 fits\n",
      "[CV 1/3] END max_depth=10;, score=(train=-1765.434, test=-1915.254) total time=   0.5s\n",
      "[CV 2/3] END max_depth=10;, score=(train=-1776.324, test=-1905.241) total time=   0.4s\n",
      "[CV 3/3] END max_depth=10;, score=(train=-1779.748, test=-1907.961) total time=   0.4s\n",
      "[CV 1/3] END max_depth=15;, score=(train=-1304.228, test=-1899.595) total time=   0.5s\n",
      "[CV 2/3] END max_depth=15;, score=(train=-1322.946, test=-1879.605) total time=   0.5s\n",
      "[CV 3/3] END max_depth=15;, score=(train=-1314.229, test=-1869.352) total time=   0.5s\n",
      "[CV 1/3] END max_depth=25;, score=(train=-842.257, test=-2026.751) total time=   0.6s\n",
      "[CV 2/3] END max_depth=25;, score=(train=-842.230, test=-2008.383) total time=   0.6s\n",
      "[CV 3/3] END max_depth=25;, score=(train=-847.477, test=-1971.840) total time=   0.6s\n"
     ]
    }
   ],
   "source": [
    "auto_data.DecisionTree_regressor()"
   ]
  },
  {
   "cell_type": "markdown",
   "metadata": {},
   "source": [
    "## Анализ моделей"
   ]
  },
  {
   "cell_type": "code",
   "execution_count": 34,
   "metadata": {},
   "outputs": [
    {
     "data": {
      "text/html": [
       "<div>\n",
       "<style scoped>\n",
       "    .dataframe tbody tr th:only-of-type {\n",
       "        vertical-align: middle;\n",
       "    }\n",
       "\n",
       "    .dataframe tbody tr th {\n",
       "        vertical-align: top;\n",
       "    }\n",
       "\n",
       "    .dataframe thead th {\n",
       "        text-align: right;\n",
       "    }\n",
       "</style>\n",
       "<table border=\"1\" class=\"dataframe\">\n",
       "  <thead>\n",
       "    <tr style=\"text-align: right;\">\n",
       "      <th></th>\n",
       "      <th>model</th>\n",
       "      <th>score</th>\n",
       "      <th>time</th>\n",
       "    </tr>\n",
       "  </thead>\n",
       "  <tbody>\n",
       "    <tr>\n",
       "      <th>0</th>\n",
       "      <td>LGBM</td>\n",
       "      <td>1607.974038</td>\n",
       "      <td>14.227784</td>\n",
       "    </tr>\n",
       "    <tr>\n",
       "      <th>1</th>\n",
       "      <td>Catboost</td>\n",
       "      <td>1599.772116</td>\n",
       "      <td>71.402050</td>\n",
       "    </tr>\n",
       "    <tr>\n",
       "      <th>2</th>\n",
       "      <td>DecisionTree</td>\n",
       "      <td>1882.850552</td>\n",
       "      <td>5.666869</td>\n",
       "    </tr>\n",
       "  </tbody>\n",
       "</table>\n",
       "</div>"
      ],
      "text/plain": [
       "          model        score       time\n",
       "0          LGBM  1607.974038  14.227784\n",
       "1      Catboost  1599.772116  71.402050\n",
       "2  DecisionTree  1882.850552   5.666869"
      ]
     },
     "metadata": {},
     "output_type": "display_data"
    }
   ],
   "source": [
    "results = {\n",
    "    'model' : \n",
    "        [*auto_data.models_dict.keys()],\n",
    "    'score' : \n",
    "        [auto_data.models_dict[value]['score'] \n",
    "         for value in auto_data.models_dict.keys()],\n",
    "    'time' : \n",
    "        [auto_data.models_dict[value]['time'] \n",
    "         for value in auto_data.models_dict.keys()],\n",
    "    }\n",
    "display(pd.DataFrame(results))"
   ]
  },
  {
   "cell_type": "markdown",
   "metadata": {},
   "source": [
    "Самая результативная модель - `Catboost`. Итоговая ошибка - `1616`. На втором месте `LGBM` с результатом `1624`. Однако время обучения составляет `81` секунду против `11` в пользу `LGBM`. Таким образом, `Catboost` лучшая модель по ошибке, и худшая по времени. В то время, как `LGBM` является более универсальной. Остановимся на данной модели."
   ]
  },
  {
   "cell_type": "markdown",
   "metadata": {},
   "source": [
    "Проверим модель на тестовой выборке:"
   ]
  },
  {
   "cell_type": "code",
   "execution_count": 35,
   "metadata": {},
   "outputs": [
    {
     "data": {
      "text/plain": [
       "1603.943344740355"
      ]
     },
     "execution_count": 35,
     "metadata": {},
     "output_type": "execute_result"
    }
   ],
   "source": [
    "pred = auto_data.LGBM_result.predict(car_appraisal.features_cat_cast(auto_data.features_test))\n",
    "mean_squared_error(auto_data.target_test,pred, squared=False)"
   ]
  },
  {
   "cell_type": "markdown",
   "metadata": {},
   "source": [
    "Итоговый результат удовлетворят условию."
   ]
  },
  {
   "cell_type": "markdown",
   "metadata": {},
   "source": [
    "## Вывод:\n",
    "\n",
    "#### a. \n",
    "\n",
    "Изначальные данные содержали в себе  `354369` строк и `16` колонок, которые представляют собой 15 признаков и один целевой признак - `Price`. \n",
    "\n",
    "В данных содержались неинформативные столбцы и аномалии:\n",
    "\n",
    "К неинформативным столбцам можно отнести: \n",
    "\n",
    "1. RegistrationMonth;\n",
    "2. NumberOfPictures (столбец, состоящий нулей);\n",
    "3. PostalCode;\n",
    "4. DateCrawled;\n",
    "5. LastSeen;\n",
    "6. DateCreated.\n",
    "\n",
    "Аномалии содержаться в: \n",
    "\n",
    "1. Целевом признаке `Price`;\n",
    "1. Признаках - `Power`, `RegistrationYear`\n",
    "\n",
    "Пропуски содержались в следующих в колонках:\n",
    "\n",
    "1. `Repaired` - `20.87`;\n",
    "2. `VehicleType` - `11.17`;\n",
    "3. `FuelType` - `9.95`;\n",
    "4. `Model` - `5.94`;\n",
    "5. `Gearbox` - `5.56`.\n",
    "\n",
    "Была проделана следующая работа:\n",
    "\n",
    "1. Были удалены неинформативные столбцы;\n",
    "2. Обработаны и удалены аномальные значения;\n",
    "3. Пропуски заполнены маркерами `unknown`.\n",
    "\n",
    "#### b.\n",
    "\n",
    "Были обучены три модели: `LGBM`, `Catboost` и `DecisionTree_regressor`. На обучающей выборке были получены следующие результаты:\n",
    "\n",
    "1. `LGBM` имеет RMSE `1607.97` и обучается за `11.59 сек.`;\n",
    "2. `Catboost` имеет RMSE `1599.77` и обучается за `71.40 сек`;\n",
    "3. `DecisionTree` имеет RMSE `1882.85` и обучается за `5.66 сек`.\n",
    "\n",
    "Таким образом, наилучшая модель для поставленной задачи - `LGBM` c финальной оценкой на тестовой выборке `1603`"
   ]
  }
 ],
 "metadata": {
  "ExecuteTimeLog": [
   {
    "duration": 3700,
    "start_time": "2023-07-03T05:11:48.853Z"
   },
   {
    "duration": 85,
    "start_time": "2023-07-03T05:11:52.555Z"
   },
   {
    "duration": 2152,
    "start_time": "2023-07-03T05:11:52.641Z"
   },
   {
    "duration": 45,
    "start_time": "2023-07-03T05:11:54.794Z"
   },
   {
    "duration": 1102,
    "start_time": "2023-07-03T05:11:54.847Z"
   },
   {
    "duration": 117,
    "start_time": "2023-07-03T05:11:55.962Z"
   },
   {
    "duration": 49,
    "start_time": "2023-07-03T05:11:56.080Z"
   },
   {
    "duration": 300,
    "start_time": "2023-07-03T05:11:56.146Z"
   },
   {
    "duration": 311,
    "start_time": "2023-07-03T05:11:56.447Z"
   },
   {
    "duration": 273,
    "start_time": "2023-07-03T05:11:56.760Z"
   },
   {
    "duration": 271,
    "start_time": "2023-07-03T05:11:57.043Z"
   },
   {
    "duration": 322,
    "start_time": "2023-07-03T05:11:57.315Z"
   },
   {
    "duration": 34,
    "start_time": "2023-07-03T05:11:57.638Z"
   },
   {
    "duration": 43,
    "start_time": "2023-07-03T05:11:57.676Z"
   },
   {
    "duration": 67,
    "start_time": "2023-07-03T05:11:57.723Z"
   },
   {
    "duration": 57,
    "start_time": "2023-07-03T05:11:57.792Z"
   },
   {
    "duration": 30,
    "start_time": "2023-07-03T05:11:57.854Z"
   },
   {
    "duration": 52,
    "start_time": "2023-07-03T05:11:57.885Z"
   },
   {
    "duration": 192,
    "start_time": "2023-07-03T05:11:57.949Z"
   },
   {
    "duration": 823,
    "start_time": "2023-07-03T05:11:58.143Z"
   },
   {
    "duration": 49,
    "start_time": "2023-07-03T05:11:58.969Z"
   },
   {
    "duration": 485,
    "start_time": "2023-07-03T05:11:59.019Z"
   },
   {
    "duration": 29,
    "start_time": "2023-07-03T05:11:59.506Z"
   },
   {
    "duration": 12469,
    "start_time": "2023-07-03T05:11:59.537Z"
   },
   {
    "duration": 36,
    "start_time": "2023-07-03T05:12:12.008Z"
   },
   {
    "duration": 64,
    "start_time": "2023-07-03T05:12:12.045Z"
   },
   {
    "duration": 14,
    "start_time": "2023-07-03T05:12:12.114Z"
   },
   {
    "duration": 38,
    "start_time": "2023-07-03T05:12:12.130Z"
   },
   {
    "duration": 67,
    "start_time": "2023-07-03T05:12:12.170Z"
   },
   {
    "duration": 2812,
    "start_time": "2023-07-03T05:12:12.238Z"
   },
   {
    "duration": 102022,
    "start_time": "2023-07-03T05:12:15.051Z"
   },
   {
    "duration": 611655,
    "start_time": "2023-07-03T05:13:57.074Z"
   },
   {
    "duration": 1129,
    "start_time": "2023-07-03T05:24:08.731Z"
   },
   {
    "duration": 20710,
    "start_time": "2023-07-03T05:24:09.861Z"
   }
  ],
  "kernelspec": {
   "display_name": "Python 3 (ipykernel)",
   "language": "python",
   "name": "python3"
  },
  "language_info": {
   "codemirror_mode": {
    "name": "ipython",
    "version": 3
   },
   "file_extension": ".py",
   "mimetype": "text/x-python",
   "name": "python",
   "nbconvert_exporter": "python",
   "pygments_lexer": "ipython3",
   "version": "3.9.5"
  },
  "toc": {
   "base_numbering": 1,
   "nav_menu": {},
   "number_sections": true,
   "sideBar": true,
   "skip_h1_title": true,
   "title_cell": "Table of Contents",
   "title_sidebar": "Contents",
   "toc_cell": false,
   "toc_position": {
    "height": "calc(100% - 180px)",
    "left": "10px",
    "top": "150px",
    "width": "399.594px"
   },
   "toc_section_display": true,
   "toc_window_display": true
  },
  "vscode": {
   "interpreter": {
    "hash": "0f722720931fbd7bac8fa92a0efaafb415e0b529bea29341344773e6eccc6c21"
   }
  }
 },
 "nbformat": 4,
 "nbformat_minor": 2
}
