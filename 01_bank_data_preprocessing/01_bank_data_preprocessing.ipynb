{
 "cells": [
  {
   "cell_type": "markdown",
   "id": "c371b3e2",
   "metadata": {},
   "source": [
    "# Исследование надёжности заёмщиков\n",
    "\n",
    "Заказчик — кредитный отдел банка. Нужно разобраться, влияет ли семейное положение и количество детей клиента на факт погашения кредита в срок. Входные данные от банка — статистика о платёжеспособности клиентов.\n",
    "\n",
    "Результаты исследования будут учтены при построении модели **кредитного скоринга** — специальной системы, которая оценивает способность потенциального заёмщика вернуть кредит банку.\n",
    "\n",
    "Описание данных\n",
    "   \n",
    "Для анализа представлен файл data.csv, содержащий следующую информацию:\n",
    "- children — количество детей в семье\n",
    "- days_employed — общий трудовой стаж в днях\n",
    "- dob_years — возраст клиента в годах\n",
    "- education — уровень образования клиента\n",
    "- education_id — идентификатор уровня образования\n",
    "- family_status — семейное положение\n",
    "- family_status_id — идентификатор семейного положения\n",
    "- gender — пол клиента\n",
    "- income_type — тип занятости\n",
    "- debt — имел ли задолженность по возврату кредитов\n",
    "- total_income — ежемесячный доход\n",
    "- purpose — цель получения кредита "
   ]
  },
  {
   "cell_type": "markdown",
   "id": "c649ae8c",
   "metadata": {
    "deletable": false,
    "editable": false,
    "id": "744d7639"
   },
   "source": [
    "## Откройте таблицу и изучите общую информацию о данных"
   ]
  },
  {
   "cell_type": "markdown",
   "id": "4f031905",
   "metadata": {},
   "source": [
    "Открываем файл c данными и сохраняем его в переменной data. На экран выводим первые десять строк таблицы, а так же оцениваем объем данных:"
   ]
  },
  {
   "cell_type": "code",
   "execution_count": 1,
   "id": "2b4489af",
   "metadata": {},
   "outputs": [],
   "source": [
    "import pandas as pd\n",
    "import numpy as np"
   ]
  },
  {
   "cell_type": "code",
   "execution_count": 2,
   "id": "06824acb",
   "metadata": {
    "deletable": false,
    "id": "7bcf75c9"
   },
   "outputs": [],
   "source": [
    "try:\n",
    "    data = pd.read_csv('/datasets/data.csv')\n",
    "except:\n",
    "    data = pd.read_csv('https://code.s3.yandex.net/datasets/data.csv')"
   ]
  },
  {
   "cell_type": "markdown",
   "id": "15719b38",
   "metadata": {
    "deletable": false,
    "editable": false,
    "id": "b8038fe3"
   },
   "source": [
    "**Задание 2. Выведите первые 20 строчек датафрейма `data` на экран.**"
   ]
  },
  {
   "cell_type": "code",
   "execution_count": 3,
   "id": "8e5e24da",
   "metadata": {
    "deletable": false,
    "id": "2a7cab99",
    "outputId": "1a8f3ef2-d323-4ec2-ddf7-89670b5944c4"
   },
   "outputs": [
    {
     "data": {
      "text/html": [
       "<div>\n",
       "<style scoped>\n",
       "    .dataframe tbody tr th:only-of-type {\n",
       "        vertical-align: middle;\n",
       "    }\n",
       "\n",
       "    .dataframe tbody tr th {\n",
       "        vertical-align: top;\n",
       "    }\n",
       "\n",
       "    .dataframe thead th {\n",
       "        text-align: right;\n",
       "    }\n",
       "</style>\n",
       "<table border=\"1\" class=\"dataframe\">\n",
       "  <thead>\n",
       "    <tr style=\"text-align: right;\">\n",
       "      <th></th>\n",
       "      <th>children</th>\n",
       "      <th>days_employed</th>\n",
       "      <th>dob_years</th>\n",
       "      <th>education</th>\n",
       "      <th>education_id</th>\n",
       "      <th>family_status</th>\n",
       "      <th>family_status_id</th>\n",
       "      <th>gender</th>\n",
       "      <th>income_type</th>\n",
       "      <th>debt</th>\n",
       "      <th>total_income</th>\n",
       "      <th>purpose</th>\n",
       "    </tr>\n",
       "  </thead>\n",
       "  <tbody>\n",
       "    <tr>\n",
       "      <th>0</th>\n",
       "      <td>1</td>\n",
       "      <td>-8437.673028</td>\n",
       "      <td>42</td>\n",
       "      <td>высшее</td>\n",
       "      <td>0</td>\n",
       "      <td>женат / замужем</td>\n",
       "      <td>0</td>\n",
       "      <td>F</td>\n",
       "      <td>сотрудник</td>\n",
       "      <td>0</td>\n",
       "      <td>253875.639453</td>\n",
       "      <td>покупка жилья</td>\n",
       "    </tr>\n",
       "    <tr>\n",
       "      <th>1</th>\n",
       "      <td>1</td>\n",
       "      <td>-4024.803754</td>\n",
       "      <td>36</td>\n",
       "      <td>среднее</td>\n",
       "      <td>1</td>\n",
       "      <td>женат / замужем</td>\n",
       "      <td>0</td>\n",
       "      <td>F</td>\n",
       "      <td>сотрудник</td>\n",
       "      <td>0</td>\n",
       "      <td>112080.014102</td>\n",
       "      <td>приобретение автомобиля</td>\n",
       "    </tr>\n",
       "    <tr>\n",
       "      <th>2</th>\n",
       "      <td>0</td>\n",
       "      <td>-5623.422610</td>\n",
       "      <td>33</td>\n",
       "      <td>Среднее</td>\n",
       "      <td>1</td>\n",
       "      <td>женат / замужем</td>\n",
       "      <td>0</td>\n",
       "      <td>M</td>\n",
       "      <td>сотрудник</td>\n",
       "      <td>0</td>\n",
       "      <td>145885.952297</td>\n",
       "      <td>покупка жилья</td>\n",
       "    </tr>\n",
       "    <tr>\n",
       "      <th>3</th>\n",
       "      <td>3</td>\n",
       "      <td>-4124.747207</td>\n",
       "      <td>32</td>\n",
       "      <td>среднее</td>\n",
       "      <td>1</td>\n",
       "      <td>женат / замужем</td>\n",
       "      <td>0</td>\n",
       "      <td>M</td>\n",
       "      <td>сотрудник</td>\n",
       "      <td>0</td>\n",
       "      <td>267628.550329</td>\n",
       "      <td>дополнительное образование</td>\n",
       "    </tr>\n",
       "    <tr>\n",
       "      <th>4</th>\n",
       "      <td>0</td>\n",
       "      <td>340266.072047</td>\n",
       "      <td>53</td>\n",
       "      <td>среднее</td>\n",
       "      <td>1</td>\n",
       "      <td>гражданский брак</td>\n",
       "      <td>1</td>\n",
       "      <td>F</td>\n",
       "      <td>пенсионер</td>\n",
       "      <td>0</td>\n",
       "      <td>158616.077870</td>\n",
       "      <td>сыграть свадьбу</td>\n",
       "    </tr>\n",
       "    <tr>\n",
       "      <th>5</th>\n",
       "      <td>0</td>\n",
       "      <td>-926.185831</td>\n",
       "      <td>27</td>\n",
       "      <td>высшее</td>\n",
       "      <td>0</td>\n",
       "      <td>гражданский брак</td>\n",
       "      <td>1</td>\n",
       "      <td>M</td>\n",
       "      <td>компаньон</td>\n",
       "      <td>0</td>\n",
       "      <td>255763.565419</td>\n",
       "      <td>покупка жилья</td>\n",
       "    </tr>\n",
       "    <tr>\n",
       "      <th>6</th>\n",
       "      <td>0</td>\n",
       "      <td>-2879.202052</td>\n",
       "      <td>43</td>\n",
       "      <td>высшее</td>\n",
       "      <td>0</td>\n",
       "      <td>женат / замужем</td>\n",
       "      <td>0</td>\n",
       "      <td>F</td>\n",
       "      <td>компаньон</td>\n",
       "      <td>0</td>\n",
       "      <td>240525.971920</td>\n",
       "      <td>операции с жильем</td>\n",
       "    </tr>\n",
       "    <tr>\n",
       "      <th>7</th>\n",
       "      <td>0</td>\n",
       "      <td>-152.779569</td>\n",
       "      <td>50</td>\n",
       "      <td>СРЕДНЕЕ</td>\n",
       "      <td>1</td>\n",
       "      <td>женат / замужем</td>\n",
       "      <td>0</td>\n",
       "      <td>M</td>\n",
       "      <td>сотрудник</td>\n",
       "      <td>0</td>\n",
       "      <td>135823.934197</td>\n",
       "      <td>образование</td>\n",
       "    </tr>\n",
       "    <tr>\n",
       "      <th>8</th>\n",
       "      <td>2</td>\n",
       "      <td>-6929.865299</td>\n",
       "      <td>35</td>\n",
       "      <td>ВЫСШЕЕ</td>\n",
       "      <td>0</td>\n",
       "      <td>гражданский брак</td>\n",
       "      <td>1</td>\n",
       "      <td>F</td>\n",
       "      <td>сотрудник</td>\n",
       "      <td>0</td>\n",
       "      <td>95856.832424</td>\n",
       "      <td>на проведение свадьбы</td>\n",
       "    </tr>\n",
       "    <tr>\n",
       "      <th>9</th>\n",
       "      <td>0</td>\n",
       "      <td>-2188.756445</td>\n",
       "      <td>41</td>\n",
       "      <td>среднее</td>\n",
       "      <td>1</td>\n",
       "      <td>женат / замужем</td>\n",
       "      <td>0</td>\n",
       "      <td>M</td>\n",
       "      <td>сотрудник</td>\n",
       "      <td>0</td>\n",
       "      <td>144425.938277</td>\n",
       "      <td>покупка жилья для семьи</td>\n",
       "    </tr>\n",
       "  </tbody>\n",
       "</table>\n",
       "</div>"
      ],
      "text/plain": [
       "   children  days_employed  dob_years education  education_id  \\\n",
       "0         1   -8437.673028         42    высшее             0   \n",
       "1         1   -4024.803754         36   среднее             1   \n",
       "2         0   -5623.422610         33   Среднее             1   \n",
       "3         3   -4124.747207         32   среднее             1   \n",
       "4         0  340266.072047         53   среднее             1   \n",
       "5         0    -926.185831         27    высшее             0   \n",
       "6         0   -2879.202052         43    высшее             0   \n",
       "7         0    -152.779569         50   СРЕДНЕЕ             1   \n",
       "8         2   -6929.865299         35    ВЫСШЕЕ             0   \n",
       "9         0   -2188.756445         41   среднее             1   \n",
       "\n",
       "      family_status  family_status_id gender income_type  debt   total_income  \\\n",
       "0   женат / замужем                 0      F   сотрудник     0  253875.639453   \n",
       "1   женат / замужем                 0      F   сотрудник     0  112080.014102   \n",
       "2   женат / замужем                 0      M   сотрудник     0  145885.952297   \n",
       "3   женат / замужем                 0      M   сотрудник     0  267628.550329   \n",
       "4  гражданский брак                 1      F   пенсионер     0  158616.077870   \n",
       "5  гражданский брак                 1      M   компаньон     0  255763.565419   \n",
       "6   женат / замужем                 0      F   компаньон     0  240525.971920   \n",
       "7   женат / замужем                 0      M   сотрудник     0  135823.934197   \n",
       "8  гражданский брак                 1      F   сотрудник     0   95856.832424   \n",
       "9   женат / замужем                 0      M   сотрудник     0  144425.938277   \n",
       "\n",
       "                      purpose  \n",
       "0               покупка жилья  \n",
       "1     приобретение автомобиля  \n",
       "2               покупка жилья  \n",
       "3  дополнительное образование  \n",
       "4             сыграть свадьбу  \n",
       "5               покупка жилья  \n",
       "6           операции с жильем  \n",
       "7                 образование  \n",
       "8       на проведение свадьбы  \n",
       "9     покупка жилья для семьи  "
      ]
     },
     "execution_count": 3,
     "metadata": {},
     "output_type": "execute_result"
    }
   ],
   "source": [
    "data.head(10)"
   ]
  },
  {
   "cell_type": "code",
   "execution_count": 4,
   "id": "79218022",
   "metadata": {
    "deletable": false,
    "id": "2b757bca",
    "outputId": "15376089-8dad-46c9-b520-c05248d43158"
   },
   "outputs": [
    {
     "name": "stdout",
     "output_type": "stream",
     "text": [
      "<class 'pandas.core.frame.DataFrame'>\n",
      "RangeIndex: 21525 entries, 0 to 21524\n",
      "Data columns (total 12 columns):\n",
      " #   Column            Non-Null Count  Dtype  \n",
      "---  ------            --------------  -----  \n",
      " 0   children          21525 non-null  int64  \n",
      " 1   days_employed     19351 non-null  float64\n",
      " 2   dob_years         21525 non-null  int64  \n",
      " 3   education         21525 non-null  object \n",
      " 4   education_id      21525 non-null  int64  \n",
      " 5   family_status     21525 non-null  object \n",
      " 6   family_status_id  21525 non-null  int64  \n",
      " 7   gender            21525 non-null  object \n",
      " 8   income_type       21525 non-null  object \n",
      " 9   debt              21525 non-null  int64  \n",
      " 10  total_income      19351 non-null  float64\n",
      " 11  purpose           21525 non-null  object \n",
      "dtypes: float64(2), int64(5), object(5)\n",
      "memory usage: 2.0+ MB\n"
     ]
    }
   ],
   "source": [
    "data.info()"
   ]
  },
  {
   "cell_type": "markdown",
   "id": "d750d37b",
   "metadata": {},
   "source": [
    "**Вывод** Файл содержит 12 столбцов и 21525 сторк. \n",
    "\n",
    "В 2 столбцах тип данных - `float`, в 5 - `int`, `object` - в 5.\n",
    "\n",
    "\n",
    "Для анализа представлены следующие колонки:\n",
    "- `children` — для проверки зависимости между наличием детей и возвратом кредита в срок;\n",
    "- `family_status` — для проверки зависимости между семейным положением и возвратом кредита в срок;\n",
    "- `family_status_id` — для проверки зависимости между семейным положением и возвратом кредита в срок;\n",
    "- `total_income` — для проверки зависимости между уровнем дохода и возвратом кредита в срок;\n",
    "- `purpose` — для проверки как разные цели кредита влияют на его возврат в срок.\n",
    "- Колонка `debt` содержит сведения о наличии задолженности по возврату кредитов."
   ]
  },
  {
   "cell_type": "markdown",
   "id": "1e748215",
   "metadata": {
    "deletable": false,
    "editable": false,
    "id": "333ec665"
   },
   "source": [
    "## Предобработка данных"
   ]
  },
  {
   "cell_type": "markdown",
   "id": "8fdaf997",
   "metadata": {},
   "source": [
    "### Обработка пропусков"
   ]
  },
  {
   "cell_type": "code",
   "execution_count": 5,
   "id": "c3473101",
   "metadata": {},
   "outputs": [
    {
     "data": {
      "text/plain": [
       "days_employed    2174\n",
       "total_income     2174\n",
       "dtype: int64"
      ]
     },
     "execution_count": 5,
     "metadata": {},
     "output_type": "execute_result"
    }
   ],
   "source": [
    "data.isna().sum().sort_values(ascending=False)[data.isna().sum().sort_values(ascending=False) > 0]"
   ]
  },
  {
   "cell_type": "markdown",
   "id": "36c9e915",
   "metadata": {},
   "source": [
    "Поскольку пропущенные данные носят количественный характер, заполним их характерными значениями с помощью метода median(). Данный метод лучше подходит для расчета среднего дохода, если имеются выбросы.\n",
    "\n",
    "При этом, будем использовать группировку уровня дохода в зависимости от типа занятости (income type).\n",
    "\n",
    "Проверим, действительно ли зависит средний доход от типа занятости:"
   ]
  },
  {
   "cell_type": "code",
   "execution_count": 6,
   "id": "18277d6a",
   "metadata": {},
   "outputs": [
    {
     "data": {
      "text/plain": [
       "income_type\n",
       "предприниматель    499163.144947\n",
       "компаньон          172357.950966\n",
       "госслужащий        150447.935283\n",
       "сотрудник          142594.396847\n",
       "безработный        131339.751676\n",
       "пенсионер          118514.486412\n",
       "студент             98201.625314\n",
       "в декрете           53829.130729\n",
       "Name: total_income, dtype: float64"
      ]
     },
     "execution_count": 6,
     "metadata": {},
     "output_type": "execute_result"
    }
   ],
   "source": [
    "data.groupby('income_type')['total_income'].median().sort_values(ascending=False)"
   ]
  },
  {
   "cell_type": "markdown",
   "id": "10a0f39d",
   "metadata": {},
   "source": [
    "Исправим пропуски в среднем доходе:"
   ]
  },
  {
   "cell_type": "code",
   "execution_count": 7,
   "id": "4d7e37e1",
   "metadata": {},
   "outputs": [],
   "source": [
    "data['total_income'] = data['total_income'].fillna(data.groupby(['income_type'])['total_income'].transform('median'))"
   ]
  },
  {
   "cell_type": "markdown",
   "id": "a9e62f3f",
   "metadata": {},
   "source": [
    "Так же заполним пропуски в `days_employed`:"
   ]
  },
  {
   "cell_type": "code",
   "execution_count": 8,
   "id": "be143dae",
   "metadata": {},
   "outputs": [],
   "source": [
    "data['days_employed'] = data['days_employed'].fillna(data.groupby(['income_type'])['days_employed'].transform('median'))"
   ]
  },
  {
   "cell_type": "markdown",
   "id": "ad2ea70c",
   "metadata": {},
   "source": [
    "### Замена типа данных"
   ]
  },
  {
   "cell_type": "markdown",
   "id": "b069f8a1",
   "metadata": {},
   "source": [
    "Колонка `total_income` содержит вещественный формат данных, поменяем на `int`:"
   ]
  },
  {
   "cell_type": "code",
   "execution_count": 9,
   "id": "1b4fbf80",
   "metadata": {},
   "outputs": [],
   "source": [
    "data['total_income'] = data['total_income'].astype('int')"
   ]
  },
  {
   "cell_type": "markdown",
   "id": "817e9139",
   "metadata": {
    "deletable": false,
    "editable": false,
    "id": "89da5ece"
   },
   "source": [
    "### Обработка аномальных значений"
   ]
  },
  {
   "cell_type": "markdown",
   "id": "b51c0320",
   "metadata": {
    "deletable": false,
    "editable": false,
    "id": "57964554"
   },
   "source": [
    "В данных содержаться анимальные значения. Заменим отрицательный стаж:"
   ]
  },
  {
   "cell_type": "code",
   "execution_count": 10,
   "id": "efab71c8",
   "metadata": {
    "deletable": false,
    "id": "f6f055bf"
   },
   "outputs": [],
   "source": [
    "data['days_employed'] = data['days_employed'].abs()"
   ]
  },
  {
   "cell_type": "markdown",
   "id": "b9a90316",
   "metadata": {
    "deletable": false,
    "editable": false,
    "id": "d8a9f147"
   },
   "source": [
    "Проверим количество детей в семье `children`:"
   ]
  },
  {
   "cell_type": "code",
   "execution_count": 11,
   "id": "5a46d423",
   "metadata": {
    "deletable": false,
    "id": "ef5056eb",
    "outputId": "6975b15c-7f95-4697-d16d-a0c79b657b03"
   },
   "outputs": [
    {
     "data": {
      "text/plain": [
       "array([ 1,  0,  3,  2, -1,  4, 20,  5], dtype=int64)"
      ]
     },
     "execution_count": 11,
     "metadata": {},
     "output_type": "execute_result"
    }
   ],
   "source": [
    "data['children'].unique()"
   ]
  },
  {
   "cell_type": "markdown",
   "id": "624a710e",
   "metadata": {
    "deletable": false,
    "editable": false,
    "id": "40b9ebf2"
   },
   "source": [
    "В датасете найдены аномальные значение - отрицательное количество детей и `20` детей. Исправим это:"
   ]
  },
  {
   "cell_type": "code",
   "execution_count": 12,
   "id": "00a685e3",
   "metadata": {
    "deletable": false,
    "id": "3ff9801d"
   },
   "outputs": [],
   "source": [
    "data = data[(data['children'] != -1) & (data['children'] != 20)]"
   ]
  },
  {
   "cell_type": "markdown",
   "id": "ec4715ba",
   "metadata": {
    "deletable": false,
    "editable": false,
    "id": "bbc4d0ce"
   },
   "source": [
    "Проверим исправления:"
   ]
  },
  {
   "cell_type": "code",
   "execution_count": 13,
   "id": "13c0985e",
   "metadata": {
    "deletable": false,
    "id": "ad4fa8b7",
    "outputId": "b2097101-d49d-44d9-901b-32a65c9463d1"
   },
   "outputs": [
    {
     "data": {
      "text/plain": [
       "array([1, 0, 3, 2, 4, 5], dtype=int64)"
      ]
     },
     "execution_count": 13,
     "metadata": {},
     "output_type": "execute_result"
    }
   ],
   "source": [
    "data['children'].unique()"
   ]
  },
  {
   "cell_type": "markdown",
   "id": "d5cf0aaa",
   "metadata": {
    "deletable": false,
    "editable": false,
    "id": "2753f40d"
   },
   "source": [
    "Убедимся, что предобработка данных проведена корректно:"
   ]
  },
  {
   "cell_type": "code",
   "execution_count": 14,
   "id": "36b0534e",
   "metadata": {
    "deletable": false,
    "id": "55f78bc2",
    "outputId": "8da1e4e1-358e-4e87-98c9-f261bce0a7b2"
   },
   "outputs": [
    {
     "data": {
      "text/plain": [
       "children            0\n",
       "days_employed       0\n",
       "dob_years           0\n",
       "education           0\n",
       "education_id        0\n",
       "family_status       0\n",
       "family_status_id    0\n",
       "gender              0\n",
       "income_type         0\n",
       "debt                0\n",
       "total_income        0\n",
       "purpose             0\n",
       "dtype: int64"
      ]
     },
     "execution_count": 14,
     "metadata": {},
     "output_type": "execute_result"
    }
   ],
   "source": [
    "data.isna().sum()"
   ]
  },
  {
   "cell_type": "markdown",
   "id": "c5256e7f",
   "metadata": {
    "deletable": false,
    "editable": false,
    "id": "80c420ba"
   },
   "source": [
    "### Обработка дубликатов"
   ]
  },
  {
   "cell_type": "markdown",
   "id": "3271d3ef",
   "metadata": {
    "deletable": false,
    "editable": false
   },
   "source": [
    "Обработаем явные и неявные дубликаты в `education`:"
   ]
  },
  {
   "cell_type": "code",
   "execution_count": 15,
   "id": "d12f4f78",
   "metadata": {
    "deletable": false
   },
   "outputs": [],
   "source": [
    "data['education'] = data['education'].str.lower()"
   ]
  },
  {
   "cell_type": "code",
   "execution_count": 16,
   "id": "dc353680",
   "metadata": {
    "deletable": false,
    "id": "3ee445e4",
    "outputId": "9684deba-1934-42d1-99e1-cda61740f822"
   },
   "outputs": [
    {
     "data": {
      "text/plain": [
       "71"
      ]
     },
     "execution_count": 16,
     "metadata": {},
     "output_type": "execute_result"
    }
   ],
   "source": [
    "data.duplicated().sum()"
   ]
  },
  {
   "cell_type": "code",
   "execution_count": 17,
   "id": "76029619",
   "metadata": {
    "deletable": false,
    "id": "8575fe05"
   },
   "outputs": [],
   "source": [
    "data = data.drop_duplicates()"
   ]
  },
  {
   "cell_type": "markdown",
   "id": "9bcdc060",
   "metadata": {
    "deletable": false,
    "editable": false,
    "id": "9904cf55"
   },
   "source": [
    "### Категоризация данных"
   ]
  },
  {
   "cell_type": "markdown",
   "id": "aeeee4ae",
   "metadata": {
    "deletable": false,
    "editable": false,
    "id": "72fcc8a2"
   },
   "source": [
    "Произведем категоризацию данных на основании диапазонов, указанных ниже:\n",
    "\n",
    "- 0–30000 — `'E'`;\n",
    "- 30001–50000 — `'D'`;\n",
    "- 50001–200000 — `'C'`;\n",
    "- 200001–1000000 — `'B'`;\n",
    "- 1000001 и выше — `'A'`."
   ]
  },
  {
   "cell_type": "code",
   "execution_count": 18,
   "id": "a8466cc7",
   "metadata": {
    "deletable": false,
    "id": "e1771346"
   },
   "outputs": [],
   "source": [
    "def categorize_income(income):\n",
    "    try:\n",
    "        if 0 <= income <= 30000:\n",
    "            return 'E'\n",
    "        elif 30001 <= income <= 50000:\n",
    "            return 'D'\n",
    "        elif 50001 <= income <= 200000:\n",
    "            return 'C'\n",
    "        elif 200001 <= income <= 1000000:\n",
    "            return 'B'\n",
    "        elif income >= 1000001:\n",
    "            return 'A'\n",
    "    except:\n",
    "        pass"
   ]
  },
  {
   "cell_type": "code",
   "execution_count": 19,
   "id": "6278b565",
   "metadata": {
    "deletable": false,
    "id": "d5f3586d"
   },
   "outputs": [],
   "source": [
    "data['total_income_category'] = data['total_income'].apply(categorize_income)"
   ]
  },
  {
   "cell_type": "markdown",
   "id": "2d9ec477",
   "metadata": {
    "deletable": false,
    "editable": false,
    "id": "dde49b5c"
   },
   "source": [
    "Посмотрим на перечень уникальных целей для кредита в колонке `purpose`:"
   ]
  },
  {
   "cell_type": "code",
   "execution_count": 20,
   "id": "5be07e28",
   "metadata": {
    "deletable": false,
    "id": "f67ce9b3",
    "outputId": "673c12d9-7d7e-4ae0-9812-c622c89dd244"
   },
   "outputs": [
    {
     "data": {
      "text/plain": [
       "array(['покупка жилья', 'приобретение автомобиля',\n",
       "       'дополнительное образование', 'сыграть свадьбу',\n",
       "       'операции с жильем', 'образование', 'на проведение свадьбы',\n",
       "       'покупка жилья для семьи', 'покупка недвижимости',\n",
       "       'покупка коммерческой недвижимости', 'покупка жилой недвижимости',\n",
       "       'строительство собственной недвижимости', 'недвижимость',\n",
       "       'строительство недвижимости', 'на покупку подержанного автомобиля',\n",
       "       'на покупку своего автомобиля',\n",
       "       'операции с коммерческой недвижимостью',\n",
       "       'строительство жилой недвижимости', 'жилье',\n",
       "       'операции со своей недвижимостью', 'автомобили',\n",
       "       'заняться образованием', 'сделка с подержанным автомобилем',\n",
       "       'получение образования', 'автомобиль', 'свадьба',\n",
       "       'получение дополнительного образования', 'покупка своего жилья',\n",
       "       'операции с недвижимостью', 'получение высшего образования',\n",
       "       'свой автомобиль', 'сделка с автомобилем',\n",
       "       'профильное образование', 'высшее образование',\n",
       "       'покупка жилья для сдачи', 'на покупку автомобиля', 'ремонт жилью',\n",
       "       'заняться высшим образованием'], dtype=object)"
      ]
     },
     "execution_count": 20,
     "metadata": {},
     "output_type": "execute_result"
    }
   ],
   "source": [
    "data['purpose'].unique()"
   ]
  },
  {
   "cell_type": "markdown",
   "id": "cd730c47",
   "metadata": {},
   "source": [
    "Так же катетеризуем данные следующим образом:\n",
    "\n",
    "- `'операции с автомобилем'`,\n",
    "- `'операции с недвижимостью'`,\n",
    "- `'проведение свадьбы'`,\n",
    "- `'получение образования'`."
   ]
  },
  {
   "cell_type": "code",
   "execution_count": 21,
   "id": "7b25b3dd",
   "metadata": {
    "deletable": false,
    "id": "e149fab4"
   },
   "outputs": [],
   "source": [
    "def categorize_purpose(row):\n",
    "    try:\n",
    "        if 'автом' in row:\n",
    "            return 'операции с автомобилем'\n",
    "        elif 'жил' in row or 'недвиж' in row:\n",
    "            return 'операции с недвижимостью'\n",
    "        elif 'свад' in row:\n",
    "            return 'проведение свадьбы'\n",
    "        elif 'образов' in row:\n",
    "            return 'получение образования'\n",
    "    except:\n",
    "        return 'нет категории'"
   ]
  },
  {
   "cell_type": "code",
   "execution_count": 22,
   "id": "690431ac",
   "metadata": {
    "deletable": false,
    "id": "bf36e69b"
   },
   "outputs": [],
   "source": [
    "data['purpose_category'] = data['purpose'].apply(categorize_purpose)"
   ]
  },
  {
   "cell_type": "markdown",
   "id": "2c53d4dc",
   "metadata": {
    "deletable": false,
    "editable": false,
    "id": "09b242bf"
   },
   "source": [
    "### Шаг 3. Исследование данных"
   ]
  },
  {
   "cell_type": "markdown",
   "id": "2c15608a",
   "metadata": {
    "deletable": false,
    "editable": false,
    "id": "c5d66278"
   },
   "source": [
    "#### 3.1 Есть ли зависимость между количеством детей и возвратом кредита в срок?"
   ]
  },
  {
   "cell_type": "code",
   "execution_count": 23,
   "id": "b44c4cc2",
   "metadata": {
    "deletable": false,
    "id": "2cacfc4a"
   },
   "outputs": [
    {
     "data": {
      "text/html": [
       "<style type=\"text/css\">\n",
       "#T_81ca7_row4_col2 {\n",
       "  background-color: red;\n",
       "}\n",
       "#T_81ca7_row5_col2 {\n",
       "  background-color: green;\n",
       "}\n",
       "</style>\n",
       "<table id=\"T_81ca7\">\n",
       "  <caption>debt/children</caption>\n",
       "  <thead>\n",
       "    <tr>\n",
       "      <th class=\"blank level0\" >&nbsp;</th>\n",
       "      <th id=\"T_81ca7_level0_col0\" class=\"col_heading level0 col0\" >total</th>\n",
       "      <th id=\"T_81ca7_level0_col1\" class=\"col_heading level0 col1\" >debt</th>\n",
       "      <th id=\"T_81ca7_level0_col2\" class=\"col_heading level0 col2\" >relative_amount_debt_div_by_total</th>\n",
       "    </tr>\n",
       "    <tr>\n",
       "      <th class=\"index_name level0\" >children</th>\n",
       "      <th class=\"blank col0\" >&nbsp;</th>\n",
       "      <th class=\"blank col1\" >&nbsp;</th>\n",
       "      <th class=\"blank col2\" >&nbsp;</th>\n",
       "    </tr>\n",
       "  </thead>\n",
       "  <tbody>\n",
       "    <tr>\n",
       "      <th id=\"T_81ca7_level0_row0\" class=\"row_heading level0 row0\" >0</th>\n",
       "      <td id=\"T_81ca7_row0_col0\" class=\"data row0 col0\" >14091</td>\n",
       "      <td id=\"T_81ca7_row0_col1\" class=\"data row0 col1\" >1063</td>\n",
       "      <td id=\"T_81ca7_row0_col2\" class=\"data row0 col2\" >7.54%</td>\n",
       "    </tr>\n",
       "    <tr>\n",
       "      <th id=\"T_81ca7_level0_row1\" class=\"row_heading level0 row1\" >1</th>\n",
       "      <td id=\"T_81ca7_row1_col0\" class=\"data row1 col0\" >4808</td>\n",
       "      <td id=\"T_81ca7_row1_col1\" class=\"data row1 col1\" >444</td>\n",
       "      <td id=\"T_81ca7_row1_col2\" class=\"data row1 col2\" >9.23%</td>\n",
       "    </tr>\n",
       "    <tr>\n",
       "      <th id=\"T_81ca7_level0_row2\" class=\"row_heading level0 row2\" >2</th>\n",
       "      <td id=\"T_81ca7_row2_col0\" class=\"data row2 col0\" >2052</td>\n",
       "      <td id=\"T_81ca7_row2_col1\" class=\"data row2 col1\" >194</td>\n",
       "      <td id=\"T_81ca7_row2_col2\" class=\"data row2 col2\" >9.45%</td>\n",
       "    </tr>\n",
       "    <tr>\n",
       "      <th id=\"T_81ca7_level0_row3\" class=\"row_heading level0 row3\" >3</th>\n",
       "      <td id=\"T_81ca7_row3_col0\" class=\"data row3 col0\" >330</td>\n",
       "      <td id=\"T_81ca7_row3_col1\" class=\"data row3 col1\" >27</td>\n",
       "      <td id=\"T_81ca7_row3_col2\" class=\"data row3 col2\" >8.18%</td>\n",
       "    </tr>\n",
       "    <tr>\n",
       "      <th id=\"T_81ca7_level0_row4\" class=\"row_heading level0 row4\" >4</th>\n",
       "      <td id=\"T_81ca7_row4_col0\" class=\"data row4 col0\" >41</td>\n",
       "      <td id=\"T_81ca7_row4_col1\" class=\"data row4 col1\" >4</td>\n",
       "      <td id=\"T_81ca7_row4_col2\" class=\"data row4 col2\" >9.76%</td>\n",
       "    </tr>\n",
       "    <tr>\n",
       "      <th id=\"T_81ca7_level0_row5\" class=\"row_heading level0 row5\" >5</th>\n",
       "      <td id=\"T_81ca7_row5_col0\" class=\"data row5 col0\" >9</td>\n",
       "      <td id=\"T_81ca7_row5_col1\" class=\"data row5 col1\" >0</td>\n",
       "      <td id=\"T_81ca7_row5_col2\" class=\"data row5 col2\" >0.00%</td>\n",
       "    </tr>\n",
       "  </tbody>\n",
       "</table>\n"
      ],
      "text/plain": [
       "<pandas.io.formats.style.Styler at 0x1a72da00580>"
      ]
     },
     "execution_count": 23,
     "metadata": {},
     "output_type": "execute_result"
    }
   ],
   "source": [
    "(\n",
    "    data\n",
    "    .pivot_table('debt', index='children',aggfunc=['count','sum','mean'])\n",
    "    .droplevel(1,axis=1)\n",
    "    .rename(columns={'count':'total','sum':'debt','mean':'relative_amount_debt_div_by_total'})\n",
    "    .style\n",
    "    .format({'relative_amount_debt_div_by_total': '{:,.2%}'.format})\n",
    "    .highlight_max(color='red', subset='relative_amount_debt_div_by_total')\n",
    "    .highlight_min(color='green',subset='relative_amount_debt_div_by_total')\n",
    "    .set_caption('debt/children')\n",
    ")"
   ]
  },
  {
   "cell_type": "markdown",
   "id": "ea13e0dc",
   "metadata": {
    "deletable": false,
    "id": "3a6b99ec"
   },
   "source": [
    "**Вывод:** \n",
    "\n",
    "Из таблицы `result_debt_vs_amount_of_children` можно сделать следующие выводы: \n",
    "\n",
    "1. Самый маленький процент просроченных кредитов у семей без детей. Процент составляет `7.54%`;\n",
    "\n",
    "2. В семьях с пятью и более детьми отсутсвуют просрочки по кредитам. Однако это объясняется не объективными факторами, а малой выборкой, ведь общее количество таких семей составляет всего $9$ домохозяйств;\n",
    "\n",
    "3. Что касается остальных групп, то при  увеличении числа детей в семье наблюдается плавный рост примерно на `0.2%`. Исключение составляют семьи, в которых три ребенка. Здесь процент просрочек равен `8.18%`. \n",
    "\n",
    "Таким образом, количество просроченных кредитов у семей без детей и с детьми четко различается. При этом при увеличении количества детей в семье наблюдается плавный рост количества просрочек. Однако бывают статистические аномалии, как в случае группы семей с тремя детьми. В связи с чем, не представляется возможным сделать однозначный вывод о том, что между количеством детей в семье (где есть хотя бы один ребёнок) и просрочками по кредиту существует корреляция."
   ]
  },
  {
   "cell_type": "markdown",
   "id": "088a9ffa",
   "metadata": {
    "deletable": false,
    "editable": false,
    "id": "97be82ca"
   },
   "source": [
    "#### 3.2 Есть ли зависимость между семейным положением и возвратом кредита в срок?"
   ]
  },
  {
   "cell_type": "code",
   "execution_count": 24,
   "id": "1c5e28b9",
   "metadata": {
    "deletable": false,
    "id": "dc3f7ee8"
   },
   "outputs": [
    {
     "data": {
      "text/html": [
       "<style type=\"text/css\">\n",
       "#T_3a12a_row0_col2 {\n",
       "  background-color: red;\n",
       "}\n",
       "#T_3a12a_row2_col2 {\n",
       "  background-color: green;\n",
       "}\n",
       "</style>\n",
       "<table id=\"T_3a12a\">\n",
       "  <caption>debt/family_status</caption>\n",
       "  <thead>\n",
       "    <tr>\n",
       "      <th class=\"blank level0\" >&nbsp;</th>\n",
       "      <th id=\"T_3a12a_level0_col0\" class=\"col_heading level0 col0\" >total</th>\n",
       "      <th id=\"T_3a12a_level0_col1\" class=\"col_heading level0 col1\" >debt</th>\n",
       "      <th id=\"T_3a12a_level0_col2\" class=\"col_heading level0 col2\" >relative_amount_debt_div_by_total</th>\n",
       "    </tr>\n",
       "    <tr>\n",
       "      <th class=\"index_name level0\" >family_status</th>\n",
       "      <th class=\"blank col0\" >&nbsp;</th>\n",
       "      <th class=\"blank col1\" >&nbsp;</th>\n",
       "      <th class=\"blank col2\" >&nbsp;</th>\n",
       "    </tr>\n",
       "  </thead>\n",
       "  <tbody>\n",
       "    <tr>\n",
       "      <th id=\"T_3a12a_level0_row0\" class=\"row_heading level0 row0\" >Не женат / не замужем</th>\n",
       "      <td id=\"T_3a12a_row0_col0\" class=\"data row0 col0\" >2796</td>\n",
       "      <td id=\"T_3a12a_row0_col1\" class=\"data row0 col1\" >273</td>\n",
       "      <td id=\"T_3a12a_row0_col2\" class=\"data row0 col2\" >9.76%</td>\n",
       "    </tr>\n",
       "    <tr>\n",
       "      <th id=\"T_3a12a_level0_row1\" class=\"row_heading level0 row1\" >в разводе</th>\n",
       "      <td id=\"T_3a12a_row1_col0\" class=\"data row1 col0\" >1189</td>\n",
       "      <td id=\"T_3a12a_row1_col1\" class=\"data row1 col1\" >84</td>\n",
       "      <td id=\"T_3a12a_row1_col2\" class=\"data row1 col2\" >7.06%</td>\n",
       "    </tr>\n",
       "    <tr>\n",
       "      <th id=\"T_3a12a_level0_row2\" class=\"row_heading level0 row2\" >вдовец / вдова</th>\n",
       "      <td id=\"T_3a12a_row2_col0\" class=\"data row2 col0\" >951</td>\n",
       "      <td id=\"T_3a12a_row2_col1\" class=\"data row2 col1\" >63</td>\n",
       "      <td id=\"T_3a12a_row2_col2\" class=\"data row2 col2\" >6.62%</td>\n",
       "    </tr>\n",
       "    <tr>\n",
       "      <th id=\"T_3a12a_level0_row3\" class=\"row_heading level0 row3\" >гражданский брак</th>\n",
       "      <td id=\"T_3a12a_row3_col0\" class=\"data row3 col0\" >4134</td>\n",
       "      <td id=\"T_3a12a_row3_col1\" class=\"data row3 col1\" >385</td>\n",
       "      <td id=\"T_3a12a_row3_col2\" class=\"data row3 col2\" >9.31%</td>\n",
       "    </tr>\n",
       "    <tr>\n",
       "      <th id=\"T_3a12a_level0_row4\" class=\"row_heading level0 row4\" >женат / замужем</th>\n",
       "      <td id=\"T_3a12a_row4_col0\" class=\"data row4 col0\" >12261</td>\n",
       "      <td id=\"T_3a12a_row4_col1\" class=\"data row4 col1\" >927</td>\n",
       "      <td id=\"T_3a12a_row4_col2\" class=\"data row4 col2\" >7.56%</td>\n",
       "    </tr>\n",
       "  </tbody>\n",
       "</table>\n"
      ],
      "text/plain": [
       "<pandas.io.formats.style.Styler at 0x1a72e252730>"
      ]
     },
     "execution_count": 24,
     "metadata": {},
     "output_type": "execute_result"
    }
   ],
   "source": [
    "(\n",
    "    data\n",
    "    .pivot_table('debt', index='family_status',aggfunc=['count','sum','mean'])\n",
    "    .droplevel(1,axis=1)\n",
    "    .rename(columns={'count':'total','sum':'debt','mean':'relative_amount_debt_div_by_total'})\n",
    "    .style\n",
    "    .format({'relative_amount_debt_div_by_total': '{:,.2%}'.format})\n",
    "    .highlight_max(color='red', subset='relative_amount_debt_div_by_total')\n",
    "    .highlight_min(color='green',subset='relative_amount_debt_div_by_total')\n",
    "    .set_caption('debt/family_status')\n",
    ")"
   ]
  },
  {
   "cell_type": "markdown",
   "id": "56b61297",
   "metadata": {
    "deletable": false,
    "id": "1cef7837"
   },
   "source": [
    "**Вывод:** \n",
    "\n",
    "Из сводной таблицы `debt/family_status` можно сделать следующие выводы:\n",
    "1. Средний процент просрочек среди всех групп составляет - `8.06%`. При этом выборку нельзя назвать сбалансированной по количеству наблюдений;\n",
    "\n",
    "2. Наибольшая группа по числу кредитов - `женат/замужем`. Относительный процент просрочек здесь ниже среднего и составляет `7.56%`, из чего можно сделать аккуратный вывод, что пары, состоящие в браке, явлются надежными заемщиками;\n",
    "\n",
    "3. Самый маленький процент просрочек у группы `вдовец/вдова`  -  `6.62%`. Однако стоит учитывать количество наблюдений, здесь выборка (по естественным причинам) наименьшая из всех групп и составляет всего `951` человека, что практически в 13 раз меньше чем у группы из пункта 2. Таким образом, данные могут оказаться не репрезентативными в отдельности от других факторов;\n",
    "\n",
    "4. То же самое, что и в пункте 3, можно сказать про группу `в разводе`, где процент просрочек составаляет `7.06%`, при выборке в `1189` наблюдений;\n",
    "\n",
    "4. Самый большой процент у группы `Не женат/не замужем` - `9.76%`. При этом количество наблюдений в выборке соостветует медианному значению. Так, категория `не женат/не замужем` является наименее надежным заемщиком.\n",
    "\n",
    "5. Следом идёт группа `гражданский брак` - `9.31%`. Количество домохозяйств: `4134`, что позволяет также данную категорию назвать ненадежными заемщиками.\n",
    "\n",
    "Таким образом, таблицу `debt/family_status` можно поделить на две категории\n",
    "- Количество наблюдений `~1000`. Не смотря на маленький средний процент - `6.84%` просрочек у таких групп как `в разводе` и `вдовец/вдова`, нельзя сделать однознаный вывод о их надежности;\n",
    "- Количество наблюдений равное медианному и больше. Здесь наименьший процент просрочек у наибольшей группы `женат/замужем` в связи с чем это наиболее благонадежные заёмщики. У групп `не женат/не замужем` и `гражданский брак` же процент просрочек наибольший среди всех групп, в связи с чем их можно назвать наименее благонадежными заёмщиками."
   ]
  },
  {
   "cell_type": "markdown",
   "id": "8fa39061",
   "metadata": {
    "deletable": false,
    "editable": false,
    "id": "1e8b2fca"
   },
   "source": [
    "#### 3.3 Есть ли зависимость между уровнем дохода и возвратом кредита в срок?"
   ]
  },
  {
   "cell_type": "code",
   "execution_count": 25,
   "id": "2ce71e56",
   "metadata": {
    "deletable": false,
    "id": "cd7e3720"
   },
   "outputs": [
    {
     "data": {
      "text/html": [
       "<style type=\"text/css\">\n",
       "#T_b3d63_row3_col2 {\n",
       "  background-color: green;\n",
       "}\n",
       "#T_b3d63_row4_col2 {\n",
       "  background-color: red;\n",
       "}\n",
       "</style>\n",
       "<table id=\"T_b3d63\">\n",
       "  <caption>debt/total_income_category</caption>\n",
       "  <thead>\n",
       "    <tr>\n",
       "      <th class=\"blank level0\" >&nbsp;</th>\n",
       "      <th id=\"T_b3d63_level0_col0\" class=\"col_heading level0 col0\" >total</th>\n",
       "      <th id=\"T_b3d63_level0_col1\" class=\"col_heading level0 col1\" >debt</th>\n",
       "      <th id=\"T_b3d63_level0_col2\" class=\"col_heading level0 col2\" >relative_amount_debt_div_by_total</th>\n",
       "    </tr>\n",
       "    <tr>\n",
       "      <th class=\"index_name level0\" >total_income_category</th>\n",
       "      <th class=\"blank col0\" >&nbsp;</th>\n",
       "      <th class=\"blank col1\" >&nbsp;</th>\n",
       "      <th class=\"blank col2\" >&nbsp;</th>\n",
       "    </tr>\n",
       "  </thead>\n",
       "  <tbody>\n",
       "    <tr>\n",
       "      <th id=\"T_b3d63_level0_row0\" class=\"row_heading level0 row0\" >A</th>\n",
       "      <td id=\"T_b3d63_row0_col0\" class=\"data row0 col0\" >25</td>\n",
       "      <td id=\"T_b3d63_row0_col1\" class=\"data row0 col1\" >2</td>\n",
       "      <td id=\"T_b3d63_row0_col2\" class=\"data row0 col2\" >8.00%</td>\n",
       "    </tr>\n",
       "    <tr>\n",
       "      <th id=\"T_b3d63_level0_row1\" class=\"row_heading level0 row1\" >B</th>\n",
       "      <td id=\"T_b3d63_row1_col0\" class=\"data row1 col0\" >5014</td>\n",
       "      <td id=\"T_b3d63_row1_col1\" class=\"data row1 col1\" >354</td>\n",
       "      <td id=\"T_b3d63_row1_col2\" class=\"data row1 col2\" >7.06%</td>\n",
       "    </tr>\n",
       "    <tr>\n",
       "      <th id=\"T_b3d63_level0_row2\" class=\"row_heading level0 row2\" >C</th>\n",
       "      <td id=\"T_b3d63_row2_col0\" class=\"data row2 col0\" >15921</td>\n",
       "      <td id=\"T_b3d63_row2_col1\" class=\"data row2 col1\" >1353</td>\n",
       "      <td id=\"T_b3d63_row2_col2\" class=\"data row2 col2\" >8.50%</td>\n",
       "    </tr>\n",
       "    <tr>\n",
       "      <th id=\"T_b3d63_level0_row3\" class=\"row_heading level0 row3\" >D</th>\n",
       "      <td id=\"T_b3d63_row3_col0\" class=\"data row3 col0\" >349</td>\n",
       "      <td id=\"T_b3d63_row3_col1\" class=\"data row3 col1\" >21</td>\n",
       "      <td id=\"T_b3d63_row3_col2\" class=\"data row3 col2\" >6.02%</td>\n",
       "    </tr>\n",
       "    <tr>\n",
       "      <th id=\"T_b3d63_level0_row4\" class=\"row_heading level0 row4\" >E</th>\n",
       "      <td id=\"T_b3d63_row4_col0\" class=\"data row4 col0\" >22</td>\n",
       "      <td id=\"T_b3d63_row4_col1\" class=\"data row4 col1\" >2</td>\n",
       "      <td id=\"T_b3d63_row4_col2\" class=\"data row4 col2\" >9.09%</td>\n",
       "    </tr>\n",
       "  </tbody>\n",
       "</table>\n"
      ],
      "text/plain": [
       "<pandas.io.formats.style.Styler at 0x1a72e1ecbb0>"
      ]
     },
     "execution_count": 25,
     "metadata": {},
     "output_type": "execute_result"
    }
   ],
   "source": [
    "(\n",
    "    data\n",
    "    .pivot_table('debt', index='total_income_category',aggfunc=['count','sum','mean'])\n",
    "    .droplevel(1,axis=1)\n",
    "    .rename(columns={'count':'total','sum':'debt','mean':'relative_amount_debt_div_by_total'})\n",
    "    .style\n",
    "    .format({'relative_amount_debt_div_by_total': '{:,.2%}'.format})\n",
    "    .highlight_max(color='red', subset='relative_amount_debt_div_by_total')\n",
    "    .highlight_min(color='green',subset='relative_amount_debt_div_by_total')\n",
    "    .set_caption('debt/total_income_category')\n",
    ")"
   ]
  },
  {
   "cell_type": "markdown",
   "id": "fa095aed",
   "metadata": {
    "deletable": false,
    "id": "e8593def"
   },
   "source": [
    "**Вывод:** \n",
    "\n",
    "Зависимости между уровнем дохода и возратом кредита в срок нет. Можно предположить, что причина кроется в неизвестных переменных, например, таких как разные цели кредита.\n",
    "\n",
    "Самое большое количество задолженностей - `9.09%` у группы `E` с самым маленьким уровнем доходов. При этом, следом идет группа `D` с наименьшим процентом просроченных кредитов - `6.02%`. \n",
    "\n",
    "Однако стоит учесть количество наблюдений в каждой выборке. Так, группы `E`, `D`, `A` представлены малым количеством домохозяйств, в свзяи с чем выводы могут быть искажены. \n",
    "\n",
    "Что касается хорошо представленных групп, таких как `B` (`7.06%`)  и `C` (`8.5%`), то здесь с ростом дохода падает и количество просрочек. Однако, в связи с маленьким количеством групп, однознаного вывода о том, что рост дохода и возврат кредита в срок это связанные велечины, сделать нельзя. "
   ]
  },
  {
   "cell_type": "markdown",
   "id": "35c827c5",
   "metadata": {
    "deletable": false,
    "editable": false,
    "id": "99ecbd1f"
   },
   "source": [
    "#### 3.4 Как разные цели кредита влияют на его возврат в срок?"
   ]
  },
  {
   "cell_type": "code",
   "execution_count": 26,
   "id": "a4ccdc4f",
   "metadata": {
    "deletable": false,
    "id": "2b687290"
   },
   "outputs": [
    {
     "data": {
      "text/html": [
       "<style type=\"text/css\">\n",
       "#T_e59b7_row0_col2 {\n",
       "  background-color: red;\n",
       "}\n",
       "#T_e59b7_row1_col2 {\n",
       "  background-color: green;\n",
       "}\n",
       "</style>\n",
       "<table id=\"T_e59b7\">\n",
       "  <thead>\n",
       "    <tr>\n",
       "      <th class=\"blank level0\" >&nbsp;</th>\n",
       "      <th id=\"T_e59b7_level0_col0\" class=\"col_heading level0 col0\" >total</th>\n",
       "      <th id=\"T_e59b7_level0_col1\" class=\"col_heading level0 col1\" >debt</th>\n",
       "      <th id=\"T_e59b7_level0_col2\" class=\"col_heading level0 col2\" >relative_amount_debt_div_by_total</th>\n",
       "    </tr>\n",
       "    <tr>\n",
       "      <th class=\"index_name level0\" >purpose_category</th>\n",
       "      <th class=\"blank col0\" >&nbsp;</th>\n",
       "      <th class=\"blank col1\" >&nbsp;</th>\n",
       "      <th class=\"blank col2\" >&nbsp;</th>\n",
       "    </tr>\n",
       "  </thead>\n",
       "  <tbody>\n",
       "    <tr>\n",
       "      <th id=\"T_e59b7_level0_row0\" class=\"row_heading level0 row0\" >операции с автомобилем</th>\n",
       "      <td id=\"T_e59b7_row0_col0\" class=\"data row0 col0\" >4279</td>\n",
       "      <td id=\"T_e59b7_row0_col1\" class=\"data row0 col1\" >400</td>\n",
       "      <td id=\"T_e59b7_row0_col2\" class=\"data row0 col2\" >9.35%</td>\n",
       "    </tr>\n",
       "    <tr>\n",
       "      <th id=\"T_e59b7_level0_row1\" class=\"row_heading level0 row1\" >операции с недвижимостью</th>\n",
       "      <td id=\"T_e59b7_row1_col0\" class=\"data row1 col0\" >10751</td>\n",
       "      <td id=\"T_e59b7_row1_col1\" class=\"data row1 col1\" >780</td>\n",
       "      <td id=\"T_e59b7_row1_col2\" class=\"data row1 col2\" >7.26%</td>\n",
       "    </tr>\n",
       "    <tr>\n",
       "      <th id=\"T_e59b7_level0_row2\" class=\"row_heading level0 row2\" >получение образования</th>\n",
       "      <td id=\"T_e59b7_row2_col0\" class=\"data row2 col0\" >3988</td>\n",
       "      <td id=\"T_e59b7_row2_col1\" class=\"data row2 col1\" >369</td>\n",
       "      <td id=\"T_e59b7_row2_col2\" class=\"data row2 col2\" >9.25%</td>\n",
       "    </tr>\n",
       "    <tr>\n",
       "      <th id=\"T_e59b7_level0_row3\" class=\"row_heading level0 row3\" >проведение свадьбы</th>\n",
       "      <td id=\"T_e59b7_row3_col0\" class=\"data row3 col0\" >2313</td>\n",
       "      <td id=\"T_e59b7_row3_col1\" class=\"data row3 col1\" >183</td>\n",
       "      <td id=\"T_e59b7_row3_col2\" class=\"data row3 col2\" >7.91%</td>\n",
       "    </tr>\n",
       "  </tbody>\n",
       "</table>\n"
      ],
      "text/plain": [
       "<pandas.io.formats.style.Styler at 0x1a72e1ecac0>"
      ]
     },
     "execution_count": 26,
     "metadata": {},
     "output_type": "execute_result"
    }
   ],
   "source": [
    "(\n",
    "    data\n",
    "    .pivot_table('debt', index='purpose_category',aggfunc=['count','sum','mean'])\n",
    "    .droplevel(1,axis=1)\n",
    "    .rename(columns={'count':'total','sum':'debt','mean':'relative_amount_debt_div_by_total'})\n",
    "    .style\n",
    "    .format({'relative_amount_debt_div_by_total': '{:,.2%}'.format})\n",
    "    .highlight_max(color='red', subset='relative_amount_debt_div_by_total')\n",
    "    .highlight_min(color='green',subset='relative_amount_debt_div_by_total')\n",
    ")"
   ]
  },
  {
   "cell_type": "markdown",
   "id": "ba31062c",
   "metadata": {
    "deletable": false,
    "id": "b4bb2ce6"
   },
   "source": [
    "**Вывод:** \n",
    "\n",
    "Наименьший процент просрочек наблюдается у группы с целью проведения операций с недвижимостью  - `7.26%`. Вероятно это связано с различными факторами, такими как: \n",
    "\n",
    "- различные льготные программы;\n",
    "\n",
    "- первоночальный взнос; \n",
    "\n",
    "- возможность получение дохода со сдачи в аренду;\n",
    "\n",
    "и др.факторами.\n",
    "\n",
    "Наибольший же процент просрочек можно наблюдать у групп \"операции с автомобилем\" - `9.35%` и \"получение образования\" - `9.25%`. \n",
    "\n",
    "Так, можно сделать однозначный вывод, что различные цели кредита влияют на вероятность его просрочки."
   ]
  },
  {
   "cell_type": "markdown",
   "id": "b3ebb3c1",
   "metadata": {},
   "source": [
    "Стоит отметить, что полный анализ стоит производить сразу по нескольким факторам. В качестве примера создадим сводную таблицу процентов задолженности по кредиту сразу по нескольким факторам.  "
   ]
  },
  {
   "cell_type": "code",
   "execution_count": 27,
   "id": "2c7560c9",
   "metadata": {},
   "outputs": [
    {
     "data": {
      "text/html": [
       "<style type=\"text/css\">\n",
       "#T_17e20_row0_col0 {\n",
       "  background-color: #a60026;\n",
       "  color: #f1f1f1;\n",
       "}\n",
       "#T_17e20_row0_col1 {\n",
       "  background-color: #e41c1d;\n",
       "  color: #f1f1f1;\n",
       "}\n",
       "#T_17e20_row0_col2, #T_17e20_row1_col3, #T_17e20_row1_col4, #T_17e20_row11_col0, #T_17e20_row11_col1 {\n",
       "  background-color: #800026;\n",
       "  color: #f1f1f1;\n",
       "}\n",
       "#T_17e20_row0_col3, #T_17e20_row2_col3, #T_17e20_row2_col4, #T_17e20_row3_col3, #T_17e20_row3_col4, #T_17e20_row6_col1, #T_17e20_row7_col0, #T_17e20_row7_col3, #T_17e20_row7_col4, #T_17e20_row8_col2, #T_17e20_row8_col3, #T_17e20_row9_col4, #T_17e20_row10_col3, #T_17e20_row10_col4, #T_17e20_row12_col4, #T_17e20_row15_col4 {\n",
       "  background-color: #ffffcc;\n",
       "  color: #000000;\n",
       "}\n",
       "#T_17e20_row0_col4, #T_17e20_row4_col4, #T_17e20_row5_col3, #T_17e20_row5_col4, #T_17e20_row6_col3, #T_17e20_row6_col4, #T_17e20_row8_col4, #T_17e20_row11_col4 {\n",
       "  background-color: #000000;\n",
       "  color: #f1f1f1;\n",
       "}\n",
       "#T_17e20_row1_col0 {\n",
       "  background-color: #fec35e;\n",
       "  color: #000000;\n",
       "}\n",
       "#T_17e20_row1_col1 {\n",
       "  background-color: #fc572c;\n",
       "  color: #f1f1f1;\n",
       "}\n",
       "#T_17e20_row1_col2 {\n",
       "  background-color: #fecc68;\n",
       "  color: #000000;\n",
       "}\n",
       "#T_17e20_row2_col0 {\n",
       "  background-color: #da141e;\n",
       "  color: #f1f1f1;\n",
       "}\n",
       "#T_17e20_row2_col1 {\n",
       "  background-color: #fd7e38;\n",
       "  color: #f1f1f1;\n",
       "}\n",
       "#T_17e20_row2_col2 {\n",
       "  background-color: #fece6a;\n",
       "  color: #000000;\n",
       "}\n",
       "#T_17e20_row3_col0 {\n",
       "  background-color: #fedb7a;\n",
       "  color: #000000;\n",
       "}\n",
       "#T_17e20_row3_col1 {\n",
       "  background-color: #fd9640;\n",
       "  color: #000000;\n",
       "}\n",
       "#T_17e20_row3_col2, #T_17e20_row6_col0 {\n",
       "  background-color: #fc6832;\n",
       "  color: #f1f1f1;\n",
       "}\n",
       "#T_17e20_row4_col0 {\n",
       "  background-color: #feda78;\n",
       "  color: #000000;\n",
       "}\n",
       "#T_17e20_row4_col1 {\n",
       "  background-color: #feb24c;\n",
       "  color: #000000;\n",
       "}\n",
       "#T_17e20_row4_col2 {\n",
       "  background-color: #fed976;\n",
       "  color: #000000;\n",
       "}\n",
       "#T_17e20_row4_col3 {\n",
       "  background-color: #fee187;\n",
       "  color: #000000;\n",
       "}\n",
       "#T_17e20_row5_col0 {\n",
       "  background-color: #fea245;\n",
       "  color: #000000;\n",
       "}\n",
       "#T_17e20_row5_col1 {\n",
       "  background-color: #ffe590;\n",
       "  color: #000000;\n",
       "}\n",
       "#T_17e20_row5_col2 {\n",
       "  background-color: #fea546;\n",
       "  color: #000000;\n",
       "}\n",
       "#T_17e20_row6_col2, #T_17e20_row7_col2 {\n",
       "  background-color: #f43d25;\n",
       "  color: #f1f1f1;\n",
       "}\n",
       "#T_17e20_row7_col1 {\n",
       "  background-color: #fea044;\n",
       "  color: #000000;\n",
       "}\n",
       "#T_17e20_row8_col0 {\n",
       "  background-color: #fed774;\n",
       "  color: #000000;\n",
       "}\n",
       "#T_17e20_row8_col1 {\n",
       "  background-color: #9d0026;\n",
       "  color: #f1f1f1;\n",
       "}\n",
       "#T_17e20_row9_col0 {\n",
       "  background-color: #fb4b29;\n",
       "  color: #f1f1f1;\n",
       "}\n",
       "#T_17e20_row9_col1 {\n",
       "  background-color: #c30424;\n",
       "  color: #f1f1f1;\n",
       "}\n",
       "#T_17e20_row9_col2 {\n",
       "  background-color: #fd9941;\n",
       "  color: #000000;\n",
       "}\n",
       "#T_17e20_row9_col3 {\n",
       "  background-color: #d41020;\n",
       "  color: #f1f1f1;\n",
       "}\n",
       "#T_17e20_row10_col0 {\n",
       "  background-color: #feb04b;\n",
       "  color: #000000;\n",
       "}\n",
       "#T_17e20_row10_col1 {\n",
       "  background-color: #f64227;\n",
       "  color: #f1f1f1;\n",
       "}\n",
       "#T_17e20_row10_col2 {\n",
       "  background-color: #fd8038;\n",
       "  color: #f1f1f1;\n",
       "}\n",
       "#T_17e20_row11_col2 {\n",
       "  background-color: #e2191c;\n",
       "  color: #f1f1f1;\n",
       "}\n",
       "#T_17e20_row11_col3, #T_17e20_row15_col0 {\n",
       "  background-color: #febf5a;\n",
       "  color: #000000;\n",
       "}\n",
       "#T_17e20_row12_col0 {\n",
       "  background-color: #febd57;\n",
       "  color: #000000;\n",
       "}\n",
       "#T_17e20_row12_col1 {\n",
       "  background-color: #fd883b;\n",
       "  color: #f1f1f1;\n",
       "}\n",
       "#T_17e20_row12_col2 {\n",
       "  background-color: #fedd7f;\n",
       "  color: #000000;\n",
       "}\n",
       "#T_17e20_row12_col3 {\n",
       "  background-color: #fec561;\n",
       "  color: #000000;\n",
       "}\n",
       "#T_17e20_row13_col0 {\n",
       "  background-color: #fec965;\n",
       "  color: #000000;\n",
       "}\n",
       "#T_17e20_row13_col1 {\n",
       "  background-color: #fd8239;\n",
       "  color: #f1f1f1;\n",
       "}\n",
       "#T_17e20_row13_col2 {\n",
       "  background-color: #fd9e43;\n",
       "  color: #000000;\n",
       "}\n",
       "#T_17e20_row13_col3 {\n",
       "  background-color: #ffeea3;\n",
       "  color: #000000;\n",
       "}\n",
       "#T_17e20_row13_col4 {\n",
       "  background-color: #ffeda0;\n",
       "  color: #000000;\n",
       "}\n",
       "#T_17e20_row14_col0 {\n",
       "  background-color: #fedd7e;\n",
       "  color: #000000;\n",
       "}\n",
       "#T_17e20_row14_col1 {\n",
       "  background-color: #feaf4b;\n",
       "  color: #000000;\n",
       "}\n",
       "#T_17e20_row14_col2 {\n",
       "  background-color: #fec05b;\n",
       "  color: #000000;\n",
       "}\n",
       "#T_17e20_row14_col3 {\n",
       "  background-color: #ffe997;\n",
       "  color: #000000;\n",
       "}\n",
       "#T_17e20_row14_col4 {\n",
       "  background-color: #ffec9d;\n",
       "  color: #000000;\n",
       "}\n",
       "#T_17e20_row15_col1 {\n",
       "  background-color: #fd863a;\n",
       "  color: #f1f1f1;\n",
       "}\n",
       "#T_17e20_row15_col2 {\n",
       "  background-color: #fd9f44;\n",
       "  color: #000000;\n",
       "}\n",
       "#T_17e20_row15_col3 {\n",
       "  background-color: #fff0a8;\n",
       "  color: #000000;\n",
       "}\n",
       "</style>\n",
       "<table id=\"T_17e20\">\n",
       "  <thead>\n",
       "    <tr>\n",
       "      <th class=\"blank\" >&nbsp;</th>\n",
       "      <th class=\"blank level0\" >&nbsp;</th>\n",
       "      <th id=\"T_17e20_level0_col0\" class=\"col_heading level0 col0\" colspan=\"5\">debt</th>\n",
       "    </tr>\n",
       "    <tr>\n",
       "      <th class=\"blank\" >&nbsp;</th>\n",
       "      <th class=\"index_name level1\" >children</th>\n",
       "      <th id=\"T_17e20_level1_col0\" class=\"col_heading level1 col0\" >0</th>\n",
       "      <th id=\"T_17e20_level1_col1\" class=\"col_heading level1 col1\" >1</th>\n",
       "      <th id=\"T_17e20_level1_col2\" class=\"col_heading level1 col2\" >2</th>\n",
       "      <th id=\"T_17e20_level1_col3\" class=\"col_heading level1 col3\" >3</th>\n",
       "      <th id=\"T_17e20_level1_col4\" class=\"col_heading level1 col4\" >4</th>\n",
       "    </tr>\n",
       "    <tr>\n",
       "      <th class=\"index_name level0\" >family_status</th>\n",
       "      <th class=\"index_name level1\" >purpose_category</th>\n",
       "      <th class=\"blank col0\" >&nbsp;</th>\n",
       "      <th class=\"blank col1\" >&nbsp;</th>\n",
       "      <th class=\"blank col2\" >&nbsp;</th>\n",
       "      <th class=\"blank col3\" >&nbsp;</th>\n",
       "      <th class=\"blank col4\" >&nbsp;</th>\n",
       "    </tr>\n",
       "  </thead>\n",
       "  <tbody>\n",
       "    <tr>\n",
       "      <th id=\"T_17e20_level0_row0\" class=\"row_heading level0 row0\" rowspan=\"3\">Не женат / не замужем</th>\n",
       "      <th id=\"T_17e20_level1_row0\" class=\"row_heading level1 row0\" >операции с автомобилем</th>\n",
       "      <td id=\"T_17e20_row0_col0\" class=\"data row0 col0\" >12.36%</td>\n",
       "      <td id=\"T_17e20_row0_col1\" class=\"data row0 col1\" >13.98%</td>\n",
       "      <td id=\"T_17e20_row0_col2\" class=\"data row0 col2\" >25.00%</td>\n",
       "      <td id=\"T_17e20_row0_col3\" class=\"data row0 col3\" >0.00%</td>\n",
       "      <td id=\"T_17e20_row0_col4\" class=\"data row0 col4\" >no_values</td>\n",
       "    </tr>\n",
       "    <tr>\n",
       "      <th id=\"T_17e20_level1_row1\" class=\"row_heading level1 row1\" >операции с недвижимостью</th>\n",
       "      <td id=\"T_17e20_row1_col0\" class=\"data row1 col0\" >7.38%</td>\n",
       "      <td id=\"T_17e20_row1_col1\" class=\"data row1 col1\" >11.37%</td>\n",
       "      <td id=\"T_17e20_row1_col2\" class=\"data row1 col2\" >7.32%</td>\n",
       "      <td id=\"T_17e20_row1_col3\" class=\"data row1 col3\" >50.00%</td>\n",
       "      <td id=\"T_17e20_row1_col4\" class=\"data row1 col4\" >100.00%</td>\n",
       "    </tr>\n",
       "    <tr>\n",
       "      <th id=\"T_17e20_level1_row2\" class=\"row_heading level1 row2\" >получение образования</th>\n",
       "      <td id=\"T_17e20_row2_col0\" class=\"data row2 col0\" >11.16%</td>\n",
       "      <td id=\"T_17e20_row2_col1\" class=\"data row2 col1\" >9.90%</td>\n",
       "      <td id=\"T_17e20_row2_col2\" class=\"data row2 col2\" >7.14%</td>\n",
       "      <td id=\"T_17e20_row2_col3\" class=\"data row2 col3\" >0.00%</td>\n",
       "      <td id=\"T_17e20_row2_col4\" class=\"data row2 col4\" >0.00%</td>\n",
       "    </tr>\n",
       "    <tr>\n",
       "      <th id=\"T_17e20_level0_row3\" class=\"row_heading level0 row3\" rowspan=\"3\">в разводе</th>\n",
       "      <th id=\"T_17e20_level1_row3\" class=\"row_heading level1 row3\" >операции с автомобилем</th>\n",
       "      <td id=\"T_17e20_row3_col0\" class=\"data row3 col0\" >6.67%</td>\n",
       "      <td id=\"T_17e20_row3_col1\" class=\"data row3 col1\" >8.82%</td>\n",
       "      <td id=\"T_17e20_row3_col2\" class=\"data row3 col2\" >14.29%</td>\n",
       "      <td id=\"T_17e20_row3_col3\" class=\"data row3 col3\" >0.00%</td>\n",
       "      <td id=\"T_17e20_row3_col4\" class=\"data row3 col4\" >0.00%</td>\n",
       "    </tr>\n",
       "    <tr>\n",
       "      <th id=\"T_17e20_level1_row4\" class=\"row_heading level1 row4\" >операции с недвижимостью</th>\n",
       "      <td id=\"T_17e20_row4_col0\" class=\"data row4 col0\" >6.73%</td>\n",
       "      <td id=\"T_17e20_row4_col1\" class=\"data row4 col1\" >7.10%</td>\n",
       "      <td id=\"T_17e20_row4_col2\" class=\"data row4 col2\" >6.25%</td>\n",
       "      <td id=\"T_17e20_row4_col3\" class=\"data row4 col3\" >10.00%</td>\n",
       "      <td id=\"T_17e20_row4_col4\" class=\"data row4 col4\" >no_values</td>\n",
       "    </tr>\n",
       "    <tr>\n",
       "      <th id=\"T_17e20_level1_row5\" class=\"row_heading level1 row5\" >получение образования</th>\n",
       "      <td id=\"T_17e20_row5_col0\" class=\"data row5 col0\" >8.23%</td>\n",
       "      <td id=\"T_17e20_row5_col1\" class=\"data row5 col1\" >3.28%</td>\n",
       "      <td id=\"T_17e20_row5_col2\" class=\"data row5 col2\" >10.53%</td>\n",
       "      <td id=\"T_17e20_row5_col3\" class=\"data row5 col3\" >no_values</td>\n",
       "      <td id=\"T_17e20_row5_col4\" class=\"data row5 col4\" >no_values</td>\n",
       "    </tr>\n",
       "    <tr>\n",
       "      <th id=\"T_17e20_level0_row6\" class=\"row_heading level0 row6\" rowspan=\"3\">вдовец / вдова</th>\n",
       "      <th id=\"T_17e20_level1_row6\" class=\"row_heading level1 row6\" >операции с автомобилем</th>\n",
       "      <td id=\"T_17e20_row6_col0\" class=\"data row6 col0\" >9.45%</td>\n",
       "      <td id=\"T_17e20_row6_col1\" class=\"data row6 col1\" >0.00%</td>\n",
       "      <td id=\"T_17e20_row6_col2\" class=\"data row6 col2\" >16.67%</td>\n",
       "      <td id=\"T_17e20_row6_col3\" class=\"data row6 col3\" >no_values</td>\n",
       "      <td id=\"T_17e20_row6_col4\" class=\"data row6 col4\" >no_values</td>\n",
       "    </tr>\n",
       "    <tr>\n",
       "      <th id=\"T_17e20_level1_row7\" class=\"row_heading level1 row7\" >операции с недвижимостью</th>\n",
       "      <td id=\"T_17e20_row7_col0\" class=\"data row7 col0\" >4.68%</td>\n",
       "      <td id=\"T_17e20_row7_col1\" class=\"data row7 col1\" >8.16%</td>\n",
       "      <td id=\"T_17e20_row7_col2\" class=\"data row7 col2\" >16.67%</td>\n",
       "      <td id=\"T_17e20_row7_col3\" class=\"data row7 col3\" >0.00%</td>\n",
       "      <td id=\"T_17e20_row7_col4\" class=\"data row7 col4\" >0.00%</td>\n",
       "    </tr>\n",
       "    <tr>\n",
       "      <th id=\"T_17e20_level1_row8\" class=\"row_heading level1 row8\" >получение образования</th>\n",
       "      <td id=\"T_17e20_row8_col0\" class=\"data row8 col0\" >6.82%</td>\n",
       "      <td id=\"T_17e20_row8_col1\" class=\"data row8 col1\" >17.65%</td>\n",
       "      <td id=\"T_17e20_row8_col2\" class=\"data row8 col2\" >0.00%</td>\n",
       "      <td id=\"T_17e20_row8_col3\" class=\"data row8 col3\" >0.00%</td>\n",
       "      <td id=\"T_17e20_row8_col4\" class=\"data row8 col4\" >no_values</td>\n",
       "    </tr>\n",
       "    <tr>\n",
       "      <th id=\"T_17e20_level0_row9\" class=\"row_heading level0 row9\" rowspan=\"4\">гражданский брак</th>\n",
       "      <th id=\"T_17e20_level1_row9\" class=\"row_heading level1 row9\" >операции с автомобилем</th>\n",
       "      <td id=\"T_17e20_row9_col0\" class=\"data row9 col0\" >9.93%</td>\n",
       "      <td id=\"T_17e20_row9_col1\" class=\"data row9 col1\" >16.04%</td>\n",
       "      <td id=\"T_17e20_row9_col2\" class=\"data row9 col2\" >11.43%</td>\n",
       "      <td id=\"T_17e20_row9_col3\" class=\"data row9 col3\" >40.00%</td>\n",
       "      <td id=\"T_17e20_row9_col4\" class=\"data row9 col4\" >0.00%</td>\n",
       "    </tr>\n",
       "    <tr>\n",
       "      <th id=\"T_17e20_level1_row10\" class=\"row_heading level1 row10\" >операции с недвижимостью</th>\n",
       "      <td id=\"T_17e20_row10_col0\" class=\"data row10 col0\" >7.86%</td>\n",
       "      <td id=\"T_17e20_row10_col1\" class=\"data row10 col1\" >12.26%</td>\n",
       "      <td id=\"T_17e20_row10_col2\" class=\"data row10 col2\" >13.11%</td>\n",
       "      <td id=\"T_17e20_row10_col3\" class=\"data row10 col3\" >0.00%</td>\n",
       "      <td id=\"T_17e20_row10_col4\" class=\"data row10 col4\" >0.00%</td>\n",
       "    </tr>\n",
       "    <tr>\n",
       "      <th id=\"T_17e20_level1_row11\" class=\"row_heading level1 row11\" >получение образования</th>\n",
       "      <td id=\"T_17e20_row11_col0\" class=\"data row11 col0\" >13.01%</td>\n",
       "      <td id=\"T_17e20_row11_col1\" class=\"data row11 col1\" >18.75%</td>\n",
       "      <td id=\"T_17e20_row11_col2\" class=\"data row11 col2\" >18.75%</td>\n",
       "      <td id=\"T_17e20_row11_col3\" class=\"data row11 col3\" >16.67%</td>\n",
       "      <td id=\"T_17e20_row11_col4\" class=\"data row11 col4\" >no_values</td>\n",
       "    </tr>\n",
       "    <tr>\n",
       "      <th id=\"T_17e20_level1_row12\" class=\"row_heading level1 row12\" >проведение свадьбы</th>\n",
       "      <td id=\"T_17e20_row12_col0\" class=\"data row12 col0\" >7.52%</td>\n",
       "      <td id=\"T_17e20_row12_col1\" class=\"data row12 col1\" >9.59%</td>\n",
       "      <td id=\"T_17e20_row12_col2\" class=\"data row12 col2\" >5.58%</td>\n",
       "      <td id=\"T_17e20_row12_col3\" class=\"data row12 col3\" >15.62%</td>\n",
       "      <td id=\"T_17e20_row12_col4\" class=\"data row12 col4\" >0.00%</td>\n",
       "    </tr>\n",
       "    <tr>\n",
       "      <th id=\"T_17e20_level0_row13\" class=\"row_heading level0 row13\" rowspan=\"3\">женат / замужем</th>\n",
       "      <th id=\"T_17e20_level1_row13\" class=\"row_heading level1 row13\" >операции с автомобилем</th>\n",
       "      <td id=\"T_17e20_row13_col0\" class=\"data row13 col0\" >7.22%</td>\n",
       "      <td id=\"T_17e20_row13_col1\" class=\"data row13 col1\" >9.78%</td>\n",
       "      <td id=\"T_17e20_row13_col2\" class=\"data row13 col2\" >11.11%</td>\n",
       "      <td id=\"T_17e20_row13_col3\" class=\"data row13 col3\" >6.00%</td>\n",
       "      <td id=\"T_17e20_row13_col4\" class=\"data row13 col4\" >12.50%</td>\n",
       "    </tr>\n",
       "    <tr>\n",
       "      <th id=\"T_17e20_level1_row14\" class=\"row_heading level1 row14\" >операции с недвижимостью</th>\n",
       "      <td id=\"T_17e20_row14_col0\" class=\"data row14 col0\" >6.58%</td>\n",
       "      <td id=\"T_17e20_row14_col1\" class=\"data row14 col1\" >7.18%</td>\n",
       "      <td id=\"T_17e20_row14_col2\" class=\"data row14 col2\" >8.25%</td>\n",
       "      <td id=\"T_17e20_row14_col3\" class=\"data row14 col3\" >7.80%</td>\n",
       "      <td id=\"T_17e20_row14_col4\" class=\"data row14 col4\" >13.33%</td>\n",
       "    </tr>\n",
       "    <tr>\n",
       "      <th id=\"T_17e20_level1_row15\" class=\"row_heading level1 row15\" >получение образования</th>\n",
       "      <td id=\"T_17e20_row15_col0\" class=\"data row15 col0\" >7.46%</td>\n",
       "      <td id=\"T_17e20_row15_col1\" class=\"data row15 col1\" >9.64%</td>\n",
       "      <td id=\"T_17e20_row15_col2\" class=\"data row15 col2\" >11.01%</td>\n",
       "      <td id=\"T_17e20_row15_col3\" class=\"data row15 col3\" >5.17%</td>\n",
       "      <td id=\"T_17e20_row15_col4\" class=\"data row15 col4\" >0.00%</td>\n",
       "    </tr>\n",
       "  </tbody>\n",
       "</table>\n"
      ],
      "text/plain": [
       "<pandas.io.formats.style.Styler at 0x1a72e4c4a60>"
      ]
     },
     "execution_count": 27,
     "metadata": {},
     "output_type": "execute_result"
    }
   ],
   "source": [
    "(\n",
    "    data\n",
    "    .loc[data.children != 5]\n",
    "    .pivot_table('debt', index=['family_status', 'purpose_category', 'children']).unstack()\n",
    "    .style.format(\"{:.2%}\", na_rep='no_values').background_gradient(cmap = \"YlOrRd\")\n",
    ")"
   ]
  },
  {
   "cell_type": "markdown",
   "id": "c3b56130",
   "metadata": {},
   "source": [
    "Благодаря общей сводной таблице можно проанализировать каждый конкретный случай с помощью аппарата статистики. \n",
    "\n",
    "Однако не стоит забывать, что бывают искажения представления информации. Так, несмотря на то, что у категории `не женатых/не замужем` с целью кредита `операция с недвижимостью`, имеющих три и более ребенка в семье составляет $75$% (`50%` для трех детей и `100%` для четырех детей),  нельзя  сделать однозначный вывод о неблагонадежности данной группы. Это связанно с тем, что семей, попадающих под эти категории - $3$ домохозяйства.\n",
    "\n",
    "В то же время, данные могут помочь при скоринге клиента. "
   ]
  },
  {
   "cell_type": "markdown",
   "id": "18859433",
   "metadata": {
    "deletable": false,
    "editable": false,
    "id": "09c3ac4c"
   },
   "source": [
    "#### 3.5 Приведите возможные причины появления пропусков в исходных данных."
   ]
  },
  {
   "cell_type": "markdown",
   "id": "8a565108",
   "metadata": {
    "deletable": false,
    "id": "9da2ceda"
   },
   "source": [
    "*Ответ:* \n",
    "\n",
    "1. Технические ошибки:\n",
    "\n",
    "2. Пропуски, связанные с человеческим фактором:\n",
    "\n",
    "- Неправильно записанный или перезаписанный программно файл; \n",
    "\n",
    "- \"Неважность\" поля при его заполнение пользователем. Пример: email адрес;\n",
    "\n",
    "- Отсутсвие какой-либо информации. Пример: у некоторых людей нет отчества;"
   ]
  },
  {
   "cell_type": "markdown",
   "id": "aff80ff8",
   "metadata": {
    "deletable": false,
    "editable": false,
    "id": "7b0487d6"
   },
   "source": [
    "#### 3.6 Объясните, почему заполнить пропуски медианным значением — лучшее решение для количественных переменных."
   ]
  },
  {
   "cell_type": "markdown",
   "id": "9a4ec015",
   "metadata": {
    "deletable": false,
    "id": "7ecf2b8e"
   },
   "source": [
    "*Ответ:* \n",
    "\n",
    "Потому что зачастую количественные переменные не соответствуют Гауссовскому распределению, имея различные аномальные значения. В таком случае, среднее значение будет смещено в сторону аномалии и не будет репрезентативным, в то время как медианное значение будет показывать середину выборки."
   ]
  },
  {
   "cell_type": "markdown",
   "id": "7073eb4a",
   "metadata": {
    "deletable": false,
    "editable": false,
    "id": "6db5255a"
   },
   "source": [
    "### Шаг 4: общий вывод."
   ]
  },
  {
   "cell_type": "markdown",
   "id": "21ef192d",
   "metadata": {
    "deletable": false,
    "id": "bad65432"
   },
   "source": [
    "1. Наличие или отсутсвие детей, ожидаемо, влияет на платежеспобность клиента. Так, самый маленький процент просрочек у семей без детей и составляет - `7.54%`. Далее можно наблюдать плавный рост от группы к группе с большим количеством детей. Данный рост составляет примерно `~0.2%`. Исключение составляют домохозяйства с количеством детей пять и более, где средний процент просрочек составляет `0%`, однако это явление обосновано малым количеством наблюдений;\n",
    "\n",
    "2. При этом нет четкой зависмости между уровнем дохода и количеством просроченных кредитов. Вывод нельзя назвать однозначным из-за несбалансированности групп по количеству наблюдений. Начиная с групп со средней зарплатой и выше мы видим снижение просрочек по кредиту с `8.5%` у группы `C` до `7.06%` у категории `B`. При этом у группы `A`, чей доход является наибольшим, средний процент просрочек составляет `8%`, что не позволяет сделать о тенденции к снижению просрочек с ростом уровня дохода. Стоит отметить, что наблюдений в данной категории - `25`, в связи с чем данные могут не отражать дейсвительность;\n",
    "\n",
    "3. Что касается семейного статуса, то здесь четкое разделение между категориями. Наименьший относительный процент просрочек среди хорошо представленных категорий у группы `женат/замужем` и составляет `7.56%`, в связи с чем данную группу можно назвать благонадежными заемщиками. У групп `не женат/не замужем` и `гражданский брак` же процент просрочек наибольший среди всех групп (при достаточном количестве наблюдений), в связи с чем их можно назвать наименее благонадежными заёмщиками. Две оставшиеся группы: `вдовец/вдова` и `в разводе` имеют малый процент просрочек, однако в связи с тем, что выборка является малой, стоит оценивать дополнительные факторы;\n",
    "\n",
    "4. Цель кредита также сильно влияет на вероятность его возврата в срок. Здесь можно выделить две категории:\n",
    "- Наименьшее количество просрочек - `операции с недвижимостью` - `7.26` и `проведение свадьбы` - `7.91`;\n",
    "- Наибольшее количество просрочек - `операции с автомобилем` - `9.35` и `получение образования` - `9.25`.\n",
    "\n",
    "Для скоринга клиента стоит прибегать к оценке совокупности факторов, ведь только так оценка вероятности просрочки кредита окажется наиболее справедливой. \n",
    "\n",
    "Можно составить портерта клиента. Наиболее надежный заемщик:\n",
    "\n",
    "* Не имеет детей\n",
    "\n",
    "* вдовец/вдова или в разводе \n",
    "\n",
    "* Цель кредита - операции с недвижимостью \n",
    "\n",
    "Наименее надежный заемщик:\n",
    "\n",
    "* Имеет 4 и более детей\n",
    "\n",
    "* Не женат\n",
    "\n",
    "* Цель кредита - операции с автомобилем"
   ]
  }
 ],
 "metadata": {
  "ExecuteTimeLog": [
   {
    "duration": 496,
    "start_time": "2023-02-26T10:36:24.805Z"
   },
   {
    "duration": 24,
    "start_time": "2023-02-26T10:36:25.303Z"
   },
   {
    "duration": 17,
    "start_time": "2023-02-26T10:36:25.329Z"
   },
   {
    "duration": 15,
    "start_time": "2023-02-26T10:36:25.348Z"
   },
   {
    "duration": 49,
    "start_time": "2023-02-26T10:36:25.366Z"
   },
   {
    "duration": 3,
    "start_time": "2023-02-26T10:36:25.416Z"
   },
   {
    "duration": 11,
    "start_time": "2023-02-26T10:36:25.421Z"
   },
   {
    "duration": 7,
    "start_time": "2023-02-26T10:36:25.453Z"
   },
   {
    "duration": 10,
    "start_time": "2023-02-26T10:36:25.462Z"
   },
   {
    "duration": 7,
    "start_time": "2023-02-26T10:36:25.475Z"
   },
   {
    "duration": 70,
    "start_time": "2023-02-26T10:36:25.484Z"
   },
   {
    "duration": 11,
    "start_time": "2023-02-26T10:36:25.556Z"
   },
   {
    "duration": 20,
    "start_time": "2023-02-26T10:36:25.569Z"
   },
   {
    "duration": 16,
    "start_time": "2023-02-26T10:36:25.590Z"
   },
   {
    "duration": 26,
    "start_time": "2023-02-26T10:36:25.608Z"
   },
   {
    "duration": 27,
    "start_time": "2023-02-26T10:36:25.636Z"
   },
   {
    "duration": 4,
    "start_time": "2023-02-26T10:36:25.665Z"
   },
   {
    "duration": 23,
    "start_time": "2023-02-26T10:36:25.670Z"
   },
   {
    "duration": 9,
    "start_time": "2023-02-26T10:36:25.695Z"
   },
   {
    "duration": 4,
    "start_time": "2023-02-26T10:36:25.706Z"
   },
   {
    "duration": 30,
    "start_time": "2023-02-26T10:36:25.711Z"
   },
   {
    "duration": 5,
    "start_time": "2023-02-26T10:36:25.743Z"
   },
   {
    "duration": 8,
    "start_time": "2023-02-26T10:36:25.750Z"
   },
   {
    "duration": 9,
    "start_time": "2023-02-26T10:36:25.759Z"
   },
   {
    "duration": 9,
    "start_time": "2023-02-26T10:36:25.770Z"
   },
   {
    "duration": 14,
    "start_time": "2023-02-26T10:37:17.945Z"
   },
   {
    "duration": 63,
    "start_time": "2023-02-26T10:39:20.118Z"
   },
   {
    "duration": 9,
    "start_time": "2023-02-26T10:39:32.078Z"
   },
   {
    "duration": 7,
    "start_time": "2023-02-26T10:39:51.073Z"
   },
   {
    "duration": 70,
    "start_time": "2023-02-26T10:39:55.547Z"
   },
   {
    "duration": 8,
    "start_time": "2023-02-26T10:39:59.131Z"
   },
   {
    "duration": 8,
    "start_time": "2023-02-26T10:40:14.939Z"
   },
   {
    "duration": 10,
    "start_time": "2023-02-26T10:42:47.798Z"
   },
   {
    "duration": 443,
    "start_time": "2023-02-26T10:42:48.530Z"
   },
   {
    "duration": 6,
    "start_time": "2023-02-26T10:42:51.807Z"
   },
   {
    "duration": 12,
    "start_time": "2023-02-26T10:47:14.953Z"
   },
   {
    "duration": 13,
    "start_time": "2023-02-26T10:47:21.127Z"
   },
   {
    "duration": 72,
    "start_time": "2023-02-26T10:47:34.495Z"
   },
   {
    "duration": 32,
    "start_time": "2023-02-26T10:48:07.444Z"
   },
   {
    "duration": 13,
    "start_time": "2023-02-26T10:48:14.949Z"
   },
   {
    "duration": 13,
    "start_time": "2023-02-26T10:48:24.562Z"
   },
   {
    "duration": 14,
    "start_time": "2023-02-26T10:55:01.926Z"
   },
   {
    "duration": 17,
    "start_time": "2023-02-26T10:55:10.995Z"
   },
   {
    "duration": 52,
    "start_time": "2023-02-26T10:57:54.205Z"
   },
   {
    "duration": 50,
    "start_time": "2023-02-26T11:01:14.218Z"
   },
   {
    "duration": 51,
    "start_time": "2023-02-26T11:01:22.786Z"
   },
   {
    "duration": 26,
    "start_time": "2023-02-26T11:05:52.011Z"
   },
   {
    "duration": 96,
    "start_time": "2023-02-26T11:06:45.039Z"
   },
   {
    "duration": 17,
    "start_time": "2023-02-26T11:06:50.611Z"
   },
   {
    "duration": 23,
    "start_time": "2023-02-26T11:06:56.061Z"
   },
   {
    "duration": 555,
    "start_time": "2023-02-26T12:14:56.979Z"
   },
   {
    "duration": 39,
    "start_time": "2023-02-26T12:14:57.537Z"
   },
   {
    "duration": 27,
    "start_time": "2023-02-26T12:14:57.578Z"
   },
   {
    "duration": 20,
    "start_time": "2023-02-26T12:14:57.608Z"
   },
   {
    "duration": 76,
    "start_time": "2023-02-26T12:14:57.630Z"
   },
   {
    "duration": 4,
    "start_time": "2023-02-26T12:14:57.708Z"
   },
   {
    "duration": 19,
    "start_time": "2023-02-26T12:14:57.716Z"
   },
   {
    "duration": 24,
    "start_time": "2023-02-26T12:14:57.737Z"
   },
   {
    "duration": 13,
    "start_time": "2023-02-26T12:14:57.763Z"
   },
   {
    "duration": 5,
    "start_time": "2023-02-26T12:14:57.781Z"
   },
   {
    "duration": 70,
    "start_time": "2023-02-26T12:14:57.789Z"
   },
   {
    "duration": 12,
    "start_time": "2023-02-26T12:14:57.861Z"
   },
   {
    "duration": 5,
    "start_time": "2023-02-26T12:14:57.875Z"
   },
   {
    "duration": 18,
    "start_time": "2023-02-26T12:14:57.882Z"
   },
   {
    "duration": 24,
    "start_time": "2023-02-26T12:14:57.902Z"
   },
   {
    "duration": 36,
    "start_time": "2023-02-26T12:14:57.927Z"
   },
   {
    "duration": 3,
    "start_time": "2023-02-26T12:14:57.965Z"
   },
   {
    "duration": 13,
    "start_time": "2023-02-26T12:14:57.970Z"
   },
   {
    "duration": 9,
    "start_time": "2023-02-26T12:14:57.985Z"
   },
   {
    "duration": 5,
    "start_time": "2023-02-26T12:14:57.996Z"
   },
   {
    "duration": 11,
    "start_time": "2023-02-26T12:14:58.003Z"
   },
   {
    "duration": 50,
    "start_time": "2023-02-26T12:14:58.016Z"
   },
   {
    "duration": 308,
    "start_time": "2023-02-26T12:14:58.069Z"
   },
   {
    "duration": 8,
    "start_time": "2023-02-26T12:14:58.379Z"
   },
   {
    "duration": 19,
    "start_time": "2023-02-26T12:14:58.389Z"
   },
   {
    "duration": 19,
    "start_time": "2023-02-26T12:14:58.411Z"
   },
   {
    "duration": 32,
    "start_time": "2023-02-26T12:14:58.432Z"
   },
   {
    "duration": 16,
    "start_time": "2023-02-26T12:14:58.467Z"
   },
   {
    "duration": 25,
    "start_time": "2023-02-26T12:14:58.485Z"
   },
   {
    "duration": 20,
    "start_time": "2023-02-26T12:14:58.513Z"
   },
   {
    "duration": 65,
    "start_time": "2023-02-26T12:14:58.554Z"
   },
   {
    "duration": 50,
    "start_time": "2023-03-11T10:35:52.458Z"
   },
   {
    "duration": 538,
    "start_time": "2023-03-11T10:35:56.811Z"
   },
   {
    "duration": 23,
    "start_time": "2023-03-11T10:35:57.351Z"
   },
   {
    "duration": 15,
    "start_time": "2023-03-11T10:35:57.375Z"
   },
   {
    "duration": 9,
    "start_time": "2023-03-11T10:35:57.392Z"
   },
   {
    "duration": 46,
    "start_time": "2023-03-11T10:35:57.404Z"
   },
   {
    "duration": 3,
    "start_time": "2023-03-11T10:35:57.452Z"
   },
   {
    "duration": 10,
    "start_time": "2023-03-11T10:35:57.456Z"
   },
   {
    "duration": 4,
    "start_time": "2023-03-11T10:35:57.467Z"
   },
   {
    "duration": 8,
    "start_time": "2023-03-11T10:35:57.472Z"
   },
   {
    "duration": 4,
    "start_time": "2023-03-11T10:35:57.481Z"
   },
   {
    "duration": 64,
    "start_time": "2023-03-11T10:35:57.486Z"
   },
   {
    "duration": 9,
    "start_time": "2023-03-11T10:35:57.552Z"
   },
   {
    "duration": 4,
    "start_time": "2023-03-11T10:35:57.562Z"
   },
   {
    "duration": 11,
    "start_time": "2023-03-11T10:35:57.570Z"
   },
   {
    "duration": 41,
    "start_time": "2023-03-11T10:35:57.582Z"
   },
   {
    "duration": 18,
    "start_time": "2023-03-11T10:35:57.625Z"
   },
   {
    "duration": 3,
    "start_time": "2023-03-11T10:35:57.645Z"
   },
   {
    "duration": 14,
    "start_time": "2023-03-11T10:35:57.650Z"
   },
   {
    "duration": 5,
    "start_time": "2023-03-11T10:35:57.665Z"
   },
   {
    "duration": 3,
    "start_time": "2023-03-11T10:35:57.672Z"
   },
   {
    "duration": 22,
    "start_time": "2023-03-11T10:35:57.677Z"
   },
   {
    "duration": 476,
    "start_time": "2023-03-11T10:35:57.701Z"
   },
   {
    "duration": 12,
    "start_time": "2023-03-11T10:35:58.179Z"
   },
   {
    "duration": 26,
    "start_time": "2023-03-11T10:35:58.192Z"
   },
   {
    "duration": 12,
    "start_time": "2023-03-11T10:35:58.220Z"
   },
   {
    "duration": 12,
    "start_time": "2023-03-11T10:35:58.234Z"
   },
   {
    "duration": 11,
    "start_time": "2023-03-11T10:35:58.248Z"
   },
   {
    "duration": 19,
    "start_time": "2023-03-11T10:35:58.261Z"
   },
   {
    "duration": 80,
    "start_time": "2023-03-11T10:35:58.282Z"
   },
   {
    "duration": 57,
    "start_time": "2023-03-11T10:36:34.081Z"
   },
   {
    "duration": 34,
    "start_time": "2023-03-11T10:38:36.804Z"
   },
   {
    "duration": 33,
    "start_time": "2023-03-11T10:39:40.652Z"
   },
   {
    "duration": 75,
    "start_time": "2023-03-11T10:40:37.912Z"
   },
   {
    "duration": 51,
    "start_time": "2023-03-11T10:40:57.016Z"
   },
   {
    "duration": 479,
    "start_time": "2023-03-11T10:44:33.761Z"
   },
   {
    "duration": 29,
    "start_time": "2023-03-11T10:44:34.243Z"
   },
   {
    "duration": 16,
    "start_time": "2023-03-11T10:44:34.274Z"
   },
   {
    "duration": 29,
    "start_time": "2023-03-11T10:44:34.293Z"
   },
   {
    "duration": 42,
    "start_time": "2023-03-11T10:44:34.324Z"
   },
   {
    "duration": 4,
    "start_time": "2023-03-11T10:44:34.369Z"
   },
   {
    "duration": 10,
    "start_time": "2023-03-11T10:44:34.376Z"
   },
   {
    "duration": 37,
    "start_time": "2023-03-11T10:44:34.388Z"
   },
   {
    "duration": 10,
    "start_time": "2023-03-11T10:44:34.427Z"
   },
   {
    "duration": 6,
    "start_time": "2023-03-11T10:44:34.440Z"
   },
   {
    "duration": 41,
    "start_time": "2023-03-11T10:44:34.448Z"
   },
   {
    "duration": 36,
    "start_time": "2023-03-11T10:44:34.491Z"
   },
   {
    "duration": 7,
    "start_time": "2023-03-11T10:44:34.528Z"
   },
   {
    "duration": 12,
    "start_time": "2023-03-11T10:44:34.537Z"
   },
   {
    "duration": 20,
    "start_time": "2023-03-11T10:44:34.550Z"
   },
   {
    "duration": 18,
    "start_time": "2023-03-11T10:44:34.572Z"
   },
   {
    "duration": 29,
    "start_time": "2023-03-11T10:44:34.592Z"
   },
   {
    "duration": 11,
    "start_time": "2023-03-11T10:44:34.623Z"
   },
   {
    "duration": 18,
    "start_time": "2023-03-11T10:44:34.636Z"
   },
   {
    "duration": 8,
    "start_time": "2023-03-11T10:44:34.657Z"
   },
   {
    "duration": 16,
    "start_time": "2023-03-11T10:44:34.668Z"
   },
   {
    "duration": 343,
    "start_time": "2023-03-11T10:44:34.686Z"
   },
   {
    "duration": 39,
    "start_time": "2023-03-11T10:44:35.031Z"
   },
   {
    "duration": 55,
    "start_time": "2023-03-11T10:44:35.072Z"
   },
   {
    "duration": 37,
    "start_time": "2023-03-11T10:44:35.129Z"
   },
   {
    "duration": 71,
    "start_time": "2023-03-11T10:44:35.168Z"
   }
  ],
  "colab": {
   "name": "dpp_template_part2.ipynb",
   "provenance": []
  },
  "kernelspec": {
   "display_name": "Python 3 (ipykernel)",
   "language": "python",
   "name": "python3"
  },
  "language_info": {
   "codemirror_mode": {
    "name": "ipython",
    "version": 3
   },
   "file_extension": ".py",
   "mimetype": "text/x-python",
   "name": "python",
   "nbconvert_exporter": "python",
   "pygments_lexer": "ipython3",
   "version": "3.9.16"
  },
  "toc": {
   "base_numbering": 1,
   "nav_menu": {},
   "number_sections": true,
   "sideBar": true,
   "skip_h1_title": true,
   "title_cell": "Table of Contents",
   "title_sidebar": "Contents",
   "toc_cell": false,
   "toc_position": {},
   "toc_section_display": true,
   "toc_window_display": false
  }
 },
 "nbformat": 4,
 "nbformat_minor": 5
}
