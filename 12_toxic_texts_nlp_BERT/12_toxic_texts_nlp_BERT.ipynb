{
 "cells": [
  {
   "cell_type": "markdown",
   "metadata": {},
   "source": [
    "# Проект для «Викишоп» c BERT"
   ]
  },
  {
   "cell_type": "markdown",
   "metadata": {},
   "source": [
    "Проект для «Викишоп»¶\n",
    "\n",
    "Интернет-магазин «Викишоп» запускает новый сервис. Теперь пользователи могут редактировать и дополнять описания товаров, как в вики-сообществах. То есть клиенты предлагают свои правки и комментируют изменения других. Магазину нужен инструмент, который будет искать токсичные комментарии и отправлять их на модерацию. \n",
    "\n",
    "Обучите модель классифицировать комментарии на позитивные и негативные. В вашем распоряжении набор данных с разметкой о токсичности правок.\n",
    "\n",
    "Постройте модель со значением метрики качества *F1* не меньше 0.75. \n",
    "\n",
    "**Инструкция по выполнению проекта**\n",
    "\n",
    "1. Загрузите и подготовьте данные.\n",
    "2. Обучите разные модели. \n",
    "3. Сделайте выводы.\n",
    "\n",
    "Для выполнения проекта применять *BERT* необязательно, но вы можете попробовать.\n",
    "\n",
    "**Описание данных**\n",
    "\n",
    "Данные находятся в файле `toxic_comments.csv`. Столбец *text* в нём содержит текст комментария, а *toxic* — целевой признак."
   ]
  },
  {
   "cell_type": "markdown",
   "metadata": {},
   "source": [
    "## Подготовка"
   ]
  },
  {
   "cell_type": "markdown",
   "metadata": {},
   "source": [
    "### Импорт библиотек"
   ]
  },
  {
   "cell_type": "code",
   "execution_count": 72,
   "metadata": {},
   "outputs": [],
   "source": [
    "#pip install gdown"
   ]
  },
  {
   "cell_type": "code",
   "execution_count": 73,
   "metadata": {},
   "outputs": [],
   "source": [
    "import time\n",
    "import datetime\n",
    "\n",
    "from tqdm import notebook\n",
    "import gdown\n",
    "\n",
    "\n",
    "import pandas as pd\n",
    "import matplotlib.pyplot as plt\n",
    "import numpy as np\n",
    "\n",
    "from scipy.stats import uniform\n",
    "from scipy.stats import loguniform\n",
    "\n",
    "\n",
    "from sklearn.model_selection import train_test_split\n",
    "from sklearn.model_selection import RandomizedSearchCV\n",
    "from sklearn.metrics import f1_score\n",
    "\n",
    "import transformers as ppb\n",
    "import torch\n",
    "\n",
    "from sklearn.tree import DecisionTreeClassifier\n",
    "from sklearn.ensemble import RandomForestClassifier\n",
    "from lightgbm import LGBMClassifier\n",
    "from sklearn.ensemble import HistGradientBoostingClassifier"
   ]
  },
  {
   "cell_type": "markdown",
   "metadata": {},
   "source": [
    "### Определение констант"
   ]
  },
  {
   "cell_type": "code",
   "execution_count": 74,
   "metadata": {},
   "outputs": [],
   "source": [
    "SEED = 914211\n",
    "MAX_LEN = 512"
   ]
  },
  {
   "cell_type": "markdown",
   "metadata": {},
   "source": [
    "### Создание класса"
   ]
  },
  {
   "cell_type": "code",
   "execution_count": 75,
   "metadata": {},
   "outputs": [],
   "source": [
    "class loguniform_int:\n",
    "\n",
    "\n",
    "    def __init__(self, a, b):\n",
    "        self._distribution = loguniform(a, b)\n",
    "\n",
    "    def rvs(self, *args, **kwargs):\n",
    "        return self._distribution.rvs(*args, **kwargs).astype(int)"
   ]
  },
  {
   "cell_type": "code",
   "execution_count": 76,
   "metadata": {},
   "outputs": [],
   "source": [
    "class text_sentiment_ml():\n",
    "\n",
    "\n",
    "\n",
    "    def __init__(self, df):\n",
    "        self.data = df\n",
    "        self.all_model = {}\n",
    "    \n",
    "    @classmethod\n",
    "    def instance_from_link(cls, link):\n",
    "        return text_sentiment_ml(pd.read_csv(link,index_col=0))\n",
    "    \n",
    "    ### BERT\n",
    "    def BERT(self):\n",
    "        model = ppb.AutoModel.from_pretrained('unitary/toxic-bert')\n",
    "        tokenizer = ppb.AutoTokenizer.from_pretrained('unitary/toxic-bert')\n",
    "\n",
    "        tokens = (self.data['text'].apply(lambda row: tokenizer.encode(row, add_special_tokens=True,truncation=True)))\n",
    "\n",
    "        padded = np.array([i + [0]*(MAX_LEN - len(i)) for i in tokens.values])\n",
    "        attention_mask = np.where(padded != 0, 1, 0)\n",
    "\n",
    "        batch_size = 2\n",
    "        embeddings = [] \n",
    "        for i in notebook.tqdm(range(padded.shape[0] // batch_size)):\n",
    "                batch = torch.LongTensor(padded[batch_size*i:batch_size*(i+1)]).cuda() \n",
    "                attention_mask_batch = torch.LongTensor(attention_mask[batch_size*i:batch_size*(i+1)]).cuda()\n",
    "                \n",
    "                with torch.no_grad():\n",
    "                    model.cuda()\n",
    "                    batch_embeddings = model(batch, attention_mask=attention_mask_batch)\n",
    "                \n",
    "                embeddings.append(batch_embeddings[0][:,0,:].cpu().numpy()) \n",
    "                del batch\n",
    "                del attention_mask_batch\n",
    "                del batch_embeddings\n",
    "                \n",
    "        self.features = np.concatenate(embeddings)\n",
    "    \n",
    "    def get_BERT_features_from_link(self):\n",
    "        id = '1g4pl4v291c8lWBaRPVa_63lvIkVdfpBK'\n",
    "        url = url = f'https://drive.google.com/uc?id={id}'\n",
    "        self.features_BERT = pd.read_csv(gdown.download(url, quiet=False))\n",
    "        self.features_BERT = self.features_BERT.iloc[:,1:]\n",
    "\n",
    "    def cut_BERT_features(self, per_size=.1):\n",
    "         size = round(per_size * self.data.shape[0])\n",
    "         self.features_BERT_cuted = self.features_BERT.sample(size, random_state=SEED)\n",
    "         self.target_BERT_cuted = self.data.toxic.loc[self.features_BERT_cuted.index]\n",
    "\n",
    "    def train_test_split_BERT(self,test_size=.5):\n",
    "         self.features_train_BERT,self.features_test_BERT,self.target_train_BERT,self.target_test_BERT = train_test_split(self.features_BERT_cuted,\n",
    "                                                                                                                          self.target_BERT_cuted,\n",
    "                                                                                                                          test_size=test_size,\n",
    "                                                                                                                          stratify=self.target_BERT_cuted,\n",
    "                                                                                                                          random_state=SEED)\n",
    "\n",
    "    def DecisionTreeClassifier_BERT(self):\n",
    "        start_time = time.time()\n",
    "        model = DecisionTreeClassifier(random_state=SEED)\n",
    "        \n",
    "\n",
    "        param_distributions = {\n",
    "            \"max_depth\": loguniform_int(3, 15),\n",
    "        }\n",
    "        \n",
    "        self.DecisionTreeClassifier_BERT_result = RandomizedSearchCV(\n",
    "                    model,\n",
    "                    param_distributions=param_distributions,\n",
    "                    n_iter=5,\n",
    "                    verbose=3,\n",
    "                    scoring='f1',\n",
    "                    random_state=SEED,\n",
    "        )\n",
    "\n",
    "        self.DecisionTreeClassifier_BERT_result.fit(self.features_train_BERT, self.target_train_BERT)\n",
    "\n",
    "        self.all_model['DecisionTreeClassifier_BERT'] = {'time' : time.time() - start_time}\n",
    "        self.all_model['DecisionTreeClassifier_BERT']['score'] = self.DecisionTreeClassifier_BERT_result.best_score_\n",
    "\n",
    "\n",
    "    def RandomForestClassifier_BERT(self):\n",
    "        start_time = time.time()\n",
    "        model = RandomForestClassifier(random_state=SEED)\n",
    "        \n",
    "\n",
    "        param_distributions = {\n",
    "            \"max_depth\": loguniform_int(3, 15),\n",
    "            'n_estimators' : loguniform_int(10, 50),\n",
    "        }\n",
    "        \n",
    "        self.RandomForestClassifier_BERT_result = RandomizedSearchCV(\n",
    "                    model,\n",
    "                    param_distributions=param_distributions,\n",
    "                    n_iter=5,\n",
    "                    verbose=3,\n",
    "                    scoring='f1',\n",
    "                    return_train_score=True,\n",
    "                    random_state=SEED,\n",
    "        )\n",
    "\n",
    "        self.RandomForestClassifier_BERT_result.fit(self.features_train_BERT, self.target_train_BERT)\n",
    "\n",
    "        self.all_model['RandomForestClassifier_BERT'] = {'time' : time.time() - start_time}\n",
    "        self.all_model['RandomForestClassifier_BERT']['score'] = self.RandomForestClassifier_BERT_result.best_score_\n",
    "\n",
    "    def LGBMClassifier_BERT(self):\n",
    "        start_time = time.time()\n",
    "        model = LGBMClassifier(random_state=SEED)\n",
    "        \n",
    "\n",
    "        param_distributions = {\n",
    "            \"max_depth\": loguniform_int(3, 15),\n",
    "            'n_estimators' : loguniform_int(10, 100),\n",
    "        }\n",
    "        \n",
    "        self.LGBMClassifier_BERT_result = RandomizedSearchCV(\n",
    "                    model,\n",
    "                    param_distributions=param_distributions,\n",
    "                    n_iter=5,\n",
    "                    verbose=3,\n",
    "                    scoring='f1',\n",
    "                    random_state=SEED,\n",
    "        )\n",
    "\n",
    "        self.LGBMClassifier_BERT_result.fit(self.features_train_BERT, self.target_train_BERT)\n",
    "\n",
    "        self.all_model['LGBMClassifier_BERT'] = {'time' : time.time() - start_time}\n",
    "        self.all_model['LGBMClassifier_BERT']['score'] = self.LGBMClassifier_BERT_result.best_score_\n",
    "\n",
    "\n",
    "    def HistGradientBoostingClassifier_BERT(self):\n",
    "\n",
    "        start_time = time.time()\n",
    "\n",
    "        model = HistGradientBoostingClassifier(random_state=SEED)\n",
    "        param_distributions = {\n",
    "            \"l2_regularization\": loguniform(1e-6, 1e3),\n",
    "            \"learning_rate\": loguniform(0.001, 10),\n",
    "            \"max_leaf_nodes\": loguniform_int(2, 256),\n",
    "            \"min_samples_leaf\": loguniform_int(1, 100),\n",
    "            \"max_bins\": loguniform_int(2, 255),\n",
    "        }\n",
    "\n",
    "        self.HistGradientBoostingClassifier_BERT_result = RandomizedSearchCV(\n",
    "            model,\n",
    "            param_distributions=param_distributions,\n",
    "            n_iter=5,\n",
    "            verbose=3,\n",
    "            scoring='f1',\n",
    "            random_state=SEED,\n",
    "        )\n",
    "        self.HistGradientBoostingClassifier_BERT_result.fit(self.features_train_BERT, self.target_train_BERT)\n",
    "        \n",
    "        self.all_model['HistGradientBoostingClassifier_BERT'] = {'time' : time.time() - start_time}\n",
    "        self.all_model['HistGradientBoostingClassifier_BERT']['score'] = self.LGBMClassifier_BERT_result.best_score_"
   ]
  },
  {
   "cell_type": "markdown",
   "metadata": {},
   "source": [
    "### Создание экземпляра класса"
   ]
  },
  {
   "cell_type": "code",
   "execution_count": 80,
   "metadata": {},
   "outputs": [],
   "source": [
    "try:\n",
    "    comments = text_sentiment_ml.instance_from_link('/Users/ad/Desktop/hello_ds/Practicum/bert_/comments.csv')\n",
    "except:\n",
    "    comments = text_sentiment_ml.instance_from_link('https://code.s3.yandex.net//datasets/toxic_comments.csv')"
   ]
  },
  {
   "cell_type": "markdown",
   "metadata": {},
   "source": [
    "### Общая информация о датасете"
   ]
  },
  {
   "cell_type": "code",
   "execution_count": 81,
   "metadata": {},
   "outputs": [
    {
     "name": "stdout",
     "output_type": "stream",
     "text": [
      "<class 'pandas.core.frame.DataFrame'>\n",
      "Int64Index: 159292 entries, 0 to 159450\n",
      "Data columns (total 2 columns):\n",
      " #   Column  Non-Null Count   Dtype \n",
      "---  ------  --------------   ----- \n",
      " 0   text    159292 non-null  object\n",
      " 1   toxic   159292 non-null  int64 \n",
      "dtypes: int64(1), object(1)\n",
      "memory usage: 3.6+ MB\n"
     ]
    }
   ],
   "source": [
    "comments.data.info()"
   ]
  },
  {
   "cell_type": "markdown",
   "metadata": {},
   "source": [
    "Пропусков в данных не обнаружено. Значение индекса не соответствует количеству данных. Количество строк - `159292`, в то время, как индекс содержит значения от `0` до `159450`. Таким образом индекс отличается от действительного количества строк на `158`. Сбросим индекс:"
   ]
  },
  {
   "cell_type": "code",
   "execution_count": 82,
   "metadata": {},
   "outputs": [
    {
     "data": {
      "text/plain": [
       "RangeIndex(start=0, stop=159292, step=1)"
      ]
     },
     "execution_count": 82,
     "metadata": {},
     "output_type": "execute_result"
    }
   ],
   "source": [
    "comments.data.reset_index(drop=True, inplace=True)\n",
    "comments.data.index"
   ]
  },
  {
   "cell_type": "markdown",
   "metadata": {},
   "source": [
    "Теперь индекс соответствует количеству данных. Посмотрим на баланс классов:"
   ]
  },
  {
   "cell_type": "code",
   "execution_count": 83,
   "metadata": {},
   "outputs": [
    {
     "data": {
      "image/png": "[encoded data removed]",
      "text/plain": [
       "<Figure size 1000x600 with 1 Axes>"
      ]
     },
     "metadata": {},
     "output_type": "display_data"
    }
   ],
   "source": [
    "cr = ['g','r']\n",
    "ax = comments.data['toxic'].value_counts().plot(kind='bar', figsize=(10, 6), color=cr)\n",
    "plt.title('Распределение классов в toxic', fontsize=20)\n",
    "plt.xticks(rotation=0)\n",
    "plt.show()"
   ]
  },
  {
   "cell_type": "markdown",
   "metadata": {},
   "source": [
    "Наблюдается дисбаланс классов. Нетоксичных комментариев в `8.84` раз больше (`~90%` против `~10%`), чем токсичных.\n",
    "\n",
    "Обучим модели с использованием BERT."
   ]
  },
  {
   "cell_type": "markdown",
   "metadata": {},
   "source": [
    "## Обучение"
   ]
  },
  {
   "cell_type": "markdown",
   "metadata": {},
   "source": [
    "### Подготовка данных"
   ]
  },
  {
   "cell_type": "markdown",
   "metadata": {},
   "source": [
    "Скачаем заранее преобразованные эмбенги из csv-файла:"
   ]
  },
  {
   "cell_type": "code",
   "execution_count": 84,
   "metadata": {},
   "outputs": [
    {
     "name": "stderr",
     "output_type": "stream",
     "text": [
      "Downloading...\n",
      "From (uriginal): https://drive.google.com/uc?id=1g4pl4v291c8lWBaRPVa_63lvIkVdfpBK\n",
      "From (redirected): https://drive.google.com/uc?id=1g4pl4v291c8lWBaRPVa_63lvIkVdfpBK&confirm=t&uuid=c8822034-6cfa-4638-ad01-c017c2d82274\n",
      "To: /Users/aleksandrdikov/Desktop/hello_ds/Practicum/bert_/features.csv\n",
      "100%|██████████| 1.35G/1.35G [00:31<00:00, 43.4MB/s]\n"
     ]
    }
   ],
   "source": [
    "comments.get_BERT_features_from_link()"
   ]
  },
  {
   "cell_type": "markdown",
   "metadata": {},
   "source": [
    "Размер датасета слишком велик для обучения. Выберем `30%` случайных значений:"
   ]
  },
  {
   "cell_type": "code",
   "execution_count": 85,
   "metadata": {},
   "outputs": [],
   "source": [
    "comments.cut_BERT_features(per_size=.2)"
   ]
  },
  {
   "cell_type": "code",
   "execution_count": 86,
   "metadata": {},
   "outputs": [
    {
     "name": "stdout",
     "output_type": "stream",
     "text": [
      "Выборка имеет размер в 31858 строк и 768 колонок\n"
     ]
    }
   ],
   "source": [
    "print('Выборка имеет размер в {} строк и {} колонок'.format(\n",
    "    comments.features_BERT_cuted.shape[0],\n",
    "    comments.features_BERT_cuted.shape[1]\n",
    "))"
   ]
  },
  {
   "cell_type": "markdown",
   "metadata": {},
   "source": [
    "### Получение обучающей и тренировочной выборки"
   ]
  },
  {
   "cell_type": "markdown",
   "metadata": {},
   "source": [
    "В связи с тем, что мы взяли лишь треть выборки, разделим выборку на обучающую и тестовую, как `1` к `1`. Для обучения будем использовать `cross-validation` для улучшения результата:"
   ]
  },
  {
   "cell_type": "code",
   "execution_count": 87,
   "metadata": {},
   "outputs": [],
   "source": [
    "comments.train_test_split_BERT(test_size=.2)"
   ]
  },
  {
   "cell_type": "markdown",
   "metadata": {},
   "source": [
    "### Обучение"
   ]
  },
  {
   "cell_type": "code",
   "execution_count": 88,
   "metadata": {
    "collapsed": true
   },
   "outputs": [
    {
     "name": "stdout",
     "output_type": "stream",
     "text": [
      "Fitting 5 folds for each of 5 candidates, totalling 25 fits\n",
      "[CV 1/5] END ......max_depth=5, n_estimators=10;, score=0.935 total time=   3.9s\n",
      "[CV 2/5] END ......max_depth=5, n_estimators=10;, score=0.939 total time=   2.9s\n",
      "[CV 3/5] END ......max_depth=5, n_estimators=10;, score=0.932 total time=   2.8s\n",
      "[CV 4/5] END ......max_depth=5, n_estimators=10;, score=0.924 total time=   3.2s\n",
      "[CV 5/5] END ......max_depth=5, n_estimators=10;, score=0.924 total time=   3.0s\n",
      "[CV 1/5] END ......max_depth=5, n_estimators=10;, score=0.935 total time=   2.9s\n",
      "[CV 2/5] END ......max_depth=5, n_estimators=10;, score=0.939 total time=   2.6s\n",
      "[CV 3/5] END ......max_depth=5, n_estimators=10;, score=0.932 total time=   2.5s\n",
      "[CV 4/5] END ......max_depth=5, n_estimators=10;, score=0.924 total time=   3.7s\n",
      "[CV 5/5] END ......max_depth=5, n_estimators=10;, score=0.924 total time=   4.5s\n",
      "[CV 1/5] END .....max_depth=10, n_estimators=23;, score=0.951 total time=   8.0s\n",
      "[CV 2/5] END .....max_depth=10, n_estimators=23;, score=0.949 total time=   3.5s\n",
      "[CV 3/5] END .....max_depth=10, n_estimators=23;, score=0.947 total time=   4.0s\n",
      "[CV 4/5] END .....max_depth=10, n_estimators=23;, score=0.930 total time=   3.3s\n",
      "[CV 5/5] END .....max_depth=10, n_estimators=23;, score=0.938 total time=   3.3s\n",
      "[CV 1/5] END ......max_depth=3, n_estimators=72;, score=0.950 total time=   3.5s\n",
      "[CV 2/5] END ......max_depth=3, n_estimators=72;, score=0.949 total time=   3.3s\n",
      "[CV 3/5] END ......max_depth=3, n_estimators=72;, score=0.947 total time=   3.4s\n",
      "[CV 4/5] END ......max_depth=3, n_estimators=72;, score=0.930 total time=   3.3s\n",
      "[CV 5/5] END ......max_depth=3, n_estimators=72;, score=0.939 total time=   3.3s\n",
      "[CV 1/5] END ......max_depth=9, n_estimators=78;, score=0.953 total time=   5.9s\n",
      "[CV 2/5] END ......max_depth=9, n_estimators=78;, score=0.953 total time=   6.3s\n",
      "[CV 3/5] END ......max_depth=9, n_estimators=78;, score=0.950 total time=   5.8s\n",
      "[CV 4/5] END ......max_depth=9, n_estimators=78;, score=0.934 total time=   5.6s\n",
      "[CV 5/5] END ......max_depth=9, n_estimators=78;, score=0.936 total time=   5.8s\n"
     ]
    }
   ],
   "source": [
    "comments.LGBMClassifier_BERT()"
   ]
  },
  {
   "cell_type": "code",
   "execution_count": 89,
   "metadata": {
    "collapsed": true
   },
   "outputs": [
    {
     "name": "stdout",
     "output_type": "stream",
     "text": [
      "Fitting 5 folds for each of 5 candidates, totalling 25 fits\n",
      "[CV 1/5] END max_depth=5, n_estimators=10;, score=(train=0.962, test=0.942) total time=   2.5s\n",
      "[CV 2/5] END max_depth=5, n_estimators=10;, score=(train=0.965, test=0.952) total time=   2.2s\n",
      "[CV 3/5] END max_depth=5, n_estimators=10;, score=(train=0.961, test=0.950) total time=   2.3s\n",
      "[CV 4/5] END max_depth=5, n_estimators=10;, score=(train=0.968, test=0.938) total time=   2.2s\n",
      "[CV 5/5] END max_depth=5, n_estimators=10;, score=(train=0.965, test=0.933) total time=   2.2s\n",
      "[CV 1/5] END max_depth=5, n_estimators=10;, score=(train=0.962, test=0.942) total time=   2.2s\n",
      "[CV 2/5] END max_depth=5, n_estimators=10;, score=(train=0.965, test=0.952) total time=   2.3s\n",
      "[CV 3/5] END max_depth=5, n_estimators=10;, score=(train=0.961, test=0.950) total time=   2.2s\n",
      "[CV 4/5] END max_depth=5, n_estimators=10;, score=(train=0.968, test=0.938) total time=   2.4s\n",
      "[CV 5/5] END max_depth=5, n_estimators=10;, score=(train=0.965, test=0.933) total time=   2.2s\n",
      "[CV 1/5] END max_depth=10, n_estimators=18;, score=(train=0.989, test=0.952) total time=   7.6s\n",
      "[CV 2/5] END max_depth=10, n_estimators=18;, score=(train=0.990, test=0.946) total time=   7.5s\n",
      "[CV 3/5] END max_depth=10, n_estimators=18;, score=(train=0.989, test=0.950) total time=   7.6s\n",
      "[CV 4/5] END max_depth=10, n_estimators=18;, score=(train=0.992, test=0.938) total time=   7.4s\n",
      "[CV 5/5] END max_depth=10, n_estimators=18;, score=(train=0.989, test=0.935) total time=   7.5s\n",
      "[CV 1/5] END max_depth=3, n_estimators=39;, score=(train=0.952, test=0.949) total time=   5.3s\n",
      "[CV 2/5] END max_depth=3, n_estimators=39;, score=(train=0.950, test=0.953) total time=   5.2s\n",
      "[CV 3/5] END max_depth=3, n_estimators=39;, score=(train=0.950, test=0.951) total time=   5.1s\n",
      "[CV 4/5] END max_depth=3, n_estimators=39;, score=(train=0.956, test=0.937) total time=   5.2s\n",
      "[CV 5/5] END max_depth=3, n_estimators=39;, score=(train=0.955, test=0.932) total time=   5.1s\n",
      "[CV 1/5] END max_depth=9, n_estimators=42;, score=(train=0.988, test=0.948) total time=  15.7s\n",
      "[CV 2/5] END max_depth=9, n_estimators=42;, score=(train=0.989, test=0.949) total time=  21.9s\n",
      "[CV 3/5] END max_depth=9, n_estimators=42;, score=(train=0.988, test=0.957) total time=  17.8s\n",
      "[CV 4/5] END max_depth=9, n_estimators=42;, score=(train=0.991, test=0.942) total time=  17.7s\n",
      "[CV 5/5] END max_depth=9, n_estimators=42;, score=(train=0.990, test=0.935) total time=  30.5s\n"
     ]
    }
   ],
   "source": [
    "comments.RandomForestClassifier_BERT()"
   ]
  },
  {
   "cell_type": "code",
   "execution_count": 90,
   "metadata": {
    "collapsed": true
   },
   "outputs": [
    {
     "name": "stdout",
     "output_type": "stream",
     "text": [
      "Fitting 5 folds for each of 5 candidates, totalling 25 fits\n",
      "[CV 1/5] END .......................max_depth=5;, score=0.927 total time=  10.7s\n",
      "[CV 2/5] END .......................max_depth=5;, score=0.936 total time=  10.1s\n",
      "[CV 3/5] END .......................max_depth=5;, score=0.929 total time=   8.6s\n",
      "[CV 4/5] END .......................max_depth=5;, score=0.919 total time=   8.7s\n",
      "[CV 5/5] END .......................max_depth=5;, score=0.931 total time=   9.8s\n",
      "[CV 1/5] END .......................max_depth=3;, score=0.932 total time=   6.0s\n",
      "[CV 2/5] END .......................max_depth=3;, score=0.936 total time=   5.3s\n",
      "[CV 3/5] END .......................max_depth=3;, score=0.925 total time=   5.2s\n",
      "[CV 4/5] END .......................max_depth=3;, score=0.924 total time=   5.2s\n",
      "[CV 5/5] END .......................max_depth=3;, score=0.923 total time=   5.4s\n",
      "[CV 1/5] END .......................max_depth=5;, score=0.927 total time=   8.9s\n",
      "[CV 2/5] END .......................max_depth=5;, score=0.936 total time=   8.7s\n",
      "[CV 3/5] END .......................max_depth=5;, score=0.929 total time=   9.3s\n",
      "[CV 4/5] END .......................max_depth=5;, score=0.919 total time=   9.2s\n",
      "[CV 5/5] END .......................max_depth=5;, score=0.931 total time=  10.8s\n",
      "[CV 1/5] END .......................max_depth=3;, score=0.932 total time=   5.5s\n",
      "[CV 2/5] END .......................max_depth=3;, score=0.936 total time=   5.4s\n",
      "[CV 3/5] END .......................max_depth=3;, score=0.925 total time=   5.6s\n",
      "[CV 4/5] END .......................max_depth=3;, score=0.924 total time=   5.4s\n",
      "[CV 5/5] END .......................max_depth=3;, score=0.923 total time=   5.5s\n",
      "[CV 1/5] END ......................max_depth=10;, score=0.925 total time=  17.7s\n",
      "[CV 2/5] END ......................max_depth=10;, score=0.930 total time=  22.6s\n",
      "[CV 3/5] END ......................max_depth=10;, score=0.919 total time=  31.0s\n",
      "[CV 4/5] END ......................max_depth=10;, score=0.918 total time=  20.3s\n",
      "[CV 5/5] END ......................max_depth=10;, score=0.921 total time=  21.4s\n"
     ]
    }
   ],
   "source": [
    "comments.DecisionTreeClassifier_BERT()"
   ]
  },
  {
   "cell_type": "code",
   "execution_count": 91,
   "metadata": {},
   "outputs": [
    {
     "name": "stdout",
     "output_type": "stream",
     "text": [
      "Fitting 5 folds for each of 5 candidates, totalling 25 fits\n",
      "[CV 1/5] END l2_regularization=0.0013174688755903435, learning_rate=0.0010649280159864612, max_bins=9, max_leaf_nodes=2, min_samples_leaf=34;, score=0.000 total time=   4.3s\n",
      "[CV 2/5] END l2_regularization=0.0013174688755903435, learning_rate=0.0010649280159864612, max_bins=9, max_leaf_nodes=2, min_samples_leaf=34;, score=0.000 total time=   3.9s\n",
      "[CV 3/5] END l2_regularization=0.0013174688755903435, learning_rate=0.0010649280159864612, max_bins=9, max_leaf_nodes=2, min_samples_leaf=34;, score=0.000 total time=   4.2s\n",
      "[CV 4/5] END l2_regularization=0.0013174688755903435, learning_rate=0.0010649280159864612, max_bins=9, max_leaf_nodes=2, min_samples_leaf=34;, score=0.000 total time=   3.9s\n",
      "[CV 5/5] END l2_regularization=0.0013174688755903435, learning_rate=0.0010649280159864612, max_bins=9, max_leaf_nodes=2, min_samples_leaf=34;, score=0.000 total time=   4.3s\n",
      "[CV 1/5] END l2_regularization=0.0022429165441035866, learning_rate=0.001092790313757763, max_bins=127, max_leaf_nodes=62, min_samples_leaf=62;, score=0.000 total time=  10.9s\n",
      "[CV 2/5] END l2_regularization=0.0022429165441035866, learning_rate=0.001092790313757763, max_bins=127, max_leaf_nodes=62, min_samples_leaf=62;, score=0.000 total time=   8.6s\n",
      "[CV 3/5] END l2_regularization=0.0022429165441035866, learning_rate=0.001092790313757763, max_bins=127, max_leaf_nodes=62, min_samples_leaf=62;, score=0.000 total time=   9.1s\n",
      "[CV 4/5] END l2_regularization=0.0022429165441035866, learning_rate=0.001092790313757763, max_bins=127, max_leaf_nodes=62, min_samples_leaf=62;, score=0.000 total time=  10.1s\n",
      "[CV 5/5] END l2_regularization=0.0022429165441035866, learning_rate=0.001092790313757763, max_bins=127, max_leaf_nodes=62, min_samples_leaf=62;, score=0.000 total time=   8.6s\n",
      "[CV 1/5] END l2_regularization=0.13041892021615642, learning_rate=0.40159891791392527, max_bins=12, max_leaf_nodes=224, min_samples_leaf=25;, score=0.947 total time=   4.3s\n",
      "[CV 2/5] END l2_regularization=0.13041892021615642, learning_rate=0.40159891791392527, max_bins=12, max_leaf_nodes=224, min_samples_leaf=25;, score=0.949 total time=   3.7s\n",
      "[CV 3/5] END l2_regularization=0.13041892021615642, learning_rate=0.40159891791392527, max_bins=12, max_leaf_nodes=224, min_samples_leaf=25;, score=0.936 total time=   6.0s\n",
      "[CV 4/5] END l2_regularization=0.13041892021615642, learning_rate=0.40159891791392527, max_bins=12, max_leaf_nodes=224, min_samples_leaf=25;, score=0.931 total time=   8.8s\n",
      "[CV 5/5] END l2_regularization=0.13041892021615642, learning_rate=0.40159891791392527, max_bins=12, max_leaf_nodes=224, min_samples_leaf=25;, score=0.935 total time=   4.2s\n",
      "[CV 1/5] END l2_regularization=1.2371975065491188e-06, learning_rate=0.006159024329708946, max_bins=14, max_leaf_nodes=51, min_samples_leaf=34;, score=0.800 total time=  10.4s\n",
      "[CV 2/5] END l2_regularization=1.2371975065491188e-06, learning_rate=0.006159024329708946, max_bins=14, max_leaf_nodes=51, min_samples_leaf=34;, score=0.793 total time=   6.8s\n",
      "[CV 3/5] END l2_regularization=1.2371975065491188e-06, learning_rate=0.006159024329708946, max_bins=14, max_leaf_nodes=51, min_samples_leaf=34;, score=0.818 total time=  13.6s\n",
      "[CV 4/5] END l2_regularization=1.2371975065491188e-06, learning_rate=0.006159024329708946, max_bins=14, max_leaf_nodes=51, min_samples_leaf=34;, score=0.798 total time=  11.4s\n",
      "[CV 5/5] END l2_regularization=1.2371975065491188e-06, learning_rate=0.006159024329708946, max_bins=14, max_leaf_nodes=51, min_samples_leaf=34;, score=0.840 total time=  10.3s\n",
      "[CV 1/5] END l2_regularization=0.0007464730873941111, learning_rate=0.023542315789024923, max_bins=9, max_leaf_nodes=56, min_samples_leaf=29;, score=0.948 total time=  10.8s\n",
      "[CV 2/5] END l2_regularization=0.0007464730873941111, learning_rate=0.023542315789024923, max_bins=9, max_leaf_nodes=56, min_samples_leaf=29;, score=0.950 total time=   9.7s\n",
      "[CV 3/5] END l2_regularization=0.0007464730873941111, learning_rate=0.023542315789024923, max_bins=9, max_leaf_nodes=56, min_samples_leaf=29;, score=0.942 total time=   9.1s\n",
      "[CV 4/5] END l2_regularization=0.0007464730873941111, learning_rate=0.023542315789024923, max_bins=9, max_leaf_nodes=56, min_samples_leaf=29;, score=0.938 total time=   8.7s\n",
      "[CV 5/5] END l2_regularization=0.0007464730873941111, learning_rate=0.023542315789024923, max_bins=9, max_leaf_nodes=56, min_samples_leaf=29;, score=0.936 total time=   5.7s\n"
     ]
    }
   ],
   "source": [
    "comments.HistGradientBoostingClassifier_BERT()"
   ]
  },
  {
   "cell_type": "markdown",
   "metadata": {},
   "source": [
    "## Выводы"
   ]
  },
  {
   "cell_type": "markdown",
   "metadata": {},
   "source": [
    "Построим таблицу эффективности моделей:"
   ]
  },
  {
   "cell_type": "code",
   "execution_count": 92,
   "metadata": {},
   "outputs": [
    {
     "data": {
      "text/html": [
       "<div>\n",
       "<style scoped>\n",
       "    .dataframe tbody tr th:only-of-type {\n",
       "        vertical-align: middle;\n",
       "    }\n",
       "\n",
       "    .dataframe tbody tr th {\n",
       "        vertical-align: top;\n",
       "    }\n",
       "\n",
       "    .dataframe thead th {\n",
       "        text-align: right;\n",
       "    }\n",
       "</style>\n",
       "<table border=\"1\" class=\"dataframe\">\n",
       "  <thead>\n",
       "    <tr style=\"text-align: right;\">\n",
       "      <th></th>\n",
       "      <th>model</th>\n",
       "      <th>score</th>\n",
       "      <th>time</th>\n",
       "    </tr>\n",
       "  </thead>\n",
       "  <tbody>\n",
       "    <tr>\n",
       "      <th>0</th>\n",
       "      <td>LGBMClassifier_BERT</td>\n",
       "      <td>0.945</td>\n",
       "      <td>01:47</td>\n",
       "    </tr>\n",
       "    <tr>\n",
       "      <th>1</th>\n",
       "      <td>RandomForestClassifier_BERT</td>\n",
       "      <td>0.946</td>\n",
       "      <td>03:39</td>\n",
       "    </tr>\n",
       "    <tr>\n",
       "      <th>2</th>\n",
       "      <td>DecisionTreeClassifier_BERT</td>\n",
       "      <td>0.928</td>\n",
       "      <td>04:37</td>\n",
       "    </tr>\n",
       "    <tr>\n",
       "      <th>3</th>\n",
       "      <td>HistGradientBoostingClassifier_BERT</td>\n",
       "      <td>0.945</td>\n",
       "      <td>03:20</td>\n",
       "    </tr>\n",
       "  </tbody>\n",
       "</table>\n",
       "</div>"
      ],
      "text/plain": [
       "                                 model  score   time\n",
       "0                  LGBMClassifier_BERT  0.945  01:47\n",
       "1          RandomForestClassifier_BERT  0.946  03:39\n",
       "2          DecisionTreeClassifier_BERT  0.928  04:37\n",
       "3  HistGradientBoostingClassifier_BERT  0.945  03:20"
      ]
     },
     "metadata": {},
     "output_type": "display_data"
    }
   ],
   "source": [
    "results = {\n",
    "    'model' : \n",
    "        [*comments.all_model.keys()],\n",
    "    'score' : \n",
    "        [round(comments.all_model[value]['score'],3)\n",
    "         for value in comments.all_model.keys()],\n",
    "    'time' : \n",
    "        [time.strftime(\"%M:%S\", time.gmtime(comments.all_model[value]['time']))\n",
    "         for value in comments.all_model.keys()],\n",
    "    }\n",
    "display(pd.DataFrame(results))"
   ]
  },
  {
   "cell_type": "markdown",
   "metadata": {},
   "source": [
    "Модели `RandomForestClassifier`, `LGBMClassifier_BERT` и `HistGradientBoostingClassifier` показывают схожий результат. Если важна скорость обучения, то стоит присмотреться к `HistGradientBoostingClassifier_BERT` и `LGBMClassifier_BERT`. Если главная метрика только `f1_score`, то есть выбрать `RandomForestClassifier_BERT`."
   ]
  },
  {
   "cell_type": "code",
   "execution_count": 93,
   "metadata": {},
   "outputs": [
    {
     "name": "stdout",
     "output_type": "stream",
     "text": [
      "f1_score на тестовой выборке: 0.933\n"
     ]
    }
   ],
   "source": [
    "predicts = comments.RandomForestClassifier_BERT_result.predict(comments.features_test_BERT)\n",
    "print('f1_score на тестовой выборке: {:.3}'.format(f1_score(comments.target_test_BERT, predicts)))"
   ]
  },
  {
   "cell_type": "markdown",
   "metadata": {},
   "source": [
    "`f1_score` модели `RandomForestClassifier_BERT` на тестовой выборке составил `0.933`, что выше требования в `0.75`"
   ]
  },
  {
   "cell_type": "markdown",
   "metadata": {},
   "source": [
    "## Вывод\n",
    "\n",
    "а.\n",
    "\n",
    "Первоначальные данные содержали в себе:\n",
    "1. `2 колонки` и `159292 строк`;\n",
    "2. Первая колонка - колонка с признаком `text`, которая содержит в себе твиты. Вторая - целевой признак `Toxic`;\n",
    "3. Целевой признак представляет собой два класса, которые плохо сбалансированы (`90%` не токсичных комментариев против `10%` токсичных)\n",
    "\n",
    "б. \n",
    "\n",
    "Эмбенги были прообразованы заранее и сохранены в файл. Для обучения модели была взята выборка в `30%` случайных значений от всего датасета. \n",
    "\n",
    "В связи с тем, что была взята не вся выборка, принято решение сделать обучающую выборку `1` к `1`, чтобы модель проходила отбор в более \"жестких\" условиях.\n",
    "\n",
    "Для обучения моделей использовался `RandomizedSearchCV` с различными параметрами. Для обучения были взяты следующие модели:\n",
    "\n",
    "1. DecisionTreeClassifier. Результаты составили: `0.928`;\n",
    "2. RandomForestClassifier. Результаты составили: `0.946`;\n",
    "3. LGBMClassifier. Результаты составили: `0.945`;\n",
    "4. HistGradientBoostingClassifier. Результаты составили: `0.945`.\n",
    "\n",
    "В связи с этим была выбрана модель `RandomForestClassifier_BERT`, которая на тестовой выборке показала результат `f1_score` - `0.933`\n",
    "\n"
   ]
  }
 ],
 "metadata": {
  "kernelspec": {
   "display_name": "Python 3 (ipykernel)",
   "language": "python",
   "name": "python3"
  },
  "language_info": {
   "codemirror_mode": {
    "name": "ipython",
    "version": 3
   },
   "file_extension": ".py",
   "mimetype": "text/x-python",
   "name": "python",
   "nbconvert_exporter": "python",
   "pygments_lexer": "ipython3",
   "version": "3.9.5"
  },
  "toc": {
   "base_numbering": 1,
   "nav_menu": {},
   "number_sections": true,
   "sideBar": true,
   "skip_h1_title": true,
   "title_cell": "Table of Contents",
   "title_sidebar": "Contents",
   "toc_cell": false,
   "toc_position": {},
   "toc_section_display": true,
   "toc_window_display": false
  },
  "vscode": {
   "interpreter": {
    "hash": "0f722720931fbd7bac8fa92a0efaafb415e0b529bea29341344773e6eccc6c21"
   }
  }
 },
 "nbformat": 4,
 "nbformat_minor": 2
}
