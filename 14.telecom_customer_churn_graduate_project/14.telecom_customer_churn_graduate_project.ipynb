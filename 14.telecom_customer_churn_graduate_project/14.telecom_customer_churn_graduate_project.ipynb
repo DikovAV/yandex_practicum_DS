{
 "cells": [
  {
   "cell_type": "markdown",
   "metadata": {},
   "source": [
    "# План работы\n",
    "\n",
    "1. Изучение поставленной задачи;\n",
    "1. Получение первоначальной информации о проекте;\n",
    "2. Анализ имеющейся информации. Работа с данными: обработка некорректных значений, аномалий и пропусков.\n",
    "3. Разделение выборки на `features` and `target`;\n",
    "4. Feature engineering;\n",
    "5. Поиск оптимальной модели;\n",
    "6. Тестирование модели;\n",
    "7. Вывод."
   ]
  },
  {
   "cell_type": "markdown",
   "metadata": {},
   "source": [
    "# Описание проекта: телекоммуникации\n",
    "\n",
    "Оператор связи «Ниединогоразрыва.ком» хочет научиться прогнозировать отток клиентов. Если выяснится, что пользователь планирует уйти, ему будут предложены промокоды и специальные условия. Команда оператора собрала персональные данные о некоторых клиентах, информацию об их тарифах и договорах.\n",
    "\n",
    "### Описание услуг\n",
    "\n",
    "Оператор предоставляет два основных типа услуг:\n",
    "* Стационарную телефонную связь. Возможно подключение телефонного аппарата к нескольким линиям одновременно.\n",
    "* Интернет. Подключение может быть двух типов: через телефонную линию (DSL, от англ. digital subscriber line, «цифровая абонентская линия») или оптоволоконный кабель (Fiber optic).\n",
    "  \n",
    "Также доступны такие услуги:\n",
    "\n",
    "* Интернет-безопасность: антивирус (DeviceProtection) и блокировка небезопасных сайтов (OnlineSecurity);\n",
    "* Выделенная линия технической поддержки (TechSupport);\n",
    "* Облачное хранилище файлов для резервного копирования данных (OnlineBackup);\n",
    "* Стриминговое телевидение (StreamingTV) и каталог фильмов (StreamingMovies).\n",
    "  \n",
    "За услуги клиенты могут платить каждый месяц или заключить договор на 1–2 года. Доступны различные способы расчёта и возможность получения электронного чека.\n",
    "\n",
    "\n",
    "### Описание данных\n",
    "\n",
    "Данные состоят из файлов, полученных из разных источников:\n",
    "* contract_new.csv — информация о договоре;\n",
    "* personal_new.csv — персональные данные клиента;\n",
    "* internet_new.csv — информация об интернет-услугах;\n",
    "* phone_new.csv — информация об услугах телефонии.\n",
    "  \n",
    "Во всех файлах столбец customerID содержит код клиента.\n",
    "Информация о договорах актуальна на 1 февраля 2020.\n",
    "\n"
   ]
  },
  {
   "cell_type": "code",
   "execution_count": 51,
   "metadata": {},
   "outputs": [
    {
     "name": "stdout",
     "output_type": "stream",
     "text": [
      "Requirement already satisfied: phik in /opt/conda/lib/python3.9/site-packages (0.12.3)\n",
      "Requirement already satisfied: joblib>=0.14.1 in /opt/conda/lib/python3.9/site-packages (from phik) (1.1.0)\n",
      "Requirement already satisfied: numpy>=1.18.0 in /opt/conda/lib/python3.9/site-packages (from phik) (1.21.1)\n",
      "Requirement already satisfied: matplotlib>=2.2.3 in /opt/conda/lib/python3.9/site-packages (from phik) (3.3.4)\n",
      "Requirement already satisfied: scipy>=1.5.2 in /opt/conda/lib/python3.9/site-packages (from phik) (1.9.1)\n",
      "Requirement already satisfied: pandas>=0.25.1 in /opt/conda/lib/python3.9/site-packages (from phik) (1.2.4)\n",
      "Requirement already satisfied: python-dateutil>=2.1 in /opt/conda/lib/python3.9/site-packages (from matplotlib>=2.2.3->phik) (2.8.1)\n",
      "Requirement already satisfied: pyparsing!=2.0.4,!=2.1.2,!=2.1.6,>=2.0.3 in /opt/conda/lib/python3.9/site-packages (from matplotlib>=2.2.3->phik) (2.4.7)\n",
      "Requirement already satisfied: cycler>=0.10 in /opt/conda/lib/python3.9/site-packages (from matplotlib>=2.2.3->phik) (0.11.0)\n",
      "Requirement already satisfied: kiwisolver>=1.0.1 in /opt/conda/lib/python3.9/site-packages (from matplotlib>=2.2.3->phik) (1.4.4)\n",
      "Requirement already satisfied: pillow>=6.2.0 in /opt/conda/lib/python3.9/site-packages (from matplotlib>=2.2.3->phik) (8.4.0)\n",
      "Requirement already satisfied: pytz>=2017.3 in /opt/conda/lib/python3.9/site-packages (from pandas>=0.25.1->phik) (2021.1)\n",
      "Requirement already satisfied: six>=1.5 in /opt/conda/lib/python3.9/site-packages (from python-dateutil>=2.1->matplotlib>=2.2.3->phik) (1.16.0)\n",
      "Requirement already satisfied: category_encoders in /opt/conda/lib/python3.9/site-packages (2.6.2)\n",
      "Requirement already satisfied: pandas>=1.0.5 in /opt/conda/lib/python3.9/site-packages (from category_encoders) (1.2.4)\n",
      "Requirement already satisfied: scikit-learn>=0.20.0 in /opt/conda/lib/python3.9/site-packages (from category_encoders) (1.1.3)\n",
      "Requirement already satisfied: statsmodels>=0.9.0 in /opt/conda/lib/python3.9/site-packages (from category_encoders) (0.13.2)\n",
      "Requirement already satisfied: numpy>=1.14.0 in /opt/conda/lib/python3.9/site-packages (from category_encoders) (1.21.1)\n",
      "Requirement already satisfied: scipy>=1.0.0 in /opt/conda/lib/python3.9/site-packages (from category_encoders) (1.9.1)\n",
      "Requirement already satisfied: patsy>=0.5.1 in /opt/conda/lib/python3.9/site-packages (from category_encoders) (0.5.2)\n",
      "Requirement already satisfied: python-dateutil>=2.7.3 in /opt/conda/lib/python3.9/site-packages (from pandas>=1.0.5->category_encoders) (2.8.1)\n",
      "Requirement already satisfied: pytz>=2017.3 in /opt/conda/lib/python3.9/site-packages (from pandas>=1.0.5->category_encoders) (2021.1)\n",
      "Requirement already satisfied: six in /opt/conda/lib/python3.9/site-packages (from patsy>=0.5.1->category_encoders) (1.16.0)\n",
      "Requirement already satisfied: joblib>=1.0.0 in /opt/conda/lib/python3.9/site-packages (from scikit-learn>=0.20.0->category_encoders) (1.1.0)\n",
      "Requirement already satisfied: threadpoolctl>=2.0.0 in /opt/conda/lib/python3.9/site-packages (from scikit-learn>=0.20.0->category_encoders) (3.1.0)\n",
      "Requirement already satisfied: packaging>=21.3 in /opt/conda/lib/python3.9/site-packages (from statsmodels>=0.9.0->category_encoders) (21.3)\n",
      "Requirement already satisfied: pyparsing!=3.0.5,>=2.0.2 in /opt/conda/lib/python3.9/site-packages (from packaging>=21.3->statsmodels>=0.9.0->category_encoders) (2.4.7)\n",
      "Requirement already satisfied: scikit-learn==1.1.3 in /opt/conda/lib/python3.9/site-packages (1.1.3)\n",
      "Requirement already satisfied: numpy>=1.17.3 in /opt/conda/lib/python3.9/site-packages (from scikit-learn==1.1.3) (1.21.1)\n",
      "Requirement already satisfied: threadpoolctl>=2.0.0 in /opt/conda/lib/python3.9/site-packages (from scikit-learn==1.1.3) (3.1.0)\n",
      "Requirement already satisfied: joblib>=1.0.0 in /opt/conda/lib/python3.9/site-packages (from scikit-learn==1.1.3) (1.1.0)\n",
      "Requirement already satisfied: scipy>=1.3.2 in /opt/conda/lib/python3.9/site-packages (from scikit-learn==1.1.3) (1.9.1)\n"
     ]
    }
   ],
   "source": [
    "#Код ревьюера\n",
    "#!pip install phik\n",
    "#!pip install category_encoders\n",
    "#!pip install scikit-learn==1.1.3"
   ]
  },
  {
   "cell_type": "markdown",
   "metadata": {},
   "source": [
    "# Imports"
   ]
  },
  {
   "cell_type": "code",
   "execution_count": 52,
   "metadata": {},
   "outputs": [],
   "source": [
    "import os\n",
    "import time\n",
    "import warnings\n",
    "warnings.filterwarnings('ignore')\n",
    "\n",
    "from copy import copy\n",
    "\n",
    "import pandas as pd\n",
    "import numpy as np\n",
    "\n",
    "import matplotlib.pyplot as plt\n",
    "import seaborn as sns\n",
    "\n",
    "import phik\n",
    "\n",
    "from sklearn.impute import SimpleImputer\n",
    "from sklearn.preprocessing import StandardScaler\n",
    "from sklearn.preprocessing import OneHotEncoder\n",
    "import category_encoders as ce\n",
    "\n",
    "from sklearn.pipeline import make_pipeline\n",
    "from sklearn.pipeline import Pipeline\n",
    "\n",
    "from sklearn.compose import ColumnTransformer\n",
    "\n",
    "\n",
    "from sklearn.model_selection import RandomizedSearchCV\n",
    "from sklearn.model_selection import train_test_split\n",
    "\n",
    "from sklearn.ensemble import RandomForestClassifier\n",
    "from sklearn.linear_model import LogisticRegression\n",
    "from catboost import CatBoost, CatBoostClassifier\n",
    "from lightgbm import LGBMClassifier\n",
    "\n",
    "from sklearn.metrics import (roc_auc_score,\n",
    "                            confusion_matrix,\n",
    "                            accuracy_score,\n",
    "                            roc_curve)\n",
    "\n",
    "from category_encoders import *"
   ]
  },
  {
   "cell_type": "markdown",
   "metadata": {},
   "source": [
    "# Random seed"
   ]
  },
  {
   "cell_type": "code",
   "execution_count": 54,
   "metadata": {},
   "outputs": [],
   "source": [
    "RANDOM_SEED = 110923"
   ]
  },
  {
   "cell_type": "markdown",
   "metadata": {},
   "source": [
    "# Class `Telecommunication`"
   ]
  },
  {
   "cell_type": "code",
   "execution_count": 55,
   "metadata": {},
   "outputs": [],
   "source": [
    "\n",
    "\n",
    "\n",
    "class Telecommunication:\n",
    "\n",
    "    #часть 1. План работы\n",
    "    def __init__(self, path):\n",
    "        self.contract = pd.read_csv(f'{path}contract_new.csv', index_col='customerID')\n",
    "        self.personal = pd.read_csv(f'{path}personal_new.csv', index_col='customerID')\n",
    "        self.internet = pd.read_csv(f'{path}internet_new.csv', index_col='customerID')\n",
    "        self.phone = pd.read_csv(f'{path}phone_new.csv', index_col='customerID')\n",
    "        self.models = {}\n",
    "        \n",
    "    def fix_type_of_data(self):\n",
    "        self.contract['BeginDate'] = pd.to_datetime(self.contract['BeginDate'], format='%Y-%m-%d')\n",
    "        self.contract['TotalCharges'] = pd.to_numeric(self.contract['TotalCharges'], errors='coerce')\n",
    "        self.contract[['BeginDate', 'TotalCharges']].info()\n",
    "        \n",
    "    def leaved_id(self):\n",
    "        self.leaved_id = self.contract[self.contract['EndDate'] != 'No'].index\n",
    "        print(\"Процент оттока клиентов в представленных данных составляет: {:.2%}\".format(\n",
    "                    self.contract[self.contract['EndDate'] != 'No']['EndDate'].count() /\n",
    "                     self.contract['EndDate'].count()\n",
    "                ))\n",
    "        \n",
    "    def fix_citizen_status(self):\n",
    "        \n",
    "        self.personal['SeniorCitizen'] = np.where(self.personal['SeniorCitizen'] == 0, \"No\", 'Yes')\n",
    "        \n",
    "    \n",
    "    @classmethod\n",
    "    def barplot_features(cls, ds, leaved_id, name):\n",
    "        columns = ds.columns\n",
    "        num_rows = len(columns) // 2 + len(columns) % 2\n",
    "\n",
    "        fig, axes = plt.subplots(num_rows, 2, figsize=(12, 4 * num_rows))\n",
    "        axes = axes.ravel()\n",
    "\n",
    "        for i, col in enumerate(columns):\n",
    "            ax = axes[i]\n",
    "            sns.barplot(x=ds[col].value_counts().sort_index(ascending=True),\n",
    "                        y=ds[col].value_counts().sort_index(ascending=True).index,\n",
    "                        ax=ax,\n",
    "                        palette='Set3', alpha=.5)\n",
    "\n",
    "            sns.barplot(x=ds[ds.index.isin(leaved_id)][col].value_counts().sort_index(ascending=True),\n",
    "                        y=ds[ds.index.isin(leaved_id)][col].value_counts().sort_index(ascending=True).index,\n",
    "                        ax=ax,\n",
    "                        palette='Set3')\n",
    "\n",
    "            ax.set_xlabel('Количество пользователей\\n')\n",
    "            ax.set_ylabel(f'{col}')\n",
    "            ax.set_title(f'По колонке {col}\\n')\n",
    "\n",
    "            leavers_per = (ds[ds.index.isin(leaved_id)][col]\n",
    "               .value_counts()\n",
    "               .sort_index(ascending=True)\n",
    "                /\n",
    "                ds[col]\n",
    "                .value_counts()\n",
    "                .sort_index(ascending=True))\n",
    "\n",
    "            for i_lp, val in enumerate(leavers_per):\n",
    "                ax.text(ds[ds.index.isin(leaved_id)][col].value_counts().sort_index(ascending=True)[i_lp] + 300, i_lp, '{:2.2%}'.format(val), ha='center', va='center', fontsize=10)\n",
    "\n",
    "        if len(columns) % 2 != 0:\n",
    "            fig.delaxes(axes[-1])\n",
    "\n",
    "        plt.suptitle(f'Диаграммы отношения ушедших пользователей ко всем пользователям\\n в датафрейме {name}\\n', fontsize=16)\n",
    "\n",
    "        plt.tight_layout()\n",
    "        \n",
    "    # Часть 2. Код решения\n",
    "    \n",
    "    def concat_datasets(self):\n",
    "        \n",
    "\n",
    "        self.df_full = self.contract.merge(self.internet, how='left', left_index=True, right_index=True)\n",
    "        self.df_full = self.df_full.merge(self.phone, how='left', left_index=True, right_index=True)\n",
    "        self.df_full = self.df_full.merge(self.personal, how='left', left_index=True, right_index=True)\n",
    "        \n",
    "        \n",
    "        print(f'Количество уникальных пользователей в первоночальном датасете: {len(set(self.contract.index))}')\n",
    "        print(f'Количество строк в полном датасете: {len(set(self.df_full.index))}')\n",
    "        \n",
    "    def get_features(self):\n",
    "        self.df_full['duration'] = (pd.to_datetime(np.where(self.df_full['EndDate'] != 'No',\n",
    "                                                            self.df_full['EndDate'],\n",
    "                                                            '2020-02-01')) - self.df_full['BeginDate']).dt.days\n",
    "        \n",
    "        self.df_full.drop(columns=['BeginDate','MonthlyCharges'], inplace=True)\n",
    "        \n",
    "        self.df_full['Status'] = np.where(self.df_full['EndDate'] == 'No', 0 , 1)\n",
    "        \n",
    "        self.df_full.drop(columns=['EndDate'], inplace=True)\n",
    "        \n",
    "    def features_train_splitter(self):\n",
    "\n",
    "        self.features = self.df_full.drop(columns=['Status'])\n",
    "        self.target = self.df_full['Status']\n",
    "        \n",
    "        print(f'Размер выборки признаков: строк - {self.features.shape[0]}, столбцов - {self.features.shape[1]}')\n",
    "        print(f'Размер целевой выборки: строк - {self.target.shape[0]}')\n",
    "\n",
    "    def features_corr(self):\n",
    "        \n",
    "        corr_matrix = self.features.phik_matrix(interval_cols=['MonthlyCharges','TotalCharges','duration'])\n",
    "        my_cmap = copy(plt.cm.YlGnBu)\n",
    "        my_cmap.set_under(\"white\")\n",
    "        mask = np.triu(np.ones_like(corr_matrix, dtype=bool))\n",
    "        \n",
    "        fig, ax = plt.subplots(figsize=(13, 13))\n",
    "        sns.heatmap(corr_matrix, annot=True, cmap=my_cmap, linewidths=0.5, ax=ax, center=0, vmin=.9, mask=mask)\n",
    "        ax.set_title('Карта корреляций\\n', fontsize=20)\n",
    "        plt.show()\n",
    "        \n",
    "    def fix_corr_feature(self):\n",
    "        \n",
    "        col = ['OnlineSecurity','OnlineBackup','DeviceProtection','TechSupport','StreamingTV','StreamingMovies']\n",
    "        self.features['AmountOfService'] = (~self.features[col].isin(['No','NoValue'])).sum(axis=1)\n",
    "        self.features.drop(columns=col,inplace=True)\n",
    "        self.features.drop(columns=['InternetService'])\n",
    "        \n",
    "    \n",
    "    def target_features_corr(self):\n",
    "        full = self.features.join(self.target)\n",
    "        corr_matrix = full.phik_matrix(interval_cols=['MonthlyCharges','TotalCharges','duration'])\n",
    "\n",
    "\n",
    "        my_cmap = copy(plt.cm.YlGnBu)\n",
    "        my_cmap.set_under(\"white\")\n",
    "        \n",
    "        fig, ax = plt.subplots()\n",
    "        sns.heatmap(pd.DataFrame(corr_matrix['Status']), annot=True, cmap=my_cmap, linewidths=0.5, ax=ax, center=0)\n",
    "        ax.set_title('Карта корреляций target и features\\n', fontsize=20)\n",
    "        plt.show()\n",
    "        \n",
    "    def train_test_splitter(self, print_status=False):\n",
    "        self.features_train, self.features_test, self.target_train, self.target_test = train_test_split(self.features,\n",
    "                                                                                                        self.target, \n",
    "                                                                                                        test_size=.25,\n",
    "                                                                                                        random_state=RANDOM_SEED)\n",
    "        \n",
    "        \n",
    "        if print_status:\n",
    "            print(f'Размер тренировочной выборки: {self.features_train.shape[0]} строк и {self.features_train.shape[1]} колонок')\n",
    "            print(f'Размер тестовой выборки: {self.features_test.shape[0]} строк и {self.features_test.shape[1]} колонок')\n",
    "    \n",
    "    \n",
    "\n",
    "    def Regression_model(self,print_status=False):\n",
    "        \n",
    "        start_time = time.time()\n",
    "        \n",
    "        cat_cols = self.features_train.select_dtypes(include=[\"object\"]).columns.tolist()\n",
    "        num_cols = self.features_train.select_dtypes(exclude=[\"object\"]).columns.tolist()\n",
    "        \n",
    "        cat_preprocessing_ohe = make_pipeline(\n",
    "            OneHotEncoder(handle_unknown=\"error\"),\n",
    "            #OneHotEncoder(drop='first',handle_unknown=\"error\"),\n",
    "        )\n",
    "        \n",
    "        num_preprocessing = make_pipeline(StandardScaler())\n",
    "        \n",
    "        \n",
    "        preprocessing_full = ColumnTransformer(\n",
    "            [(\"num\", num_preprocessing, num_cols), (\"cat\", cat_preprocessing_ohe, cat_cols)]\n",
    "        )\n",
    "        \n",
    "        model = LogisticRegression(random_state=RANDOM_SEED, verbose=0)\n",
    "        \n",
    "        regression_pipeline = Pipeline(steps=[\n",
    "            ('preprocessor',preprocessing_full),\n",
    "            ('classifier', model)\n",
    "        ])\n",
    "        \n",
    "        param_grid = {\n",
    "            'classifier__C' : np.arange(0.1,4,0.2),\n",
    "            'classifier__penalty' : ['l2']\n",
    "        }\n",
    "        \n",
    "        model_pipeline_result = RandomizedSearchCV(regression_pipeline,param_grid, scoring='roc_auc', random_state=RANDOM_SEED)\n",
    "        \n",
    "        self.LogisticRegression = model_pipeline_result.fit(self.features_train, self.target_train)\n",
    "        \n",
    "        self.models['LogisticRegression'] = {'time': time.time() - start_time}\n",
    "        self.models['LogisticRegression']['score'] = self.LogisticRegression.best_score_\n",
    "        \n",
    "        if print_status:\n",
    "            print('Лучшая модель \"LogisticRegression\" на трейне имеет оценку roc_auc: {:.3f}.'.format(self.LogisticRegression.best_score_))\n",
    "    \n",
    "    def RandomForest_model(self, print_status=False):\n",
    "        \n",
    "        start_time = time.time()\n",
    "        \n",
    "        cat_cols = self.features_train.select_dtypes(include=[\"object\"]).columns.tolist()\n",
    "        num_cols = self.features_train.select_dtypes(exclude=[\"object\"]).columns.tolist()\n",
    "        \n",
    "        cat_preprocessing_ohe = make_pipeline(\n",
    "            OneHotEncoder(handle_unknown=\"ignore\"),\n",
    "        )\n",
    "        \n",
    "        num_preprocessing = make_pipeline(StandardScaler())\n",
    "        \n",
    "        \n",
    "        preprocessing_full = ColumnTransformer(\n",
    "            [(\"num\", num_preprocessing, num_cols), (\"cat\", cat_preprocessing_ohe, cat_cols)]\n",
    "        )\n",
    "        \n",
    "        model = RandomForestClassifier(random_state=RANDOM_SEED)\n",
    "        \n",
    "        regression_pipeline = Pipeline(steps=[\n",
    "            ('preprocessor',preprocessing_full),\n",
    "            ('classifier', model)\n",
    "        ])\n",
    "        \n",
    "        param_grid = {\n",
    "            'classifier__n_estimators' : np.arange(1,400),\n",
    "            'classifier__max_depth' : np.arange(1,20),\n",
    "            'classifier__min_samples_split': np.arange(3,10),\n",
    "            'classifier__min_samples_leaf': np.arange(2,5)\n",
    "        }\n",
    "        \n",
    "        model_pipeline_result = RandomizedSearchCV(regression_pipeline,param_grid, scoring='roc_auc',cv=5, random_state=RANDOM_SEED)\n",
    "\n",
    "        self.RandomForestClassifier = model_pipeline_result.fit(self.features_train, self.target_train)\n",
    "        \n",
    "        self.models['RandomForestClassifier'] = {'time': time.time() - start_time}\n",
    "        self.models['RandomForestClassifier']['score'] = self.RandomForestClassifier.best_score_\n",
    "        \n",
    "        if print_status:\n",
    "            print('Лучшая модель \"RandomForestClassifier\" на трейне имеет оценку roc_auc: {:.3f}.'.format(self.RandomForestClassifier.best_score_))\n",
    "    \n",
    "    def CatBoostClassifier_model(self, print_status=False):\n",
    "        \n",
    "        start_time = time.time()\n",
    "        \n",
    "        cat_cols = self.features_train.select_dtypes(include=[\"object\"]).columns.tolist()\n",
    "        num_cols = self.features_train.select_dtypes(exclude=[\"object\"]).columns.tolist()\n",
    "        \n",
    "        cat_preprocessing_ohe = make_pipeline(\n",
    "            OneHotEncoder(handle_unknown=\"ignore\"),\n",
    "        )\n",
    "        \n",
    "        num_preprocessing = make_pipeline(StandardScaler())\n",
    "        \n",
    "        \n",
    "        preprocessing_full = ColumnTransformer(\n",
    "            [(\"num\", num_preprocessing, num_cols), (\"cat\", cat_preprocessing_ohe, cat_cols)]\n",
    "        )\n",
    "        \n",
    "        model = CatBoostClassifier(random_state=RANDOM_SEED, silent=True)\n",
    "        \n",
    "        catboost = Pipeline(steps=[\n",
    "            ('preprocessor',preprocessing_full),\n",
    "            ('classifier', model)\n",
    "        ])\n",
    "        \n",
    "        param_grid = {'classifier__iterations': np.arange(50, 200, 10),\n",
    "                    'classifier__learning_rate': np.arange(0.03, 0.1, 0.03),\n",
    "                    'classifier__depth': np.arange(4,10),\n",
    "                    'classifier__l2_leaf_reg': np.arange(2,7,2)\n",
    "        }\n",
    "        \n",
    "        self.CatBoost = RandomizedSearchCV(catboost, param_grid, n_iter=15,cv=5, scoring='roc_auc', random_state=RANDOM_SEED)\n",
    "        \n",
    "        self.CatBoost.fit(self.features_train, self.target_train)\n",
    "        \n",
    "        self.models['CatBoost'] = {'time' : time.time() - start_time}\n",
    "        self.models['CatBoost']['score'] = self.CatBoost.best_score_\n",
    "        \n",
    "        if print_status:\n",
    "            print('Лучшая модель \"CatBoostClassifier\" на трейне имеет оценку roc_auc: {:.3f}.'.format(self.CatBoost.best_score_))\n",
    "            \n",
    "    \n",
    "    @classmethod\n",
    "    def LGBM_features_transformation(cls, features):\n",
    "        cat_cols = features.select_dtypes(include=[\"object\"]).columns.tolist()\n",
    "        for feature in cat_cols:\n",
    "            features[feature] = pd.Series(features[feature], dtype=\"category\")\n",
    "        return features\n",
    "    \n",
    "    def LGBM_model(self, print_status=False):\n",
    "        \n",
    "        start_time = time.time()\n",
    "        \n",
    "    \n",
    "        model = LGBMClassifier(random_state=RANDOM_SEED)\n",
    "        \n",
    "        \n",
    "        param_grid = {\n",
    "            'n_estimators' : np.arange(1,400),\n",
    "            'max_depth' : np.arange(1,20),\n",
    "            'learning_rate': np.arange(0.03, 0.1, 0.03),\n",
    "        }\n",
    "        \n",
    "        \n",
    "        features = Telecommunication.LGBM_features_transformation(self.features_train)\n",
    "        \n",
    "        self.LGBM = RandomizedSearchCV(model, param_grid, n_iter=20,cv=5, scoring='roc_auc', random_state=RANDOM_SEED)\n",
    "        \n",
    "        self.LGBM.fit(features, self.target_train)\n",
    "        \n",
    "        self.models['LGBM'] = {'time' : time.time() - start_time}\n",
    "        self.models['LGBM']['score'] = self.LGBM.best_score_\n",
    "        \n",
    "        if print_status:\n",
    "            print('Лучшая модель \"LGBM\" на трейне имеет оценку roc_auc: {:.3f}.'.format(self.LGBM.best_score_))\n",
    "        \n",
    "    def train_all_models(self, print_status=False):\n",
    "        self.Regression_model(print_status=print_status)\n",
    "        self.RandomForest_model(print_status=print_status)\n",
    "        self.CatBoostClassifier_model(print_status=print_status)\n",
    "        self.LGBM_model(print_status=print_status)\n",
    "        \n",
    "        \n",
    "    @classmethod\n",
    "    def plot_confusion_matrix(cls,predictions, target):\n",
    "        matrix = confusion_matrix(predictions, target)\n",
    "        \n",
    "        \n",
    "        fig, ax = plt.subplots(figsize=(13, 13))\n",
    "        sns.heatmap(matrix, annot= True , fmt=\"d\",  cmap='Blues', ax=ax)\n",
    "        \n",
    "        ax.set_title('Матрица ошибок\\n')\n",
    "        ax.set_xlabel('\\nPredicts')\n",
    "        ax.set_ylabel('Target')\n",
    "        \n",
    "        \n",
    "        ax.xaxis.set_ticklabels(['False','True'])\n",
    "        ax.yaxis.set_ticklabels(['False','True'])\n",
    "        \n",
    "    @classmethod\n",
    "    def plot_features_importances(cls, feature_importance, columns_name):\n",
    "        df = pd.DataFrame(feature_importance, index=columns_name)\n",
    "        fig, ax = plt.subplots(figsize=(13, 13))\n",
    "        sns.barplot(x=df.sort_values(by=0, ascending=False).values.reshape((12,)),\n",
    "                y=np.array(df.sort_values(by=0, ascending=False).index),\n",
    "                ax=ax)\n",
    "        \n",
    "        ax.set_title('Важность признаков\\n')\n",
    "        ax.set_xlabel('\\nВажность')\n",
    "        ax.set_ylabel('Признак')\n",
    "        \n",
    "    \n",
    "    @classmethod\n",
    "    def plot_roc_auc_score(self,target, proba):\n",
    "        fpr, tpr, thresholds = roc_curve(target, proba, pos_label=1)\n",
    "        roc_auc = roc_auc_score(target, proba)\n",
    "        \n",
    "        plt.plot(fpr, tpr, label='ROC curve (area = %0.3f)' % roc_auc)\n",
    "        plt.plot([0, 1], [0, 1], 'k--', label='Random classifier')\n",
    "        plt.xlabel('False Positive Rate')\n",
    "        plt.ylabel('True Positive Rate')\n",
    "        plt.title('ROC Curve')\n",
    "        plt.legend(loc=\"lower right\")\n",
    "        plt.show()"
   ]
  },
  {
   "cell_type": "code",
   "execution_count": 56,
   "metadata": {},
   "outputs": [],
   "source": [
    "try:\n",
    "  telecommunication_analysis = Telecommunication(f'{os.getcwd()}/')\n",
    "except:\n",
    "  telecommunication_analysis = Telecommunication('https://code.s3.yandex.net/datasets/')"
   ]
  },
  {
   "cell_type": "markdown",
   "metadata": {},
   "source": [
    "# Предобработка данных\n",
    "\n",
    "### dataset - contact_new.csv"
   ]
  },
  {
   "cell_type": "markdown",
   "metadata": {},
   "source": [
    "#### Первоначальная информация"
   ]
  },
  {
   "cell_type": "code",
   "execution_count": 57,
   "metadata": {},
   "outputs": [
    {
     "name": "stdout",
     "output_type": "stream",
     "text": [
      "<class 'pandas.core.frame.DataFrame'>\n",
      "Index: 7043 entries, 7590-VHVEG to 3186-AJIEK\n",
      "Data columns (total 7 columns):\n",
      " #   Column            Non-Null Count  Dtype  \n",
      "---  ------            --------------  -----  \n",
      " 0   BeginDate         7043 non-null   object \n",
      " 1   EndDate           7043 non-null   object \n",
      " 2   Type              7043 non-null   object \n",
      " 3   PaperlessBilling  7043 non-null   object \n",
      " 4   PaymentMethod     7043 non-null   object \n",
      " 5   MonthlyCharges    7043 non-null   float64\n",
      " 6   TotalCharges      7043 non-null   object \n",
      "dtypes: float64(1), object(6)\n",
      "memory usage: 440.2+ KB\n"
     ]
    }
   ],
   "source": [
    "telecommunication_analysis.contract.info()"
   ]
  },
  {
   "cell_type": "code",
   "execution_count": 58,
   "metadata": {},
   "outputs": [
    {
     "data": {
      "text/html": [
       "<div>\n",
       "<style scoped>\n",
       "    .dataframe tbody tr th:only-of-type {\n",
       "        vertical-align: middle;\n",
       "    }\n",
       "\n",
       "    .dataframe tbody tr th {\n",
       "        vertical-align: top;\n",
       "    }\n",
       "\n",
       "    .dataframe thead th {\n",
       "        text-align: right;\n",
       "    }\n",
       "</style>\n",
       "<table border=\"1\" class=\"dataframe\">\n",
       "  <thead>\n",
       "    <tr style=\"text-align: right;\">\n",
       "      <th></th>\n",
       "      <th>BeginDate</th>\n",
       "      <th>EndDate</th>\n",
       "      <th>Type</th>\n",
       "      <th>PaperlessBilling</th>\n",
       "      <th>PaymentMethod</th>\n",
       "      <th>MonthlyCharges</th>\n",
       "      <th>TotalCharges</th>\n",
       "    </tr>\n",
       "    <tr>\n",
       "      <th>customerID</th>\n",
       "      <th></th>\n",
       "      <th></th>\n",
       "      <th></th>\n",
       "      <th></th>\n",
       "      <th></th>\n",
       "      <th></th>\n",
       "      <th></th>\n",
       "    </tr>\n",
       "  </thead>\n",
       "  <tbody>\n",
       "    <tr>\n",
       "      <th>8250-ZNGGW</th>\n",
       "      <td>2019-09-01</td>\n",
       "      <td>No</td>\n",
       "      <td>Month-to-month</td>\n",
       "      <td>No</td>\n",
       "      <td>Credit card (automatic)</td>\n",
       "      <td>59.90</td>\n",
       "      <td>299.5</td>\n",
       "    </tr>\n",
       "    <tr>\n",
       "      <th>6298-QDFNH</th>\n",
       "      <td>2018-02-01</td>\n",
       "      <td>2019-07-01</td>\n",
       "      <td>Month-to-month</td>\n",
       "      <td>Yes</td>\n",
       "      <td>Electronic check</td>\n",
       "      <td>79.35</td>\n",
       "      <td>1389.42</td>\n",
       "    </tr>\n",
       "    <tr>\n",
       "      <th>0156-FVPTA</th>\n",
       "      <td>2018-01-01</td>\n",
       "      <td>2019-10-01</td>\n",
       "      <td>Month-to-month</td>\n",
       "      <td>Yes</td>\n",
       "      <td>Electronic check</td>\n",
       "      <td>54.20</td>\n",
       "      <td>1138.2</td>\n",
       "    </tr>\n",
       "    <tr>\n",
       "      <th>5850-BDWCY</th>\n",
       "      <td>2019-08-01</td>\n",
       "      <td>No</td>\n",
       "      <td>Month-to-month</td>\n",
       "      <td>No</td>\n",
       "      <td>Mailed check</td>\n",
       "      <td>20.20</td>\n",
       "      <td>127.26</td>\n",
       "    </tr>\n",
       "    <tr>\n",
       "      <th>9300-AGZNL</th>\n",
       "      <td>2019-12-01</td>\n",
       "      <td>No</td>\n",
       "      <td>Month-to-month</td>\n",
       "      <td>Yes</td>\n",
       "      <td>Electronic check</td>\n",
       "      <td>94.00</td>\n",
       "      <td>201.16</td>\n",
       "    </tr>\n",
       "  </tbody>\n",
       "</table>\n",
       "</div>"
      ],
      "text/plain": [
       "             BeginDate     EndDate            Type PaperlessBilling  \\\n",
       "customerID                                                            \n",
       "8250-ZNGGW  2019-09-01          No  Month-to-month               No   \n",
       "6298-QDFNH  2018-02-01  2019-07-01  Month-to-month              Yes   \n",
       "0156-FVPTA  2018-01-01  2019-10-01  Month-to-month              Yes   \n",
       "5850-BDWCY  2019-08-01          No  Month-to-month               No   \n",
       "9300-AGZNL  2019-12-01          No  Month-to-month              Yes   \n",
       "\n",
       "                      PaymentMethod  MonthlyCharges TotalCharges  \n",
       "customerID                                                        \n",
       "8250-ZNGGW  Credit card (automatic)           59.90        299.5  \n",
       "6298-QDFNH         Electronic check           79.35      1389.42  \n",
       "0156-FVPTA         Electronic check           54.20       1138.2  \n",
       "5850-BDWCY             Mailed check           20.20       127.26  \n",
       "9300-AGZNL         Electronic check           94.00       201.16  "
      ]
     },
     "execution_count": 58,
     "metadata": {},
     "output_type": "execute_result"
    }
   ],
   "source": [
    "telecommunication_analysis.contract.sample(5)"
   ]
  },
  {
   "cell_type": "markdown",
   "metadata": {},
   "source": [
    "Датасет `contract` состоит из `7043` уникальных строк. Каждая строка относится к уникальному id клиенту - `customerID`.\n",
    "\n",
    "При этом для каждого клиента имеются следующие данные `BeginDate`,`EndDate`, `Type`,`PaperlessBilling`,`MonthlyCharges`,`TotalCharges`.\n",
    "\n",
    "Между с тем, тип данных в колонках `BeginDate` и `TotalCharges` указан не корректно. Исправим это:"
   ]
  },
  {
   "cell_type": "code",
   "execution_count": 59,
   "metadata": {},
   "outputs": [
    {
     "name": "stdout",
     "output_type": "stream",
     "text": [
      "<class 'pandas.core.frame.DataFrame'>\n",
      "Index: 7043 entries, 7590-VHVEG to 3186-AJIEK\n",
      "Data columns (total 2 columns):\n",
      " #   Column        Non-Null Count  Dtype         \n",
      "---  ------        --------------  -----         \n",
      " 0   BeginDate     7043 non-null   datetime64[ns]\n",
      " 1   TotalCharges  7032 non-null   float64       \n",
      "dtypes: datetime64[ns](1), float64(1)\n",
      "memory usage: 165.1+ KB\n"
     ]
    }
   ],
   "source": [
    "telecommunication_analysis.fix_type_of_data()"
   ]
  },
  {
   "cell_type": "markdown",
   "metadata": {},
   "source": [
    "В данных `TotalCharges` имеется `10` пропусков. Посмотрим на них:"
   ]
  },
  {
   "cell_type": "code",
   "execution_count": 60,
   "metadata": {},
   "outputs": [
    {
     "data": {
      "text/html": [
       "<div>\n",
       "<style scoped>\n",
       "    .dataframe tbody tr th:only-of-type {\n",
       "        vertical-align: middle;\n",
       "    }\n",
       "\n",
       "    .dataframe tbody tr th {\n",
       "        vertical-align: top;\n",
       "    }\n",
       "\n",
       "    .dataframe thead th {\n",
       "        text-align: right;\n",
       "    }\n",
       "</style>\n",
       "<table border=\"1\" class=\"dataframe\">\n",
       "  <thead>\n",
       "    <tr style=\"text-align: right;\">\n",
       "      <th></th>\n",
       "      <th>BeginDate</th>\n",
       "      <th>EndDate</th>\n",
       "      <th>Type</th>\n",
       "      <th>PaperlessBilling</th>\n",
       "      <th>PaymentMethod</th>\n",
       "      <th>MonthlyCharges</th>\n",
       "      <th>TotalCharges</th>\n",
       "    </tr>\n",
       "    <tr>\n",
       "      <th>customerID</th>\n",
       "      <th></th>\n",
       "      <th></th>\n",
       "      <th></th>\n",
       "      <th></th>\n",
       "      <th></th>\n",
       "      <th></th>\n",
       "      <th></th>\n",
       "    </tr>\n",
       "  </thead>\n",
       "  <tbody>\n",
       "    <tr>\n",
       "      <th>4472-LVYGI</th>\n",
       "      <td>2020-02-01</td>\n",
       "      <td>No</td>\n",
       "      <td>Two year</td>\n",
       "      <td>Yes</td>\n",
       "      <td>Bank transfer (automatic)</td>\n",
       "      <td>52.55</td>\n",
       "      <td>NaN</td>\n",
       "    </tr>\n",
       "    <tr>\n",
       "      <th>3115-CZMZD</th>\n",
       "      <td>2020-02-01</td>\n",
       "      <td>No</td>\n",
       "      <td>Two year</td>\n",
       "      <td>No</td>\n",
       "      <td>Mailed check</td>\n",
       "      <td>20.25</td>\n",
       "      <td>NaN</td>\n",
       "    </tr>\n",
       "    <tr>\n",
       "      <th>5709-LVOEQ</th>\n",
       "      <td>2020-02-01</td>\n",
       "      <td>No</td>\n",
       "      <td>Two year</td>\n",
       "      <td>No</td>\n",
       "      <td>Mailed check</td>\n",
       "      <td>80.85</td>\n",
       "      <td>NaN</td>\n",
       "    </tr>\n",
       "    <tr>\n",
       "      <th>4367-NUYAO</th>\n",
       "      <td>2020-02-01</td>\n",
       "      <td>No</td>\n",
       "      <td>Two year</td>\n",
       "      <td>No</td>\n",
       "      <td>Mailed check</td>\n",
       "      <td>25.75</td>\n",
       "      <td>NaN</td>\n",
       "    </tr>\n",
       "    <tr>\n",
       "      <th>1371-DWPAZ</th>\n",
       "      <td>2020-02-01</td>\n",
       "      <td>No</td>\n",
       "      <td>Two year</td>\n",
       "      <td>No</td>\n",
       "      <td>Credit card (automatic)</td>\n",
       "      <td>56.05</td>\n",
       "      <td>NaN</td>\n",
       "    </tr>\n",
       "    <tr>\n",
       "      <th>7644-OMVMY</th>\n",
       "      <td>2020-02-01</td>\n",
       "      <td>No</td>\n",
       "      <td>Two year</td>\n",
       "      <td>No</td>\n",
       "      <td>Mailed check</td>\n",
       "      <td>19.85</td>\n",
       "      <td>NaN</td>\n",
       "    </tr>\n",
       "    <tr>\n",
       "      <th>3213-VVOLG</th>\n",
       "      <td>2020-02-01</td>\n",
       "      <td>No</td>\n",
       "      <td>Two year</td>\n",
       "      <td>No</td>\n",
       "      <td>Mailed check</td>\n",
       "      <td>25.35</td>\n",
       "      <td>NaN</td>\n",
       "    </tr>\n",
       "    <tr>\n",
       "      <th>2520-SGTTA</th>\n",
       "      <td>2020-02-01</td>\n",
       "      <td>No</td>\n",
       "      <td>Two year</td>\n",
       "      <td>No</td>\n",
       "      <td>Mailed check</td>\n",
       "      <td>20.00</td>\n",
       "      <td>NaN</td>\n",
       "    </tr>\n",
       "    <tr>\n",
       "      <th>2923-ARZLG</th>\n",
       "      <td>2020-02-01</td>\n",
       "      <td>No</td>\n",
       "      <td>One year</td>\n",
       "      <td>Yes</td>\n",
       "      <td>Mailed check</td>\n",
       "      <td>19.70</td>\n",
       "      <td>NaN</td>\n",
       "    </tr>\n",
       "    <tr>\n",
       "      <th>4075-WKNIU</th>\n",
       "      <td>2020-02-01</td>\n",
       "      <td>No</td>\n",
       "      <td>Two year</td>\n",
       "      <td>No</td>\n",
       "      <td>Mailed check</td>\n",
       "      <td>73.35</td>\n",
       "      <td>NaN</td>\n",
       "    </tr>\n",
       "    <tr>\n",
       "      <th>2775-SEFEE</th>\n",
       "      <td>2020-02-01</td>\n",
       "      <td>No</td>\n",
       "      <td>Two year</td>\n",
       "      <td>Yes</td>\n",
       "      <td>Bank transfer (automatic)</td>\n",
       "      <td>61.90</td>\n",
       "      <td>NaN</td>\n",
       "    </tr>\n",
       "  </tbody>\n",
       "</table>\n",
       "</div>"
      ],
      "text/plain": [
       "            BeginDate EndDate      Type PaperlessBilling  \\\n",
       "customerID                                                 \n",
       "4472-LVYGI 2020-02-01      No  Two year              Yes   \n",
       "3115-CZMZD 2020-02-01      No  Two year               No   \n",
       "5709-LVOEQ 2020-02-01      No  Two year               No   \n",
       "4367-NUYAO 2020-02-01      No  Two year               No   \n",
       "1371-DWPAZ 2020-02-01      No  Two year               No   \n",
       "7644-OMVMY 2020-02-01      No  Two year               No   \n",
       "3213-VVOLG 2020-02-01      No  Two year               No   \n",
       "2520-SGTTA 2020-02-01      No  Two year               No   \n",
       "2923-ARZLG 2020-02-01      No  One year              Yes   \n",
       "4075-WKNIU 2020-02-01      No  Two year               No   \n",
       "2775-SEFEE 2020-02-01      No  Two year              Yes   \n",
       "\n",
       "                        PaymentMethod  MonthlyCharges  TotalCharges  \n",
       "customerID                                                           \n",
       "4472-LVYGI  Bank transfer (automatic)           52.55           NaN  \n",
       "3115-CZMZD               Mailed check           20.25           NaN  \n",
       "5709-LVOEQ               Mailed check           80.85           NaN  \n",
       "4367-NUYAO               Mailed check           25.75           NaN  \n",
       "1371-DWPAZ    Credit card (automatic)           56.05           NaN  \n",
       "7644-OMVMY               Mailed check           19.85           NaN  \n",
       "3213-VVOLG               Mailed check           25.35           NaN  \n",
       "2520-SGTTA               Mailed check           20.00           NaN  \n",
       "2923-ARZLG               Mailed check           19.70           NaN  \n",
       "4075-WKNIU               Mailed check           73.35           NaN  \n",
       "2775-SEFEE  Bank transfer (automatic)           61.90           NaN  "
      ]
     },
     "execution_count": 60,
     "metadata": {},
     "output_type": "execute_result"
    }
   ],
   "source": [
    "index_null = telecommunication_analysis.contract[telecommunication_analysis.contract['TotalCharges'].isnull()].index\n",
    "telecommunication_analysis.contract[telecommunication_analysis.contract['TotalCharges'].isnull()]"
   ]
  },
  {
   "cell_type": "markdown",
   "metadata": {},
   "source": [
    "Все данные принадлежат данным за определенный месяц - февраль 2020 года. Из описании данных мы знаем, что этот месяц является последним доступным месяцем в датасете:"
   ]
  },
  {
   "cell_type": "code",
   "execution_count": 61,
   "metadata": {},
   "outputs": [
    {
     "data": {
      "text/plain": [
       "min    2013-10-01 00:00:00\n",
       "max    2020-02-01 00:00:00\n",
       "Name: BeginDate, dtype: object"
      ]
     },
     "execution_count": 61,
     "metadata": {},
     "output_type": "execute_result"
    }
   ],
   "source": [
    "telecommunication_analysis.contract['BeginDate'].describe(datetime_is_numeric=True)[['min','max']]"
   ]
  },
  {
   "cell_type": "markdown",
   "metadata": {},
   "source": [
    "В связи с этим можно заполнить пропуски значением из колонки `MonthlyCharges`. Однако при дальнейшей работе с классом следует учитывать этот момент, чтобы не дублировать первую оплату:"
   ]
  },
  {
   "cell_type": "code",
   "execution_count": 62,
   "metadata": {},
   "outputs": [],
   "source": [
    "telecommunication_analysis.contract['TotalCharges'] = np.where(\n",
    "                                                      (telecommunication_analysis.\n",
    "                                                       contract['TotalCharges'].isnull()) &\n",
    "                                                      (telecommunication_analysis.\n",
    "                                                       contract['BeginDate'] == \n",
    "                                                       telecommunication_analysis.\n",
    "                                                       contract['BeginDate'].describe(datetime_is_numeric=True)['max']),\n",
    "                                                      telecommunication_analysis.contract['MonthlyCharges'],\n",
    "                                                      telecommunication_analysis.contract['TotalCharges'])"
   ]
  },
  {
   "cell_type": "markdown",
   "metadata": {},
   "source": [
    "Проверим корректность замены:"
   ]
  },
  {
   "cell_type": "code",
   "execution_count": 63,
   "metadata": {},
   "outputs": [
    {
     "data": {
      "text/html": [
       "<div>\n",
       "<style scoped>\n",
       "    .dataframe tbody tr th:only-of-type {\n",
       "        vertical-align: middle;\n",
       "    }\n",
       "\n",
       "    .dataframe tbody tr th {\n",
       "        vertical-align: top;\n",
       "    }\n",
       "\n",
       "    .dataframe thead th {\n",
       "        text-align: right;\n",
       "    }\n",
       "</style>\n",
       "<table border=\"1\" class=\"dataframe\">\n",
       "  <thead>\n",
       "    <tr style=\"text-align: right;\">\n",
       "      <th></th>\n",
       "      <th>BeginDate</th>\n",
       "      <th>EndDate</th>\n",
       "      <th>Type</th>\n",
       "      <th>PaperlessBilling</th>\n",
       "      <th>PaymentMethod</th>\n",
       "      <th>MonthlyCharges</th>\n",
       "      <th>TotalCharges</th>\n",
       "    </tr>\n",
       "    <tr>\n",
       "      <th>customerID</th>\n",
       "      <th></th>\n",
       "      <th></th>\n",
       "      <th></th>\n",
       "      <th></th>\n",
       "      <th></th>\n",
       "      <th></th>\n",
       "      <th></th>\n",
       "    </tr>\n",
       "  </thead>\n",
       "  <tbody>\n",
       "    <tr>\n",
       "      <th>2520-SGTTA</th>\n",
       "      <td>2020-02-01</td>\n",
       "      <td>No</td>\n",
       "      <td>Two year</td>\n",
       "      <td>No</td>\n",
       "      <td>Mailed check</td>\n",
       "      <td>20.00</td>\n",
       "      <td>20.00</td>\n",
       "    </tr>\n",
       "    <tr>\n",
       "      <th>3213-VVOLG</th>\n",
       "      <td>2020-02-01</td>\n",
       "      <td>No</td>\n",
       "      <td>Two year</td>\n",
       "      <td>No</td>\n",
       "      <td>Mailed check</td>\n",
       "      <td>25.35</td>\n",
       "      <td>25.35</td>\n",
       "    </tr>\n",
       "    <tr>\n",
       "      <th>3115-CZMZD</th>\n",
       "      <td>2020-02-01</td>\n",
       "      <td>No</td>\n",
       "      <td>Two year</td>\n",
       "      <td>No</td>\n",
       "      <td>Mailed check</td>\n",
       "      <td>20.25</td>\n",
       "      <td>20.25</td>\n",
       "    </tr>\n",
       "  </tbody>\n",
       "</table>\n",
       "</div>"
      ],
      "text/plain": [
       "            BeginDate EndDate      Type PaperlessBilling PaymentMethod  \\\n",
       "customerID                                                               \n",
       "2520-SGTTA 2020-02-01      No  Two year               No  Mailed check   \n",
       "3213-VVOLG 2020-02-01      No  Two year               No  Mailed check   \n",
       "3115-CZMZD 2020-02-01      No  Two year               No  Mailed check   \n",
       "\n",
       "            MonthlyCharges  TotalCharges  \n",
       "customerID                                \n",
       "2520-SGTTA           20.00         20.00  \n",
       "3213-VVOLG           25.35         25.35  \n",
       "3115-CZMZD           20.25         20.25  "
      ]
     },
     "execution_count": 63,
     "metadata": {},
     "output_type": "execute_result"
    }
   ],
   "source": [
    "telecommunication_analysis.contract[telecommunication_analysis.contract.index.isin(index_null)].sample(3)"
   ]
  },
  {
   "cell_type": "code",
   "execution_count": 64,
   "metadata": {},
   "outputs": [],
   "source": [
    "del index_null"
   ]
  },
  {
   "cell_type": "markdown",
   "metadata": {},
   "source": [
    "#### Анализ данных"
   ]
  },
  {
   "cell_type": "code",
   "execution_count": 65,
   "metadata": {},
   "outputs": [
    {
     "data": {
      "text/html": [
       "<div>\n",
       "<style scoped>\n",
       "    .dataframe tbody tr th:only-of-type {\n",
       "        vertical-align: middle;\n",
       "    }\n",
       "\n",
       "    .dataframe tbody tr th {\n",
       "        vertical-align: top;\n",
       "    }\n",
       "\n",
       "    .dataframe thead th {\n",
       "        text-align: right;\n",
       "    }\n",
       "</style>\n",
       "<table border=\"1\" class=\"dataframe\">\n",
       "  <thead>\n",
       "    <tr style=\"text-align: right;\">\n",
       "      <th></th>\n",
       "      <th>MonthlyCharges</th>\n",
       "      <th>TotalCharges</th>\n",
       "    </tr>\n",
       "  </thead>\n",
       "  <tbody>\n",
       "    <tr>\n",
       "      <th>count</th>\n",
       "      <td>7043.000000</td>\n",
       "      <td>7043.000000</td>\n",
       "    </tr>\n",
       "    <tr>\n",
       "      <th>mean</th>\n",
       "      <td>64.761692</td>\n",
       "      <td>2115.377573</td>\n",
       "    </tr>\n",
       "    <tr>\n",
       "      <th>std</th>\n",
       "      <td>30.090047</td>\n",
       "      <td>2112.678861</td>\n",
       "    </tr>\n",
       "    <tr>\n",
       "      <th>min</th>\n",
       "      <td>18.250000</td>\n",
       "      <td>19.050000</td>\n",
       "    </tr>\n",
       "    <tr>\n",
       "      <th>25%</th>\n",
       "      <td>35.500000</td>\n",
       "      <td>436.750000</td>\n",
       "    </tr>\n",
       "    <tr>\n",
       "      <th>50%</th>\n",
       "      <td>70.350000</td>\n",
       "      <td>1343.350000</td>\n",
       "    </tr>\n",
       "    <tr>\n",
       "      <th>75%</th>\n",
       "      <td>89.850000</td>\n",
       "      <td>3236.690000</td>\n",
       "    </tr>\n",
       "    <tr>\n",
       "      <th>max</th>\n",
       "      <td>118.750000</td>\n",
       "      <td>9221.380000</td>\n",
       "    </tr>\n",
       "  </tbody>\n",
       "</table>\n",
       "</div>"
      ],
      "text/plain": [
       "       MonthlyCharges  TotalCharges\n",
       "count     7043.000000   7043.000000\n",
       "mean        64.761692   2115.377573\n",
       "std         30.090047   2112.678861\n",
       "min         18.250000     19.050000\n",
       "25%         35.500000    436.750000\n",
       "50%         70.350000   1343.350000\n",
       "75%         89.850000   3236.690000\n",
       "max        118.750000   9221.380000"
      ]
     },
     "execution_count": 65,
     "metadata": {},
     "output_type": "execute_result"
    }
   ],
   "source": [
    "telecommunication_analysis.contract[['MonthlyCharges','TotalCharges']].describe()"
   ]
  },
  {
   "cell_type": "markdown",
   "metadata": {},
   "source": [
    "Для ежемесячных платежей:\n",
    "* `Средняя` плата составляет `64.76`;\n",
    "* `минимальная` - `18.25`;\n",
    "* `максимальная` - `118.75`.\n",
    "  \n",
    "За всё время:\n",
    "* `Средняя` общая оплата составила `2118.621822`;\n",
    "* `минимальная` - `19`;\n",
    "* `максимальная` - `9221.3`."
   ]
  },
  {
   "cell_type": "code",
   "execution_count": 66,
   "metadata": {},
   "outputs": [
    {
     "data": {
      "image/png": "[encoded data removed]",
      "text/plain": [
       "<Figure size 1080x864 with 1 Axes>"
      ]
     },
     "metadata": {
      "needs_background": "light"
     },
     "output_type": "display_data"
    }
   ],
   "source": [
    "plt.figure(figsize=[15, 12])\n",
    "plt.title('График распределения ежемесячных платежей:', fontsize=15)\n",
    "sns.histplot(telecommunication_analysis.contract['MonthlyCharges'], color='powderblue', alpha=0.6)\n",
    "plt.show()"
   ]
  },
  {
   "cell_type": "markdown",
   "metadata": {},
   "source": [
    "На графике ежемесячных платежей наблюдается пик на уровне `20`. Далее, если не брать в расчёт эту категорию клиентов, наблюдается нормальное распределение со средним на уровне `80`-`90`. Можно предположить, что это связано с тем, что имеется множество клиентов со счетами без дополнительных услуг. В случае же, когда клиент пользуется дополнительными услугами, распределение приобретает иной вид. Посмотрим на график суммарных платежей:"
   ]
  },
  {
   "cell_type": "code",
   "execution_count": 67,
   "metadata": {},
   "outputs": [
    {
     "data": {
      "image/png": "[encoded data removed]",
      "text/plain": [
       "<Figure size 1080x864 with 1 Axes>"
      ]
     },
     "metadata": {
      "needs_background": "light"
     },
     "output_type": "display_data"
    }
   ],
   "source": [
    "plt.figure(figsize=[15, 12])\n",
    "plt.title('График распределения суммарных платежей:', fontsize=15)\n",
    "sns.histplot(telecommunication_analysis.contract['TotalCharges'], color='powderblue', alpha=0.6)\n",
    "plt.show()"
   ]
  },
  {
   "cell_type": "markdown",
   "metadata": {},
   "source": [
    "График распределения суммарных платежей представляет собой монотонно убывающую кривую с пиком около нуля и правым хвостом на уровне `9221.38`.\n",
    "\n",
    "Данный пик может свидетельствовать о трех вещах:\n",
    "1. Клиенты отказываются от сервиса в первые месяца;\n",
    "2. Множество новых клиентов, которые еще не успели набрать большую общую сумму платежей;\n",
    "3. Множество клиентов с пакетом дешевых услуг."
   ]
  },
  {
   "cell_type": "code",
   "execution_count": 68,
   "metadata": {},
   "outputs": [],
   "source": [
    "time_user = (\n",
    "            pd.to_datetime(telecommunication_analysis.\n",
    "                           contract[telecommunication_analysis.\n",
    "                                    contract['EndDate'] != 'No']['EndDate']) -\n",
    "                            telecommunication_analysis.\n",
    "                            contract[telecommunication_analysis.\n",
    "                                     contract['EndDate'] != 'No']['BeginDate']\n",
    "            )"
   ]
  },
  {
   "cell_type": "code",
   "execution_count": 69,
   "metadata": {},
   "outputs": [
    {
     "data": {
      "text/plain": [
       "1461 days    18\n",
       "1035 days    14\n",
       "153 days     13\n",
       "792 days     13\n",
       "822 days     13\n",
       "1096 days    13\n",
       "334 days     12\n",
       "1308 days    12\n",
       "365 days     12\n",
       "1614 days    11\n",
       "dtype: int64"
      ]
     },
     "execution_count": 69,
     "metadata": {},
     "output_type": "execute_result"
    }
   ],
   "source": [
    "time_user.value_counts().head(10)"
   ]
  },
  {
   "cell_type": "markdown",
   "metadata": {},
   "source": [
    "Как мы можем наблюдать, чаще всего клиенты перестают пользоваться услугами больше, чем через через год. Построим график распределения:"
   ]
  },
  {
   "cell_type": "code",
   "execution_count": 70,
   "metadata": {},
   "outputs": [
    {
     "data": {
      "image/png": "[encoded data removed]",
      "text/plain": [
       "<Figure size 1080x864 with 1 Axes>"
      ]
     },
     "metadata": {
      "needs_background": "light"
     },
     "output_type": "display_data"
    }
   ],
   "source": [
    "plt.figure(figsize=[15, 12])\n",
    "plt.title('График распределения оттока клиентов по дням:', fontsize=15)\n",
    "plt.xlabel('Количество дней')\n",
    "sns.histplot(time_user.dt.days, color='Red', alpha=0.6)\n",
    "plt.show()"
   ]
  },
  {
   "cell_type": "markdown",
   "metadata": {},
   "source": [
    "Действительно, клиентов, которые уходят в первые дни - мало. Кривая окончания пользования услугами плавно возрастает и начинает свое снижение примерно на ~ 3 годах пользования сервисами. Таким образом, наиболее опасная группа с точки зрения оттока клиентов - от ~ `года` до `3-х лет`."
   ]
  },
  {
   "cell_type": "code",
   "execution_count": 71,
   "metadata": {},
   "outputs": [],
   "source": [
    "time_using = (\n",
    "            pd.to_datetime('2020-02-01') -\n",
    "            telecommunication_analysis.\n",
    "            contract[telecommunication_analysis.\n",
    "                     contract['EndDate'] == 'No']['BeginDate']\n",
    "            )"
   ]
  },
  {
   "cell_type": "code",
   "execution_count": 72,
   "metadata": {},
   "outputs": [
    {
     "data": {
      "image/png": "[encoded data removed]",
      "text/plain": [
       "<Figure size 1080x864 with 1 Axes>"
      ]
     },
     "metadata": {
      "needs_background": "light"
     },
     "output_type": "display_data"
    }
   ],
   "source": [
    "plt.figure(figsize=[15, 12])\n",
    "plt.title('График распределения клиентов по сроку пользованием сервисов:', fontsize=15)\n",
    "plt.xlabel('Количество дней')\n",
    "sns.histplot(time_using.dt.days, color='Red', alpha=0.6)\n",
    "plt.show()"
   ]
  },
  {
   "cell_type": "markdown",
   "metadata": {},
   "source": [
    "Действительно наблюдается множество новых клиентов. Это является одной из причин, почему пик суммарных платежей клиентов находится около нуля.\n",
    "\n",
    "Попробуем составить портрет клиента, который ушел:"
   ]
  },
  {
   "cell_type": "code",
   "execution_count": 73,
   "metadata": {},
   "outputs": [
    {
     "name": "stdout",
     "output_type": "stream",
     "text": [
      "Процент оттока клиентов в представленных данных составляет: 15.63%\n"
     ]
    }
   ],
   "source": [
    "telecommunication_analysis.leaved_id()"
   ]
  },
  {
   "cell_type": "code",
   "execution_count": 74,
   "metadata": {},
   "outputs": [
    {
     "data": {
      "image/png": "[encoded data removed]",
      "text/plain": [
       "<Figure size 864x576 with 3 Axes>"
      ]
     },
     "metadata": {
      "needs_background": "light"
     },
     "output_type": "display_data"
    }
   ],
   "source": [
    "telecommunication_analysis.barplot_features(telecommunication_analysis\n",
    "                                            .contract\n",
    "                                            .drop(columns=['BeginDate','EndDate','MonthlyCharges','TotalCharges']),\n",
    "                                                            telecommunication_analysis.leaved_id,\n",
    "                                                            'Contact')"
   ]
  },
  {
   "cell_type": "markdown",
   "metadata": {},
   "source": [
    "1. Тип платежей\n",
    "\n",
    "Больше половины оплачивают подписку ежемесячно (`55%`), в то время как `24.1%` оплачивают подписку раз в два года, ещё `20.9%` оплачивают годовую подписку.\n",
    "\n",
    "Что касается клиентов, которые ушли, то тут картинка несколько иная:\n",
    "\n",
    "* Клиенты, которые оплачивают подписку ежемесячно в абсолютном соотношение уходят больше всех. Однако в процентном соотношении таких меньше, всего - `10.5%`;\n",
    "* Что касается двух друг групп, у которых годовой и 2х годовой план подписки, то здесь уже уходят `21.25%` и `22.48%` соответственно.\n",
    "\n",
    "Наблюдается интересная ситуация, когда лояльные клиенты, готовые оплачивать сервис на год и более уходят чаще. Это может быть связано с несколькими факторами:\n",
    "* Вероятно, нельзя менять корректировать выбранный пакеты услуг. В связи с чем, по истечению срока, клиенты выбирают другой, более выгодный сервис;\n",
    "* Возможно, что среднее время пользованием услуг в данном регионе составляет 2 года.\n",
    "\n",
    "2. Уведомление по электронной почте\n",
    "\n",
    "Больше клиентов (`4171`) получают уведомления только по электронной почте, чем получают обычной почтой (`2872`). При этом те, кто получают по электронной почте реже уходят, тем те, кто получает физический носитель.\n",
    "\n",
    "3. Способ оплаты\n",
    "\n",
    "Здесь данные распределены примерно по ровну.\n",
    "\n",
    "* Первая часть оплачивает автоматически с помощью кредитных карт (`21.6%`) и банковского перевода (`21.9%`).\n",
    "* Вторая часть оплачивает в ручном режиме: наибольший процент (`33.6%`) прибегает к услуге Electronic check, на втором месте Mailed check (`22.9%`).\n",
    "\n",
    "Вероятно, что клиенты, которые используют автоплатеж являются более лояльными, чем те, кто платит в ручном режиме."
   ]
  },
  {
   "cell_type": "markdown",
   "metadata": {},
   "source": [
    "### dataset - internet_new.csv"
   ]
  },
  {
   "cell_type": "markdown",
   "metadata": {},
   "source": [
    "#### Первоначальная информация"
   ]
  },
  {
   "cell_type": "code",
   "execution_count": 75,
   "metadata": {},
   "outputs": [
    {
     "name": "stdout",
     "output_type": "stream",
     "text": [
      "<class 'pandas.core.frame.DataFrame'>\n",
      "Index: 5517 entries, 7590-VHVEG to 3186-AJIEK\n",
      "Data columns (total 7 columns):\n",
      " #   Column            Non-Null Count  Dtype \n",
      "---  ------            --------------  ----- \n",
      " 0   InternetService   5517 non-null   object\n",
      " 1   OnlineSecurity    5517 non-null   object\n",
      " 2   OnlineBackup      5517 non-null   object\n",
      " 3   DeviceProtection  5517 non-null   object\n",
      " 4   TechSupport       5517 non-null   object\n",
      " 5   StreamingTV       5517 non-null   object\n",
      " 6   StreamingMovies   5517 non-null   object\n",
      "dtypes: object(7)\n",
      "memory usage: 344.8+ KB\n"
     ]
    }
   ],
   "source": [
    "telecommunication_analysis.internet.info()"
   ]
  },
  {
   "cell_type": "code",
   "execution_count": 76,
   "metadata": {},
   "outputs": [
    {
     "data": {
      "text/html": [
       "<div>\n",
       "<style scoped>\n",
       "    .dataframe tbody tr th:only-of-type {\n",
       "        vertical-align: middle;\n",
       "    }\n",
       "\n",
       "    .dataframe tbody tr th {\n",
       "        vertical-align: top;\n",
       "    }\n",
       "\n",
       "    .dataframe thead th {\n",
       "        text-align: right;\n",
       "    }\n",
       "</style>\n",
       "<table border=\"1\" class=\"dataframe\">\n",
       "  <thead>\n",
       "    <tr style=\"text-align: right;\">\n",
       "      <th></th>\n",
       "      <th>InternetService</th>\n",
       "      <th>OnlineSecurity</th>\n",
       "      <th>OnlineBackup</th>\n",
       "      <th>DeviceProtection</th>\n",
       "      <th>TechSupport</th>\n",
       "      <th>StreamingTV</th>\n",
       "      <th>StreamingMovies</th>\n",
       "    </tr>\n",
       "    <tr>\n",
       "      <th>customerID</th>\n",
       "      <th></th>\n",
       "      <th></th>\n",
       "      <th></th>\n",
       "      <th></th>\n",
       "      <th></th>\n",
       "      <th></th>\n",
       "      <th></th>\n",
       "    </tr>\n",
       "  </thead>\n",
       "  <tbody>\n",
       "    <tr>\n",
       "      <th>4566-QVRRW</th>\n",
       "      <td>DSL</td>\n",
       "      <td>No</td>\n",
       "      <td>No</td>\n",
       "      <td>No</td>\n",
       "      <td>No</td>\n",
       "      <td>No</td>\n",
       "      <td>No</td>\n",
       "    </tr>\n",
       "    <tr>\n",
       "      <th>3740-RLMVT</th>\n",
       "      <td>DSL</td>\n",
       "      <td>Yes</td>\n",
       "      <td>Yes</td>\n",
       "      <td>No</td>\n",
       "      <td>Yes</td>\n",
       "      <td>No</td>\n",
       "      <td>No</td>\n",
       "    </tr>\n",
       "    <tr>\n",
       "      <th>2657-ALMWY</th>\n",
       "      <td>Fiber optic</td>\n",
       "      <td>No</td>\n",
       "      <td>Yes</td>\n",
       "      <td>No</td>\n",
       "      <td>No</td>\n",
       "      <td>No</td>\n",
       "      <td>Yes</td>\n",
       "    </tr>\n",
       "    <tr>\n",
       "      <th>8181-YHCMF</th>\n",
       "      <td>DSL</td>\n",
       "      <td>No</td>\n",
       "      <td>Yes</td>\n",
       "      <td>Yes</td>\n",
       "      <td>Yes</td>\n",
       "      <td>Yes</td>\n",
       "      <td>Yes</td>\n",
       "    </tr>\n",
       "    <tr>\n",
       "      <th>3466-RITXD</th>\n",
       "      <td>Fiber optic</td>\n",
       "      <td>Yes</td>\n",
       "      <td>Yes</td>\n",
       "      <td>No</td>\n",
       "      <td>No</td>\n",
       "      <td>Yes</td>\n",
       "      <td>No</td>\n",
       "    </tr>\n",
       "  </tbody>\n",
       "</table>\n",
       "</div>"
      ],
      "text/plain": [
       "           InternetService OnlineSecurity OnlineBackup DeviceProtection  \\\n",
       "customerID                                                                \n",
       "4566-QVRRW             DSL             No           No               No   \n",
       "3740-RLMVT             DSL            Yes          Yes               No   \n",
       "2657-ALMWY     Fiber optic             No          Yes               No   \n",
       "8181-YHCMF             DSL             No          Yes              Yes   \n",
       "3466-RITXD     Fiber optic            Yes          Yes               No   \n",
       "\n",
       "           TechSupport StreamingTV StreamingMovies  \n",
       "customerID                                          \n",
       "4566-QVRRW          No          No              No  \n",
       "3740-RLMVT         Yes          No              No  \n",
       "2657-ALMWY          No          No             Yes  \n",
       "8181-YHCMF         Yes         Yes             Yes  \n",
       "3466-RITXD          No         Yes              No  "
      ]
     },
     "execution_count": 76,
     "metadata": {},
     "output_type": "execute_result"
    }
   ],
   "source": [
    "telecommunication_analysis.internet.sample(5)"
   ]
  },
  {
   "cell_type": "markdown",
   "metadata": {},
   "source": [
    "Значений в этом датафрейме меньше, чем в общем с клиентами.  Вероятно, это те клиенты, кто пользуется только телефонной связью. Проверим:"
   ]
  },
  {
   "cell_type": "code",
   "execution_count": 77,
   "metadata": {},
   "outputs": [
    {
     "name": "stdout",
     "output_type": "stream",
     "text": [
      "В датафрейме phone присутствуют 1526 строк, отсутствующих в датафрейме Internet\n"
     ]
    }
   ],
   "source": [
    "diff_id = list(set(telecommunication_analysis\n",
    "                   .contract\n",
    "                   .index) - set(telecommunication_analysis\n",
    "                                 .internet\n",
    "                                 .index))\n",
    "\n",
    "print(f'В датафрейме phone присутствуют {telecommunication_analysis.contract[telecommunication_analysis.contract.index.isin(diff_id)].shape[0]} строк, отсутствующих в датафрейме Internet')"
   ]
  },
  {
   "cell_type": "markdown",
   "metadata": {},
   "source": [
    "Таким образом, в датафрейме, вероятно, нет пропусков и все клиенты с интернет услугами учтены"
   ]
  },
  {
   "cell_type": "code",
   "execution_count": 78,
   "metadata": {},
   "outputs": [
    {
     "data": {
      "image/png": "[encoded data removed]",
      "text/plain": [
       "<Figure size 864x1152 with 7 Axes>"
      ]
     },
     "metadata": {
      "needs_background": "light"
     },
     "output_type": "display_data"
    }
   ],
   "source": [
    "telecommunication_analysis.barplot_features(telecommunication_analysis.internet,\n",
    "                                            telecommunication_analysis.leaved_id, 'Internet')"
   ]
  },
  {
   "cell_type": "code",
   "execution_count": 79,
   "metadata": {},
   "outputs": [
    {
     "data": {
      "text/plain": [
       "InternetService  OnlineSecurity  OnlineBackup  DeviceProtection  TechSupport  StreamingTV  StreamingMovies\n",
       "Fiber optic      No              No            No                No           No           No                 399\n",
       "DSL              No              No            No                No           No           No                 294\n",
       "Fiber optic      No              No            No                No           Yes          Yes                181\n",
       "dtype: int64"
      ]
     },
     "execution_count": 79,
     "metadata": {},
     "output_type": "execute_result"
    }
   ],
   "source": [
    "telecommunication_analysis.internet.value_counts().head(3)"
   ]
  },
  {
   "cell_type": "markdown",
   "metadata": {},
   "source": [
    "Самая популярная услуга: обычный интернет с двумя типами подключения `Fiber optic` и `DSL` без дополнительных опций. Самая популярная дополнительная опция - `StremingTV` и `StreamingMovie`.\n",
    "\n",
    "В соотношении ушедших клиентов к общему числу клиентов не найдено каких-либо аномалий."
   ]
  },
  {
   "cell_type": "markdown",
   "metadata": {},
   "source": [
    "### dataset - phone_new.csv"
   ]
  },
  {
   "cell_type": "code",
   "execution_count": 80,
   "metadata": {},
   "outputs": [
    {
     "name": "stdout",
     "output_type": "stream",
     "text": [
      "<class 'pandas.core.frame.DataFrame'>\n",
      "Index: 6361 entries, 5575-GNVDE to 3186-AJIEK\n",
      "Data columns (total 1 columns):\n",
      " #   Column         Non-Null Count  Dtype \n",
      "---  ------         --------------  ----- \n",
      " 0   MultipleLines  6361 non-null   object\n",
      "dtypes: object(1)\n",
      "memory usage: 99.4+ KB\n"
     ]
    }
   ],
   "source": [
    "telecommunication_analysis.phone.info()"
   ]
  },
  {
   "cell_type": "code",
   "execution_count": 81,
   "metadata": {},
   "outputs": [
    {
     "data": {
      "image/png": "[encoded data removed]",
      "text/plain": [
       "<Figure size 864x288 with 1 Axes>"
      ]
     },
     "metadata": {
      "needs_background": "light"
     },
     "output_type": "display_data"
    }
   ],
   "source": [
    "telecommunication_analysis.barplot_features(telecommunication_analysis.phone,\n",
    "                                            telecommunication_analysis.leaved_id, 'Phone')"
   ]
  },
  {
   "cell_type": "markdown",
   "metadata": {},
   "source": [
    "Больше, чем у половины клиентов не подключена услуга ведения параллельных линий во время звонка. При этом отказов больше (`22.82%` против `9.44`) у тех, у кого данная услуга подключена.\n",
    "\n",
    "В соотношении ушедших клиентов к общему числу клиентов не найдено каких-либо аномалий."
   ]
  },
  {
   "cell_type": "markdown",
   "metadata": {},
   "source": [
    "### dataset - personal_new.csv"
   ]
  },
  {
   "cell_type": "code",
   "execution_count": 82,
   "metadata": {},
   "outputs": [],
   "source": [
    "telecommunication_analysis.fix_citizen_status()"
   ]
  },
  {
   "cell_type": "code",
   "execution_count": 83,
   "metadata": {},
   "outputs": [
    {
     "data": {
      "image/png": "[encoded data removed]",
      "text/plain": [
       "<Figure size 864x576 with 4 Axes>"
      ]
     },
     "metadata": {
      "needs_background": "light"
     },
     "output_type": "display_data"
    }
   ],
   "source": [
    "telecommunication_analysis.barplot_features(telecommunication_analysis.personal,\n",
    "                                            telecommunication_analysis.leaved_id, 'Personal')"
   ]
  },
  {
   "cell_type": "code",
   "execution_count": 84,
   "metadata": {},
   "outputs": [
    {
     "data": {
      "text/plain": [
       "gender  SeniorCitizen  Partner  Dependents\n",
       "Male    No             No       No            1381\n",
       "Female  No             No       No            1338\n",
       "                       Yes      Yes            844\n",
       "Male    No             Yes      Yes            822\n",
       "Female  No             Yes      No             596\n",
       "dtype: int64"
      ]
     },
     "execution_count": 84,
     "metadata": {},
     "output_type": "execute_result"
    }
   ],
   "source": [
    "telecommunication_analysis.personal.value_counts().head(5)"
   ]
  },
  {
   "cell_type": "markdown",
   "metadata": {},
   "source": [
    "Самая большая группа клиентов - одинокие люди, не имеющие пенсионного статуса и иждивенцев. При этом количество мужчин и женщин примерно одинаковое - `1381` и `1338` соответственно. На втором месте представлена группа женщин и мужчин, имеющих и партнеров, и иждивенцев - `844` и `822` клиента соответственно."
   ]
  },
  {
   "cell_type": "markdown",
   "metadata": {},
   "source": [
    "## Вывод"
   ]
  },
  {
   "cell_type": "markdown",
   "metadata": {},
   "source": [
    "1. contact\n",
    "\n",
    "a. Тип платежей\n",
    "\n",
    "Больше половины оплачивают подписку ежемесячно (`55%`), в то время как `24.1%` оплачивают подписку раз в два года, ещё `20.9%` оплачивают годовую подписку.\n",
    "\n",
    "Что касается клиентов, которые ушли, то тут картинка несколько иная:\n",
    "\n",
    "* Клиенты, которые оплачивают подписку ежемесячно в абсолютном соотношение уходят больше всех. Однако в процентном соотношении таких меньше, всего - `10.5%`;\n",
    "* Что касается двух друг групп, у которых годовой и 2х годовой план подписки, то здесь уже уходят `21.25%` и `22.48%` соответственно.\n",
    "\n",
    "Наблюдается интересная ситуация, когда лояльные клиенты, готовые оплачивать сервис на год и более уходят чаще. Это может быть связано с несколькими факторами:\n",
    "* Вероятно, нельзя менять корректировать выбранный пакеты услуг. В связи с чем, по истечению срока, клиенты выбирают другой, более выгодный сервис;\n",
    "* Возможно, что среднее время пользованием услуг в данном регионе составляет 2 года.\n",
    "\n",
    "b. Уведомление по электронной почте\n",
    "\n",
    "Больше клиентов (`4171`) получают уведомления только по электронной почте, чем получают обычной почтой (`2872`). При этом те, кто получают по электронной почте реже уходят, тем те, кто получает физический носитель.\n",
    "\n",
    "c. Способ оплаты\n",
    "\n",
    "Здесь данные распределены примерно по ровну.\n",
    "\n",
    "* Первая часть оплачивает автоматически с помощью кредитных карт (`21.6%`) и банковского перевода (`21.9%`).\n",
    "* Вторая часть оплачивает в ручном режиме: наибольший процент (`33.6%`) прибегает к услуге Electronic check, на втором месте Mailed check (`22.9%`).\n",
    "\n",
    "Вероятно, что клиенты, которые используют автоплатеж являются более лояльными, чем те, кто платит в ручном режиме.\n",
    "\n",
    "2. internet \n",
    "\n",
    "Самая популярная услуга: обычный интернет с двумя типами подключения `Fiber optic` и `DSL` без дополнительных опций. Самая популярная дополнительная опция - `StremingTV` и `StreamingMovie`.\n",
    "\n",
    "В соотношении ушедших клиентов к общему числу клиентов не найдено каких-либо аномалий.\n",
    "\n",
    "3. phone\n",
    "\n",
    "Больше, чем у половины клиентов не подключена услуга ведения параллельных линий во время звонка. При этом отказов больше (`22.82%` против `9.44`) у тех, у кого данная услуга подключена.\n",
    "\n",
    "В соотношении ушедших клиентов к общему числу клиентов не найдено каких-либо аномалий.\n",
    "\n",
    "4. personal\n",
    "\n",
    "Самая большая группа клиентов - одинокие люди, не имеющие пенсионного статуса и иждивенцев. При этом количество мужчин и женщин примерно одинаковое - `1381` и `1338` соответственно. На втором месте представлена группа женщин и мужчин, имеющих и партнеров, и иждивенцев - `844` и `822` клиента соответственно."
   ]
  },
  {
   "cell_type": "markdown",
   "metadata": {},
   "source": [
    "## План работы (представлен в начале)\n",
    "\n",
    "1. Изучение поставленной задачи;\n",
    "1. Получение первоначальной информации о проекте;\n",
    "2. Анализ имеющейся информации. Работа с данными: обработка некорректных значений, аномалий и пропусков.\n",
    "3. Разделение выборки на `features` and `target`;\n",
    "4. Feature engineering;\n",
    "5. Поиск оптимальной модели;\n",
    "6. Тестирование модели;\n",
    "7. Вывод.\n",
    "\n",
    "## Вопросы \n",
    "\n",
    "Уточняющих вопросов не имеется.\n",
    "\n",
    "## Цель проекта\n",
    "\n",
    "Определить, уйдет ли клиент по имеющимся признакам. Целевой признак - `EndDate`, если значение имеется (не равное `No`), то клиент ушел. \n"
   ]
  },
  {
   "cell_type": "markdown",
   "metadata": {},
   "source": [
    "# Обучение модели"
   ]
  },
  {
   "cell_type": "markdown",
   "metadata": {},
   "source": [
    "## Работа с features и target"
   ]
  },
  {
   "cell_type": "markdown",
   "metadata": {},
   "source": [
    "Получим полный датасет путем объединения всех имеющихся данных:"
   ]
  },
  {
   "cell_type": "code",
   "execution_count": 85,
   "metadata": {},
   "outputs": [
    {
     "name": "stdout",
     "output_type": "stream",
     "text": [
      "Количество уникальных пользователей в первоночальном датасете: 7043\n",
      "Количество строк в полном датасете: 7043\n"
     ]
    }
   ],
   "source": [
    "telecommunication_analysis.concat_datasets()"
   ]
  },
  {
   "cell_type": "markdown",
   "metadata": {},
   "source": [
    "Количество уникальных пользователей соответствует количеству уникальных клиентов в полном датасете. Это свидетельствует о том, что данные объеденины корректно. \n",
    "\n",
    "Как стало понятно из EDA, одним из важных факторов уйдет клиент или останется является продолжительность контракта. Добавим новый признак:"
   ]
  },
  {
   "cell_type": "code",
   "execution_count": 86,
   "metadata": {},
   "outputs": [],
   "source": [
    "telecommunication_analysis.get_features()"
   ]
  },
  {
   "cell_type": "code",
   "execution_count": 87,
   "metadata": {},
   "outputs": [
    {
     "data": {
      "text/plain": [
       "customerID\n",
       "4304-XUMGI    1523\n",
       "0988-AADSA    2191\n",
       "5075-JSDKI    1798\n",
       "9500-WBGRP    2102\n",
       "4855-SNKMY      92\n",
       "Name: duration, dtype: int64"
      ]
     },
     "execution_count": 87,
     "metadata": {},
     "output_type": "execute_result"
    }
   ],
   "source": [
    "telecommunication_analysis.df_full['duration'].sample(5)"
   ]
  },
  {
   "cell_type": "markdown",
   "metadata": {},
   "source": [
    "Новый признак `duration` обозначает продолжительность обслуживания в днях.\n",
    "\n",
    "Разделим выборку на `features` и `target`. Цель проекта - определить, уйдет клиент или нет. Это бинарная классификация, в связи с этим также приведем целевое значение к виду `0` - клиент не ушел, `1` - клиент ушел:"
   ]
  },
  {
   "cell_type": "code",
   "execution_count": 88,
   "metadata": {},
   "outputs": [
    {
     "name": "stdout",
     "output_type": "stream",
     "text": [
      "Размер выборки признаков: строк - 7043, столбцов - 17\n",
      "Размер целевой выборки: строк - 7043\n"
     ]
    }
   ],
   "source": [
    "telecommunication_analysis.features_train_splitter()"
   ]
  },
  {
   "cell_type": "code",
   "execution_count": 89,
   "metadata": {},
   "outputs": [
    {
     "data": {
      "text/plain": [
       "TechSupport         1526\n",
       "InternetService     1526\n",
       "OnlineSecurity      1526\n",
       "OnlineBackup        1526\n",
       "DeviceProtection    1526\n",
       "StreamingTV         1526\n",
       "StreamingMovies     1526\n",
       "MultipleLines        682\n",
       "dtype: int64"
      ]
     },
     "execution_count": 89,
     "metadata": {},
     "output_type": "execute_result"
    }
   ],
   "source": [
    "x = telecommunication_analysis.features.isna().sum().sort_values(ascending=False)\n",
    "x[x>0]"
   ]
  },
  {
   "cell_type": "code",
   "execution_count": 90,
   "metadata": {},
   "outputs": [],
   "source": [
    "del x"
   ]
  },
  {
   "cell_type": "markdown",
   "metadata": {},
   "source": [
    "В признаках же после объединения появились пропуски. Заменим их на заглушки: "
   ]
  },
  {
   "cell_type": "code",
   "execution_count": 91,
   "metadata": {},
   "outputs": [],
   "source": [
    "telecommunication_analysis.features = telecommunication_analysis.features.fillna('NoValue')"
   ]
  },
  {
   "cell_type": "code",
   "execution_count": 92,
   "metadata": {},
   "outputs": [
    {
     "data": {
      "text/plain": [
       "Type    0\n",
       "dtype: int64"
      ]
     },
     "execution_count": 92,
     "metadata": {},
     "output_type": "execute_result"
    }
   ],
   "source": [
    "telecommunication_analysis.features.isna().sum().sort_values(ascending=False).head(1)"
   ]
  },
  {
   "cell_type": "markdown",
   "metadata": {},
   "source": [
    "В признаках больше нет пропусков. Проанализируем их на предмет мультиколлинеарности:"
   ]
  },
  {
   "cell_type": "code",
   "execution_count": 93,
   "metadata": {},
   "outputs": [
    {
     "data": {
      "image/png": "[encoded data removed]",
      "text/plain": [
       "<Figure size 936x936 with 2 Axes>"
      ]
     },
     "metadata": {
      "needs_background": "light"
     },
     "output_type": "display_data"
    }
   ],
   "source": [
    "telecommunication_analysis.features_corr()"
   ]
  },
  {
   "cell_type": "markdown",
   "metadata": {},
   "source": [
    "На тепловой карте наблюдается сильная коллинеарность между услугами, которые предоставляет оператор. Для борьбы с мультиколленеарностью заменен эти признаки одним признаком - с количеством услуг:"
   ]
  },
  {
   "cell_type": "code",
   "execution_count": 94,
   "metadata": {},
   "outputs": [],
   "source": [
    "telecommunication_analysis.fix_corr_feature()"
   ]
  },
  {
   "cell_type": "code",
   "execution_count": 95,
   "metadata": {},
   "outputs": [
    {
     "data": {
      "text/plain": [
       "customerID\n",
       "6769-DCQLI    5\n",
       "3195-TQDZX    0\n",
       "9921-ZVRHG    1\n",
       "Name: AmountOfService, dtype: int64"
      ]
     },
     "execution_count": 95,
     "metadata": {},
     "output_type": "execute_result"
    }
   ],
   "source": [
    "telecommunication_analysis.features['AmountOfService'].sample(3)"
   ]
  },
  {
   "cell_type": "code",
   "execution_count": 96,
   "metadata": {},
   "outputs": [
    {
     "data": {
      "image/png": "[encoded data removed]",
      "text/plain": [
       "<Figure size 432x288 with 2 Axes>"
      ]
     },
     "metadata": {
      "needs_background": "light"
     },
     "output_type": "display_data"
    }
   ],
   "source": [
    "telecommunication_analysis.target_features_corr()"
   ]
  },
  {
   "cell_type": "markdown",
   "metadata": {},
   "source": [
    "Корреляция таргета с признаками умеренная, утечки не наблюдается. Посмотрим на дисбаланс классов в `target`:"
   ]
  },
  {
   "cell_type": "code",
   "execution_count": 97,
   "metadata": {},
   "outputs": [
    {
     "data": {
      "text/html": [
       "<div>\n",
       "<style scoped>\n",
       "    .dataframe tbody tr th:only-of-type {\n",
       "        vertical-align: middle;\n",
       "    }\n",
       "\n",
       "    .dataframe tbody tr th {\n",
       "        vertical-align: top;\n",
       "    }\n",
       "\n",
       "    .dataframe thead th {\n",
       "        text-align: right;\n",
       "    }\n",
       "</style>\n",
       "<table border=\"1\" class=\"dataframe\">\n",
       "  <thead>\n",
       "    <tr style=\"text-align: right;\">\n",
       "      <th></th>\n",
       "      <th>index</th>\n",
       "      <th>Status</th>\n",
       "    </tr>\n",
       "  </thead>\n",
       "  <tbody>\n",
       "    <tr>\n",
       "      <th>0</th>\n",
       "      <td>0</td>\n",
       "      <td>5942</td>\n",
       "    </tr>\n",
       "    <tr>\n",
       "      <th>1</th>\n",
       "      <td>1</td>\n",
       "      <td>1101</td>\n",
       "    </tr>\n",
       "  </tbody>\n",
       "</table>\n",
       "</div>"
      ],
      "text/plain": [
       "   index  Status\n",
       "0      0    5942\n",
       "1      1    1101"
      ]
     },
     "execution_count": 97,
     "metadata": {},
     "output_type": "execute_result"
    }
   ],
   "source": [
    "telecommunication_analysis.target.value_counts().reset_index()"
   ]
  },
  {
   "cell_type": "code",
   "execution_count": 98,
   "metadata": {},
   "outputs": [
    {
     "data": {
      "image/png": "[encoded data removed]",
      "text/plain": [
       "<Figure size 432x288 with 1 Axes>"
      ]
     },
     "metadata": {
      "needs_background": "light"
     },
     "output_type": "display_data"
    }
   ],
   "source": [
    "x = telecommunication_analysis.target.value_counts().reset_index()\n",
    "sns.barplot(x='index',y='Status',data=x)\n",
    "plt.title('Баланс целевого признака')\n",
    "plt.ylabel('Count')\n",
    "plt.show()"
   ]
  },
  {
   "cell_type": "markdown",
   "metadata": {},
   "source": [
    "Наблюдается дисбаланс классов, однако для наших целей была выбрана метрика roc-auc, которая является не чувствительной к дисбалансу. В связи с чем перейдем к обучением моделей."
   ]
  },
  {
   "cell_type": "code",
   "execution_count": 99,
   "metadata": {},
   "outputs": [],
   "source": [
    "telecommunication_analysis.train_test_splitter()"
   ]
  },
  {
   "cell_type": "markdown",
   "metadata": {},
   "source": [
    "## Поиск наилучшей модели"
   ]
  },
  {
   "cell_type": "code",
   "execution_count": 100,
   "metadata": {},
   "outputs": [
    {
     "name": "stdout",
     "output_type": "stream",
     "text": [
      "Лучшая модель \"LogisticRegression\" на трейне имеет оценку roc_auc: 0.761.\n",
      "Лучшая модель \"RandomForestClassifier\" на трейне имеет оценку roc_auc: 0.827.\n",
      "Лучшая модель \"CatBoostClassifier\" на трейне имеет оценку roc_auc: 0.869.\n",
      "Лучшая модель \"LGBM\" на трейне имеет оценку roc_auc: 0.897.\n"
     ]
    }
   ],
   "source": [
    "telecommunication_analysis.train_all_models(print_status=True)"
   ]
  },
  {
   "cell_type": "code",
   "execution_count": 101,
   "metadata": {},
   "outputs": [
    {
     "data": {
      "text/html": [
       "<style  type=\"text/css\" >\n",
       "</style><table id=\"T_ee697_\" ><thead>    <tr>        <th class=\"blank level0\" ></th>        <th class=\"col_heading level0 col0\" >ROC_AUC_score</th>        <th class=\"col_heading level0 col1\" >time</th>    </tr>    <tr>        <th class=\"index_name level0\" >model</th>        <th class=\"blank\" ></th>        <th class=\"blank\" ></th>    </tr></thead><tbody>\n",
       "                <tr>\n",
       "                        <th id=\"T_ee697_level0_row0\" class=\"row_heading level0 row0\" >LGBM</th>\n",
       "                        <td id=\"T_ee697_row0_col0\" class=\"data row0 col0\" >0.897</td>\n",
       "                        <td id=\"T_ee697_row0_col1\" class=\"data row0 col1\" >216.47 сек.</td>\n",
       "            </tr>\n",
       "            <tr>\n",
       "                        <th id=\"T_ee697_level0_row1\" class=\"row_heading level0 row1\" >CatBoost</th>\n",
       "                        <td id=\"T_ee697_row1_col0\" class=\"data row1 col0\" >0.869</td>\n",
       "                        <td id=\"T_ee697_row1_col1\" class=\"data row1 col1\" >105.83 сек.</td>\n",
       "            </tr>\n",
       "            <tr>\n",
       "                        <th id=\"T_ee697_level0_row2\" class=\"row_heading level0 row2\" >RandomForestClassifier</th>\n",
       "                        <td id=\"T_ee697_row2_col0\" class=\"data row2 col0\" >0.827</td>\n",
       "                        <td id=\"T_ee697_row2_col1\" class=\"data row2 col1\" >50.30 сек.</td>\n",
       "            </tr>\n",
       "            <tr>\n",
       "                        <th id=\"T_ee697_level0_row3\" class=\"row_heading level0 row3\" >LogisticRegression</th>\n",
       "                        <td id=\"T_ee697_row3_col0\" class=\"data row3 col0\" >0.761</td>\n",
       "                        <td id=\"T_ee697_row3_col1\" class=\"data row3 col1\" >43.59 сек.</td>\n",
       "            </tr>\n",
       "    </tbody></table>"
      ],
      "text/plain": [
       "<pandas.io.formats.style.Styler at 0x7ff3e47bbb50>"
      ]
     },
     "execution_count": 101,
     "metadata": {},
     "output_type": "execute_result"
    }
   ],
   "source": [
    "results = {\n",
    "    'model' : \n",
    "        [*telecommunication_analysis.models.keys()],\n",
    "    'ROC_AUC_score' : \n",
    "        [telecommunication_analysis.models[value]['score'] \n",
    "         for value in telecommunication_analysis.models.keys()],\n",
    "    'time' : \n",
    "        [telecommunication_analysis.models[value]['time'] \n",
    "         for value in telecommunication_analysis.models.keys()],\n",
    "    }\n",
    "results = (pd.DataFrame(results)).set_index('model').sort_values(by='ROC_AUC_score', ascending=False)\n",
    "results.style.format({'ROC_AUC_score': \"{:.3f}\",'time': \"{:.2f} сек.\"})"
   ]
  },
  {
   "cell_type": "markdown",
   "metadata": {},
   "source": [
    "По итогам обучения четырех моделей с использованием метрики `ROC_AUC` на первом месте оказалась модель `LGBM` с результатом `0.897`. Выведем модель в отдельную переменную, обучим ее и посмотрим на матрицу ошибок и важность признаков:"
   ]
  },
  {
   "cell_type": "markdown",
   "metadata": {},
   "source": [
    "# Тестирование модели\n",
    "\n",
    "Лучшей моделью по результатам тестирования оказалась модель `LGBM` c результатом `0.897`. Посмотрим, на результат в тестовых данных:"
   ]
  },
  {
   "cell_type": "code",
   "execution_count": 102,
   "metadata": {},
   "outputs": [],
   "source": [
    "telecommunication_analysis.features_test = Telecommunication.LGBM_features_transformation(telecommunication_analysis.features_test)\n",
    "predicts = telecommunication_analysis.LGBM.predict(telecommunication_analysis.features_test)\n",
    "y_pred_prob = telecommunication_analysis.LGBM.predict_proba(telecommunication_analysis.features_test)[:, 1]"
   ]
  },
  {
   "cell_type": "code",
   "execution_count": 103,
   "metadata": {},
   "outputs": [
    {
     "name": "stdout",
     "output_type": "stream",
     "text": [
      "ROC_AUC score на тестовой выборке: 0.927\n",
      "Accuracy_score на тестовой выборке: 0.924\n"
     ]
    }
   ],
   "source": [
    "score = roc_auc_score(telecommunication_analysis.target_test,\n",
    "                      y_pred_prob)\n",
    "score_accuracy = accuracy_score(telecommunication_analysis.target_test, predicts)\n",
    "print('ROC_AUC score на тестовой выборке: {:.3f}'.format(score))\n",
    "print('Accuracy_score на тестовой выборке: {:.3f}'.format(score_accuracy))"
   ]
  },
  {
   "cell_type": "markdown",
   "metadata": {},
   "source": [
    "На тестовой выборке модель показала так же отличные результаты. Финальная оценка `ROC_AUC` на тестовых данных составила `0.927`,а `Accuracy_score` составила `0.924`. Посмотрим `ROC_AUC_curve`:"
   ]
  },
  {
   "cell_type": "code",
   "execution_count": 104,
   "metadata": {},
   "outputs": [
    {
     "data": {
      "image/png": "[encoded data removed]",
      "text/plain": [
       "<Figure size 432x288 with 1 Axes>"
      ]
     },
     "metadata": {
      "needs_background": "light"
     },
     "output_type": "display_data"
    }
   ],
   "source": [
    "Telecommunication.plot_roc_auc_score(telecommunication_analysis.target_test,\n",
    "                                     y_pred_prob)"
   ]
  },
  {
   "cell_type": "markdown",
   "metadata": {},
   "source": [
    "Взглянем на матрицу ошибок:"
   ]
  },
  {
   "cell_type": "code",
   "execution_count": 105,
   "metadata": {},
   "outputs": [
    {
     "data": {
      "image/png": "[encoded data removed]",
      "text/plain": [
       "<Figure size 936x936 with 2 Axes>"
      ]
     },
     "metadata": {
      "needs_background": "light"
     },
     "output_type": "display_data"
    }
   ],
   "source": [
    "Telecommunication.plot_confusion_matrix(predicts,\n",
    "                                        telecommunication_analysis.target_test)"
   ]
  },
  {
   "cell_type": "markdown",
   "metadata": {},
   "source": [
    "Можно сделать следующие выводы:\n",
    "\n",
    "1. Модель хорошо предсказывает тех клиентов, которые не собираются уходить;\n",
    "2. Так же модель достаточно хорошо справляется с предсказанием клиентов, которые действительно собираются уйти. \n",
    "3. При этом, стоит отметить, что ~`40%` клиентов, отмеченных моделью как \"уходящих\", таковыми не являются. \n",
    "\n",
    "Таким образом модель хорошо справляется со своей задачей. С ее помощью можно находить группу риска и проводить с ними определенную работу, например: скидки, купоны, промокоды, различные программы лояльности.\n",
    "\n",
    "Посмотрим, какие признаки являются наиболее важными при составлении прогноза:"
   ]
  },
  {
   "cell_type": "code",
   "execution_count": 106,
   "metadata": {},
   "outputs": [
    {
     "data": {
      "image/png": "[encoded data removed]",
      "text/plain": [
       "<Figure size 936x936 with 1 Axes>"
      ]
     },
     "metadata": {
      "needs_background": "light"
     },
     "output_type": "display_data"
    }
   ],
   "source": [
    "telecommunication_analysis.plot_features_importances(telecommunication_analysis.LGBM.best_estimator_.feature_importances_,\n",
    "                                                     telecommunication_analysis.features_train.columns)"
   ]
  },
  {
   "cell_type": "markdown",
   "metadata": {},
   "source": [
    "* Самый важный признак: `Duration` - срок \"жизни\" клиента;\n",
    "* На втором месте - `TotalCharges`;\n",
    "* На третьем месте - `Type`;\n",
    "* Четвертым важным признаком является `AmountOfService` - признак, объеденный нами из других (мультиколлинеарных) признаков."
   ]
  },
  {
   "cell_type": "markdown",
   "metadata": {},
   "source": [
    "## Вывод\n",
    "\n",
    "a. Для целей прогнозирования все датасеты были объеденины в один датасет. Затем данные были разбиты на:\n",
    "1. Признаки и целевой признак. Целевой признак был получен из колонки `EndDate` и приведен к виду `0` - клиент не ушел, `1` - клиент ушел, что позволило свести задачу к задаче классификации;\n",
    "2. Тренировочные данные и тестовые.\n",
    "\n",
    "b. Были выделены новые признаки, такие как:\n",
    "1. `Duration` - продолжительность обслуживания в днях;\n",
    "2. `AmountOfService` - услуги были сильно скоррелированы. В связи с чем было принято решение объединить их в один признак.\n",
    "\n",
    "c. Был исследован дисбаланс классов\n",
    "\n",
    "d. С помощью метода `RandomizedSearchCV` была найдена наилучшая модель - `LGBM` с результатом `ROC_AUC` на обучающей выборке: `0.897`. На тестовой выборке же результат составил `0.903`.\n",
    "\n",
    "Матрица ошибок показала, что модель хорошо предсказывает тех клиентов, кто действительно ушел или остался. Так же наблюдается `40%` FP, что не так страшно для целей нашей задачи.\n",
    "\n",
    "Самый важный признак: `Duration` - срок \"жизни\" клиента, на втором месте - `TotalCharges`, на третьем месте - `Type` , четвертым важным признаком является `AmountOfService` - признак, объеденный нами из других (мультиколлинеарных) признаков.\n"
   ]
  },
  {
   "attachments": {
    "image-2.png": {
     "image/png": "[encoded data removed]"
    },
    "image-3.png": {
     "image/png": "[encoded data removed]"
    },
    "image.png": {
     "image/png": "[encoded data removed]"
    }
   },
   "cell_type": "markdown",
   "metadata": {},
   "source": [
    "# Отчет о проделанной работе\n",
    "\n",
    "План работы состоял из следующих пунктов:\n",
    "\n",
    "1. Изучение поставленной задачи;\n",
    "2. Получение первоначальной информации о проекте;\n",
    "3. Анализ имеющейся информации. Работа с данными: обработка некорректных значений, аномалий и пропусков.\n",
    "4. Разделение выборки на `features` and `target`;\n",
    "5. Feature engineering;\n",
    "6. Поиск оптимальной модели;\n",
    "7. Тестирование модели;\n",
    "8. Вывод.\n",
    "\n",
    "\n",
    "Сама же работа была поделена на несколько частей: `a` - `c`. \n",
    "\n",
    "a. Вводна часть\n",
    "\n",
    "В первой части были выполнены пункты плана `1` по `3`:\n",
    "- Была изучена поставленная задача, которая сводилась к бинарной классификации - нужно определить, уйдет ли клиент от оператора связи или нет. \n",
    "- Было произведено первичное ознакомление с данными, которые состояли из четырех датасетов. Каждый датасет имел колонку `customerID`, которая являлась первичным ключем и отображала id клиента:\n",
    "  1. `contact` - состоял из `7043` уникальных значений, которые были представлены в таблице: `BeginDate`,`EndDate`, `Type`,`PaperlessBilling`,`MonthlyCharges`,`TotalCharges`. Данные колонки предоставляли информацию о том, когда клиент заключил договор, когда расторг, как и сколько платил за предоставляемые услуги;\n",
    "  2. `personal` - датасет представлял собой первичную информацию о клиентах: их пол, семейный статус, наличие партнера и иждивенцев;\n",
    "  3. `internet` - состоял из `5517` строк и `7` столбцов, которые отображали тип подключения клиента и различные услуги, которыми он пользуется;\n",
    "  4. `phone` - состоял из `6361` строки и `1` колонки, которая отображала наличие нескольких линий у клиента;\n",
    "\n",
    "\n",
    "- В каждом датасете данные были проверены на корректность типов, аномалии и пропуски.  \n",
    "   1. В датасете `contact` были обнаружены не совпадения типов данных и данных в столбцах `TotalCharges` и `BeginDate`, что в последствии было устранено. Так же было обнаружено 10 пропусков в `TotalChargers`, которые возникли для новых клиентов, которые пришли перед выгрузкой базы данных;\n",
    "   2. В остальных датасетах было множество пропусков, которые возникали по тем или иным причинам (например клиент не пользуется интернетом, поэтому данных о них попросту нет). Некоторые данные были преобразованы из вида `1` и `0` в `yes` и `no`. \n",
    "\n",
    "\n",
    "- Была собрана первичная информация о данных и составлены портеры клиентов, которые находятся в зоне риска для компании. Такими клиентами оказались: клиенты, которые пользуются услугами долгое время, имеют годовой или 2-х годовой план подписки, с подключенной услугой MultipleLines. Дальше идут клиенты с различными вариациями   тех или иных признаков;\n",
    "\n",
    "б. Поиск оптимальной модели\n",
    "\n",
    "Во второй части были выполнены с `4` по `7` пункты планы. \n",
    "\n",
    "- Данные были разделены на `features` и `target`;\n",
    "- `target` был выделен из колонки `EndDate`, которая содержала в себе дату окончания обслуживания клиента. Так же были выделены следующие признаки: `duration` и `amount_of_service`. `Duration` - срок обслуживания клиента (`BeginDate` - `EndDate`/`Дата выгрузки базы`), это было сделано для того, чтобы удалить столбец `EndDate`, не допустить утечку таргета и получить информацию, которую нес данный признак. Количество сервисов, которыми пользуется клиент - `amount_of_service` возник, как средство борьбы с мультиколлениарностью. Таким образом несколько признаков было заменено одним;\n",
    "- Данные были разделены на `train`  и `test`. Затем был произведен поиск оптимальной модели из 4-х вариантов:  `LogisticRegression`, `RandomForesetClassifier`, `CatBoostClassifier`,`LGBM`. В каждой модели с помощью пайплайна для обработки данных был осуществлен поиск наилучших параметров с использованием `RandomizedSearchCV` с параметром `cv` (cross-validation) = 5. Лучший результат по итогам обучения показала модель `LGBM` с метрикой `ROC_AUC` - `0.897`. \n",
    "- На тестовых данных модель показала результат `0.927` `ROC_AUC` и `0.924` `accuracy_score`. ROC curve выглядит следующим образом:\n",
    "\n",
    "![image.png](attachment:image.png)\n",
    "\n",
    "- Матрица ошибок: \n",
    "\n",
    "![image.png](attachment:image-2.png)\n",
    "\n",
    "\n",
    "Из матрицы ошибок видно, что:\n",
    "1. Модель хорошо предсказывает тех клиентов, которые не собираются уходить;\n",
    "2. Так же модель достаточно хорошо справляется с предсказанием клиентов, которые действительно собираются уйти. \n",
    "3. При этом, стоит отметить, что ~`40%` клиентов, отмеченных моделью как \"уходящих\", таковыми не являются. \n",
    "\n",
    "Таким образом модель хорошо справляется со своей задачей. С ее помощью можно находить группу риска и проводить с ними определенную работу, например: скидки, купоны, промокоды, различные программы лояльности.\n",
    "\n",
    "При этом, если разбирать важность признаков для модели, то график выглядит следующим образом: \n",
    "\n",
    "![image.png](attachment:image-3.png)\n",
    "\n",
    "* Самый важный признак: `Duration` - срок \"жизни\" клиента;\n",
    "* На втором месте - `TotalCharges`;\n",
    "* На третьем месте - `Type`;\n",
    "* Четвертым важным признаком является `AmountOfService` - признак, объеденный нами из других (мультиколлинеарных) признаков.\n",
    "\n",
    "\n",
    "c. Отчет о проделанной работе\n",
    "\n",
    "\n",
    "Таким образом, можно заключить, что задача проекта выполнена. Целевое значение метрики достигнуто, модель справляется со своей задачей. С ее помощью можно предсказывать, является ли клиент в зоне риска с точки зрения компании и нуждается ли он в каких-либо дополнительных мерах для повышения лояльности. \n",
    "\n",
    "v3.1 fix.\n",
    "\n",
    "В ходе проекта было несколько проблем, с которыми пришлось столкнуться:\n",
    "\n",
    "1. Главная проблема - отсутствие целевого признака, который в последствии пришлось выделять из другого признака `EndDate`. Так, если в данной колонке наблюдалось значение `No`, значит клиент не ушел, в противном же случае клиент ушел. Таким образом новый целевой признак имел вид `1` (клиент ушел) и `0` (клиент не ушел), что соответствует нашей задаче классификации;\n",
    "2. Данные хранились в разных датасетах. В связи с чем появилась потребность в их объединении и проверки на корректность объединения. Данная проблема была преодолена в процессе работы;\n",
    "3. Имелись пропуски. Так, например, при попытке изменить тип данных в столбце `TotalCharges` были найдены пустые строки для новых клиентов. Было принято решение заменить пропуски на `MonthlyCharges` для новых клиентов;\n",
    "    \n",
    "Выделим ключевые шаги работы над проектом:\n",
    "\n",
    "1. Подготовка рабочей среды;\n",
    "\n",
    "2. Загрузка и изучение данных;\n",
    "\n",
    "3. Предобработка и исследовательский анализ данных;\n",
    "\n",
    "5. Подготовка данных к обучению;\n",
    "\n",
    "6. Обучение модели;\n",
    "\n",
    "7. Проверка модели;\n",
    "\n",
    "8. Анализ получившихся результатов. "
   ]
  }
 ],
 "metadata": {
  "ExecuteTimeLog": [
   {
    "duration": 1457,
    "start_time": "2023-09-14T12:38:28.896Z"
   },
   {
    "duration": 2,
    "start_time": "2023-09-14T12:38:30.355Z"
   },
   {
    "duration": 53,
    "start_time": "2023-09-14T12:38:30.359Z"
   },
   {
    "duration": 464,
    "start_time": "2023-09-14T12:38:30.414Z"
   },
   {
    "duration": 19,
    "start_time": "2023-09-14T12:38:30.880Z"
   },
   {
    "duration": 61,
    "start_time": "2023-09-14T12:38:30.900Z"
   },
   {
    "duration": 52,
    "start_time": "2023-09-14T12:38:30.962Z"
   },
   {
    "duration": 55,
    "start_time": "2023-09-14T12:38:31.016Z"
   },
   {
    "duration": 75,
    "start_time": "2023-09-14T12:38:31.072Z"
   },
   {
    "duration": 42,
    "start_time": "2023-09-14T12:38:31.150Z"
   },
   {
    "duration": 111,
    "start_time": "2023-09-14T12:38:31.194Z"
   },
   {
    "duration": 52,
    "start_time": "2023-09-14T12:38:31.307Z"
   },
   {
    "duration": 47,
    "start_time": "2023-09-14T12:38:31.361Z"
   },
   {
    "duration": 244,
    "start_time": "2023-09-14T12:38:31.410Z"
   },
   {
    "duration": 251,
    "start_time": "2023-09-14T12:38:31.656Z"
   },
   {
    "duration": 8,
    "start_time": "2023-09-14T12:38:31.909Z"
   },
   {
    "duration": 29,
    "start_time": "2023-09-14T12:38:31.919Z"
   },
   {
    "duration": 230,
    "start_time": "2023-09-14T12:38:31.950Z"
   },
   {
    "duration": 16,
    "start_time": "2023-09-14T12:38:32.182Z"
   },
   {
    "duration": 242,
    "start_time": "2023-09-14T12:38:32.199Z"
   },
   {
    "duration": 7,
    "start_time": "2023-09-14T12:38:32.443Z"
   },
   {
    "duration": 695,
    "start_time": "2023-09-14T12:38:32.451Z"
   },
   {
    "duration": 13,
    "start_time": "2023-09-14T12:38:33.148Z"
   },
   {
    "duration": 35,
    "start_time": "2023-09-14T12:38:33.162Z"
   },
   {
    "duration": 9,
    "start_time": "2023-09-14T12:38:33.199Z"
   },
   {
    "duration": 1208,
    "start_time": "2023-09-14T12:38:33.209Z"
   },
   {
    "duration": 11,
    "start_time": "2023-09-14T12:38:34.419Z"
   },
   {
    "duration": 23,
    "start_time": "2023-09-14T12:38:34.433Z"
   },
   {
    "duration": 302,
    "start_time": "2023-09-14T12:38:34.457Z"
   },
   {
    "duration": 4,
    "start_time": "2023-09-14T12:38:34.761Z"
   },
   {
    "duration": 665,
    "start_time": "2023-09-14T12:38:34.767Z"
   },
   {
    "duration": 9,
    "start_time": "2023-09-14T12:38:35.434Z"
   },
   {
    "duration": 1307,
    "start_time": "2023-09-18T19:14:50.708Z"
   },
   {
    "duration": 0,
    "start_time": "2023-09-18T19:14:52.020Z"
   },
   {
    "duration": 0,
    "start_time": "2023-09-18T19:14:52.021Z"
   },
   {
    "duration": 0,
    "start_time": "2023-09-18T19:14:52.023Z"
   },
   {
    "duration": 0,
    "start_time": "2023-09-18T19:14:52.025Z"
   },
   {
    "duration": 0,
    "start_time": "2023-09-18T19:14:52.026Z"
   },
   {
    "duration": 0,
    "start_time": "2023-09-18T19:14:52.028Z"
   },
   {
    "duration": 1,
    "start_time": "2023-09-18T19:14:52.029Z"
   },
   {
    "duration": 0,
    "start_time": "2023-09-18T19:14:52.031Z"
   },
   {
    "duration": 0,
    "start_time": "2023-09-18T19:14:52.033Z"
   },
   {
    "duration": 0,
    "start_time": "2023-09-18T19:14:52.034Z"
   },
   {
    "duration": 0,
    "start_time": "2023-09-18T19:14:52.036Z"
   },
   {
    "duration": 0,
    "start_time": "2023-09-18T19:14:52.037Z"
   },
   {
    "duration": 0,
    "start_time": "2023-09-18T19:14:52.039Z"
   },
   {
    "duration": 0,
    "start_time": "2023-09-18T19:14:52.041Z"
   },
   {
    "duration": 0,
    "start_time": "2023-09-18T19:14:52.042Z"
   },
   {
    "duration": 1,
    "start_time": "2023-09-18T19:14:52.082Z"
   },
   {
    "duration": 0,
    "start_time": "2023-09-18T19:14:52.084Z"
   },
   {
    "duration": 0,
    "start_time": "2023-09-18T19:14:52.087Z"
   },
   {
    "duration": 0,
    "start_time": "2023-09-18T19:14:52.088Z"
   },
   {
    "duration": 0,
    "start_time": "2023-09-18T19:14:52.088Z"
   },
   {
    "duration": 0,
    "start_time": "2023-09-18T19:14:52.091Z"
   },
   {
    "duration": 0,
    "start_time": "2023-09-18T19:14:52.092Z"
   },
   {
    "duration": 0,
    "start_time": "2023-09-18T19:14:52.093Z"
   },
   {
    "duration": 0,
    "start_time": "2023-09-18T19:14:52.096Z"
   },
   {
    "duration": 0,
    "start_time": "2023-09-18T19:14:52.098Z"
   },
   {
    "duration": 0,
    "start_time": "2023-09-18T19:14:52.099Z"
   },
   {
    "duration": 0,
    "start_time": "2023-09-18T19:14:52.100Z"
   },
   {
    "duration": 0,
    "start_time": "2023-09-18T19:14:52.101Z"
   },
   {
    "duration": 0,
    "start_time": "2023-09-18T19:14:52.102Z"
   },
   {
    "duration": 0,
    "start_time": "2023-09-18T19:14:52.103Z"
   },
   {
    "duration": 0,
    "start_time": "2023-09-18T19:14:52.104Z"
   },
   {
    "duration": 0,
    "start_time": "2023-09-18T19:14:52.105Z"
   },
   {
    "duration": 0,
    "start_time": "2023-09-18T19:14:52.106Z"
   },
   {
    "duration": 0,
    "start_time": "2023-09-18T19:14:52.107Z"
   },
   {
    "duration": 1,
    "start_time": "2023-09-18T19:14:52.108Z"
   },
   {
    "duration": 0,
    "start_time": "2023-09-18T19:14:52.109Z"
   },
   {
    "duration": 0,
    "start_time": "2023-09-18T19:14:52.111Z"
   },
   {
    "duration": 0,
    "start_time": "2023-09-18T19:14:52.111Z"
   },
   {
    "duration": 0,
    "start_time": "2023-09-18T19:14:52.112Z"
   },
   {
    "duration": 0,
    "start_time": "2023-09-18T19:14:52.113Z"
   },
   {
    "duration": 0,
    "start_time": "2023-09-18T19:14:52.115Z"
   },
   {
    "duration": 0,
    "start_time": "2023-09-18T19:14:52.116Z"
   },
   {
    "duration": 0,
    "start_time": "2023-09-18T19:14:52.118Z"
   },
   {
    "duration": 0,
    "start_time": "2023-09-18T19:14:52.119Z"
   },
   {
    "duration": 0,
    "start_time": "2023-09-18T19:14:52.121Z"
   },
   {
    "duration": 0,
    "start_time": "2023-09-18T19:14:52.122Z"
   },
   {
    "duration": 0,
    "start_time": "2023-09-18T19:14:52.124Z"
   },
   {
    "duration": 0,
    "start_time": "2023-09-18T19:14:52.186Z"
   },
   {
    "duration": 0,
    "start_time": "2023-09-18T19:14:52.187Z"
   },
   {
    "duration": 0,
    "start_time": "2023-09-18T19:14:52.188Z"
   },
   {
    "duration": 0,
    "start_time": "2023-09-18T19:14:52.189Z"
   },
   {
    "duration": 0,
    "start_time": "2023-09-18T19:14:52.189Z"
   },
   {
    "duration": 0,
    "start_time": "2023-09-18T19:14:52.190Z"
   },
   {
    "duration": 3299,
    "start_time": "2023-09-18T19:15:33.520Z"
   },
   {
    "duration": 2185,
    "start_time": "2023-09-18T19:15:36.822Z"
   },
   {
    "duration": 0,
    "start_time": "2023-09-18T19:15:39.010Z"
   },
   {
    "duration": 0,
    "start_time": "2023-09-18T19:15:39.011Z"
   },
   {
    "duration": 0,
    "start_time": "2023-09-18T19:15:39.012Z"
   },
   {
    "duration": 0,
    "start_time": "2023-09-18T19:15:39.013Z"
   },
   {
    "duration": 0,
    "start_time": "2023-09-18T19:15:39.014Z"
   },
   {
    "duration": 0,
    "start_time": "2023-09-18T19:15:39.016Z"
   },
   {
    "duration": 0,
    "start_time": "2023-09-18T19:15:39.017Z"
   },
   {
    "duration": 0,
    "start_time": "2023-09-18T19:15:39.018Z"
   },
   {
    "duration": 0,
    "start_time": "2023-09-18T19:15:39.019Z"
   },
   {
    "duration": 0,
    "start_time": "2023-09-18T19:15:39.020Z"
   },
   {
    "duration": 0,
    "start_time": "2023-09-18T19:15:39.021Z"
   },
   {
    "duration": 0,
    "start_time": "2023-09-18T19:15:39.022Z"
   },
   {
    "duration": 0,
    "start_time": "2023-09-18T19:15:39.023Z"
   },
   {
    "duration": 0,
    "start_time": "2023-09-18T19:15:39.024Z"
   },
   {
    "duration": 0,
    "start_time": "2023-09-18T19:15:39.025Z"
   },
   {
    "duration": 0,
    "start_time": "2023-09-18T19:15:39.027Z"
   },
   {
    "duration": 0,
    "start_time": "2023-09-18T19:15:39.028Z"
   },
   {
    "duration": 0,
    "start_time": "2023-09-18T19:15:39.029Z"
   },
   {
    "duration": 0,
    "start_time": "2023-09-18T19:15:39.030Z"
   },
   {
    "duration": 0,
    "start_time": "2023-09-18T19:15:39.031Z"
   },
   {
    "duration": 0,
    "start_time": "2023-09-18T19:15:39.032Z"
   },
   {
    "duration": 0,
    "start_time": "2023-09-18T19:15:39.033Z"
   },
   {
    "duration": 1,
    "start_time": "2023-09-18T19:15:39.034Z"
   },
   {
    "duration": 1,
    "start_time": "2023-09-18T19:15:39.035Z"
   },
   {
    "duration": 0,
    "start_time": "2023-09-18T19:15:39.037Z"
   },
   {
    "duration": 0,
    "start_time": "2023-09-18T19:15:39.038Z"
   },
   {
    "duration": 0,
    "start_time": "2023-09-18T19:15:39.039Z"
   },
   {
    "duration": 0,
    "start_time": "2023-09-18T19:15:39.085Z"
   },
   {
    "duration": 0,
    "start_time": "2023-09-18T19:15:39.086Z"
   },
   {
    "duration": 0,
    "start_time": "2023-09-18T19:15:39.086Z"
   },
   {
    "duration": 0,
    "start_time": "2023-09-18T19:15:39.089Z"
   },
   {
    "duration": 0,
    "start_time": "2023-09-18T19:15:39.090Z"
   },
   {
    "duration": 0,
    "start_time": "2023-09-18T19:15:39.091Z"
   },
   {
    "duration": 0,
    "start_time": "2023-09-18T19:15:39.092Z"
   },
   {
    "duration": 0,
    "start_time": "2023-09-18T19:15:39.093Z"
   },
   {
    "duration": 0,
    "start_time": "2023-09-18T19:15:39.093Z"
   },
   {
    "duration": 0,
    "start_time": "2023-09-18T19:15:39.094Z"
   },
   {
    "duration": 0,
    "start_time": "2023-09-18T19:15:39.095Z"
   },
   {
    "duration": 0,
    "start_time": "2023-09-18T19:15:39.096Z"
   },
   {
    "duration": 0,
    "start_time": "2023-09-18T19:15:39.097Z"
   },
   {
    "duration": 0,
    "start_time": "2023-09-18T19:15:39.098Z"
   },
   {
    "duration": 0,
    "start_time": "2023-09-18T19:15:39.099Z"
   },
   {
    "duration": 0,
    "start_time": "2023-09-18T19:15:39.101Z"
   },
   {
    "duration": 0,
    "start_time": "2023-09-18T19:15:39.103Z"
   },
   {
    "duration": 0,
    "start_time": "2023-09-18T19:15:39.104Z"
   },
   {
    "duration": 1,
    "start_time": "2023-09-18T19:15:39.105Z"
   },
   {
    "duration": 0,
    "start_time": "2023-09-18T19:15:39.107Z"
   },
   {
    "duration": 0,
    "start_time": "2023-09-18T19:15:39.108Z"
   },
   {
    "duration": 0,
    "start_time": "2023-09-18T19:15:39.109Z"
   },
   {
    "duration": 0,
    "start_time": "2023-09-18T19:15:39.111Z"
   },
   {
    "duration": 0,
    "start_time": "2023-09-18T19:15:39.112Z"
   },
   {
    "duration": 0,
    "start_time": "2023-09-18T19:15:39.113Z"
   },
   {
    "duration": 0,
    "start_time": "2023-09-18T19:15:39.113Z"
   },
   {
    "duration": 5865,
    "start_time": "2023-09-18T19:17:01.666Z"
   },
   {
    "duration": 2054,
    "start_time": "2023-09-18T19:17:07.533Z"
   },
   {
    "duration": 8,
    "start_time": "2023-09-18T19:17:09.591Z"
   },
   {
    "duration": 123,
    "start_time": "2023-09-18T19:17:09.604Z"
   },
   {
    "duration": 365,
    "start_time": "2023-09-18T19:17:09.730Z"
   },
   {
    "duration": 18,
    "start_time": "2023-09-18T19:17:10.100Z"
   },
   {
    "duration": 15,
    "start_time": "2023-09-18T19:17:10.119Z"
   },
   {
    "duration": 25,
    "start_time": "2023-09-18T19:17:10.136Z"
   },
   {
    "duration": 28,
    "start_time": "2023-09-18T19:17:10.163Z"
   },
   {
    "duration": 10,
    "start_time": "2023-09-18T19:17:10.197Z"
   },
   {
    "duration": 10,
    "start_time": "2023-09-18T19:17:10.209Z"
   },
   {
    "duration": 13,
    "start_time": "2023-09-18T19:17:10.221Z"
   },
   {
    "duration": 4,
    "start_time": "2023-09-18T19:17:10.236Z"
   },
   {
    "duration": 17,
    "start_time": "2023-09-18T19:17:10.243Z"
   },
   {
    "duration": 282,
    "start_time": "2023-09-18T19:17:10.262Z"
   },
   {
    "duration": 288,
    "start_time": "2023-09-18T19:17:10.546Z"
   },
   {
    "duration": 9,
    "start_time": "2023-09-18T19:17:10.835Z"
   },
   {
    "duration": 6,
    "start_time": "2023-09-18T19:17:10.845Z"
   },
   {
    "duration": 261,
    "start_time": "2023-09-18T19:17:10.853Z"
   },
   {
    "duration": 7,
    "start_time": "2023-09-18T19:17:11.116Z"
   },
   {
    "duration": 246,
    "start_time": "2023-09-18T19:17:11.125Z"
   },
   {
    "duration": 11,
    "start_time": "2023-09-18T19:17:11.373Z"
   },
   {
    "duration": 713,
    "start_time": "2023-09-18T19:17:11.387Z"
   },
   {
    "duration": 17,
    "start_time": "2023-09-18T19:17:12.104Z"
   },
   {
    "duration": 11,
    "start_time": "2023-09-18T19:17:12.123Z"
   },
   {
    "duration": 7,
    "start_time": "2023-09-18T19:17:12.136Z"
   },
   {
    "duration": 1334,
    "start_time": "2023-09-18T19:17:12.145Z"
   },
   {
    "duration": 20,
    "start_time": "2023-09-18T19:17:13.481Z"
   },
   {
    "duration": 22,
    "start_time": "2023-09-18T19:17:13.504Z"
   },
   {
    "duration": 324,
    "start_time": "2023-09-18T19:17:13.528Z"
   },
   {
    "duration": 4,
    "start_time": "2023-09-18T19:17:13.854Z"
   },
   {
    "duration": 787,
    "start_time": "2023-09-18T19:17:13.860Z"
   },
   {
    "duration": 11,
    "start_time": "2023-09-18T19:17:14.649Z"
   },
   {
    "duration": 45,
    "start_time": "2023-09-18T19:17:14.661Z"
   },
   {
    "duration": 21,
    "start_time": "2023-09-18T19:17:14.709Z"
   },
   {
    "duration": 23,
    "start_time": "2023-09-18T19:17:14.731Z"
   },
   {
    "duration": 23,
    "start_time": "2023-09-18T19:17:14.756Z"
   },
   {
    "duration": 33,
    "start_time": "2023-09-18T19:17:14.780Z"
   },
   {
    "duration": 16,
    "start_time": "2023-09-18T19:17:14.814Z"
   },
   {
    "duration": 36,
    "start_time": "2023-09-18T19:17:14.831Z"
   },
   {
    "duration": 49,
    "start_time": "2023-09-18T19:17:14.871Z"
   },
   {
    "duration": 2523,
    "start_time": "2023-09-18T19:17:14.921Z"
   },
   {
    "duration": 11,
    "start_time": "2023-09-18T19:17:17.446Z"
   },
   {
    "duration": 25,
    "start_time": "2023-09-18T19:17:17.459Z"
   },
   {
    "duration": 968,
    "start_time": "2023-09-18T19:17:17.488Z"
   },
   {
    "duration": 8,
    "start_time": "2023-09-18T19:17:18.459Z"
   },
   {
    "duration": 126,
    "start_time": "2023-09-18T19:17:18.483Z"
   },
   {
    "duration": 9,
    "start_time": "2023-09-18T19:17:18.611Z"
   },
   {
    "duration": 181,
    "start_time": "2023-09-18T19:17:18.621Z"
   },
   {
    "duration": 0,
    "start_time": "2023-09-18T19:17:18.804Z"
   },
   {
    "duration": 0,
    "start_time": "2023-09-18T19:17:18.806Z"
   },
   {
    "duration": 0,
    "start_time": "2023-09-18T19:17:18.809Z"
   },
   {
    "duration": 0,
    "start_time": "2023-09-18T19:17:18.810Z"
   },
   {
    "duration": 0,
    "start_time": "2023-09-18T19:17:18.812Z"
   },
   {
    "duration": 0,
    "start_time": "2023-09-18T19:17:18.813Z"
   },
   {
    "duration": 13962,
    "start_time": "2023-09-18T19:18:07.240Z"
   },
   {
    "duration": 1471,
    "start_time": "2023-09-18T19:18:21.208Z"
   },
   {
    "duration": 9,
    "start_time": "2023-09-18T19:18:22.681Z"
   },
   {
    "duration": 46,
    "start_time": "2023-09-18T19:18:22.695Z"
   },
   {
    "duration": 374,
    "start_time": "2023-09-18T19:18:22.742Z"
   },
   {
    "duration": 13,
    "start_time": "2023-09-18T19:18:23.118Z"
   },
   {
    "duration": 18,
    "start_time": "2023-09-18T19:18:23.133Z"
   },
   {
    "duration": 16,
    "start_time": "2023-09-18T19:18:23.152Z"
   },
   {
    "duration": 23,
    "start_time": "2023-09-18T19:18:23.170Z"
   },
   {
    "duration": 25,
    "start_time": "2023-09-18T19:18:23.196Z"
   },
   {
    "duration": 6,
    "start_time": "2023-09-18T19:18:23.223Z"
   },
   {
    "duration": 13,
    "start_time": "2023-09-18T19:18:23.231Z"
   },
   {
    "duration": 13,
    "start_time": "2023-09-18T19:18:23.245Z"
   },
   {
    "duration": 25,
    "start_time": "2023-09-18T19:18:23.259Z"
   },
   {
    "duration": 328,
    "start_time": "2023-09-18T19:18:23.290Z"
   },
   {
    "duration": 260,
    "start_time": "2023-09-18T19:18:23.619Z"
   },
   {
    "duration": 18,
    "start_time": "2023-09-18T19:18:23.880Z"
   },
   {
    "duration": 13,
    "start_time": "2023-09-18T19:18:23.900Z"
   },
   {
    "duration": 226,
    "start_time": "2023-09-18T19:18:23.915Z"
   },
   {
    "duration": 7,
    "start_time": "2023-09-18T19:18:24.142Z"
   },
   {
    "duration": 229,
    "start_time": "2023-09-18T19:18:24.150Z"
   },
   {
    "duration": 18,
    "start_time": "2023-09-18T19:18:24.380Z"
   },
   {
    "duration": 676,
    "start_time": "2023-09-18T19:18:24.400Z"
   },
   {
    "duration": 26,
    "start_time": "2023-09-18T19:18:25.077Z"
   },
   {
    "duration": 26,
    "start_time": "2023-09-18T19:18:25.105Z"
   },
   {
    "duration": 10,
    "start_time": "2023-09-18T19:18:25.133Z"
   },
   {
    "duration": 1212,
    "start_time": "2023-09-18T19:18:25.145Z"
   },
   {
    "duration": 21,
    "start_time": "2023-09-18T19:18:26.361Z"
   },
   {
    "duration": 15,
    "start_time": "2023-09-18T19:18:26.384Z"
   },
   {
    "duration": 374,
    "start_time": "2023-09-18T19:18:26.401Z"
   },
   {
    "duration": 10,
    "start_time": "2023-09-18T19:18:26.777Z"
   },
   {
    "duration": 862,
    "start_time": "2023-09-18T19:18:26.791Z"
   },
   {
    "duration": 11,
    "start_time": "2023-09-18T19:18:27.655Z"
   },
   {
    "duration": 27,
    "start_time": "2023-09-18T19:18:27.667Z"
   },
   {
    "duration": 28,
    "start_time": "2023-09-18T19:18:27.697Z"
   },
   {
    "duration": 6,
    "start_time": "2023-09-18T19:18:27.727Z"
   },
   {
    "duration": 8,
    "start_time": "2023-09-18T19:18:27.735Z"
   },
   {
    "duration": 16,
    "start_time": "2023-09-18T19:18:27.745Z"
   },
   {
    "duration": 6,
    "start_time": "2023-09-18T19:18:27.762Z"
   },
   {
    "duration": 37,
    "start_time": "2023-09-18T19:18:27.769Z"
   },
   {
    "duration": 19,
    "start_time": "2023-09-18T19:18:27.808Z"
   },
   {
    "duration": 2347,
    "start_time": "2023-09-18T19:18:27.829Z"
   },
   {
    "duration": 18,
    "start_time": "2023-09-18T19:18:30.178Z"
   },
   {
    "duration": 17,
    "start_time": "2023-09-18T19:18:30.198Z"
   },
   {
    "duration": 1066,
    "start_time": "2023-09-18T19:18:30.217Z"
   },
   {
    "duration": 9,
    "start_time": "2023-09-18T19:18:31.292Z"
   },
   {
    "duration": 149,
    "start_time": "2023-09-18T19:18:31.307Z"
   },
   {
    "duration": 7,
    "start_time": "2023-09-18T19:18:31.458Z"
   },
   {
    "duration": 180,
    "start_time": "2023-09-18T19:18:31.466Z"
   },
   {
    "duration": 0,
    "start_time": "2023-09-18T19:18:31.648Z"
   },
   {
    "duration": 0,
    "start_time": "2023-09-18T19:18:31.649Z"
   },
   {
    "duration": 0,
    "start_time": "2023-09-18T19:18:31.651Z"
   },
   {
    "duration": 0,
    "start_time": "2023-09-18T19:18:31.652Z"
   },
   {
    "duration": 0,
    "start_time": "2023-09-18T19:18:31.653Z"
   },
   {
    "duration": 0,
    "start_time": "2023-09-18T19:18:31.654Z"
   },
   {
    "duration": 7651,
    "start_time": "2023-09-18T19:19:43.562Z"
   },
   {
    "duration": 1471,
    "start_time": "2023-09-18T19:19:51.216Z"
   },
   {
    "duration": 5,
    "start_time": "2023-09-18T19:19:52.696Z"
   },
   {
    "duration": 7,
    "start_time": "2023-09-18T19:19:52.706Z"
   },
   {
    "duration": 43,
    "start_time": "2023-09-18T19:19:52.716Z"
   },
   {
    "duration": 394,
    "start_time": "2023-09-18T19:19:52.760Z"
   },
   {
    "duration": 14,
    "start_time": "2023-09-18T19:19:53.156Z"
   },
   {
    "duration": 44,
    "start_time": "2023-09-18T19:19:53.172Z"
   },
   {
    "duration": 19,
    "start_time": "2023-09-18T19:19:53.218Z"
   },
   {
    "duration": 14,
    "start_time": "2023-09-18T19:19:53.240Z"
   },
   {
    "duration": 15,
    "start_time": "2023-09-18T19:19:53.256Z"
   },
   {
    "duration": 25,
    "start_time": "2023-09-18T19:19:53.272Z"
   },
   {
    "duration": 27,
    "start_time": "2023-09-18T19:19:53.300Z"
   },
   {
    "duration": 6,
    "start_time": "2023-09-18T19:19:53.330Z"
   },
   {
    "duration": 36,
    "start_time": "2023-09-18T19:19:53.337Z"
   },
   {
    "duration": 355,
    "start_time": "2023-09-18T19:19:53.375Z"
   },
   {
    "duration": 278,
    "start_time": "2023-09-18T19:19:53.732Z"
   },
   {
    "duration": 10,
    "start_time": "2023-09-18T19:19:54.013Z"
   },
   {
    "duration": 20,
    "start_time": "2023-09-18T19:19:54.025Z"
   },
   {
    "duration": 261,
    "start_time": "2023-09-18T19:19:54.047Z"
   },
   {
    "duration": 8,
    "start_time": "2023-09-18T19:19:54.310Z"
   },
   {
    "duration": 236,
    "start_time": "2023-09-18T19:19:54.319Z"
   },
   {
    "duration": 9,
    "start_time": "2023-09-18T19:19:54.557Z"
   },
   {
    "duration": 768,
    "start_time": "2023-09-18T19:19:54.567Z"
   },
   {
    "duration": 14,
    "start_time": "2023-09-18T19:19:55.337Z"
   },
   {
    "duration": 45,
    "start_time": "2023-09-18T19:19:55.353Z"
   },
   {
    "duration": 24,
    "start_time": "2023-09-18T19:19:55.401Z"
   },
   {
    "duration": 1228,
    "start_time": "2023-09-18T19:19:55.430Z"
   },
   {
    "duration": 12,
    "start_time": "2023-09-18T19:19:56.659Z"
   },
   {
    "duration": 26,
    "start_time": "2023-09-18T19:19:56.684Z"
   },
   {
    "duration": 350,
    "start_time": "2023-09-18T19:19:56.712Z"
   },
   {
    "duration": 4,
    "start_time": "2023-09-18T19:19:57.064Z"
   },
   {
    "duration": 863,
    "start_time": "2023-09-18T19:19:57.071Z"
   },
   {
    "duration": 11,
    "start_time": "2023-09-18T19:19:57.936Z"
   },
   {
    "duration": 15,
    "start_time": "2023-09-18T19:19:57.949Z"
   },
   {
    "duration": 25,
    "start_time": "2023-09-18T19:19:57.981Z"
   },
   {
    "duration": 9,
    "start_time": "2023-09-18T19:19:58.008Z"
   },
   {
    "duration": 6,
    "start_time": "2023-09-18T19:19:58.019Z"
   },
   {
    "duration": 12,
    "start_time": "2023-09-18T19:19:58.027Z"
   },
   {
    "duration": 3,
    "start_time": "2023-09-18T19:19:58.041Z"
   },
   {
    "duration": 50,
    "start_time": "2023-09-18T19:19:58.045Z"
   },
   {
    "duration": 22,
    "start_time": "2023-09-18T19:19:58.098Z"
   },
   {
    "duration": 2432,
    "start_time": "2023-09-18T19:19:58.121Z"
   },
   {
    "duration": 11,
    "start_time": "2023-09-18T19:20:00.556Z"
   },
   {
    "duration": 55,
    "start_time": "2023-09-18T19:20:00.569Z"
   },
   {
    "duration": 1075,
    "start_time": "2023-09-18T19:20:00.626Z"
   },
   {
    "duration": 21,
    "start_time": "2023-09-18T19:20:01.709Z"
   },
   {
    "duration": 414,
    "start_time": "2023-09-18T19:20:01.732Z"
   },
   {
    "duration": 7,
    "start_time": "2023-09-18T19:20:02.148Z"
   },
   {
    "duration": 206,
    "start_time": "2023-09-18T19:20:02.157Z"
   },
   {
    "duration": 0,
    "start_time": "2023-09-18T19:20:02.365Z"
   },
   {
    "duration": 0,
    "start_time": "2023-09-18T19:20:02.367Z"
   },
   {
    "duration": 0,
    "start_time": "2023-09-18T19:20:02.369Z"
   },
   {
    "duration": 0,
    "start_time": "2023-09-18T19:20:02.371Z"
   },
   {
    "duration": 0,
    "start_time": "2023-09-18T19:20:02.372Z"
   },
   {
    "duration": 0,
    "start_time": "2023-09-18T19:20:02.381Z"
   },
   {
    "duration": 7643,
    "start_time": "2023-09-18T19:20:21.956Z"
   },
   {
    "duration": 1559,
    "start_time": "2023-09-18T19:20:29.603Z"
   },
   {
    "duration": 4,
    "start_time": "2023-09-18T19:20:31.163Z"
   },
   {
    "duration": 57,
    "start_time": "2023-09-18T19:20:31.169Z"
   },
   {
    "duration": 88,
    "start_time": "2023-09-18T19:20:31.228Z"
   },
   {
    "duration": 454,
    "start_time": "2023-09-18T19:20:31.318Z"
   },
   {
    "duration": 21,
    "start_time": "2023-09-18T19:20:31.774Z"
   },
   {
    "duration": 45,
    "start_time": "2023-09-18T19:20:31.797Z"
   },
   {
    "duration": 28,
    "start_time": "2023-09-18T19:20:31.844Z"
   },
   {
    "duration": 49,
    "start_time": "2023-09-18T19:20:31.875Z"
   },
   {
    "duration": 30,
    "start_time": "2023-09-18T19:20:31.926Z"
   },
   {
    "duration": 45,
    "start_time": "2023-09-18T19:20:31.958Z"
   },
   {
    "duration": 68,
    "start_time": "2023-09-18T19:20:32.005Z"
   },
   {
    "duration": 34,
    "start_time": "2023-09-18T19:20:32.074Z"
   },
   {
    "duration": 42,
    "start_time": "2023-09-18T19:20:32.110Z"
   },
   {
    "duration": 369,
    "start_time": "2023-09-18T19:20:32.154Z"
   },
   {
    "duration": 282,
    "start_time": "2023-09-18T19:20:32.524Z"
   },
   {
    "duration": 8,
    "start_time": "2023-09-18T19:20:32.809Z"
   },
   {
    "duration": 7,
    "start_time": "2023-09-18T19:20:32.819Z"
   },
   {
    "duration": 245,
    "start_time": "2023-09-18T19:20:32.828Z"
   },
   {
    "duration": 23,
    "start_time": "2023-09-18T19:20:33.075Z"
   },
   {
    "duration": 229,
    "start_time": "2023-09-18T19:20:33.100Z"
   },
   {
    "duration": 8,
    "start_time": "2023-09-18T19:20:33.332Z"
   },
   {
    "duration": 703,
    "start_time": "2023-09-18T19:20:33.341Z"
   },
   {
    "duration": 13,
    "start_time": "2023-09-18T19:20:34.046Z"
   },
   {
    "duration": 164,
    "start_time": "2023-09-18T19:20:34.061Z"
   },
   {
    "duration": 13,
    "start_time": "2023-09-18T19:20:34.227Z"
   },
   {
    "duration": 1171,
    "start_time": "2023-09-18T19:20:34.244Z"
   },
   {
    "duration": 13,
    "start_time": "2023-09-18T19:20:35.417Z"
   },
   {
    "duration": 47,
    "start_time": "2023-09-18T19:20:35.432Z"
   },
   {
    "duration": 382,
    "start_time": "2023-09-18T19:20:35.481Z"
   },
   {
    "duration": 16,
    "start_time": "2023-09-18T19:20:35.865Z"
   },
   {
    "duration": 844,
    "start_time": "2023-09-18T19:20:35.883Z"
   },
   {
    "duration": 15,
    "start_time": "2023-09-18T19:20:36.729Z"
   },
   {
    "duration": 17,
    "start_time": "2023-09-18T19:20:36.746Z"
   },
   {
    "duration": 22,
    "start_time": "2023-09-18T19:20:36.784Z"
   },
   {
    "duration": 10,
    "start_time": "2023-09-18T19:20:36.808Z"
   },
   {
    "duration": 7,
    "start_time": "2023-09-18T19:20:36.821Z"
   },
   {
    "duration": 17,
    "start_time": "2023-09-18T19:20:36.829Z"
   },
   {
    "duration": 3,
    "start_time": "2023-09-18T19:20:36.848Z"
   },
   {
    "duration": 20,
    "start_time": "2023-09-18T19:20:36.887Z"
   },
   {
    "duration": 24,
    "start_time": "2023-09-18T19:20:36.909Z"
   },
   {
    "duration": 2416,
    "start_time": "2023-09-18T19:20:36.935Z"
   },
   {
    "duration": 10,
    "start_time": "2023-09-18T19:20:39.353Z"
   },
   {
    "duration": 19,
    "start_time": "2023-09-18T19:20:39.365Z"
   },
   {
    "duration": 979,
    "start_time": "2023-09-18T19:20:39.392Z"
   },
   {
    "duration": 14,
    "start_time": "2023-09-18T19:20:40.373Z"
   },
   {
    "duration": 125,
    "start_time": "2023-09-18T19:20:40.389Z"
   },
   {
    "duration": 7,
    "start_time": "2023-09-18T19:20:40.516Z"
   },
   {
    "duration": 161,
    "start_time": "2023-09-18T19:20:40.524Z"
   },
   {
    "duration": 0,
    "start_time": "2023-09-18T19:20:40.688Z"
   },
   {
    "duration": 0,
    "start_time": "2023-09-18T19:20:40.689Z"
   },
   {
    "duration": 0,
    "start_time": "2023-09-18T19:20:40.691Z"
   },
   {
    "duration": 0,
    "start_time": "2023-09-18T19:20:40.692Z"
   },
   {
    "duration": 0,
    "start_time": "2023-09-18T19:20:40.694Z"
   },
   {
    "duration": 0,
    "start_time": "2023-09-18T19:20:40.699Z"
   },
   {
    "duration": 48,
    "start_time": "2023-09-19T09:32:45.080Z"
   },
   {
    "duration": 6560,
    "start_time": "2023-09-19T09:32:52.225Z"
   },
   {
    "duration": 1952,
    "start_time": "2023-09-19T09:32:58.787Z"
   },
   {
    "duration": 3,
    "start_time": "2023-09-19T09:33:00.741Z"
   },
   {
    "duration": 69,
    "start_time": "2023-09-19T09:33:00.746Z"
   },
   {
    "duration": 76,
    "start_time": "2023-09-19T09:33:00.818Z"
   },
   {
    "duration": 357,
    "start_time": "2023-09-19T09:33:00.896Z"
   },
   {
    "duration": 16,
    "start_time": "2023-09-19T09:33:01.255Z"
   },
   {
    "duration": 110,
    "start_time": "2023-09-19T09:33:01.272Z"
   },
   {
    "duration": 62,
    "start_time": "2023-09-19T09:33:01.385Z"
   },
   {
    "duration": 44,
    "start_time": "2023-09-19T09:33:01.450Z"
   },
   {
    "duration": 32,
    "start_time": "2023-09-19T09:33:01.496Z"
   },
   {
    "duration": 32,
    "start_time": "2023-09-19T09:33:01.530Z"
   },
   {
    "duration": 43,
    "start_time": "2023-09-19T09:33:01.564Z"
   },
   {
    "duration": 41,
    "start_time": "2023-09-19T09:33:01.608Z"
   },
   {
    "duration": 47,
    "start_time": "2023-09-19T09:33:01.651Z"
   },
   {
    "duration": 247,
    "start_time": "2023-09-19T09:33:01.700Z"
   },
   {
    "duration": 251,
    "start_time": "2023-09-19T09:33:01.949Z"
   },
   {
    "duration": 9,
    "start_time": "2023-09-19T09:33:02.202Z"
   },
   {
    "duration": 59,
    "start_time": "2023-09-19T09:33:02.213Z"
   },
   {
    "duration": 297,
    "start_time": "2023-09-19T09:33:02.274Z"
   },
   {
    "duration": 9,
    "start_time": "2023-09-19T09:33:02.572Z"
   },
   {
    "duration": 288,
    "start_time": "2023-09-19T09:33:02.583Z"
   },
   {
    "duration": 8,
    "start_time": "2023-09-19T09:33:02.873Z"
   },
   {
    "duration": 702,
    "start_time": "2023-09-19T09:33:02.883Z"
   },
   {
    "duration": 13,
    "start_time": "2023-09-19T09:33:03.587Z"
   },
   {
    "duration": 32,
    "start_time": "2023-09-19T09:33:03.602Z"
   },
   {
    "duration": 28,
    "start_time": "2023-09-19T09:33:03.636Z"
   },
   {
    "duration": 1281,
    "start_time": "2023-09-19T09:33:03.668Z"
   },
   {
    "duration": 12,
    "start_time": "2023-09-19T09:33:04.951Z"
   },
   {
    "duration": 24,
    "start_time": "2023-09-19T09:33:04.964Z"
   },
   {
    "duration": 394,
    "start_time": "2023-09-19T09:33:04.990Z"
   },
   {
    "duration": 4,
    "start_time": "2023-09-19T09:33:05.386Z"
   },
   {
    "duration": 673,
    "start_time": "2023-09-19T09:33:05.391Z"
   },
   {
    "duration": 15,
    "start_time": "2023-09-19T09:33:06.066Z"
   },
   {
    "duration": 29,
    "start_time": "2023-09-19T09:33:06.083Z"
   },
   {
    "duration": 13,
    "start_time": "2023-09-19T09:33:06.114Z"
   },
   {
    "duration": 6,
    "start_time": "2023-09-19T09:33:06.129Z"
   },
   {
    "duration": 52,
    "start_time": "2023-09-19T09:33:06.137Z"
   },
   {
    "duration": 35,
    "start_time": "2023-09-19T09:33:06.191Z"
   },
   {
    "duration": 17,
    "start_time": "2023-09-19T09:33:06.228Z"
   },
   {
    "duration": 57,
    "start_time": "2023-09-19T09:33:06.246Z"
   },
   {
    "duration": 22,
    "start_time": "2023-09-19T09:33:06.305Z"
   },
   {
    "duration": 2310,
    "start_time": "2023-09-19T09:33:06.329Z"
   },
   {
    "duration": 10,
    "start_time": "2023-09-19T09:33:08.641Z"
   },
   {
    "duration": 14,
    "start_time": "2023-09-19T09:33:08.652Z"
   },
   {
    "duration": 950,
    "start_time": "2023-09-19T09:33:08.681Z"
   },
   {
    "duration": 9,
    "start_time": "2023-09-19T09:33:09.634Z"
   },
   {
    "duration": 126,
    "start_time": "2023-09-19T09:33:09.645Z"
   },
   {
    "duration": 12,
    "start_time": "2023-09-19T09:33:09.774Z"
   },
   {
    "duration": 167032,
    "start_time": "2023-09-19T09:33:09.788Z"
   },
   {
    "duration": 0,
    "start_time": "2023-09-19T09:35:56.822Z"
   },
   {
    "duration": 0,
    "start_time": "2023-09-19T09:35:56.823Z"
   },
   {
    "duration": 0,
    "start_time": "2023-09-19T09:35:56.825Z"
   },
   {
    "duration": 0,
    "start_time": "2023-09-19T09:35:56.826Z"
   },
   {
    "duration": 0,
    "start_time": "2023-09-19T09:35:56.827Z"
   },
   {
    "duration": 0,
    "start_time": "2023-09-19T09:35:56.828Z"
   },
   {
    "duration": 43,
    "start_time": "2023-09-19T09:43:12.465Z"
   },
   {
    "duration": 4865,
    "start_time": "2023-09-19T09:43:15.996Z"
   },
   {
    "duration": 6,
    "start_time": "2023-09-19T09:43:20.863Z"
   },
   {
    "duration": 34,
    "start_time": "2023-09-19T09:43:20.871Z"
   },
   {
    "duration": 18,
    "start_time": "2023-09-19T09:43:20.907Z"
   },
   {
    "duration": 49,
    "start_time": "2023-09-19T09:43:20.927Z"
   },
   {
    "duration": 299,
    "start_time": "2023-09-19T09:43:20.978Z"
   },
   {
    "duration": 15,
    "start_time": "2023-09-19T09:43:21.278Z"
   },
   {
    "duration": 15,
    "start_time": "2023-09-19T09:43:21.295Z"
   },
   {
    "duration": 17,
    "start_time": "2023-09-19T09:43:21.312Z"
   },
   {
    "duration": 14,
    "start_time": "2023-09-19T09:43:21.333Z"
   },
   {
    "duration": 35,
    "start_time": "2023-09-19T09:43:21.349Z"
   },
   {
    "duration": 9,
    "start_time": "2023-09-19T09:43:21.386Z"
   },
   {
    "duration": 26,
    "start_time": "2023-09-19T09:43:21.397Z"
   },
   {
    "duration": 12,
    "start_time": "2023-09-19T09:43:21.425Z"
   },
   {
    "duration": 18,
    "start_time": "2023-09-19T09:43:21.439Z"
   },
   {
    "duration": 236,
    "start_time": "2023-09-19T09:43:21.459Z"
   },
   {
    "duration": 246,
    "start_time": "2023-09-19T09:43:21.697Z"
   },
   {
    "duration": 9,
    "start_time": "2023-09-19T09:43:21.946Z"
   },
   {
    "duration": 23,
    "start_time": "2023-09-19T09:43:21.956Z"
   },
   {
    "duration": 205,
    "start_time": "2023-09-19T09:43:21.981Z"
   },
   {
    "duration": 7,
    "start_time": "2023-09-19T09:43:22.188Z"
   },
   {
    "duration": 221,
    "start_time": "2023-09-19T09:43:22.197Z"
   },
   {
    "duration": 8,
    "start_time": "2023-09-19T09:43:22.420Z"
   },
   {
    "duration": 756,
    "start_time": "2023-09-19T09:43:22.430Z"
   },
   {
    "duration": 12,
    "start_time": "2023-09-19T09:43:23.187Z"
   },
   {
    "duration": 63,
    "start_time": "2023-09-19T09:43:23.201Z"
   },
   {
    "duration": 93,
    "start_time": "2023-09-19T09:43:23.266Z"
   },
   {
    "duration": 1054,
    "start_time": "2023-09-19T09:43:23.362Z"
   },
   {
    "duration": 14,
    "start_time": "2023-09-19T09:43:24.418Z"
   },
   {
    "duration": 14,
    "start_time": "2023-09-19T09:43:24.434Z"
   },
   {
    "duration": 292,
    "start_time": "2023-09-19T09:43:24.450Z"
   },
   {
    "duration": 5,
    "start_time": "2023-09-19T09:43:24.743Z"
   },
   {
    "duration": 622,
    "start_time": "2023-09-19T09:43:24.749Z"
   },
   {
    "duration": 16,
    "start_time": "2023-09-19T09:43:25.373Z"
   },
   {
    "duration": 63,
    "start_time": "2023-09-19T09:43:25.390Z"
   },
   {
    "duration": 18,
    "start_time": "2023-09-19T09:43:25.454Z"
   },
   {
    "duration": 5,
    "start_time": "2023-09-19T09:43:25.474Z"
   },
   {
    "duration": 18,
    "start_time": "2023-09-19T09:43:25.481Z"
   },
   {
    "duration": 23,
    "start_time": "2023-09-19T09:43:25.500Z"
   },
   {
    "duration": 22,
    "start_time": "2023-09-19T09:43:25.525Z"
   },
   {
    "duration": 46,
    "start_time": "2023-09-19T09:43:25.549Z"
   },
   {
    "duration": 32,
    "start_time": "2023-09-19T09:43:25.597Z"
   },
   {
    "duration": 2276,
    "start_time": "2023-09-19T09:43:25.631Z"
   },
   {
    "duration": 10,
    "start_time": "2023-09-19T09:43:27.908Z"
   },
   {
    "duration": 29,
    "start_time": "2023-09-19T09:43:27.920Z"
   },
   {
    "duration": 896,
    "start_time": "2023-09-19T09:43:27.951Z"
   },
   {
    "duration": 9,
    "start_time": "2023-09-19T09:43:28.849Z"
   },
   {
    "duration": 127,
    "start_time": "2023-09-19T09:43:28.859Z"
   },
   {
    "duration": 8,
    "start_time": "2023-09-19T09:43:28.989Z"
   },
   {
    "duration": 366690,
    "start_time": "2023-09-19T09:43:28.999Z"
   },
   {
    "duration": 94,
    "start_time": "2023-09-19T09:49:35.691Z"
   },
   {
    "duration": 197,
    "start_time": "2023-09-19T09:49:35.787Z"
   },
   {
    "duration": 8,
    "start_time": "2023-09-19T09:49:35.986Z"
   },
   {
    "duration": 177,
    "start_time": "2023-09-19T09:49:35.996Z"
   },
   {
    "duration": 330,
    "start_time": "2023-09-19T09:49:36.174Z"
   },
   {
    "duration": 383,
    "start_time": "2023-09-19T09:49:36.506Z"
   },
   {
    "duration": 4734,
    "start_time": "2023-09-19T09:54:08.324Z"
   },
   {
    "duration": 6,
    "start_time": "2023-09-19T09:54:13.062Z"
   },
   {
    "duration": 52,
    "start_time": "2023-09-19T09:54:13.070Z"
   },
   {
    "duration": 7,
    "start_time": "2023-09-19T09:54:13.125Z"
   },
   {
    "duration": 58,
    "start_time": "2023-09-19T09:54:13.134Z"
   },
   {
    "duration": 276,
    "start_time": "2023-09-19T09:54:13.194Z"
   },
   {
    "duration": 14,
    "start_time": "2023-09-19T09:54:13.472Z"
   },
   {
    "duration": 24,
    "start_time": "2023-09-19T09:54:13.488Z"
   },
   {
    "duration": 21,
    "start_time": "2023-09-19T09:54:13.513Z"
   },
   {
    "duration": 14,
    "start_time": "2023-09-19T09:54:13.537Z"
   },
   {
    "duration": 69,
    "start_time": "2023-09-19T09:54:13.552Z"
   },
   {
    "duration": 8,
    "start_time": "2023-09-19T09:54:13.622Z"
   },
   {
    "duration": 14,
    "start_time": "2023-09-19T09:54:13.632Z"
   },
   {
    "duration": 6,
    "start_time": "2023-09-19T09:54:13.648Z"
   },
   {
    "duration": 22,
    "start_time": "2023-09-19T09:54:13.655Z"
   },
   {
    "duration": 214,
    "start_time": "2023-09-19T09:54:13.679Z"
   },
   {
    "duration": 242,
    "start_time": "2023-09-19T09:54:13.895Z"
   },
   {
    "duration": 9,
    "start_time": "2023-09-19T09:54:14.139Z"
   },
   {
    "duration": 9,
    "start_time": "2023-09-19T09:54:14.150Z"
   },
   {
    "duration": 236,
    "start_time": "2023-09-19T09:54:14.161Z"
   },
   {
    "duration": 7,
    "start_time": "2023-09-19T09:54:14.399Z"
   },
   {
    "duration": 222,
    "start_time": "2023-09-19T09:54:14.407Z"
   },
   {
    "duration": 8,
    "start_time": "2023-09-19T09:54:14.631Z"
   },
   {
    "duration": 666,
    "start_time": "2023-09-19T09:54:14.640Z"
   },
   {
    "duration": 13,
    "start_time": "2023-09-19T09:54:15.309Z"
   },
   {
    "duration": 16,
    "start_time": "2023-09-19T09:54:15.323Z"
   },
   {
    "duration": 11,
    "start_time": "2023-09-19T09:54:15.341Z"
   },
   {
    "duration": 1216,
    "start_time": "2023-09-19T09:54:15.356Z"
   },
   {
    "duration": 16,
    "start_time": "2023-09-19T09:54:16.573Z"
   },
   {
    "duration": 11,
    "start_time": "2023-09-19T09:54:16.591Z"
   },
   {
    "duration": 323,
    "start_time": "2023-09-19T09:54:16.603Z"
   },
   {
    "duration": 5,
    "start_time": "2023-09-19T09:54:16.927Z"
   },
   {
    "duration": 701,
    "start_time": "2023-09-19T09:54:16.934Z"
   },
   {
    "duration": 15,
    "start_time": "2023-09-19T09:54:17.637Z"
   },
   {
    "duration": 36,
    "start_time": "2023-09-19T09:54:17.654Z"
   },
   {
    "duration": 13,
    "start_time": "2023-09-19T09:54:17.691Z"
   },
   {
    "duration": 5,
    "start_time": "2023-09-19T09:54:17.706Z"
   },
   {
    "duration": 13,
    "start_time": "2023-09-19T09:54:17.712Z"
   },
   {
    "duration": 14,
    "start_time": "2023-09-19T09:54:17.727Z"
   },
   {
    "duration": 3,
    "start_time": "2023-09-19T09:54:17.742Z"
   },
   {
    "duration": 14,
    "start_time": "2023-09-19T09:54:17.746Z"
   },
   {
    "duration": 27,
    "start_time": "2023-09-19T09:54:17.761Z"
   },
   {
    "duration": 2250,
    "start_time": "2023-09-19T09:54:17.790Z"
   },
   {
    "duration": 13,
    "start_time": "2023-09-19T09:54:20.042Z"
   },
   {
    "duration": 44,
    "start_time": "2023-09-19T09:54:20.057Z"
   },
   {
    "duration": 982,
    "start_time": "2023-09-19T09:54:20.103Z"
   },
   {
    "duration": 9,
    "start_time": "2023-09-19T09:54:21.087Z"
   },
   {
    "duration": 153,
    "start_time": "2023-09-19T09:54:21.097Z"
   },
   {
    "duration": 7,
    "start_time": "2023-09-19T09:54:21.252Z"
   },
   {
    "duration": 155947,
    "start_time": "2023-09-19T09:54:21.261Z"
   },
   {
    "duration": 0,
    "start_time": "2023-09-19T09:56:57.210Z"
   },
   {
    "duration": 0,
    "start_time": "2023-09-19T09:56:57.211Z"
   },
   {
    "duration": 0,
    "start_time": "2023-09-19T09:56:57.212Z"
   },
   {
    "duration": 0,
    "start_time": "2023-09-19T09:56:57.213Z"
   },
   {
    "duration": 0,
    "start_time": "2023-09-19T09:56:57.215Z"
   },
   {
    "duration": 0,
    "start_time": "2023-09-19T09:56:57.216Z"
   },
   {
    "duration": 4625,
    "start_time": "2023-09-19T10:05:29.665Z"
   },
   {
    "duration": 6,
    "start_time": "2023-09-19T10:05:34.293Z"
   },
   {
    "duration": 84,
    "start_time": "2023-09-19T10:05:34.301Z"
   },
   {
    "duration": 15,
    "start_time": "2023-09-19T10:05:34.387Z"
   },
   {
    "duration": 44,
    "start_time": "2023-09-19T10:05:34.405Z"
   },
   {
    "duration": 363,
    "start_time": "2023-09-19T10:05:34.451Z"
   },
   {
    "duration": 14,
    "start_time": "2023-09-19T10:05:34.816Z"
   },
   {
    "duration": 21,
    "start_time": "2023-09-19T10:05:34.832Z"
   },
   {
    "duration": 20,
    "start_time": "2023-09-19T10:05:34.854Z"
   },
   {
    "duration": 18,
    "start_time": "2023-09-19T10:05:34.876Z"
   },
   {
    "duration": 8,
    "start_time": "2023-09-19T10:05:34.896Z"
   },
   {
    "duration": 11,
    "start_time": "2023-09-19T10:05:34.906Z"
   },
   {
    "duration": 16,
    "start_time": "2023-09-19T10:05:34.918Z"
   },
   {
    "duration": 14,
    "start_time": "2023-09-19T10:05:34.937Z"
   },
   {
    "duration": 24,
    "start_time": "2023-09-19T10:05:34.953Z"
   },
   {
    "duration": 249,
    "start_time": "2023-09-19T10:05:34.981Z"
   },
   {
    "duration": 276,
    "start_time": "2023-09-19T10:05:35.232Z"
   },
   {
    "duration": 10,
    "start_time": "2023-09-19T10:05:35.510Z"
   },
   {
    "duration": 47,
    "start_time": "2023-09-19T10:05:35.522Z"
   },
   {
    "duration": 247,
    "start_time": "2023-09-19T10:05:35.570Z"
   },
   {
    "duration": 7,
    "start_time": "2023-09-19T10:05:35.818Z"
   },
   {
    "duration": 219,
    "start_time": "2023-09-19T10:05:35.827Z"
   },
   {
    "duration": 7,
    "start_time": "2023-09-19T10:05:36.047Z"
   },
   {
    "duration": 887,
    "start_time": "2023-09-19T10:05:36.056Z"
   },
   {
    "duration": 13,
    "start_time": "2023-09-19T10:05:36.944Z"
   },
   {
    "duration": 36,
    "start_time": "2023-09-19T10:05:36.958Z"
   },
   {
    "duration": 17,
    "start_time": "2023-09-19T10:05:36.996Z"
   },
   {
    "duration": 1117,
    "start_time": "2023-09-19T10:05:37.015Z"
   },
   {
    "duration": 12,
    "start_time": "2023-09-19T10:05:38.134Z"
   },
   {
    "duration": 69,
    "start_time": "2023-09-19T10:05:38.147Z"
   },
   {
    "duration": 313,
    "start_time": "2023-09-19T10:05:38.217Z"
   },
   {
    "duration": 4,
    "start_time": "2023-09-19T10:05:38.532Z"
   },
   {
    "duration": 660,
    "start_time": "2023-09-19T10:05:38.538Z"
   },
   {
    "duration": 9,
    "start_time": "2023-09-19T10:05:39.200Z"
   },
   {
    "duration": 15,
    "start_time": "2023-09-19T10:05:39.211Z"
   },
   {
    "duration": 14,
    "start_time": "2023-09-19T10:05:39.228Z"
   },
   {
    "duration": 37,
    "start_time": "2023-09-19T10:05:39.244Z"
   },
   {
    "duration": 6,
    "start_time": "2023-09-19T10:05:39.284Z"
   },
   {
    "duration": 15,
    "start_time": "2023-09-19T10:05:39.292Z"
   },
   {
    "duration": 4,
    "start_time": "2023-09-19T10:05:39.309Z"
   },
   {
    "duration": 10,
    "start_time": "2023-09-19T10:05:39.318Z"
   },
   {
    "duration": 14,
    "start_time": "2023-09-19T10:05:39.329Z"
   },
   {
    "duration": 2221,
    "start_time": "2023-09-19T10:05:39.380Z"
   },
   {
    "duration": 11,
    "start_time": "2023-09-19T10:05:41.603Z"
   },
   {
    "duration": 5,
    "start_time": "2023-09-19T10:05:41.615Z"
   },
   {
    "duration": 854,
    "start_time": "2023-09-19T10:05:41.622Z"
   },
   {
    "duration": 9,
    "start_time": "2023-09-19T10:05:42.478Z"
   },
   {
    "duration": 126,
    "start_time": "2023-09-19T10:05:42.489Z"
   },
   {
    "duration": 7,
    "start_time": "2023-09-19T10:05:42.617Z"
   },
   {
    "duration": 909661,
    "start_time": "2023-09-19T10:05:42.626Z"
   },
   {
    "duration": 10,
    "start_time": "2023-09-19T10:20:52.289Z"
   },
   {
    "duration": 183,
    "start_time": "2023-09-19T10:20:52.300Z"
   },
   {
    "duration": 7,
    "start_time": "2023-09-19T10:20:52.485Z"
   },
   {
    "duration": 165,
    "start_time": "2023-09-19T10:20:52.493Z"
   },
   {
    "duration": 330,
    "start_time": "2023-09-19T10:20:52.660Z"
   },
   {
    "duration": 239,
    "start_time": "2023-09-19T10:20:52.992Z"
   },
   {
    "duration": 4988,
    "start_time": "2023-09-19T14:02:15.352Z"
   },
   {
    "duration": 6,
    "start_time": "2023-09-19T14:02:20.343Z"
   },
   {
    "duration": 58,
    "start_time": "2023-09-19T14:02:20.351Z"
   },
   {
    "duration": 32,
    "start_time": "2023-09-19T14:02:20.412Z"
   },
   {
    "duration": 172,
    "start_time": "2023-09-19T14:02:20.445Z"
   },
   {
    "duration": 432,
    "start_time": "2023-09-19T14:02:20.619Z"
   },
   {
    "duration": 13,
    "start_time": "2023-09-19T14:02:21.053Z"
   },
   {
    "duration": 37,
    "start_time": "2023-09-19T14:02:21.068Z"
   },
   {
    "duration": 45,
    "start_time": "2023-09-19T14:02:21.107Z"
   },
   {
    "duration": 37,
    "start_time": "2023-09-19T14:02:21.155Z"
   },
   {
    "duration": 25,
    "start_time": "2023-09-19T14:02:21.194Z"
   },
   {
    "duration": 19,
    "start_time": "2023-09-19T14:02:21.221Z"
   },
   {
    "duration": 36,
    "start_time": "2023-09-19T14:02:21.242Z"
   },
   {
    "duration": 39,
    "start_time": "2023-09-19T14:02:21.280Z"
   },
   {
    "duration": 31,
    "start_time": "2023-09-19T14:02:21.321Z"
   },
   {
    "duration": 216,
    "start_time": "2023-09-19T14:02:21.354Z"
   },
   {
    "duration": 231,
    "start_time": "2023-09-19T14:02:21.572Z"
   },
   {
    "duration": 8,
    "start_time": "2023-09-19T14:02:21.805Z"
   },
   {
    "duration": 24,
    "start_time": "2023-09-19T14:02:21.815Z"
   },
   {
    "duration": 221,
    "start_time": "2023-09-19T14:02:21.841Z"
   },
   {
    "duration": 7,
    "start_time": "2023-09-19T14:02:22.064Z"
   },
   {
    "duration": 217,
    "start_time": "2023-09-19T14:02:22.072Z"
   },
   {
    "duration": 7,
    "start_time": "2023-09-19T14:02:22.291Z"
   },
   {
    "duration": 681,
    "start_time": "2023-09-19T14:02:22.300Z"
   },
   {
    "duration": 12,
    "start_time": "2023-09-19T14:02:22.983Z"
   },
   {
    "duration": 19,
    "start_time": "2023-09-19T14:02:22.997Z"
   },
   {
    "duration": 27,
    "start_time": "2023-09-19T14:02:23.017Z"
   },
   {
    "duration": 1048,
    "start_time": "2023-09-19T14:02:23.048Z"
   },
   {
    "duration": 12,
    "start_time": "2023-09-19T14:02:24.099Z"
   },
   {
    "duration": 10,
    "start_time": "2023-09-19T14:02:24.113Z"
   },
   {
    "duration": 411,
    "start_time": "2023-09-19T14:02:24.125Z"
   },
   {
    "duration": 4,
    "start_time": "2023-09-19T14:02:24.538Z"
   },
   {
    "duration": 659,
    "start_time": "2023-09-19T14:02:24.544Z"
   },
   {
    "duration": 11,
    "start_time": "2023-09-19T14:02:25.205Z"
   },
   {
    "duration": 20,
    "start_time": "2023-09-19T14:02:25.218Z"
   },
   {
    "duration": 30,
    "start_time": "2023-09-19T14:02:25.240Z"
   },
   {
    "duration": 13,
    "start_time": "2023-09-19T14:02:25.272Z"
   },
   {
    "duration": 52,
    "start_time": "2023-09-19T14:02:25.287Z"
   },
   {
    "duration": 18,
    "start_time": "2023-09-19T14:02:25.341Z"
   },
   {
    "duration": 10,
    "start_time": "2023-09-19T14:02:25.361Z"
   },
   {
    "duration": 29,
    "start_time": "2023-09-19T14:02:25.373Z"
   },
   {
    "duration": 25,
    "start_time": "2023-09-19T14:02:25.404Z"
   },
   {
    "duration": 2179,
    "start_time": "2023-09-19T14:02:25.431Z"
   },
   {
    "duration": 11,
    "start_time": "2023-09-19T14:02:27.612Z"
   },
   {
    "duration": 59,
    "start_time": "2023-09-19T14:02:27.624Z"
   },
   {
    "duration": 885,
    "start_time": "2023-09-19T14:02:27.685Z"
   },
   {
    "duration": 10,
    "start_time": "2023-09-19T14:02:28.572Z"
   },
   {
    "duration": 122,
    "start_time": "2023-09-19T14:02:28.583Z"
   },
   {
    "duration": 7,
    "start_time": "2023-09-19T14:02:28.706Z"
   },
   {
    "duration": 152940,
    "start_time": "2023-09-19T14:02:28.714Z"
   },
   {
    "duration": 0,
    "start_time": "2023-09-19T14:05:01.656Z"
   },
   {
    "duration": 0,
    "start_time": "2023-09-19T14:05:01.658Z"
   },
   {
    "duration": 0,
    "start_time": "2023-09-19T14:05:01.660Z"
   },
   {
    "duration": 0,
    "start_time": "2023-09-19T14:05:01.661Z"
   },
   {
    "duration": 0,
    "start_time": "2023-09-19T14:05:01.662Z"
   },
   {
    "duration": 0,
    "start_time": "2023-09-19T14:05:01.664Z"
   },
   {
    "duration": 7053,
    "start_time": "2023-09-19T14:08:29.201Z"
   },
   {
    "duration": 8,
    "start_time": "2023-09-19T14:08:36.257Z"
   },
   {
    "duration": 46,
    "start_time": "2023-09-19T14:08:36.267Z"
   },
   {
    "duration": 26,
    "start_time": "2023-09-19T14:08:36.315Z"
   },
   {
    "duration": 45,
    "start_time": "2023-09-19T14:08:36.344Z"
   },
   {
    "duration": 282,
    "start_time": "2023-09-19T14:08:36.390Z"
   },
   {
    "duration": 14,
    "start_time": "2023-09-19T14:08:36.674Z"
   },
   {
    "duration": 17,
    "start_time": "2023-09-19T14:08:36.690Z"
   },
   {
    "duration": 29,
    "start_time": "2023-09-19T14:08:36.710Z"
   },
   {
    "duration": 13,
    "start_time": "2023-09-19T14:08:36.741Z"
   },
   {
    "duration": 17,
    "start_time": "2023-09-19T14:08:36.755Z"
   },
   {
    "duration": 17,
    "start_time": "2023-09-19T14:08:36.773Z"
   },
   {
    "duration": 23,
    "start_time": "2023-09-19T14:08:36.792Z"
   },
   {
    "duration": 13,
    "start_time": "2023-09-19T14:08:36.816Z"
   },
   {
    "duration": 31,
    "start_time": "2023-09-19T14:08:36.831Z"
   },
   {
    "duration": 272,
    "start_time": "2023-09-19T14:08:36.865Z"
   },
   {
    "duration": 258,
    "start_time": "2023-09-19T14:08:37.139Z"
   },
   {
    "duration": 9,
    "start_time": "2023-09-19T14:08:37.398Z"
   },
   {
    "duration": 18,
    "start_time": "2023-09-19T14:08:37.408Z"
   },
   {
    "duration": 219,
    "start_time": "2023-09-19T14:08:37.428Z"
   },
   {
    "duration": 7,
    "start_time": "2023-09-19T14:08:37.649Z"
   },
   {
    "duration": 244,
    "start_time": "2023-09-19T14:08:37.657Z"
   },
   {
    "duration": 8,
    "start_time": "2023-09-19T14:08:37.903Z"
   },
   {
    "duration": 762,
    "start_time": "2023-09-19T14:08:37.913Z"
   },
   {
    "duration": 13,
    "start_time": "2023-09-19T14:08:38.677Z"
   },
   {
    "duration": 21,
    "start_time": "2023-09-19T14:08:38.691Z"
   },
   {
    "duration": 25,
    "start_time": "2023-09-19T14:08:38.716Z"
   },
   {
    "duration": 1007,
    "start_time": "2023-09-19T14:08:38.742Z"
   },
   {
    "duration": 13,
    "start_time": "2023-09-19T14:08:39.751Z"
   },
   {
    "duration": 32,
    "start_time": "2023-09-19T14:08:39.766Z"
   },
   {
    "duration": 319,
    "start_time": "2023-09-19T14:08:39.800Z"
   },
   {
    "duration": 6,
    "start_time": "2023-09-19T14:08:40.121Z"
   },
   {
    "duration": 655,
    "start_time": "2023-09-19T14:08:40.128Z"
   },
   {
    "duration": 11,
    "start_time": "2023-09-19T14:08:40.785Z"
   },
   {
    "duration": 15,
    "start_time": "2023-09-19T14:08:40.798Z"
   },
   {
    "duration": 31,
    "start_time": "2023-09-19T14:08:40.815Z"
   },
   {
    "duration": 6,
    "start_time": "2023-09-19T14:08:40.847Z"
   },
   {
    "duration": 6,
    "start_time": "2023-09-19T14:08:40.854Z"
   },
   {
    "duration": 28,
    "start_time": "2023-09-19T14:08:40.861Z"
   },
   {
    "duration": 10,
    "start_time": "2023-09-19T14:08:40.890Z"
   },
   {
    "duration": 25,
    "start_time": "2023-09-19T14:08:40.901Z"
   },
   {
    "duration": 37,
    "start_time": "2023-09-19T14:08:40.928Z"
   },
   {
    "duration": 2077,
    "start_time": "2023-09-19T14:08:40.967Z"
   },
   {
    "duration": 11,
    "start_time": "2023-09-19T14:08:43.046Z"
   },
   {
    "duration": 23,
    "start_time": "2023-09-19T14:08:43.059Z"
   },
   {
    "duration": 997,
    "start_time": "2023-09-19T14:08:43.084Z"
   },
   {
    "duration": 8,
    "start_time": "2023-09-19T14:08:44.083Z"
   },
   {
    "duration": 122,
    "start_time": "2023-09-19T14:08:44.093Z"
   },
   {
    "duration": 6,
    "start_time": "2023-09-19T14:08:44.217Z"
   },
   {
    "duration": 160618,
    "start_time": "2023-09-19T14:08:44.225Z"
   },
   {
    "duration": 0,
    "start_time": "2023-09-19T14:11:24.844Z"
   },
   {
    "duration": 0,
    "start_time": "2023-09-19T14:11:24.845Z"
   },
   {
    "duration": 0,
    "start_time": "2023-09-19T14:11:24.847Z"
   },
   {
    "duration": 0,
    "start_time": "2023-09-19T14:11:24.847Z"
   },
   {
    "duration": 0,
    "start_time": "2023-09-19T14:11:24.849Z"
   },
   {
    "duration": 0,
    "start_time": "2023-09-19T14:11:24.850Z"
   },
   {
    "duration": 7726,
    "start_time": "2023-09-19T14:16:11.568Z"
   },
   {
    "duration": 22831,
    "start_time": "2023-09-19T14:21:25.310Z"
   },
   {
    "duration": 2842,
    "start_time": "2023-09-19T14:22:57.409Z"
   },
   {
    "duration": 7659,
    "start_time": "2023-09-19T14:24:12.205Z"
   },
   {
    "duration": 7561,
    "start_time": "2023-09-19T14:28:03.476Z"
   },
   {
    "duration": 6,
    "start_time": "2023-09-19T14:28:11.040Z"
   },
   {
    "duration": 21,
    "start_time": "2023-09-19T14:28:11.047Z"
   },
   {
    "duration": 30,
    "start_time": "2023-09-19T14:28:11.071Z"
   },
   {
    "duration": 223,
    "start_time": "2023-09-19T14:28:11.103Z"
   },
   {
    "duration": 0,
    "start_time": "2023-09-19T14:28:11.329Z"
   },
   {
    "duration": 0,
    "start_time": "2023-09-19T14:28:11.330Z"
   },
   {
    "duration": 0,
    "start_time": "2023-09-19T14:28:11.331Z"
   },
   {
    "duration": 0,
    "start_time": "2023-09-19T14:28:11.333Z"
   },
   {
    "duration": 0,
    "start_time": "2023-09-19T14:28:11.334Z"
   },
   {
    "duration": 0,
    "start_time": "2023-09-19T14:28:11.335Z"
   },
   {
    "duration": 0,
    "start_time": "2023-09-19T14:28:11.336Z"
   },
   {
    "duration": 0,
    "start_time": "2023-09-19T14:28:11.338Z"
   },
   {
    "duration": 0,
    "start_time": "2023-09-19T14:28:11.339Z"
   },
   {
    "duration": 0,
    "start_time": "2023-09-19T14:28:11.340Z"
   },
   {
    "duration": 0,
    "start_time": "2023-09-19T14:28:11.341Z"
   },
   {
    "duration": 0,
    "start_time": "2023-09-19T14:28:11.342Z"
   },
   {
    "duration": 0,
    "start_time": "2023-09-19T14:28:11.343Z"
   },
   {
    "duration": 0,
    "start_time": "2023-09-19T14:28:11.344Z"
   },
   {
    "duration": 0,
    "start_time": "2023-09-19T14:28:11.345Z"
   },
   {
    "duration": 0,
    "start_time": "2023-09-19T14:28:11.346Z"
   },
   {
    "duration": 0,
    "start_time": "2023-09-19T14:28:11.348Z"
   },
   {
    "duration": 0,
    "start_time": "2023-09-19T14:28:11.349Z"
   },
   {
    "duration": 0,
    "start_time": "2023-09-19T14:28:11.350Z"
   },
   {
    "duration": 0,
    "start_time": "2023-09-19T14:28:11.351Z"
   },
   {
    "duration": 0,
    "start_time": "2023-09-19T14:28:11.352Z"
   },
   {
    "duration": 0,
    "start_time": "2023-09-19T14:28:11.353Z"
   },
   {
    "duration": 0,
    "start_time": "2023-09-19T14:28:11.354Z"
   },
   {
    "duration": 0,
    "start_time": "2023-09-19T14:28:11.355Z"
   },
   {
    "duration": 0,
    "start_time": "2023-09-19T14:28:11.356Z"
   },
   {
    "duration": 0,
    "start_time": "2023-09-19T14:28:11.357Z"
   },
   {
    "duration": 0,
    "start_time": "2023-09-19T14:28:11.358Z"
   },
   {
    "duration": 0,
    "start_time": "2023-09-19T14:28:11.359Z"
   },
   {
    "duration": 0,
    "start_time": "2023-09-19T14:28:11.360Z"
   },
   {
    "duration": 0,
    "start_time": "2023-09-19T14:28:11.361Z"
   },
   {
    "duration": 0,
    "start_time": "2023-09-19T14:28:11.362Z"
   },
   {
    "duration": 0,
    "start_time": "2023-09-19T14:28:11.381Z"
   },
   {
    "duration": 0,
    "start_time": "2023-09-19T14:28:11.382Z"
   },
   {
    "duration": 0,
    "start_time": "2023-09-19T14:28:11.383Z"
   },
   {
    "duration": 0,
    "start_time": "2023-09-19T14:28:11.384Z"
   },
   {
    "duration": 0,
    "start_time": "2023-09-19T14:28:11.385Z"
   },
   {
    "duration": 0,
    "start_time": "2023-09-19T14:28:11.386Z"
   },
   {
    "duration": 0,
    "start_time": "2023-09-19T14:28:11.387Z"
   },
   {
    "duration": 0,
    "start_time": "2023-09-19T14:28:11.389Z"
   },
   {
    "duration": 0,
    "start_time": "2023-09-19T14:28:11.390Z"
   },
   {
    "duration": 0,
    "start_time": "2023-09-19T14:28:11.390Z"
   },
   {
    "duration": 0,
    "start_time": "2023-09-19T14:28:11.392Z"
   },
   {
    "duration": 0,
    "start_time": "2023-09-19T14:28:11.393Z"
   },
   {
    "duration": 0,
    "start_time": "2023-09-19T14:28:11.394Z"
   },
   {
    "duration": 0,
    "start_time": "2023-09-19T14:28:11.395Z"
   },
   {
    "duration": 0,
    "start_time": "2023-09-19T14:28:11.396Z"
   },
   {
    "duration": 0,
    "start_time": "2023-09-19T14:28:11.398Z"
   },
   {
    "duration": 0,
    "start_time": "2023-09-19T14:28:11.399Z"
   },
   {
    "duration": 0,
    "start_time": "2023-09-19T14:28:11.400Z"
   },
   {
    "duration": 0,
    "start_time": "2023-09-19T14:28:11.401Z"
   },
   {
    "duration": 0,
    "start_time": "2023-09-19T14:28:11.402Z"
   },
   {
    "duration": 7408,
    "start_time": "2023-09-19T14:35:20.375Z"
   },
   {
    "duration": 6,
    "start_time": "2023-09-19T14:35:27.785Z"
   },
   {
    "duration": 23,
    "start_time": "2023-09-19T14:35:27.793Z"
   },
   {
    "duration": 10,
    "start_time": "2023-09-19T14:35:27.818Z"
   },
   {
    "duration": 45,
    "start_time": "2023-09-19T14:35:27.830Z"
   },
   {
    "duration": 350,
    "start_time": "2023-09-19T14:35:27.877Z"
   },
   {
    "duration": 16,
    "start_time": "2023-09-19T14:35:28.229Z"
   },
   {
    "duration": 39,
    "start_time": "2023-09-19T14:35:28.247Z"
   },
   {
    "duration": 95,
    "start_time": "2023-09-19T14:35:28.288Z"
   },
   {
    "duration": 46,
    "start_time": "2023-09-19T14:35:28.386Z"
   },
   {
    "duration": 97,
    "start_time": "2023-09-19T14:35:28.434Z"
   },
   {
    "duration": 41,
    "start_time": "2023-09-19T14:35:28.533Z"
   },
   {
    "duration": 52,
    "start_time": "2023-09-19T14:35:28.576Z"
   },
   {
    "duration": 27,
    "start_time": "2023-09-19T14:35:28.630Z"
   },
   {
    "duration": 30,
    "start_time": "2023-09-19T14:35:28.659Z"
   },
   {
    "duration": 229,
    "start_time": "2023-09-19T14:35:28.691Z"
   },
   {
    "duration": 240,
    "start_time": "2023-09-19T14:35:28.922Z"
   },
   {
    "duration": 18,
    "start_time": "2023-09-19T14:35:29.163Z"
   },
   {
    "duration": 8,
    "start_time": "2023-09-19T14:35:29.183Z"
   },
   {
    "duration": 328,
    "start_time": "2023-09-19T14:35:29.193Z"
   },
   {
    "duration": 7,
    "start_time": "2023-09-19T14:35:29.522Z"
   },
   {
    "duration": 227,
    "start_time": "2023-09-19T14:35:29.531Z"
   },
   {
    "duration": 7,
    "start_time": "2023-09-19T14:35:29.760Z"
   },
   {
    "duration": 696,
    "start_time": "2023-09-19T14:35:29.768Z"
   },
   {
    "duration": 18,
    "start_time": "2023-09-19T14:35:30.466Z"
   },
   {
    "duration": 61,
    "start_time": "2023-09-19T14:35:30.485Z"
   },
   {
    "duration": 132,
    "start_time": "2023-09-19T14:35:30.548Z"
   },
   {
    "duration": 1076,
    "start_time": "2023-09-19T14:35:30.685Z"
   },
   {
    "duration": 22,
    "start_time": "2023-09-19T14:35:31.763Z"
   },
   {
    "duration": 40,
    "start_time": "2023-09-19T14:35:31.787Z"
   },
   {
    "duration": 305,
    "start_time": "2023-09-19T14:35:31.829Z"
   },
   {
    "duration": 5,
    "start_time": "2023-09-19T14:35:32.136Z"
   },
   {
    "duration": 816,
    "start_time": "2023-09-19T14:35:32.143Z"
   },
   {
    "duration": 19,
    "start_time": "2023-09-19T14:35:32.961Z"
   },
   {
    "duration": 37,
    "start_time": "2023-09-19T14:35:32.982Z"
   },
   {
    "duration": 12,
    "start_time": "2023-09-19T14:35:33.021Z"
   },
   {
    "duration": 40,
    "start_time": "2023-09-19T14:35:33.035Z"
   },
   {
    "duration": 45,
    "start_time": "2023-09-19T14:35:33.076Z"
   },
   {
    "duration": 24,
    "start_time": "2023-09-19T14:35:33.122Z"
   },
   {
    "duration": 12,
    "start_time": "2023-09-19T14:35:33.147Z"
   },
   {
    "duration": 30,
    "start_time": "2023-09-19T14:35:33.161Z"
   },
   {
    "duration": 39,
    "start_time": "2023-09-19T14:35:33.193Z"
   },
   {
    "duration": 2228,
    "start_time": "2023-09-19T14:35:33.233Z"
   },
   {
    "duration": 19,
    "start_time": "2023-09-19T14:35:35.463Z"
   },
   {
    "duration": 5,
    "start_time": "2023-09-19T14:35:35.484Z"
   },
   {
    "duration": 906,
    "start_time": "2023-09-19T14:35:35.490Z"
   },
   {
    "duration": 8,
    "start_time": "2023-09-19T14:35:36.397Z"
   },
   {
    "duration": 117,
    "start_time": "2023-09-19T14:35:36.407Z"
   },
   {
    "duration": 7,
    "start_time": "2023-09-19T14:35:36.526Z"
   },
   {
    "duration": 156242,
    "start_time": "2023-09-19T14:35:36.535Z"
   },
   {
    "duration": 0,
    "start_time": "2023-09-19T14:38:12.779Z"
   },
   {
    "duration": 0,
    "start_time": "2023-09-19T14:38:12.780Z"
   },
   {
    "duration": 0,
    "start_time": "2023-09-19T14:38:12.781Z"
   },
   {
    "duration": 0,
    "start_time": "2023-09-19T14:38:12.782Z"
   },
   {
    "duration": 0,
    "start_time": "2023-09-19T14:38:12.784Z"
   },
   {
    "duration": 0,
    "start_time": "2023-09-19T14:38:12.785Z"
   },
   {
    "duration": 5849,
    "start_time": "2023-09-19T14:46:00.342Z"
   },
   {
    "duration": 7,
    "start_time": "2023-09-19T14:46:06.194Z"
   },
   {
    "duration": 110,
    "start_time": "2023-09-19T14:46:06.202Z"
   },
   {
    "duration": 17,
    "start_time": "2023-09-19T14:46:06.315Z"
   },
   {
    "duration": 182,
    "start_time": "2023-09-19T14:46:06.334Z"
   },
   {
    "duration": 362,
    "start_time": "2023-09-19T14:46:06.518Z"
   },
   {
    "duration": 16,
    "start_time": "2023-09-19T14:46:06.882Z"
   },
   {
    "duration": 15,
    "start_time": "2023-09-19T14:46:06.899Z"
   },
   {
    "duration": 19,
    "start_time": "2023-09-19T14:46:06.916Z"
   },
   {
    "duration": 13,
    "start_time": "2023-09-19T14:46:06.938Z"
   },
   {
    "duration": 35,
    "start_time": "2023-09-19T14:46:06.952Z"
   },
   {
    "duration": 8,
    "start_time": "2023-09-19T14:46:06.989Z"
   },
   {
    "duration": 14,
    "start_time": "2023-09-19T14:46:06.998Z"
   },
   {
    "duration": 4,
    "start_time": "2023-09-19T14:46:07.014Z"
   },
   {
    "duration": 27,
    "start_time": "2023-09-19T14:46:07.020Z"
   },
   {
    "duration": 249,
    "start_time": "2023-09-19T14:46:07.049Z"
   },
   {
    "duration": 238,
    "start_time": "2023-09-19T14:46:07.300Z"
   },
   {
    "duration": 10,
    "start_time": "2023-09-19T14:46:07.540Z"
   },
   {
    "duration": 28,
    "start_time": "2023-09-19T14:46:07.551Z"
   },
   {
    "duration": 239,
    "start_time": "2023-09-19T14:46:07.581Z"
   },
   {
    "duration": 8,
    "start_time": "2023-09-19T14:46:07.823Z"
   },
   {
    "duration": 295,
    "start_time": "2023-09-19T14:46:07.834Z"
   },
   {
    "duration": 8,
    "start_time": "2023-09-19T14:46:08.131Z"
   },
   {
    "duration": 788,
    "start_time": "2023-09-19T14:46:08.141Z"
   },
   {
    "duration": 13,
    "start_time": "2023-09-19T14:46:08.931Z"
   },
   {
    "duration": 34,
    "start_time": "2023-09-19T14:46:08.946Z"
   },
   {
    "duration": 24,
    "start_time": "2023-09-19T14:46:08.982Z"
   },
   {
    "duration": 1119,
    "start_time": "2023-09-19T14:46:09.010Z"
   },
   {
    "duration": 10,
    "start_time": "2023-09-19T14:46:10.131Z"
   },
   {
    "duration": 59,
    "start_time": "2023-09-19T14:46:10.143Z"
   },
   {
    "duration": 431,
    "start_time": "2023-09-19T14:46:10.204Z"
   },
   {
    "duration": 4,
    "start_time": "2023-09-19T14:46:10.637Z"
   },
   {
    "duration": 649,
    "start_time": "2023-09-19T14:46:10.643Z"
   },
   {
    "duration": 12,
    "start_time": "2023-09-19T14:46:11.293Z"
   },
   {
    "duration": 18,
    "start_time": "2023-09-19T14:46:11.307Z"
   },
   {
    "duration": 18,
    "start_time": "2023-09-19T14:46:11.327Z"
   },
   {
    "duration": 8,
    "start_time": "2023-09-19T14:46:11.347Z"
   },
   {
    "duration": 48,
    "start_time": "2023-09-19T14:46:11.357Z"
   },
   {
    "duration": 26,
    "start_time": "2023-09-19T14:46:11.407Z"
   },
   {
    "duration": 4,
    "start_time": "2023-09-19T14:46:11.435Z"
   },
   {
    "duration": 16,
    "start_time": "2023-09-19T14:46:11.441Z"
   },
   {
    "duration": 41,
    "start_time": "2023-09-19T14:46:11.458Z"
   },
   {
    "duration": 2222,
    "start_time": "2023-09-19T14:46:11.502Z"
   },
   {
    "duration": 10,
    "start_time": "2023-09-19T14:46:13.726Z"
   },
   {
    "duration": 16,
    "start_time": "2023-09-19T14:46:13.737Z"
   },
   {
    "duration": 933,
    "start_time": "2023-09-19T14:46:13.754Z"
   },
   {
    "duration": 9,
    "start_time": "2023-09-19T14:46:14.689Z"
   },
   {
    "duration": 124,
    "start_time": "2023-09-19T14:46:14.700Z"
   },
   {
    "duration": 10,
    "start_time": "2023-09-19T14:46:14.826Z"
   },
   {
    "duration": 39,
    "start_time": "2023-09-19T14:46:14.838Z"
   },
   {
    "duration": 0,
    "start_time": "2023-09-19T14:46:14.878Z"
   },
   {
    "duration": 0,
    "start_time": "2023-09-19T14:46:14.880Z"
   },
   {
    "duration": 0,
    "start_time": "2023-09-19T14:46:14.881Z"
   },
   {
    "duration": 0,
    "start_time": "2023-09-19T14:46:14.882Z"
   },
   {
    "duration": 0,
    "start_time": "2023-09-19T14:46:14.884Z"
   },
   {
    "duration": 0,
    "start_time": "2023-09-19T14:46:14.885Z"
   },
   {
    "duration": 3,
    "start_time": "2023-09-19T14:48:18.439Z"
   },
   {
    "duration": 4025,
    "start_time": "2023-09-19T14:51:04.156Z"
   },
   {
    "duration": 1269,
    "start_time": "2023-09-19T14:51:08.184Z"
   },
   {
    "duration": 2051,
    "start_time": "2023-09-19T14:51:09.455Z"
   },
   {
    "duration": 2,
    "start_time": "2023-09-19T14:51:11.508Z"
   },
   {
    "duration": 33,
    "start_time": "2023-09-19T14:51:11.512Z"
   },
   {
    "duration": 117,
    "start_time": "2023-09-19T14:51:11.547Z"
   },
   {
    "duration": 405,
    "start_time": "2023-09-19T14:51:11.666Z"
   },
   {
    "duration": 14,
    "start_time": "2023-09-19T14:51:12.073Z"
   },
   {
    "duration": 113,
    "start_time": "2023-09-19T14:51:12.089Z"
   },
   {
    "duration": 28,
    "start_time": "2023-09-19T14:51:12.205Z"
   },
   {
    "duration": 43,
    "start_time": "2023-09-19T14:51:12.234Z"
   },
   {
    "duration": 46,
    "start_time": "2023-09-19T14:51:12.278Z"
   },
   {
    "duration": 27,
    "start_time": "2023-09-19T14:51:12.326Z"
   },
   {
    "duration": 53,
    "start_time": "2023-09-19T14:51:12.354Z"
   },
   {
    "duration": 36,
    "start_time": "2023-09-19T14:51:12.409Z"
   },
   {
    "duration": 83,
    "start_time": "2023-09-19T14:51:12.447Z"
   },
   {
    "duration": 284,
    "start_time": "2023-09-19T14:51:12.531Z"
   },
   {
    "duration": 235,
    "start_time": "2023-09-19T14:51:12.817Z"
   },
   {
    "duration": 9,
    "start_time": "2023-09-19T14:51:13.053Z"
   },
   {
    "duration": 23,
    "start_time": "2023-09-19T14:51:13.064Z"
   },
   {
    "duration": 230,
    "start_time": "2023-09-19T14:51:13.089Z"
   },
   {
    "duration": 6,
    "start_time": "2023-09-19T14:51:13.320Z"
   },
   {
    "duration": 212,
    "start_time": "2023-09-19T14:51:13.328Z"
   },
   {
    "duration": 6,
    "start_time": "2023-09-19T14:51:13.542Z"
   },
   {
    "duration": 625,
    "start_time": "2023-09-19T14:51:13.550Z"
   },
   {
    "duration": 15,
    "start_time": "2023-09-19T14:51:14.177Z"
   },
   {
    "duration": 16,
    "start_time": "2023-09-19T14:51:14.194Z"
   },
   {
    "duration": 9,
    "start_time": "2023-09-19T14:51:14.215Z"
   },
   {
    "duration": 1095,
    "start_time": "2023-09-19T14:51:14.226Z"
   },
   {
    "duration": 13,
    "start_time": "2023-09-19T14:51:15.323Z"
   },
   {
    "duration": 32,
    "start_time": "2023-09-19T14:51:15.338Z"
   },
   {
    "duration": 451,
    "start_time": "2023-09-19T14:51:15.373Z"
   },
   {
    "duration": 4,
    "start_time": "2023-09-19T14:51:15.826Z"
   },
   {
    "duration": 684,
    "start_time": "2023-09-19T14:51:15.831Z"
   },
   {
    "duration": 10,
    "start_time": "2023-09-19T14:51:16.516Z"
   },
   {
    "duration": 12,
    "start_time": "2023-09-19T14:51:16.528Z"
   },
   {
    "duration": 18,
    "start_time": "2023-09-19T14:51:16.542Z"
   },
   {
    "duration": 8,
    "start_time": "2023-09-19T14:51:16.562Z"
   },
   {
    "duration": 8,
    "start_time": "2023-09-19T14:51:16.581Z"
   },
   {
    "duration": 16,
    "start_time": "2023-09-19T14:51:16.590Z"
   },
   {
    "duration": 3,
    "start_time": "2023-09-19T14:51:16.608Z"
   },
   {
    "duration": 28,
    "start_time": "2023-09-19T14:51:16.612Z"
   },
   {
    "duration": 19,
    "start_time": "2023-09-19T14:51:16.642Z"
   },
   {
    "duration": 2141,
    "start_time": "2023-09-19T14:51:16.663Z"
   },
   {
    "duration": 12,
    "start_time": "2023-09-19T14:51:18.806Z"
   },
   {
    "duration": 6,
    "start_time": "2023-09-19T14:51:18.820Z"
   },
   {
    "duration": 924,
    "start_time": "2023-09-19T14:51:18.828Z"
   },
   {
    "duration": 9,
    "start_time": "2023-09-19T14:51:19.754Z"
   },
   {
    "duration": 124,
    "start_time": "2023-09-19T14:51:19.764Z"
   },
   {
    "duration": 8,
    "start_time": "2023-09-19T14:51:19.890Z"
   },
   {
    "duration": 158,
    "start_time": "2023-09-19T14:51:19.900Z"
   },
   {
    "duration": 0,
    "start_time": "2023-09-19T14:51:20.059Z"
   },
   {
    "duration": 0,
    "start_time": "2023-09-19T14:51:20.061Z"
   },
   {
    "duration": 0,
    "start_time": "2023-09-19T14:51:20.062Z"
   },
   {
    "duration": 0,
    "start_time": "2023-09-19T14:51:20.063Z"
   },
   {
    "duration": 0,
    "start_time": "2023-09-19T14:51:20.064Z"
   },
   {
    "duration": 0,
    "start_time": "2023-09-19T14:51:20.065Z"
   },
   {
    "duration": 22,
    "start_time": "2023-09-19T14:51:53.208Z"
   },
   {
    "duration": 21,
    "start_time": "2023-09-19T14:52:28.331Z"
   },
   {
    "duration": 4660,
    "start_time": "2023-09-19T14:52:51.933Z"
   },
   {
    "duration": 4,
    "start_time": "2023-09-19T14:53:39.310Z"
   },
   {
    "duration": 4842,
    "start_time": "2023-09-19T14:56:26.208Z"
   },
   {
    "duration": 1470,
    "start_time": "2023-09-19T14:56:31.053Z"
   },
   {
    "duration": 2,
    "start_time": "2023-09-19T14:56:32.525Z"
   },
   {
    "duration": 25,
    "start_time": "2023-09-19T14:56:32.529Z"
   },
   {
    "duration": 117,
    "start_time": "2023-09-19T14:56:32.556Z"
   },
   {
    "duration": 395,
    "start_time": "2023-09-19T14:56:32.675Z"
   },
   {
    "duration": 13,
    "start_time": "2023-09-19T14:56:33.072Z"
   },
   {
    "duration": 82,
    "start_time": "2023-09-19T14:56:33.087Z"
   },
   {
    "duration": 21,
    "start_time": "2023-09-19T14:56:33.172Z"
   },
   {
    "duration": 16,
    "start_time": "2023-09-19T14:56:33.196Z"
   },
   {
    "duration": 10,
    "start_time": "2023-09-19T14:56:33.214Z"
   },
   {
    "duration": 8,
    "start_time": "2023-09-19T14:56:33.226Z"
   },
   {
    "duration": 24,
    "start_time": "2023-09-19T14:56:33.235Z"
   },
   {
    "duration": 2,
    "start_time": "2023-09-19T14:56:33.261Z"
   },
   {
    "duration": 30,
    "start_time": "2023-09-19T14:56:33.264Z"
   },
   {
    "duration": 241,
    "start_time": "2023-09-19T14:56:33.296Z"
   },
   {
    "duration": 242,
    "start_time": "2023-09-19T14:56:33.539Z"
   },
   {
    "duration": 8,
    "start_time": "2023-09-19T14:56:33.782Z"
   },
   {
    "duration": 10,
    "start_time": "2023-09-19T14:56:33.792Z"
   },
   {
    "duration": 221,
    "start_time": "2023-09-19T14:56:33.804Z"
   },
   {
    "duration": 6,
    "start_time": "2023-09-19T14:56:34.027Z"
   },
   {
    "duration": 217,
    "start_time": "2023-09-19T14:56:34.034Z"
   },
   {
    "duration": 7,
    "start_time": "2023-09-19T14:56:34.253Z"
   },
   {
    "duration": 590,
    "start_time": "2023-09-19T14:56:34.262Z"
   },
   {
    "duration": 13,
    "start_time": "2023-09-19T14:56:34.854Z"
   },
   {
    "duration": 21,
    "start_time": "2023-09-19T14:56:34.869Z"
   },
   {
    "duration": 8,
    "start_time": "2023-09-19T14:56:34.891Z"
   },
   {
    "duration": 1094,
    "start_time": "2023-09-19T14:56:34.903Z"
   },
   {
    "duration": 13,
    "start_time": "2023-09-19T14:56:35.999Z"
   },
   {
    "duration": 46,
    "start_time": "2023-09-19T14:56:36.014Z"
   },
   {
    "duration": 453,
    "start_time": "2023-09-19T14:56:36.062Z"
   },
   {
    "duration": 5,
    "start_time": "2023-09-19T14:56:36.516Z"
   },
   {
    "duration": 760,
    "start_time": "2023-09-19T14:56:36.522Z"
   },
   {
    "duration": 10,
    "start_time": "2023-09-19T14:56:37.284Z"
   },
   {
    "duration": 14,
    "start_time": "2023-09-19T14:56:37.296Z"
   },
   {
    "duration": 18,
    "start_time": "2023-09-19T14:56:37.312Z"
   },
   {
    "duration": 10,
    "start_time": "2023-09-19T14:56:37.332Z"
   },
   {
    "duration": 20,
    "start_time": "2023-09-19T14:56:37.344Z"
   },
   {
    "duration": 19,
    "start_time": "2023-09-19T14:56:37.366Z"
   },
   {
    "duration": 10,
    "start_time": "2023-09-19T14:56:37.387Z"
   },
   {
    "duration": 16,
    "start_time": "2023-09-19T14:56:37.399Z"
   },
   {
    "duration": 40,
    "start_time": "2023-09-19T14:56:37.416Z"
   },
   {
    "duration": 2086,
    "start_time": "2023-09-19T14:56:37.458Z"
   },
   {
    "duration": 12,
    "start_time": "2023-09-19T14:56:39.546Z"
   },
   {
    "duration": 6,
    "start_time": "2023-09-19T14:56:39.559Z"
   },
   {
    "duration": 918,
    "start_time": "2023-09-19T14:56:39.566Z"
   },
   {
    "duration": 8,
    "start_time": "2023-09-19T14:56:40.486Z"
   },
   {
    "duration": 143,
    "start_time": "2023-09-19T14:56:40.496Z"
   },
   {
    "duration": 7,
    "start_time": "2023-09-19T14:56:40.641Z"
   },
   {
    "duration": 146,
    "start_time": "2023-09-19T14:56:40.649Z"
   },
   {
    "duration": 0,
    "start_time": "2023-09-19T14:56:40.796Z"
   },
   {
    "duration": 0,
    "start_time": "2023-09-19T14:56:40.798Z"
   },
   {
    "duration": 0,
    "start_time": "2023-09-19T14:56:40.799Z"
   },
   {
    "duration": 0,
    "start_time": "2023-09-19T14:56:40.800Z"
   },
   {
    "duration": 0,
    "start_time": "2023-09-19T14:56:40.801Z"
   },
   {
    "duration": 0,
    "start_time": "2023-09-19T14:56:40.802Z"
   },
   {
    "duration": 4869,
    "start_time": "2023-09-19T14:59:04.205Z"
   },
   {
    "duration": 7,
    "start_time": "2023-09-19T14:59:09.077Z"
   },
   {
    "duration": 10,
    "start_time": "2023-09-19T14:59:09.086Z"
   },
   {
    "duration": 15,
    "start_time": "2023-09-19T14:59:09.098Z"
   },
   {
    "duration": 46,
    "start_time": "2023-09-19T14:59:09.115Z"
   },
   {
    "duration": 441,
    "start_time": "2023-09-19T14:59:09.163Z"
   },
   {
    "duration": 14,
    "start_time": "2023-09-19T14:59:09.606Z"
   },
   {
    "duration": 15,
    "start_time": "2023-09-19T14:59:09.622Z"
   },
   {
    "duration": 24,
    "start_time": "2023-09-19T14:59:09.638Z"
   },
   {
    "duration": 17,
    "start_time": "2023-09-19T14:59:09.665Z"
   },
   {
    "duration": 29,
    "start_time": "2023-09-19T14:59:09.684Z"
   },
   {
    "duration": 9,
    "start_time": "2023-09-19T14:59:09.715Z"
   },
   {
    "duration": 19,
    "start_time": "2023-09-19T14:59:09.726Z"
   },
   {
    "duration": 20,
    "start_time": "2023-09-19T14:59:09.747Z"
   },
   {
    "duration": 41,
    "start_time": "2023-09-19T14:59:09.769Z"
   },
   {
    "duration": 235,
    "start_time": "2023-09-19T14:59:09.812Z"
   },
   {
    "duration": 351,
    "start_time": "2023-09-19T14:59:10.049Z"
   },
   {
    "duration": 8,
    "start_time": "2023-09-19T14:59:10.402Z"
   },
   {
    "duration": 8,
    "start_time": "2023-09-19T14:59:10.411Z"
   },
   {
    "duration": 217,
    "start_time": "2023-09-19T14:59:10.420Z"
   },
   {
    "duration": 7,
    "start_time": "2023-09-19T14:59:10.638Z"
   },
   {
    "duration": 216,
    "start_time": "2023-09-19T14:59:10.646Z"
   },
   {
    "duration": 17,
    "start_time": "2023-09-19T14:59:10.864Z"
   },
   {
    "duration": 705,
    "start_time": "2023-09-19T14:59:10.883Z"
   },
   {
    "duration": 14,
    "start_time": "2023-09-19T14:59:11.589Z"
   },
   {
    "duration": 19,
    "start_time": "2023-09-19T14:59:11.605Z"
   },
   {
    "duration": 17,
    "start_time": "2023-09-19T14:59:11.625Z"
   },
   {
    "duration": 1080,
    "start_time": "2023-09-19T14:59:11.646Z"
   },
   {
    "duration": 11,
    "start_time": "2023-09-19T14:59:12.728Z"
   },
   {
    "duration": 14,
    "start_time": "2023-09-19T14:59:12.741Z"
   },
   {
    "duration": 285,
    "start_time": "2023-09-19T14:59:12.757Z"
   },
   {
    "duration": 5,
    "start_time": "2023-09-19T14:59:13.044Z"
   },
   {
    "duration": 821,
    "start_time": "2023-09-19T14:59:13.051Z"
   },
   {
    "duration": 15,
    "start_time": "2023-09-19T14:59:13.874Z"
   },
   {
    "duration": 24,
    "start_time": "2023-09-19T14:59:13.891Z"
   },
   {
    "duration": 12,
    "start_time": "2023-09-19T14:59:13.917Z"
   },
   {
    "duration": 5,
    "start_time": "2023-09-19T14:59:13.931Z"
   },
   {
    "duration": 6,
    "start_time": "2023-09-19T14:59:13.938Z"
   },
   {
    "duration": 163,
    "start_time": "2023-09-19T14:59:13.946Z"
   },
   {
    "duration": 61,
    "start_time": "2023-09-19T14:59:14.111Z"
   },
   {
    "duration": 116,
    "start_time": "2023-09-19T14:59:14.174Z"
   },
   {
    "duration": 95,
    "start_time": "2023-09-19T14:59:14.292Z"
   },
   {
    "duration": 2160,
    "start_time": "2023-09-19T14:59:14.389Z"
   },
   {
    "duration": 10,
    "start_time": "2023-09-19T14:59:16.550Z"
   },
   {
    "duration": 5,
    "start_time": "2023-09-19T14:59:16.561Z"
   },
   {
    "duration": 974,
    "start_time": "2023-09-19T14:59:16.568Z"
   },
   {
    "duration": 8,
    "start_time": "2023-09-19T14:59:17.543Z"
   },
   {
    "duration": 113,
    "start_time": "2023-09-19T14:59:17.553Z"
   },
   {
    "duration": 13,
    "start_time": "2023-09-19T14:59:17.668Z"
   },
   {
    "duration": 950017,
    "start_time": "2023-09-19T14:59:17.682Z"
   },
   {
    "duration": 176,
    "start_time": "2023-09-19T15:15:07.782Z"
   },
   {
    "duration": 126,
    "start_time": "2023-09-19T15:15:07.960Z"
   },
   {
    "duration": 9,
    "start_time": "2023-09-19T15:15:08.088Z"
   },
   {
    "duration": 220,
    "start_time": "2023-09-19T15:15:08.099Z"
   },
   {
    "duration": 338,
    "start_time": "2023-09-19T15:15:08.321Z"
   },
   {
    "duration": 277,
    "start_time": "2023-09-19T15:15:08.661Z"
   },
   {
    "duration": 13038,
    "start_time": "2023-09-19T21:09:27.515Z"
   },
   {
    "duration": 1496,
    "start_time": "2023-09-19T21:09:40.556Z"
   },
   {
    "duration": 3,
    "start_time": "2023-09-19T21:09:42.054Z"
   },
   {
    "duration": 30,
    "start_time": "2023-09-19T21:09:42.060Z"
   },
   {
    "duration": 41,
    "start_time": "2023-09-19T21:09:42.092Z"
   },
   {
    "duration": 474,
    "start_time": "2023-09-19T21:09:42.134Z"
   },
   {
    "duration": 14,
    "start_time": "2023-09-19T21:09:42.610Z"
   },
   {
    "duration": 13,
    "start_time": "2023-09-19T21:09:42.625Z"
   },
   {
    "duration": 18,
    "start_time": "2023-09-19T21:09:42.640Z"
   },
   {
    "duration": 13,
    "start_time": "2023-09-19T21:09:42.660Z"
   },
   {
    "duration": 37,
    "start_time": "2023-09-19T21:09:42.675Z"
   },
   {
    "duration": 11,
    "start_time": "2023-09-19T21:09:42.714Z"
   },
   {
    "duration": 27,
    "start_time": "2023-09-19T21:09:42.727Z"
   },
   {
    "duration": 19,
    "start_time": "2023-09-19T21:09:42.756Z"
   },
   {
    "duration": 35,
    "start_time": "2023-09-19T21:09:42.776Z"
   },
   {
    "duration": 303,
    "start_time": "2023-09-19T21:09:42.812Z"
   },
   {
    "duration": 227,
    "start_time": "2023-09-19T21:09:43.117Z"
   },
   {
    "duration": 8,
    "start_time": "2023-09-19T21:09:43.346Z"
   },
   {
    "duration": 16,
    "start_time": "2023-09-19T21:09:43.355Z"
   },
   {
    "duration": 209,
    "start_time": "2023-09-19T21:09:43.373Z"
   },
   {
    "duration": 5,
    "start_time": "2023-09-19T21:09:43.584Z"
   },
   {
    "duration": 212,
    "start_time": "2023-09-19T21:09:43.591Z"
   },
   {
    "duration": 7,
    "start_time": "2023-09-19T21:09:43.805Z"
   },
   {
    "duration": 709,
    "start_time": "2023-09-19T21:09:43.814Z"
   },
   {
    "duration": 14,
    "start_time": "2023-09-19T21:09:44.524Z"
   },
   {
    "duration": 49,
    "start_time": "2023-09-19T21:09:44.540Z"
   },
   {
    "duration": 22,
    "start_time": "2023-09-19T21:09:44.591Z"
   },
   {
    "duration": 1058,
    "start_time": "2023-09-19T21:09:44.618Z"
   },
   {
    "duration": 23,
    "start_time": "2023-09-19T21:09:45.678Z"
   },
   {
    "duration": 23,
    "start_time": "2023-09-19T21:09:45.703Z"
   },
   {
    "duration": 317,
    "start_time": "2023-09-19T21:09:45.727Z"
   },
   {
    "duration": 5,
    "start_time": "2023-09-19T21:09:46.045Z"
   },
   {
    "duration": 779,
    "start_time": "2023-09-19T21:09:46.052Z"
   },
   {
    "duration": 9,
    "start_time": "2023-09-19T21:09:46.833Z"
   },
   {
    "duration": 14,
    "start_time": "2023-09-19T21:09:46.844Z"
   },
   {
    "duration": 63,
    "start_time": "2023-09-19T21:09:46.859Z"
   },
   {
    "duration": 22,
    "start_time": "2023-09-19T21:09:46.924Z"
   },
   {
    "duration": 23,
    "start_time": "2023-09-19T21:09:46.947Z"
   },
   {
    "duration": 20,
    "start_time": "2023-09-19T21:09:46.972Z"
   },
   {
    "duration": 4,
    "start_time": "2023-09-19T21:09:46.993Z"
   },
   {
    "duration": 21,
    "start_time": "2023-09-19T21:09:46.999Z"
   },
   {
    "duration": 24,
    "start_time": "2023-09-19T21:09:47.022Z"
   },
   {
    "duration": 2103,
    "start_time": "2023-09-19T21:09:47.048Z"
   },
   {
    "duration": 12,
    "start_time": "2023-09-19T21:09:49.153Z"
   },
   {
    "duration": 22,
    "start_time": "2023-09-19T21:09:49.167Z"
   },
   {
    "duration": 862,
    "start_time": "2023-09-19T21:09:49.191Z"
   },
   {
    "duration": 8,
    "start_time": "2023-09-19T21:09:50.055Z"
   },
   {
    "duration": 129,
    "start_time": "2023-09-19T21:09:50.065Z"
   },
   {
    "duration": 9,
    "start_time": "2023-09-19T21:09:50.196Z"
   },
   {
    "duration": 141,
    "start_time": "2023-09-19T21:09:50.207Z"
   },
   {
    "duration": 1,
    "start_time": "2023-09-19T21:09:50.350Z"
   },
   {
    "duration": 0,
    "start_time": "2023-09-19T21:09:50.352Z"
   },
   {
    "duration": 0,
    "start_time": "2023-09-19T21:09:50.353Z"
   },
   {
    "duration": 0,
    "start_time": "2023-09-19T21:09:50.355Z"
   },
   {
    "duration": 0,
    "start_time": "2023-09-19T21:09:50.357Z"
   },
   {
    "duration": 0,
    "start_time": "2023-09-19T21:09:50.358Z"
   },
   {
    "duration": 7111,
    "start_time": "2023-09-19T21:41:19.036Z"
   },
   {
    "duration": 6,
    "start_time": "2023-09-19T21:41:26.149Z"
   },
   {
    "duration": 30,
    "start_time": "2023-09-19T21:41:26.157Z"
   },
   {
    "duration": 5,
    "start_time": "2023-09-19T21:41:26.190Z"
   },
   {
    "duration": 41,
    "start_time": "2023-09-19T21:41:26.196Z"
   },
   {
    "duration": 265,
    "start_time": "2023-09-19T21:41:26.239Z"
   },
   {
    "duration": 14,
    "start_time": "2023-09-19T21:41:26.506Z"
   },
   {
    "duration": 14,
    "start_time": "2023-09-19T21:41:26.521Z"
   },
   {
    "duration": 29,
    "start_time": "2023-09-19T21:41:26.536Z"
   },
   {
    "duration": 13,
    "start_time": "2023-09-19T21:41:26.568Z"
   },
   {
    "duration": 9,
    "start_time": "2023-09-19T21:41:26.602Z"
   },
   {
    "duration": 11,
    "start_time": "2023-09-19T21:41:26.613Z"
   },
   {
    "duration": 19,
    "start_time": "2023-09-19T21:41:26.626Z"
   },
   {
    "duration": 15,
    "start_time": "2023-09-19T21:41:26.647Z"
   },
   {
    "duration": 22,
    "start_time": "2023-09-19T21:41:26.664Z"
   },
   {
    "duration": 217,
    "start_time": "2023-09-19T21:41:26.688Z"
   },
   {
    "duration": 229,
    "start_time": "2023-09-19T21:41:26.907Z"
   },
   {
    "duration": 9,
    "start_time": "2023-09-19T21:41:27.139Z"
   },
   {
    "duration": 9,
    "start_time": "2023-09-19T21:41:27.150Z"
   },
   {
    "duration": 320,
    "start_time": "2023-09-19T21:41:27.161Z"
   },
   {
    "duration": 7,
    "start_time": "2023-09-19T21:41:27.483Z"
   },
   {
    "duration": 200,
    "start_time": "2023-09-19T21:41:27.501Z"
   },
   {
    "duration": 7,
    "start_time": "2023-09-19T21:41:27.703Z"
   },
   {
    "duration": 677,
    "start_time": "2023-09-19T21:41:27.711Z"
   },
   {
    "duration": 20,
    "start_time": "2023-09-19T21:41:28.390Z"
   },
   {
    "duration": 29,
    "start_time": "2023-09-19T21:41:28.412Z"
   },
   {
    "duration": 25,
    "start_time": "2023-09-19T21:41:28.444Z"
   },
   {
    "duration": 1023,
    "start_time": "2023-09-19T21:41:28.473Z"
   },
   {
    "duration": 11,
    "start_time": "2023-09-19T21:41:29.501Z"
   },
   {
    "duration": 9,
    "start_time": "2023-09-19T21:41:29.514Z"
   },
   {
    "duration": 320,
    "start_time": "2023-09-19T21:41:29.525Z"
   },
   {
    "duration": 5,
    "start_time": "2023-09-19T21:41:29.846Z"
   },
   {
    "duration": 628,
    "start_time": "2023-09-19T21:41:29.852Z"
   },
   {
    "duration": 23,
    "start_time": "2023-09-19T21:41:30.482Z"
   },
   {
    "duration": 33,
    "start_time": "2023-09-19T21:41:30.506Z"
   },
   {
    "duration": 32,
    "start_time": "2023-09-19T21:41:30.541Z"
   },
   {
    "duration": 19,
    "start_time": "2023-09-19T21:41:30.574Z"
   },
   {
    "duration": 41,
    "start_time": "2023-09-19T21:41:30.595Z"
   },
   {
    "duration": 51,
    "start_time": "2023-09-19T21:41:30.638Z"
   },
   {
    "duration": 43,
    "start_time": "2023-09-19T21:41:30.691Z"
   },
   {
    "duration": 66,
    "start_time": "2023-09-19T21:41:30.735Z"
   },
   {
    "duration": 61,
    "start_time": "2023-09-19T21:41:30.802Z"
   },
   {
    "duration": 2259,
    "start_time": "2023-09-19T21:41:30.865Z"
   },
   {
    "duration": 10,
    "start_time": "2023-09-19T21:41:33.126Z"
   },
   {
    "duration": 67,
    "start_time": "2023-09-19T21:41:33.138Z"
   },
   {
    "duration": 845,
    "start_time": "2023-09-19T21:41:33.206Z"
   },
   {
    "duration": 10,
    "start_time": "2023-09-19T21:41:34.053Z"
   },
   {
    "duration": 123,
    "start_time": "2023-09-19T21:41:34.065Z"
   },
   {
    "duration": 14,
    "start_time": "2023-09-19T21:41:34.190Z"
   },
   {
    "duration": 416200,
    "start_time": "2023-09-19T21:41:34.206Z"
   },
   {
    "duration": 44,
    "start_time": "2023-09-19T21:48:30.408Z"
   },
   {
    "duration": 152,
    "start_time": "2023-09-19T21:48:30.454Z"
   },
   {
    "duration": 6,
    "start_time": "2023-09-19T21:48:30.609Z"
   },
   {
    "duration": 213,
    "start_time": "2023-09-19T21:48:30.617Z"
   },
   {
    "duration": 301,
    "start_time": "2023-09-19T21:48:30.832Z"
   },
   {
    "duration": 240,
    "start_time": "2023-09-19T21:48:31.135Z"
   }
  ],
  "kernelspec": {
   "display_name": "Python 3 (ipykernel)",
   "language": "python",
   "name": "python3"
  },
  "language_info": {
   "codemirror_mode": {
    "name": "ipython",
    "version": 3
   },
   "file_extension": ".py",
   "mimetype": "text/x-python",
   "name": "python",
   "nbconvert_exporter": "python",
   "pygments_lexer": "ipython3",
   "version": "3.9.5"
  },
  "toc": {
   "base_numbering": 1,
   "nav_menu": {},
   "number_sections": true,
   "sideBar": true,
   "skip_h1_title": true,
   "title_cell": "Table of Contents",
   "title_sidebar": "Contents",
   "toc_cell": false,
   "toc_position": {},
   "toc_section_display": true,
   "toc_window_display": false
  },
  "vscode": {
   "interpreter": {
    "hash": "0f722720931fbd7bac8fa92a0efaafb415e0b529bea29341344773e6eccc6c21"
   }
  }
 },
 "nbformat": 4,
 "nbformat_minor": 2
}
