{
 "cells": [
  {
   "cell_type": "markdown",
   "metadata": {
    "id": "RZ3M53TQ5iBQ",
    "toc": true
   },
   "source": [
    "<h1>Содержание<span class=\"tocSkip\"></span></h1>\n",
    "<div class=\"toc\"><ul class=\"toc-item\"><li><span><a href=\"#Подготовка-данных\" data-toc-modified-id=\"Подготовка-данных-1\"><span class=\"toc-item-num\">1&nbsp;&nbsp;</span>Подготовка данных</a></span><ul class=\"toc-item\"><li><span><a href=\"#Импорт-библиотек\" data-toc-modified-id=\"Импорт-библиотек-1.1\"><span class=\"toc-item-num\">1.1&nbsp;&nbsp;</span>Импорт библиотек</a></span></li><li><span><a href=\"#Загрузка-данных\" data-toc-modified-id=\"Загрузка-данных-1.2\"><span class=\"toc-item-num\">1.2&nbsp;&nbsp;</span>Загрузка данных</a></span><ul class=\"toc-item\"><li><span><a href=\"#Исследование-данных\" data-toc-modified-id=\"Исследование-данных-1.2.1\"><span class=\"toc-item-num\">1.2.1&nbsp;&nbsp;</span>Исследование данных</a></span><ul class=\"toc-item\"><li><span><a href=\"#Описание-данных\" data-toc-modified-id=\"Описание-данных-1.2.1.1\"><span class=\"toc-item-num\">1.2.1.1&nbsp;&nbsp;</span>Описание данных</a></span></li></ul></li><li><span><a href=\"#Выводы\" data-toc-modified-id=\"Выводы-1.2.2\"><span class=\"toc-item-num\">1.2.2&nbsp;&nbsp;</span>Выводы</a></span></li></ul></li></ul></li><li><span><a href=\"#Исследование-задачи\" data-toc-modified-id=\"Исследование-задачи-2\"><span class=\"toc-item-num\">2&nbsp;&nbsp;</span>Исследование задачи</a></span><ul class=\"toc-item\"><li><ul class=\"toc-item\"><li><span><a href=\"#Разбиение-признаков\" data-toc-modified-id=\"Разбиение-признаков-2.0.1\"><span class=\"toc-item-num\">2.0.1&nbsp;&nbsp;</span>Разбиение признаков</a></span></li><li><span><a href=\"#Разделение-выборки\" data-toc-modified-id=\"Разделение-выборки-2.0.2\"><span class=\"toc-item-num\">2.0.2&nbsp;&nbsp;</span>Разделение выборки</a></span></li><li><span><a href=\"#Обучение\" data-toc-modified-id=\"Обучение-2.0.3\"><span class=\"toc-item-num\">2.0.3&nbsp;&nbsp;</span>Обучение</a></span></li></ul></li></ul></li><li><span><a href=\"#Борьба-с-дисбалансом\" data-toc-modified-id=\"Борьба-с-дисбалансом-3\"><span class=\"toc-item-num\">3&nbsp;&nbsp;</span>Борьба с дисбалансом</a></span><ul class=\"toc-item\"><li><ul class=\"toc-item\"><li><span><a href=\"#Оценка-целевого-признака:\" data-toc-modified-id=\"Оценка-целевого-признака:-3.0.1\"><span class=\"toc-item-num\">3.0.1&nbsp;&nbsp;</span>Оценка целевого признака:</a></span></li><li><span><a href=\"#Downsampling\" data-toc-modified-id=\"Downsampling-3.0.2\"><span class=\"toc-item-num\">3.0.2&nbsp;&nbsp;</span>Downsampling</a></span></li></ul></li><li><span><a href=\"#Upsample\" data-toc-modified-id=\"Upsample-3.1\"><span class=\"toc-item-num\">3.1&nbsp;&nbsp;</span>Upsample</a></span></li></ul></li><li><span><a href=\"#Тестирование-модели\" data-toc-modified-id=\"Тестирование-модели-4\"><span class=\"toc-item-num\">4&nbsp;&nbsp;</span>Тестирование модели</a></span><ul class=\"toc-item\"><li><span><a href=\"#Вывод\" data-toc-modified-id=\"Вывод-4.1\"><span class=\"toc-item-num\">4.1&nbsp;&nbsp;</span>Вывод</a></span></li></ul></li><li><span><a href=\"#Чек-лист-готовности-проекта\" data-toc-modified-id=\"Чек-лист-готовности-проекта-5\"><span class=\"toc-item-num\">5&nbsp;&nbsp;</span>Чек-лист готовности проекта</a></span></li><li><span><a href=\"#Общий-вывод-по-проекту\" data-toc-modified-id=\"Общий-вывод-по-проекту-6\"><span class=\"toc-item-num\">6&nbsp;&nbsp;</span><b>Общий вывод по проекту</b></a></span></li><li><span><a href=\"#Общий-вывод-по-проекту-В2\" data-toc-modified-id=\"Общий-вывод-по-проекту-В2-7\"><span class=\"toc-item-num\">7&nbsp;&nbsp;</span><b>Общий вывод по проекту В2</b></a></span></li></ul></div>"
   ]
  },
  {
   "cell_type": "markdown",
   "metadata": {
    "id": "-9W0s1By5iHS"
   },
   "source": [
    "# Отток клиентов"
   ]
  },
  {
   "cell_type": "markdown",
   "metadata": {
    "id": "hpdgES345iHT"
   },
   "source": [
    "Из «Бета-Банка» стали уходить клиенты. Каждый месяц. Немного, но заметно. Банковские маркетологи посчитали: сохранять текущих клиентов дешевле, чем привлекать новых.\n",
    "\n",
    "Нужно спрогнозировать, уйдёт клиент из банка в ближайшее время или нет. Вам предоставлены исторические данные о поведении клиентов и расторжении договоров с банком. \n",
    "\n",
    "Постройте модель с предельно большим значением *F1*-меры. Чтобы сдать проект успешно, нужно довести метрику до 0.59. Проверьте *F1*-меру на тестовой выборке самостоятельно.\n",
    "\n",
    "Дополнительно измеряйте *AUC-ROC*, сравнивайте её значение с *F1*-мерой.\n",
    "\n",
    "Источник данных: [https://www.kaggle.com/barelydedicated/bank-customer-churn-modeling](https://www.kaggle.com/barelydedicated/bank-customer-churn-modeling)"
   ]
  },
  {
   "cell_type": "markdown",
   "metadata": {
    "id": "qlb0XmNq5iHU"
   },
   "source": [
    "## Подготовка данных"
   ]
  },
  {
   "cell_type": "markdown",
   "metadata": {
    "id": "Vf70hrB-5iHU"
   },
   "source": [
    "### Импорт библиотек"
   ]
  },
  {
   "cell_type": "code",
   "execution_count": 1,
   "metadata": {
    "executionInfo": {
     "elapsed": 2,
     "status": "ok",
     "timestamp": 1683110727474,
     "user": {
      "displayName": "Григорий Жилин",
      "userId": "01074399555567380101"
     },
     "user_tz": -60
    },
    "id": "UecshPx65iHV"
   },
   "outputs": [],
   "source": [
    "import pandas as pd\n",
    "import numpy as np\n",
    "import seaborn as sns\n",
    "import matplotlib.pyplot as plt\n",
    "import random\n",
    "%matplotlib inline\n",
    "\n",
    "from sklearn.utils import shuffle\n",
    "from sklearn.model_selection import train_test_split\n",
    "from sklearn.metrics import f1_score,  roc_auc_score, roc_curve, confusion_matrix\n",
    "\n",
    "from sklearn.preprocessing import OneHotEncoder\n",
    "\n",
    "\n",
    "\n",
    "from sklearn.linear_model import LogisticRegression\n",
    "from sklearn.ensemble import RandomForestClassifier\n",
    "from sklearn.preprocessing import StandardScaler\n",
    "from sklearn.tree import DecisionTreeClassifier\n",
    "from sklearn.dummy import DummyClassifier\n",
    "\n",
    "\n",
    "import warnings\n",
    "warnings.filterwarnings(\"ignore\")"
   ]
  },
  {
   "cell_type": "markdown",
   "metadata": {
    "id": "oCvupTli5iHW"
   },
   "source": [
    "### Загрузка данных"
   ]
  },
  {
   "cell_type": "code",
   "execution_count": 2,
   "metadata": {
    "executionInfo": {
     "elapsed": 24,
     "status": "ok",
     "timestamp": 1683105473614,
     "user": {
      "displayName": "Григорий Жилин",
      "userId": "01074399555567380101"
     },
     "user_tz": -60
    },
    "id": "wfmdP7ds5iHX"
   },
   "outputs": [],
   "source": [
    "try:\n",
    "    data = pd.read_csv('/Volumes/GoogleDrive/My Drive/YP/Churn.csv',sep=',')\n",
    "except:\n",
    "    data = pd.read_csv('https://code.s3.yandex.net/datasets/Churn.csv',sep=',') "
   ]
  },
  {
   "cell_type": "markdown",
   "metadata": {
    "id": "AYwQjY0d5iHX"
   },
   "source": [
    "#### Исследование данных"
   ]
  },
  {
   "cell_type": "code",
   "execution_count": 3,
   "metadata": {
    "colab": {
     "base_uri": "https://localhost:8080/",
     "height": 363
    },
    "executionInfo": {
     "elapsed": 24,
     "status": "ok",
     "timestamp": 1683105473615,
     "user": {
      "displayName": "Григорий Жилин",
      "userId": "01074399555567380101"
     },
     "user_tz": -60
    },
    "id": "evmns5F35iHY",
    "outputId": "8b156ca6-2776-4857-8754-97bbd180a2c0"
   },
   "outputs": [
    {
     "data": {
      "text/html": [
       "<div>\n",
       "<style scoped>\n",
       "    .dataframe tbody tr th:only-of-type {\n",
       "        vertical-align: middle;\n",
       "    }\n",
       "\n",
       "    .dataframe tbody tr th {\n",
       "        vertical-align: top;\n",
       "    }\n",
       "\n",
       "    .dataframe thead th {\n",
       "        text-align: right;\n",
       "    }\n",
       "</style>\n",
       "<table border=\"1\" class=\"dataframe\">\n",
       "  <thead>\n",
       "    <tr style=\"text-align: right;\">\n",
       "      <th></th>\n",
       "      <th>RowNumber</th>\n",
       "      <th>CustomerId</th>\n",
       "      <th>Surname</th>\n",
       "      <th>CreditScore</th>\n",
       "      <th>Geography</th>\n",
       "      <th>Gender</th>\n",
       "      <th>Age</th>\n",
       "      <th>Tenure</th>\n",
       "      <th>Balance</th>\n",
       "      <th>NumOfProducts</th>\n",
       "      <th>HasCrCard</th>\n",
       "      <th>IsActiveMember</th>\n",
       "      <th>EstimatedSalary</th>\n",
       "      <th>Exited</th>\n",
       "    </tr>\n",
       "  </thead>\n",
       "  <tbody>\n",
       "    <tr>\n",
       "      <th>0</th>\n",
       "      <td>1</td>\n",
       "      <td>15634602</td>\n",
       "      <td>Hargrave</td>\n",
       "      <td>619</td>\n",
       "      <td>France</td>\n",
       "      <td>Female</td>\n",
       "      <td>42</td>\n",
       "      <td>2.0</td>\n",
       "      <td>0.00</td>\n",
       "      <td>1</td>\n",
       "      <td>1</td>\n",
       "      <td>1</td>\n",
       "      <td>101348.88</td>\n",
       "      <td>1</td>\n",
       "    </tr>\n",
       "    <tr>\n",
       "      <th>1</th>\n",
       "      <td>2</td>\n",
       "      <td>15647311</td>\n",
       "      <td>Hill</td>\n",
       "      <td>608</td>\n",
       "      <td>Spain</td>\n",
       "      <td>Female</td>\n",
       "      <td>41</td>\n",
       "      <td>1.0</td>\n",
       "      <td>83807.86</td>\n",
       "      <td>1</td>\n",
       "      <td>0</td>\n",
       "      <td>1</td>\n",
       "      <td>112542.58</td>\n",
       "      <td>0</td>\n",
       "    </tr>\n",
       "    <tr>\n",
       "      <th>2</th>\n",
       "      <td>3</td>\n",
       "      <td>15619304</td>\n",
       "      <td>Onio</td>\n",
       "      <td>502</td>\n",
       "      <td>France</td>\n",
       "      <td>Female</td>\n",
       "      <td>42</td>\n",
       "      <td>8.0</td>\n",
       "      <td>159660.80</td>\n",
       "      <td>3</td>\n",
       "      <td>1</td>\n",
       "      <td>0</td>\n",
       "      <td>113931.57</td>\n",
       "      <td>1</td>\n",
       "    </tr>\n",
       "    <tr>\n",
       "      <th>3</th>\n",
       "      <td>4</td>\n",
       "      <td>15701354</td>\n",
       "      <td>Boni</td>\n",
       "      <td>699</td>\n",
       "      <td>France</td>\n",
       "      <td>Female</td>\n",
       "      <td>39</td>\n",
       "      <td>1.0</td>\n",
       "      <td>0.00</td>\n",
       "      <td>2</td>\n",
       "      <td>0</td>\n",
       "      <td>0</td>\n",
       "      <td>93826.63</td>\n",
       "      <td>0</td>\n",
       "    </tr>\n",
       "    <tr>\n",
       "      <th>4</th>\n",
       "      <td>5</td>\n",
       "      <td>15737888</td>\n",
       "      <td>Mitchell</td>\n",
       "      <td>850</td>\n",
       "      <td>Spain</td>\n",
       "      <td>Female</td>\n",
       "      <td>43</td>\n",
       "      <td>2.0</td>\n",
       "      <td>125510.82</td>\n",
       "      <td>1</td>\n",
       "      <td>1</td>\n",
       "      <td>1</td>\n",
       "      <td>79084.10</td>\n",
       "      <td>0</td>\n",
       "    </tr>\n",
       "    <tr>\n",
       "      <th>5</th>\n",
       "      <td>6</td>\n",
       "      <td>15574012</td>\n",
       "      <td>Chu</td>\n",
       "      <td>645</td>\n",
       "      <td>Spain</td>\n",
       "      <td>Male</td>\n",
       "      <td>44</td>\n",
       "      <td>8.0</td>\n",
       "      <td>113755.78</td>\n",
       "      <td>2</td>\n",
       "      <td>1</td>\n",
       "      <td>0</td>\n",
       "      <td>149756.71</td>\n",
       "      <td>1</td>\n",
       "    </tr>\n",
       "    <tr>\n",
       "      <th>6</th>\n",
       "      <td>7</td>\n",
       "      <td>15592531</td>\n",
       "      <td>Bartlett</td>\n",
       "      <td>822</td>\n",
       "      <td>France</td>\n",
       "      <td>Male</td>\n",
       "      <td>50</td>\n",
       "      <td>7.0</td>\n",
       "      <td>0.00</td>\n",
       "      <td>2</td>\n",
       "      <td>1</td>\n",
       "      <td>1</td>\n",
       "      <td>10062.80</td>\n",
       "      <td>0</td>\n",
       "    </tr>\n",
       "    <tr>\n",
       "      <th>7</th>\n",
       "      <td>8</td>\n",
       "      <td>15656148</td>\n",
       "      <td>Obinna</td>\n",
       "      <td>376</td>\n",
       "      <td>Germany</td>\n",
       "      <td>Female</td>\n",
       "      <td>29</td>\n",
       "      <td>4.0</td>\n",
       "      <td>115046.74</td>\n",
       "      <td>4</td>\n",
       "      <td>1</td>\n",
       "      <td>0</td>\n",
       "      <td>119346.88</td>\n",
       "      <td>1</td>\n",
       "    </tr>\n",
       "    <tr>\n",
       "      <th>8</th>\n",
       "      <td>9</td>\n",
       "      <td>15792365</td>\n",
       "      <td>He</td>\n",
       "      <td>501</td>\n",
       "      <td>France</td>\n",
       "      <td>Male</td>\n",
       "      <td>44</td>\n",
       "      <td>4.0</td>\n",
       "      <td>142051.07</td>\n",
       "      <td>2</td>\n",
       "      <td>0</td>\n",
       "      <td>1</td>\n",
       "      <td>74940.50</td>\n",
       "      <td>0</td>\n",
       "    </tr>\n",
       "    <tr>\n",
       "      <th>9</th>\n",
       "      <td>10</td>\n",
       "      <td>15592389</td>\n",
       "      <td>H?</td>\n",
       "      <td>684</td>\n",
       "      <td>France</td>\n",
       "      <td>Male</td>\n",
       "      <td>27</td>\n",
       "      <td>2.0</td>\n",
       "      <td>134603.88</td>\n",
       "      <td>1</td>\n",
       "      <td>1</td>\n",
       "      <td>1</td>\n",
       "      <td>71725.73</td>\n",
       "      <td>0</td>\n",
       "    </tr>\n",
       "  </tbody>\n",
       "</table>\n",
       "</div>"
      ],
      "text/plain": [
       "   RowNumber  CustomerId   Surname  CreditScore Geography  Gender  Age  \\\n",
       "0          1    15634602  Hargrave          619    France  Female   42   \n",
       "1          2    15647311      Hill          608     Spain  Female   41   \n",
       "2          3    15619304      Onio          502    France  Female   42   \n",
       "3          4    15701354      Boni          699    France  Female   39   \n",
       "4          5    15737888  Mitchell          850     Spain  Female   43   \n",
       "5          6    15574012       Chu          645     Spain    Male   44   \n",
       "6          7    15592531  Bartlett          822    France    Male   50   \n",
       "7          8    15656148    Obinna          376   Germany  Female   29   \n",
       "8          9    15792365        He          501    France    Male   44   \n",
       "9         10    15592389        H?          684    France    Male   27   \n",
       "\n",
       "   Tenure    Balance  NumOfProducts  HasCrCard  IsActiveMember  \\\n",
       "0     2.0       0.00              1          1               1   \n",
       "1     1.0   83807.86              1          0               1   \n",
       "2     8.0  159660.80              3          1               0   \n",
       "3     1.0       0.00              2          0               0   \n",
       "4     2.0  125510.82              1          1               1   \n",
       "5     8.0  113755.78              2          1               0   \n",
       "6     7.0       0.00              2          1               1   \n",
       "7     4.0  115046.74              4          1               0   \n",
       "8     4.0  142051.07              2          0               1   \n",
       "9     2.0  134603.88              1          1               1   \n",
       "\n",
       "   EstimatedSalary  Exited  \n",
       "0        101348.88       1  \n",
       "1        112542.58       0  \n",
       "2        113931.57       1  \n",
       "3         93826.63       0  \n",
       "4         79084.10       0  \n",
       "5        149756.71       1  \n",
       "6         10062.80       0  \n",
       "7        119346.88       1  \n",
       "8         74940.50       0  \n",
       "9         71725.73       0  "
      ]
     },
     "execution_count": 3,
     "metadata": {},
     "output_type": "execute_result"
    }
   ],
   "source": [
    "data.head(10)"
   ]
  },
  {
   "cell_type": "markdown",
   "metadata": {
    "id": "eCBKd93R5iHZ"
   },
   "source": [
    "##### Описание данных\n",
    "\n",
    "Признаки\n",
    "- RowNumber — индекс строки в данных\n",
    "- CustomerId — уникальный идентификатор клиента\n",
    "- Surname — фамилия\n",
    "- CreditScore — кредитный рейтинг\n",
    "- Geography — страна проживания\n",
    "- Gender — пол\n",
    "- Age — возраст\n",
    "- Tenure — сколько лет человек является клиентом банка\n",
    "- Balance — баланс на счёте\n",
    "- NumOfProducts — количество продуктов банка, используемых клиентом\n",
    "- HasCrCard — наличие кредитной карты\n",
    "- IsActiveMember — активность клиента\n",
    "- EstimatedSalary — предполагаемая зарплата\n",
    "\n",
    "Целевой признак\n",
    "- Exited — факт ухода клиента"
   ]
  },
  {
   "cell_type": "code",
   "execution_count": 4,
   "metadata": {
    "colab": {
     "base_uri": "https://localhost:8080/"
    },
    "executionInfo": {
     "elapsed": 22,
     "status": "ok",
     "timestamp": 1683105473615,
     "user": {
      "displayName": "Григорий Жилин",
      "userId": "01074399555567380101"
     },
     "user_tz": -60
    },
    "id": "A7jpAC_k5iHa",
    "outputId": "a59a98a4-83a0-4c2f-cd6b-80568651e6c0"
   },
   "outputs": [
    {
     "name": "stdout",
     "output_type": "stream",
     "text": [
      "<class 'pandas.core.frame.DataFrame'>\n",
      "RangeIndex: 10000 entries, 0 to 9999\n",
      "Data columns (total 14 columns):\n",
      " #   Column           Non-Null Count  Dtype  \n",
      "---  ------           --------------  -----  \n",
      " 0   RowNumber        10000 non-null  int64  \n",
      " 1   CustomerId       10000 non-null  int64  \n",
      " 2   Surname          10000 non-null  object \n",
      " 3   CreditScore      10000 non-null  int64  \n",
      " 4   Geography        10000 non-null  object \n",
      " 5   Gender           10000 non-null  object \n",
      " 6   Age              10000 non-null  int64  \n",
      " 7   Tenure           9091 non-null   float64\n",
      " 8   Balance          10000 non-null  float64\n",
      " 9   NumOfProducts    10000 non-null  int64  \n",
      " 10  HasCrCard        10000 non-null  int64  \n",
      " 11  IsActiveMember   10000 non-null  int64  \n",
      " 12  EstimatedSalary  10000 non-null  float64\n",
      " 13  Exited           10000 non-null  int64  \n",
      "dtypes: float64(3), int64(8), object(3)\n",
      "memory usage: 1.1+ MB\n"
     ]
    }
   ],
   "source": [
    "data.info()"
   ]
  },
  {
   "cell_type": "markdown",
   "metadata": {
    "id": "-eIInTKi5iHa"
   },
   "source": [
    "Проверим количество дубликатов:"
   ]
  },
  {
   "cell_type": "code",
   "execution_count": 5,
   "metadata": {
    "colab": {
     "base_uri": "https://localhost:8080/"
    },
    "executionInfo": {
     "elapsed": 19,
     "status": "ok",
     "timestamp": 1683105473615,
     "user": {
      "displayName": "Григорий Жилин",
      "userId": "01074399555567380101"
     },
     "user_tz": -60
    },
    "id": "3A7tNgsg5iHa",
    "outputId": "973a7b0b-f83c-496c-f5a9-9b2940b9a578"
   },
   "outputs": [
    {
     "name": "stdout",
     "output_type": "stream",
     "text": [
      "Количество дубликатов в датасете составляет: 0\n",
      "Не уникальные пользователи: 0\n"
     ]
    }
   ],
   "source": [
    "print('Количество дубликатов в датасете составляет: {}'.format(data.duplicated().sum()))\n",
    "print('Не уникальные пользователи: {}'.format(data.CustomerId.duplicated().sum()))"
   ]
  },
  {
   "cell_type": "code",
   "execution_count": 6,
   "metadata": {
    "colab": {
     "base_uri": "https://localhost:8080/"
    },
    "executionInfo": {
     "elapsed": 17,
     "status": "ok",
     "timestamp": 1683105473616,
     "user": {
      "displayName": "Григорий Жилин",
      "userId": "01074399555567380101"
     },
     "user_tz": -60
    },
    "id": "JYBNcjEV5iHb",
    "outputId": "fa15ce41-a5ab-4fc7-a0ea-bbc6ff464dcd"
   },
   "outputs": [
    {
     "data": {
      "text/plain": [
       "France     5014\n",
       "Germany    2509\n",
       "Spain      2477\n",
       "Name: Geography, dtype: int64"
      ]
     },
     "execution_count": 6,
     "metadata": {},
     "output_type": "execute_result"
    }
   ],
   "source": [
    "data.Geography.value_counts()"
   ]
  },
  {
   "cell_type": "code",
   "execution_count": 7,
   "metadata": {
    "colab": {
     "base_uri": "https://localhost:8080/"
    },
    "executionInfo": {
     "elapsed": 15,
     "status": "ok",
     "timestamp": 1683105473616,
     "user": {
      "displayName": "Григорий Жилин",
      "userId": "01074399555567380101"
     },
     "user_tz": -60
    },
    "id": "LzFZa8Ey5iHb",
    "outputId": "9d4211eb-efc1-454c-ec8f-89d50e2c2056"
   },
   "outputs": [
    {
     "data": {
      "text/plain": [
       "Male      5457\n",
       "Female    4543\n",
       "Name: Gender, dtype: int64"
      ]
     },
     "execution_count": 7,
     "metadata": {},
     "output_type": "execute_result"
    }
   ],
   "source": [
    "data.Gender.value_counts()"
   ]
  },
  {
   "cell_type": "code",
   "execution_count": 8,
   "metadata": {
    "colab": {
     "base_uri": "https://localhost:8080/",
     "height": 853
    },
    "executionInfo": {
     "elapsed": 2467,
     "status": "ok",
     "timestamp": 1683105476070,
     "user": {
      "displayName": "Григорий Жилин",
      "userId": "01074399555567380101"
     },
     "user_tz": -60
    },
    "id": "oh-xNog15iHc",
    "outputId": "4c916106-44d9-4c28-de53-14ffc115dbe3"
   },
   "outputs": [
    {
     "data": {
      "image/png": "[encoded data removed]",
      "text/plain": [
       "<Figure size 1000x1000 with 4 Axes>"
      ]
     },
     "metadata": {},
     "output_type": "display_data"
    }
   ],
   "source": [
    "ax = data[['CreditScore','Age','Balance']].hist(figsize=(10,10))"
   ]
  },
  {
   "cell_type": "code",
   "execution_count": 9,
   "metadata": {
    "colab": {
     "base_uri": "https://localhost:8080/"
    },
    "executionInfo": {
     "elapsed": 9,
     "status": "ok",
     "timestamp": 1683105476071,
     "user": {
      "displayName": "Григорий Жилин",
      "userId": "01074399555567380101"
     },
     "user_tz": -60
    },
    "id": "HZynM5I85iHc",
    "outputId": "b678f09d-9cff-4a92-ec3f-340c74fb891c"
   },
   "outputs": [
    {
     "name": "stdout",
     "output_type": "stream",
     "text": [
      "Количество клиентов, не достигших 18 лет: 0\n"
     ]
    }
   ],
   "source": [
    "print('Количество клиентов, не достигших 18 лет: {}'.format(data\n",
    "                                                            .query('Age < 18')\n",
    "                                                            .Age.count()))"
   ]
  },
  {
   "cell_type": "code",
   "execution_count": 10,
   "metadata": {
    "colab": {
     "base_uri": "https://localhost:8080/",
     "height": 739
    },
    "executionInfo": {
     "elapsed": 545,
     "status": "ok",
     "timestamp": 1683105476611,
     "user": {
      "displayName": "Григорий Жилин",
      "userId": "01074399555567380101"
     },
     "user_tz": -60
    },
    "id": "1T6nwIJt5iHc",
    "outputId": "8ae19236-7e7c-419e-fe50-b28a0a42a1e4"
   },
   "outputs": [
    {
     "data": {
      "image/png": "[encoded data removed]",
      "text/plain": [
       "<Figure size 1200x800 with 1 Axes>"
      ]
     },
     "metadata": {},
     "output_type": "display_data"
    }
   ],
   "source": [
    "ax = data.Tenure.hist(bins=21, figsize=(12,8))\n",
    "ax.set_title('Сколько лет человек является клиентом банка (с пропусками) \\n')\n",
    "ax.set_xlabel('Количество лет')\n",
    "ax.set_ylabel('Количество клиентов')\n",
    "plt.show()"
   ]
  },
  {
   "cell_type": "markdown",
   "metadata": {
    "id": "rj0JPnnv5iHd"
   },
   "source": [
    "Есть множество вариантов, как мы можем заполнить пропуски, вот некоторые из них:\n",
    "1. Заполнение медианной или средним значением;\n",
    "2. Заполнение `0` или маркером. `0` можно обосновать тем, что раз данных нет, то клиент не являлся клиентом до недавнего времени;\n",
    "3. Заполнение случайными числами. Выберем именно этот вариант, однако введем веса для каждого значения. Таким образом, сохраним изначальное распределение данных."
   ]
  },
  {
   "cell_type": "code",
   "execution_count": 11,
   "metadata": {
    "executionInfo": {
     "elapsed": 18,
     "status": "ok",
     "timestamp": 1683105476612,
     "user": {
      "displayName": "Григорий Жилин",
      "userId": "01074399555567380101"
     },
     "user_tz": -60
    },
    "id": "sFB6wbJ05iHd"
   },
   "outputs": [],
   "source": [
    "### Зафиксируем результат\n",
    "#random.seed(12345)\n",
    "#values = list(range(0,11))\n",
    "#weight = (data.Tenure.value_counts() / data.Tenure.count()).sort_index()\n",
    "#data.loc[data['Tenure'].isna(), 'Tenure'] = \\\n",
    "#    (data.loc[data['Tenure'].isna(), 'Tenure']\n",
    "#     .apply(lambda x: (random.choices(values, weights=weight, k=1)[0])))"
   ]
  },
  {
   "cell_type": "code",
   "execution_count": 12,
   "metadata": {},
   "outputs": [
    {
     "name": "stdout",
     "output_type": "stream",
     "text": [
      "Количество строк после удаления пропусков: 9091\n"
     ]
    }
   ],
   "source": [
    "data = data.query('Tenure.notna()')\n",
    "print('Количество строк после удаления пропусков: {}'.format(data.shape[0]))"
   ]
  },
  {
   "cell_type": "code",
   "execution_count": 13,
   "metadata": {
    "colab": {
     "base_uri": "https://localhost:8080/",
     "height": 739
    },
    "executionInfo": {
     "elapsed": 18,
     "status": "ok",
     "timestamp": 1683105476612,
     "user": {
      "displayName": "Григорий Жилин",
      "userId": "01074399555567380101"
     },
     "user_tz": -60
    },
    "id": "jC0r6Q2_5iHd",
    "outputId": "2594fd08-1aac-486e-a9e4-237be2d7197b"
   },
   "outputs": [
    {
     "data": {
      "image/png": "[encoded data removed]",
      "text/plain": [
       "<Figure size 1200x800 with 1 Axes>"
      ]
     },
     "metadata": {},
     "output_type": "display_data"
    }
   ],
   "source": [
    "ax = data.Tenure.hist(bins=21, figsize=(12,8))\n",
    "ax.set_title('Сколько лет человек является клиентом банка (без пропусков) \\n')\n",
    "ax.set_xlabel('Количество лет')\n",
    "ax.set_ylabel('Количество клиентов')\n",
    "plt.show()"
   ]
  },
  {
   "cell_type": "markdown",
   "metadata": {
    "id": "JEREiFyB5iHe"
   },
   "source": [
    "Данные больше не содержат пропусков. При этом распределение по годам осталось в прежнем виде. "
   ]
  },
  {
   "cell_type": "markdown",
   "metadata": {
    "id": "WRj7AyrV5iHe"
   },
   "source": [
    "Посмотрим внимательно на столбец `Balance`"
   ]
  },
  {
   "cell_type": "code",
   "execution_count": 14,
   "metadata": {
    "colab": {
     "base_uri": "https://localhost:8080/",
     "height": 739
    },
    "executionInfo": {
     "elapsed": 507,
     "status": "ok",
     "timestamp": 1683105477105,
     "user": {
      "displayName": "Григорий Жилин",
      "userId": "01074399555567380101"
     },
     "user_tz": -60
    },
    "id": "kE9X6UeU5iHf",
    "outputId": "7b7e5635-f7f5-424c-ed2b-9c03214791c7"
   },
   "outputs": [
    {
     "data": {
      "image/png": "[encoded data removed]",
      "text/plain": [
       "<Figure size 1200x800 with 1 Axes>"
      ]
     },
     "metadata": {},
     "output_type": "display_data"
    }
   ],
   "source": [
    "ax = data.Balance.hist(bins=30, figsize=(12,8))\n",
    "ax.set_title('Balance \\n')\n",
    "ax.set_xlabel('Баланс на счёте')\n",
    "ax.set_ylabel('Количество клиентов')\n",
    "plt.show()"
   ]
  },
  {
   "cell_type": "markdown",
   "metadata": {
    "id": "GqYKB8wF5iHf"
   },
   "source": [
    "Имеется множество (~30%) клиентов, баланс на счете которых составляет 0. Если убрать `0`, то распределение денег на счете можно назвать \"нормальным\". "
   ]
  },
  {
   "cell_type": "code",
   "execution_count": 15,
   "metadata": {
    "executionInfo": {
     "elapsed": 19,
     "status": "ok",
     "timestamp": 1683105477105,
     "user": {
      "displayName": "Григорий Жилин",
      "userId": "01074399555567380101"
     },
     "user_tz": -60
    },
    "id": "s9gvsS8v5iHf"
   },
   "outputs": [],
   "source": [
    "data = data.iloc[:,3:]"
   ]
  },
  {
   "cell_type": "code",
   "execution_count": 16,
   "metadata": {
    "colab": {
     "base_uri": "https://localhost:8080/",
     "height": 206
    },
    "executionInfo": {
     "elapsed": 16,
     "status": "ok",
     "timestamp": 1683105477106,
     "user": {
      "displayName": "Григорий Жилин",
      "userId": "01074399555567380101"
     },
     "user_tz": -60
    },
    "id": "3Ky-7lNg5iHf",
    "outputId": "78e96095-9a0d-441a-9430-c545d611111a"
   },
   "outputs": [
    {
     "data": {
      "text/html": [
       "<div>\n",
       "<style scoped>\n",
       "    .dataframe tbody tr th:only-of-type {\n",
       "        vertical-align: middle;\n",
       "    }\n",
       "\n",
       "    .dataframe tbody tr th {\n",
       "        vertical-align: top;\n",
       "    }\n",
       "\n",
       "    .dataframe thead th {\n",
       "        text-align: right;\n",
       "    }\n",
       "</style>\n",
       "<table border=\"1\" class=\"dataframe\">\n",
       "  <thead>\n",
       "    <tr style=\"text-align: right;\">\n",
       "      <th></th>\n",
       "      <th>CreditScore</th>\n",
       "      <th>Geography</th>\n",
       "      <th>Gender</th>\n",
       "      <th>Age</th>\n",
       "      <th>Tenure</th>\n",
       "      <th>Balance</th>\n",
       "      <th>NumOfProducts</th>\n",
       "      <th>HasCrCard</th>\n",
       "      <th>IsActiveMember</th>\n",
       "      <th>EstimatedSalary</th>\n",
       "      <th>Exited</th>\n",
       "    </tr>\n",
       "  </thead>\n",
       "  <tbody>\n",
       "    <tr>\n",
       "      <th>0</th>\n",
       "      <td>619</td>\n",
       "      <td>France</td>\n",
       "      <td>Female</td>\n",
       "      <td>42</td>\n",
       "      <td>2.0</td>\n",
       "      <td>0.00</td>\n",
       "      <td>1</td>\n",
       "      <td>1</td>\n",
       "      <td>1</td>\n",
       "      <td>101348.88</td>\n",
       "      <td>1</td>\n",
       "    </tr>\n",
       "    <tr>\n",
       "      <th>1</th>\n",
       "      <td>608</td>\n",
       "      <td>Spain</td>\n",
       "      <td>Female</td>\n",
       "      <td>41</td>\n",
       "      <td>1.0</td>\n",
       "      <td>83807.86</td>\n",
       "      <td>1</td>\n",
       "      <td>0</td>\n",
       "      <td>1</td>\n",
       "      <td>112542.58</td>\n",
       "      <td>0</td>\n",
       "    </tr>\n",
       "    <tr>\n",
       "      <th>2</th>\n",
       "      <td>502</td>\n",
       "      <td>France</td>\n",
       "      <td>Female</td>\n",
       "      <td>42</td>\n",
       "      <td>8.0</td>\n",
       "      <td>159660.80</td>\n",
       "      <td>3</td>\n",
       "      <td>1</td>\n",
       "      <td>0</td>\n",
       "      <td>113931.57</td>\n",
       "      <td>1</td>\n",
       "    </tr>\n",
       "    <tr>\n",
       "      <th>3</th>\n",
       "      <td>699</td>\n",
       "      <td>France</td>\n",
       "      <td>Female</td>\n",
       "      <td>39</td>\n",
       "      <td>1.0</td>\n",
       "      <td>0.00</td>\n",
       "      <td>2</td>\n",
       "      <td>0</td>\n",
       "      <td>0</td>\n",
       "      <td>93826.63</td>\n",
       "      <td>0</td>\n",
       "    </tr>\n",
       "    <tr>\n",
       "      <th>4</th>\n",
       "      <td>850</td>\n",
       "      <td>Spain</td>\n",
       "      <td>Female</td>\n",
       "      <td>43</td>\n",
       "      <td>2.0</td>\n",
       "      <td>125510.82</td>\n",
       "      <td>1</td>\n",
       "      <td>1</td>\n",
       "      <td>1</td>\n",
       "      <td>79084.10</td>\n",
       "      <td>0</td>\n",
       "    </tr>\n",
       "  </tbody>\n",
       "</table>\n",
       "</div>"
      ],
      "text/plain": [
       "   CreditScore Geography  Gender  Age  Tenure    Balance  NumOfProducts  \\\n",
       "0          619    France  Female   42     2.0       0.00              1   \n",
       "1          608     Spain  Female   41     1.0   83807.86              1   \n",
       "2          502    France  Female   42     8.0  159660.80              3   \n",
       "3          699    France  Female   39     1.0       0.00              2   \n",
       "4          850     Spain  Female   43     2.0  125510.82              1   \n",
       "\n",
       "   HasCrCard  IsActiveMember  EstimatedSalary  Exited  \n",
       "0          1               1        101348.88       1  \n",
       "1          0               1        112542.58       0  \n",
       "2          1               0        113931.57       1  \n",
       "3          0               0         93826.63       0  \n",
       "4          1               1         79084.10       0  "
      ]
     },
     "execution_count": 16,
     "metadata": {},
     "output_type": "execute_result"
    }
   ],
   "source": [
    "data.head()"
   ]
  },
  {
   "cell_type": "markdown",
   "metadata": {
    "id": "mpQ_jEG25iHg"
   },
   "source": [
    "#### Выводы\n",
    "\n",
    "Датасет состоит из `10000` уникальных строк и `14` колонок.\n",
    "\n",
    "Были обнаружены следующие проблемы:\n",
    "- колонка `RowNumber` дублирует индекс;\n",
    "- `Surname` - столбец, содержащий фамилии. Не несет полезной информации для целей анализа;\n",
    "- `CustomerId` - столбец с уникальным id, который позволяет найти дубликаты. Не несёт никакой полезной информации для дальнейшей работы;\n",
    "- в колонке `Tenure` наблюдаются пропуски;\n",
    "- имеются категориальные признаки в колонках `Geography` и `Gender`\n",
    "- разный масштаб данных."
   ]
  },
  {
   "cell_type": "markdown",
   "metadata": {
    "id": "ZYRkiMeb5iHg"
   },
   "source": [
    "## Исследование задачи"
   ]
  },
  {
   "cell_type": "markdown",
   "metadata": {
    "id": "HzgSZYg25iHg"
   },
   "source": [
    "#### Разбиение признаков"
   ]
  },
  {
   "cell_type": "markdown",
   "metadata": {
    "id": "t1MC7Nnh5iHg"
   },
   "source": [
    "У нас имеются категориальные признаки, которые необходимо преобразовать к количественным. Для этих целей используем `One-Hot Encoding`:"
   ]
  },
  {
   "cell_type": "code",
   "execution_count": 17,
   "metadata": {
    "executionInfo": {
     "elapsed": 16,
     "status": "ok",
     "timestamp": 1683105477107,
     "user": {
      "displayName": "Григорий Жилин",
      "userId": "01074399555567380101"
     },
     "user_tz": -60
    },
    "id": "31riOlQx5iHg"
   },
   "outputs": [],
   "source": [
    "#data_OHE = pd.get_dummies(data, drop_first=True)"
   ]
  },
  {
   "cell_type": "code",
   "execution_count": 18,
   "metadata": {
    "colab": {
     "base_uri": "https://localhost:8080/",
     "height": 206
    },
    "executionInfo": {
     "elapsed": 15,
     "status": "ok",
     "timestamp": 1683105477107,
     "user": {
      "displayName": "Григорий Жилин",
      "userId": "01074399555567380101"
     },
     "user_tz": -60
    },
    "id": "gJDjwMk_5iHh",
    "outputId": "5e4a0261-ea93-44f5-ee60-ea780b889bd7"
   },
   "outputs": [],
   "source": [
    "#data_OHE.head(5)"
   ]
  },
  {
   "cell_type": "markdown",
   "metadata": {
    "id": "IoM3yGy35iHh"
   },
   "source": [
    "После преобразования мы получили датасет с 12 колонками. Это произошло в следствии разделения столбца `Geography` на `Geography_Germany`, `Geography_Spain`, а колонки `Gender` на `Gender_Male`"
   ]
  },
  {
   "cell_type": "markdown",
   "metadata": {
    "id": "CI-LxNDh5iHh"
   },
   "source": [
    "#### Разделение выборки"
   ]
  },
  {
   "cell_type": "markdown",
   "metadata": {
    "id": "obY-dSKV5iHh"
   },
   "source": [
    "Сделаем два датафрейма с признаками и целевым признаком. Также разделим выборку на 3:\n",
    "\n",
    "- `Train` - 60% - обучающая выборка;\n",
    "- `Valid` - 20% - валидационная выборка;\n",
    "- `Test` - 20% - тестовая выборка."
   ]
  },
  {
   "cell_type": "code",
   "execution_count": 19,
   "metadata": {
    "executionInfo": {
     "elapsed": 16,
     "status": "ok",
     "timestamp": 1683105477108,
     "user": {
      "displayName": "Григорий Жилин",
      "userId": "01074399555567380101"
     },
     "user_tz": -60
    },
    "id": "FAPYquv_5iHi"
   },
   "outputs": [],
   "source": [
    "features = data.iloc[:, data.columns!='Exited']\n",
    "target = data['Exited']"
   ]
  },
  {
   "cell_type": "code",
   "execution_count": 20,
   "metadata": {
    "executionInfo": {
     "elapsed": 16,
     "status": "ok",
     "timestamp": 1683105477109,
     "user": {
      "displayName": "Григорий Жилин",
      "userId": "01074399555567380101"
     },
     "user_tz": -60
    },
    "id": "RAg49EsG5iHi"
   },
   "outputs": [],
   "source": [
    "train_features, valid_features, train_target, valid_target = train_test_split(\n",
    "                                                                            features,\n",
    "                                                                            target,\n",
    "                                                                            test_size=.4,\n",
    "                                                                            random_state=12345)\n",
    "valid_features, test_features, valid_target, test_target = train_test_split(valid_features,\n",
    "                                                                            valid_target, \n",
    "                                                                            test_size=.5,\n",
    "                                                                            random_state=12345)"
   ]
  },
  {
   "cell_type": "code",
   "execution_count": 21,
   "metadata": {
    "colab": {
     "base_uri": "https://localhost:8080/"
    },
    "executionInfo": {
     "elapsed": 8,
     "status": "ok",
     "timestamp": 1683105478498,
     "user": {
      "displayName": "Григорий Жилин",
      "userId": "01074399555567380101"
     },
     "user_tz": -60
    },
    "id": "06oD994w5iHi",
    "outputId": "20e0da80-c762-462a-88a5-56c31a477e1c"
   },
   "outputs": [
    {
     "name": "stdout",
     "output_type": "stream",
     "text": [
      "Датасет имеет размер в 9091 строк\n",
      "\n",
      "Обучающая выборка состоит из 5454 строк. Процентное соотношение обучающей выборки к полной: 60%\n",
      "****************************************************************************************************\n",
      "Обучающая выборка состоит из 1818 строк. Процентное соотношение обучающей выборки к полной: 20%\n",
      "****************************************************************************************************\n",
      "Обучающая выборка состоит из 1819 строк. Процентное соотношение обучающей выборки к полной: 20%\n",
      "****************************************************************************************************\n"
     ]
    }
   ],
   "source": [
    "lst_shapes = [train_features.shape[0],valid_features.shape[0],test_target.shape[0]]\n",
    "print(f'Датасет имеет размер в {data.shape[0]} строк' + '\\n')\n",
    "for value in lst_shapes:\n",
    "    print('Обучающая выборка состоит из {} строк. Процентное соотношение обучающей выборки к полной: {:.0%}'\n",
    "          .format(value,value/data.shape[0]))\n",
    "    print('*' * 100)"
   ]
  },
  {
   "cell_type": "code",
   "execution_count": 22,
   "metadata": {},
   "outputs": [],
   "source": [
    "encoder = OneHotEncoder(handle_unknown='ignore',drop='first')\n",
    "\n",
    "lst_of_category = ['Geography','Gender']\n",
    "columns_name = ['is_france','is_spain','gender']\n",
    "\n",
    "encoder_train = pd.DataFrame(encoder\n",
    "                             .fit_transform(train_features[lst_of_category])\n",
    "                             .toarray(),columns=columns_name)\n",
    "encoder_vaild = pd.DataFrame(encoder\n",
    "                             .transform(valid_features[lst_of_category])\n",
    "                             .toarray(),columns=columns_name)\n",
    "encoder_test = pd.DataFrame(encoder\n",
    "                            .transform(test_features[lst_of_category])\n",
    "                            .toarray(),columns=columns_name)\n",
    "\n",
    "\n",
    "train_features = (train_features\n",
    "                  .drop(columns=lst_of_category)\n",
    "                  .reset_index(drop=True)\n",
    "                  .join(encoder_train))\n",
    "valid_features = (valid_features\n",
    "                  .drop(columns=lst_of_category)\n",
    "                  .reset_index(drop=True)\n",
    "                  .join(encoder_vaild))\n",
    "test_features = (test_features\n",
    "                 .drop(columns=lst_of_category)\n",
    "                 .reset_index(drop=True)\n",
    "                 .join(encoder_test))\n",
    "\n",
    "train_target.reset_index(drop=True,inplace=True)\n",
    "valid_target.reset_index(drop=True,inplace=True)\n",
    "test_target.reset_index(drop=True,inplace=True)"
   ]
  },
  {
   "cell_type": "code",
   "execution_count": 23,
   "metadata": {},
   "outputs": [],
   "source": [
    "scaler = StandardScaler() \n",
    "\n",
    "numeric = ['CreditScore', 'Age', 'Tenure', 'Balance','NumOfProducts','EstimatedSalary']\n",
    "\n",
    "train_features[numeric] = pd.DataFrame(scaler.fit_transform(train_features[numeric]))\n",
    "valid_features[numeric] = pd.DataFrame(scaler.transform(valid_features[numeric]))\n",
    "test_features[numeric] = pd.DataFrame(scaler.transform(test_features[numeric]))"
   ]
  },
  {
   "cell_type": "markdown",
   "metadata": {
    "id": "aXvwsw2T5iHi"
   },
   "source": [
    "#### Обучение"
   ]
  },
  {
   "cell_type": "markdown",
   "metadata": {
    "id": "CE-bxGHX5iHj"
   },
   "source": [
    "Напишем две функции:\n",
    "1) Первая функция будет отвечать за оптимизацию гиперпараметров. Итогом её выполнения будет словарь с моделями `DecisionTreeClassifier`, `RandomForestClassifier`, `LogisticRegression` их оптимальными параметрами. Так же будет дана f1 оценка для используемых данных;\n",
    "2) Вторая функция отвечает за применение 3-х моделей с оптимальными параметрами."
   ]
  },
  {
   "cell_type": "code",
   "execution_count": 24,
   "metadata": {
    "executionInfo": {
     "elapsed": 7,
     "status": "ok",
     "timestamp": 1683105478498,
     "user": {
      "displayName": "Григорий Жилин",
      "userId": "01074399555567380101"
     },
     "user_tz": -60
    },
    "id": "9wTnB2Nv5iHj"
   },
   "outputs": [],
   "source": [
    "def param_optimization(features_train, target_train, features_test, target_test):\n",
    "\n",
    "    dict_best_models = {}\n",
    "    \n",
    "    \n",
    "    best_score = 0\n",
    "    for depth in range(5,20):\n",
    "        model_dtc = DecisionTreeClassifier(max_depth=depth,\n",
    "                                           random_state=12345).fit(features_train, target_train)\n",
    "        predict_model_dtc = model_dtc.predict(features_test)\n",
    "        result_dtc = f1_score(target_test, predict_model_dtc)\n",
    "        if result_dtc > best_score:\n",
    "            best_score = result_dtc\n",
    "            best_depth = depth\n",
    "            probabilities_valid = model_dtc.predict_proba(features_test)\n",
    "            probabilities_one_valid = probabilities_valid[:, 1]\n",
    "            auc_roc = roc_auc_score(target_test, probabilities_one_valid)\n",
    "    \n",
    "    \n",
    "    dict_best_models['DecisionTreeClassifier'] =  DecisionTreeClassifier(max_depth=best_depth,random_state=12345)\n",
    "    \n",
    "    print('DecisionTreeClassifier имеет наибольшую оценку f1_score: {:.3}, auc_roc: {:.3}. Используемые параметры n - {}.'.format(best_score,\n",
    "                                                                                                                               auc_roc,\n",
    "                                                                                                                               best_depth))\n",
    "    print('*' * 100)\n",
    "    \n",
    "    \n",
    "    best_score = 0\n",
    "    for n in range(5,20):\n",
    "        for depth in range(5,20):\n",
    "            model_rfc = RandomForestClassifier(max_depth=depth,\n",
    "                                               n_estimators=n,\n",
    "                                               random_state=12345).fit(features_train,\n",
    "                                                                       target_train)\n",
    "            predict_model_rfc = model_rfc.predict(features_test)\n",
    "            result_rfc = f1_score(target_test, predict_model_rfc)\n",
    "            if result_rfc > best_score:\n",
    "                best_score = result_rfc\n",
    "                best_n = n\n",
    "                best_depth = depth\n",
    "                probabilities_valid = model_rfc.predict_proba(features_test)\n",
    "                probabilities_one_valid = probabilities_valid[:, 1]\n",
    "                auc_roc = roc_auc_score(target_test, probabilities_one_valid)\n",
    "    dict_best_models['RandomForestClassifier'] = RandomForestClassifier(max_depth=best_depth, n_estimators=best_n, random_state=12345)\n",
    "    \n",
    "    \n",
    "    print('RandomForestClassifier имеет наибольшую оценку f1_score: {:.3}, auc_roc: {:.3}. Используемые параметры n - {}, depth - {}.'.format(best_score,\n",
    "                                                                                                                                           auc_roc,\n",
    "                                                                                                                                           best_n,\n",
    "                                                                                                                                           best_depth))\n",
    "    print('*' * 100)\n",
    "    \n",
    "\n",
    "    model_lr = LogisticRegression(solver = 'liblinear', random_state=12345)\n",
    "    model_lr.fit(features_train, target_train)\n",
    "    predict_model_lr = model_lr.predict(features_test)\n",
    "    result_lr = f1_score(target_test, predict_model_lr)\n",
    "    probabilities_valid = model_lr.predict_proba(features_test)\n",
    "    probabilities_one_valid = probabilities_valid[:, 1]\n",
    "    auc_roc = roc_auc_score(target_test, probabilities_one_valid)\n",
    "    \n",
    "    dict_best_models['LogisticRegression'] = LogisticRegression(solver = 'liblinear', random_state=12345)\n",
    "    print('LogisticRegression имеет наибольшую оценку f1_score: {:.3}, auc_roc: {:.3}'.format(result_lr, auc_roc))\n",
    "    \n",
    "\n",
    "    return dict_best_models"
   ]
  },
  {
   "cell_type": "code",
   "execution_count": 25,
   "metadata": {
    "executionInfo": {
     "elapsed": 6,
     "status": "ok",
     "timestamp": 1683105478498,
     "user": {
      "displayName": "Григорий Жилин",
      "userId": "01074399555567380101"
     },
     "user_tz": -60
    },
    "id": "3xTYvEY55iHj"
   },
   "outputs": [],
   "source": [
    "def best_model_fit(best_models,features_train, target_train, features_test, target_test):\n",
    "    for key in best_models.keys():\n",
    "        model = best_models[key]\n",
    "        model.fit(features_train, target_train)\n",
    "        predict = model.predict(features_test)\n",
    "        score = f1_score(target_test, predict)\n",
    "        probabilities_valid = model.predict_proba(features_test)\n",
    "        probabilities_one_valid = probabilities_valid[:, 1]\n",
    "        auc_roc = roc_auc_score(target_test, probabilities_one_valid)\n",
    "        print('{} имеет оценку f1_score: {:.3}. Auc_roc: {:.3}'.format(key, score, auc_roc))\n",
    "        print('*' * 100)"
   ]
  },
  {
   "cell_type": "markdown",
   "metadata": {
    "id": "Vl56BisL5iHk"
   },
   "source": [
    "Обучим первые модели:"
   ]
  },
  {
   "cell_type": "code",
   "execution_count": 26,
   "metadata": {
    "colab": {
     "base_uri": "https://localhost:8080/"
    },
    "executionInfo": {
     "elapsed": 20865,
     "status": "ok",
     "timestamp": 1683105499357,
     "user": {
      "displayName": "Григорий Жилин",
      "userId": "01074399555567380101"
     },
     "user_tz": -60
    },
    "id": "j4pHKHLw5iHk",
    "outputId": "47a12dda-3fbc-472e-b2da-25fa995d1ece"
   },
   "outputs": [
    {
     "name": "stdout",
     "output_type": "stream",
     "text": [
      "DecisionTreeClassifier имеет наибольшую оценку f1_score: 0.576, auc_roc: 0.835. Используемые параметры n - 7.\n",
      "****************************************************************************************************\n",
      "RandomForestClassifier имеет наибольшую оценку f1_score: 0.595, auc_roc: 0.849. Используемые параметры n - 13, depth - 19.\n",
      "****************************************************************************************************\n",
      "LogisticRegression имеет наибольшую оценку f1_score: 0.304, auc_roc: 0.774\n"
     ]
    }
   ],
   "source": [
    "best_models = param_optimization(train_features,\n",
    "                   train_target,\n",
    "                   valid_features,\n",
    "                   valid_target\n",
    "                   )"
   ]
  },
  {
   "cell_type": "markdown",
   "metadata": {
    "id": "B2QGslYj5iHk"
   },
   "source": [
    "Только одна модель имеет `f1_score` выше заданного значения - `RandomForestClassifier`. \n",
    "\n",
    "Наши данные имеют несколько проблем:\n",
    "1. Данные в разном масштабе;\n",
    "2. Дисбаланс классов. \n",
    "\n",
    "Попробуем устранить каждую проблему."
   ]
  },
  {
   "cell_type": "markdown",
   "metadata": {
    "id": "mMCEK6465iHl"
   },
   "source": [
    "После скалирования оценки f1 у `RandomForestClassifier` и `DecisionTreeClassifier` остались практически на прежнем уровне, в то время, как модель `LogisticRegression` начала показывать результат сильно хуже: `0.56`, против `0.34`."
   ]
  },
  {
   "cell_type": "markdown",
   "metadata": {
    "id": "MNkUBl1Y5iHl"
   },
   "source": [
    "## Борьба с дисбалансом"
   ]
  },
  {
   "cell_type": "markdown",
   "metadata": {
    "id": "Ve37iRId5iHl"
   },
   "source": [
    "#### Оценка целевого признака:"
   ]
  },
  {
   "cell_type": "code",
   "execution_count": 27,
   "metadata": {
    "colab": {
     "base_uri": "https://localhost:8080/",
     "height": 493
    },
    "executionInfo": {
     "elapsed": 12,
     "status": "ok",
     "timestamp": 1683105499359,
     "user": {
      "displayName": "Григорий Жилин",
      "userId": "01074399555567380101"
     },
     "user_tz": -60
    },
    "id": "oXmT9DGI5iHl",
    "outputId": "c71c06b1-86af-4a1d-8c14-cf4f967a01e6"
   },
   "outputs": [
    {
     "data": {
      "image/png": "[encoded data removed]",
      "text/plain": [
       "<Figure size 640x480 with 1 Axes>"
      ]
     },
     "metadata": {},
     "output_type": "display_data"
    }
   ],
   "source": [
    "ax = train_target.hist(bins=3)\n",
    "ax.set_title('Целевой признак\\n')\n",
    "ax.set_xlabel('Оценка')\n",
    "ax.set_ylabel('Количество')\n",
    "plt.show()"
   ]
  },
  {
   "cell_type": "code",
   "execution_count": 28,
   "metadata": {
    "colab": {
     "base_uri": "https://localhost:8080/"
    },
    "executionInfo": {
     "elapsed": 11,
     "status": "ok",
     "timestamp": 1683105499359,
     "user": {
      "displayName": "Григорий Жилин",
      "userId": "01074399555567380101"
     },
     "user_tz": -60
    },
    "id": "L1doMVGo5iHm",
    "outputId": "dc50fd4c-7fa7-4d09-8ab0-dc4dffead1b8"
   },
   "outputs": [
    {
     "data": {
      "text/plain": [
       "0    0.793546\n",
       "1    0.206454\n",
       "Name: Exited, dtype: float64"
      ]
     },
     "execution_count": 28,
     "metadata": {},
     "output_type": "execute_result"
    }
   ],
   "source": [
    "train_target.value_counts(normalize=True)"
   ]
  },
  {
   "cell_type": "markdown",
   "metadata": {
    "id": "BHquqKea5iHm"
   },
   "source": [
    "#### Downsampling"
   ]
  },
  {
   "cell_type": "code",
   "execution_count": 29,
   "metadata": {
    "executionInfo": {
     "elapsed": 9,
     "status": "ok",
     "timestamp": 1683105499360,
     "user": {
      "displayName": "Григорий Жилин",
      "userId": "01074399555567380101"
     },
     "user_tz": -60
    },
    "id": "wmeI9svS5iHm"
   },
   "outputs": [],
   "source": [
    "def downsample(features, target, fraction):\n",
    "    features_zeros = features[target == 0]\n",
    "    features_ones = features[target == 1]\n",
    "    target_zeros = target[target == 0]\n",
    "    target_ones = target[target == 1]\n",
    "\n",
    "    features_downsampled = pd.concat(\n",
    "        [features_zeros.sample(frac=fraction, random_state=12345)] + [features_ones])\n",
    "    target_downsampled = pd.concat(\n",
    "        [target_zeros.sample(frac=fraction, random_state=12345)] + [target_ones])\n",
    "    \n",
    "    features_downsampled, target_downsampled = shuffle(\n",
    "        features_downsampled, target_downsampled, random_state=12345)\n",
    "    \n",
    "    return features_downsampled, target_downsampled"
   ]
  },
  {
   "cell_type": "code",
   "execution_count": 30,
   "metadata": {
    "executionInfo": {
     "elapsed": 9,
     "status": "ok",
     "timestamp": 1683105499360,
     "user": {
      "displayName": "Григорий Жилин",
      "userId": "01074399555567380101"
     },
     "user_tz": -60
    },
    "id": "X4xHbpqR5iHm"
   },
   "outputs": [],
   "source": [
    "features_downsampled, target_downsampled = downsample(train_features, train_target, 0.25)"
   ]
  },
  {
   "cell_type": "code",
   "execution_count": 31,
   "metadata": {
    "colab": {
     "base_uri": "https://localhost:8080/",
     "height": 493
    },
    "executionInfo": {
     "elapsed": 391,
     "status": "ok",
     "timestamp": 1683105499743,
     "user": {
      "displayName": "Григорий Жилин",
      "userId": "01074399555567380101"
     },
     "user_tz": -60
    },
    "id": "hTMF1pTH5iHn",
    "outputId": "6602a613-e983-46aa-bb51-74d548c0ffe8"
   },
   "outputs": [
    {
     "data": {
      "image/png": "[encoded data removed]",
      "text/plain": [
       "<Figure size 640x480 with 1 Axes>"
      ]
     },
     "metadata": {},
     "output_type": "display_data"
    }
   ],
   "source": [
    "ax = target_downsampled.hist(bins=3)\n",
    "ax.set_title('Целевой признак\\n')\n",
    "ax.set_xlabel('Оценка')\n",
    "ax.set_ylabel('Количество')\n",
    "plt.show()"
   ]
  },
  {
   "cell_type": "code",
   "execution_count": 32,
   "metadata": {},
   "outputs": [
    {
     "name": "stdout",
     "output_type": "stream",
     "text": [
      "DecisionTreeClassifier имеет наибольшую оценку f1_score: 0.564, auc_roc: 0.834. Используемые параметры n - 6.\n",
      "****************************************************************************************************\n",
      "RandomForestClassifier имеет наибольшую оценку f1_score: 0.604, auc_roc: 0.864. Используемые параметры n - 18, depth - 8.\n",
      "****************************************************************************************************\n",
      "LogisticRegression имеет наибольшую оценку f1_score: 0.504, auc_roc: 0.777\n"
     ]
    }
   ],
   "source": [
    "best_models_downsampld = param_optimization(features_downsampled,\n",
    "                   target_downsampled,\n",
    "                   valid_features,\n",
    "                   valid_target\n",
    "                   )"
   ]
  },
  {
   "cell_type": "markdown",
   "metadata": {
    "id": "IRRX6Cvm5iHn"
   },
   "source": [
    "После `downsampling` и оптимизации параметров f1_score у модели лидера `RandomForestClassifier` - `0.604`"
   ]
  },
  {
   "cell_type": "markdown",
   "metadata": {
    "id": "etwIViQP5iHn"
   },
   "source": [
    "### Upsample"
   ]
  },
  {
   "cell_type": "code",
   "execution_count": 33,
   "metadata": {
    "executionInfo": {
     "elapsed": 4,
     "status": "ok",
     "timestamp": 1683105500532,
     "user": {
      "displayName": "Григорий Жилин",
      "userId": "01074399555567380101"
     },
     "user_tz": -60
    },
    "id": "Xzf8R94L5iHn"
   },
   "outputs": [],
   "source": [
    "def upsample(features, target, repeat):\n",
    "    features_zeros = features[target == 0]\n",
    "    features_ones = features[target == 1]\n",
    "    target_zeros = target[target == 0]\n",
    "    target_ones = target[target == 1]\n",
    "\n",
    "    features_upsampled = pd.concat([features_zeros] + [features_ones] * repeat)\n",
    "    target_upsampled = pd.concat([target_zeros] + [target_ones] * repeat)\n",
    "    \n",
    "    features_upsampled, target_upsampled = shuffle(features_upsampled, target_upsampled, random_state=12345)\n",
    "    \n",
    "    return features_upsampled, target_upsampled"
   ]
  },
  {
   "cell_type": "code",
   "execution_count": 34,
   "metadata": {
    "executionInfo": {
     "elapsed": 3,
     "status": "ok",
     "timestamp": 1683105500532,
     "user": {
      "displayName": "Григорий Жилин",
      "userId": "01074399555567380101"
     },
     "user_tz": -60
    },
    "id": "OIV9Ofau5iHo"
   },
   "outputs": [],
   "source": [
    "features_upsampled, target_upsampled = upsample(train_features, train_target, 4)"
   ]
  },
  {
   "cell_type": "code",
   "execution_count": 35,
   "metadata": {
    "colab": {
     "base_uri": "https://localhost:8080/",
     "height": 493
    },
    "executionInfo": {
     "elapsed": 941,
     "status": "ok",
     "timestamp": 1683105501470,
     "user": {
      "displayName": "Григорий Жилин",
      "userId": "01074399555567380101"
     },
     "user_tz": -60
    },
    "id": "e3kLLJaD5iHo",
    "outputId": "9807d10a-096c-4786-ddb5-33378c6be4e7"
   },
   "outputs": [
    {
     "data": {
      "image/png": "[encoded data removed]",
      "text/plain": [
       "<Figure size 640x480 with 1 Axes>"
      ]
     },
     "metadata": {},
     "output_type": "display_data"
    }
   ],
   "source": [
    "ax = target_upsampled.hist(bins=3)\n",
    "ax.set_title('Целевой признак\\n')\n",
    "ax.set_xlabel('Оценка')\n",
    "ax.set_ylabel('Количество')\n",
    "plt.show()"
   ]
  },
  {
   "cell_type": "code",
   "execution_count": 36,
   "metadata": {
    "colab": {
     "base_uri": "https://localhost:8080/"
    },
    "executionInfo": {
     "elapsed": 16060,
     "status": "ok",
     "timestamp": 1683105517897,
     "user": {
      "displayName": "Григорий Жилин",
      "userId": "01074399555567380101"
     },
     "user_tz": -60
    },
    "id": "43JAUFKU5iHo",
    "outputId": "16fe3239-c0a1-44ba-f328-d423bb237d0c"
   },
   "outputs": [
    {
     "name": "stdout",
     "output_type": "stream",
     "text": [
      "DecisionTreeClassifier имеет наибольшую оценку f1_score: 0.574, auc_roc: 0.84. Используемые параметры n - 5.\n",
      "****************************************************************************************************\n",
      "RandomForestClassifier имеет наибольшую оценку f1_score: 0.622, auc_roc: 0.848. Используемые параметры n - 19, depth - 16.\n",
      "****************************************************************************************************\n",
      "LogisticRegression имеет наибольшую оценку f1_score: 0.509, auc_roc: 0.778\n"
     ]
    }
   ],
   "source": [
    "best_models_upsampled = param_optimization(features_upsampled,\n",
    "                   target_upsampled,\n",
    "                   valid_features,\n",
    "                   valid_target\n",
    "                   )"
   ]
  },
  {
   "cell_type": "markdown",
   "metadata": {},
   "source": [
    "После `upsampling` и оптимизации параметров f1_score у модели лидера `RandomForestClassifier` - `0.622`, что выше, чем при устрании дисбаланса методом `downsampling`. В связи с этим остановимся на этом методе борьбы с дисбалансом."
   ]
  },
  {
   "cell_type": "markdown",
   "metadata": {
    "id": "KK7vmxpC5iHp"
   },
   "source": [
    "## Тестирование модели"
   ]
  },
  {
   "cell_type": "markdown",
   "metadata": {
    "id": "RzG0uB4-5iHp"
   },
   "source": [
    "Для начала применим модель с оптимальными гипер параметрами до обработки дисбаланса:"
   ]
  },
  {
   "cell_type": "code",
   "execution_count": 37,
   "metadata": {
    "colab": {
     "base_uri": "https://localhost:8080/"
    },
    "executionInfo": {
     "elapsed": 28,
     "status": "ok",
     "timestamp": 1683105517897,
     "user": {
      "displayName": "Григорий Жилин",
      "userId": "01074399555567380101"
     },
     "user_tz": -60
    },
    "id": "PaUfZIj05iHp",
    "outputId": "ad6cacb7-e5b0-4669-ed99-848516388a64"
   },
   "outputs": [
    {
     "name": "stdout",
     "output_type": "stream",
     "text": [
      "DecisionTreeClassifier имеет оценку f1_score: 0.553. Auc_roc: 0.828\n",
      "****************************************************************************************************\n",
      "RandomForestClassifier имеет оценку f1_score: 0.563. Auc_roc: 0.823\n",
      "****************************************************************************************************\n",
      "LogisticRegression имеет оценку f1_score: 0.318. Auc_roc: 0.781\n",
      "****************************************************************************************************\n"
     ]
    }
   ],
   "source": [
    "best_model_fit(best_models, train_features, train_target, test_features, test_target)"
   ]
  },
  {
   "cell_type": "markdown",
   "metadata": {
    "id": "2Dh24Pta5iHp"
   },
   "source": [
    "Ни одна из моделей не удовлетворяет заданным условиям. \n",
    "\n",
    "Далее, для тестирования используем обработанные признаки с подобранными гипер параметрами и устраненым дисбалансом методом `upsample`:"
   ]
  },
  {
   "cell_type": "code",
   "execution_count": 38,
   "metadata": {
    "colab": {
     "base_uri": "https://localhost:8080/"
    },
    "executionInfo": {
     "elapsed": 27,
     "status": "ok",
     "timestamp": 1683105517898,
     "user": {
      "displayName": "Григорий Жилин",
      "userId": "01074399555567380101"
     },
     "user_tz": -60
    },
    "id": "wsFtoT6A5iHq",
    "outputId": "fef50275-b29d-4a16-dd0a-af7a4a6a30a7"
   },
   "outputs": [
    {
     "name": "stdout",
     "output_type": "stream",
     "text": [
      "DecisionTreeClassifier имеет оценку f1_score: 0.565. Auc_roc: 0.837\n",
      "****************************************************************************************************\n",
      "RandomForestClassifier имеет оценку f1_score: 0.602. Auc_roc: 0.838\n",
      "****************************************************************************************************\n",
      "LogisticRegression имеет оценку f1_score: 0.497. Auc_roc: 0.782\n",
      "****************************************************************************************************\n"
     ]
    }
   ],
   "source": [
    "best_model_fit(best_models_upsampled, features_upsampled, target_upsampled, test_features, test_target)"
   ]
  },
  {
   "cell_type": "markdown",
   "metadata": {
    "id": "YossaOaV5iHq"
   },
   "source": [
    "`RandomForestClassifier` после скалирования признаков и устранения дисбаланса классов показывает f1_score выше заданного порога: `0.602`.\n",
    "\n",
    "Построим матрицу ошибок и ROC curve:"
   ]
  },
  {
   "cell_type": "code",
   "execution_count": 39,
   "metadata": {
    "executionInfo": {
     "elapsed": 24,
     "status": "ok",
     "timestamp": 1683105517898,
     "user": {
      "displayName": "Григорий Жилин",
      "userId": "01074399555567380101"
     },
     "user_tz": -60
    },
    "id": "zsaREyJ15iHq"
   },
   "outputs": [],
   "source": [
    "model_random_forest_classifier = RandomForestClassifier(random_state=12345, n_estimators=13, max_depth=9).fit(features_upsampled,target_upsampled)\n",
    "predict = model_random_forest_classifier.predict(test_features)\n",
    "result = f1_score(test_target, predict)\n",
    "probabilities_valid = model_random_forest_classifier.predict_proba(test_features)\n",
    "probabilities_one_valid = probabilities_valid[:, 1]\n",
    "fpr, tpr, thresholds = roc_curve(test_target, probabilities_one_valid) \n",
    "auc_roc = roc_auc_score(test_target, probabilities_one_valid)"
   ]
  },
  {
   "cell_type": "code",
   "execution_count": 40,
   "metadata": {
    "colab": {
     "base_uri": "https://localhost:8080/",
     "height": 430
    },
    "executionInfo": {
     "elapsed": 6,
     "status": "ok",
     "timestamp": 1683110737138,
     "user": {
      "displayName": "Григорий Жилин",
      "userId": "01074399555567380101"
     },
     "user_tz": -60
    },
    "id": "8_rLcMXJE7ym",
    "outputId": "4197f050-46aa-468f-c1a1-1ab25a047003"
   },
   "outputs": [
    {
     "data": {
      "image/png": "[encoded data removed]",
      "text/plain": [
       "<Figure size 640x480 with 2 Axes>"
      ]
     },
     "metadata": {},
     "output_type": "display_data"
    }
   ],
   "source": [
    "cf_matrix = confusion_matrix(test_target, predict)\n",
    "ax = sns.heatmap(cf_matrix/np.sum(cf_matrix), annot=True,cmap='Blues',fmt='.2%')\n",
    "ax.xaxis.set_ticklabels(['True','False'])\n",
    "ax.yaxis.set_ticklabels(['True','False'])\n",
    "ax.set_title('confusion_matrix')\n",
    "plt.show()"
   ]
  },
  {
   "cell_type": "markdown",
   "metadata": {},
   "source": [
    "Модель верно определяет `~67%` клиентов, которые уходят из банка. При этом ложно положительных всего `6%`. Слабое место - `13%` неопределенных клиентов, которые ушли.  Сравним модель со случайной:"
   ]
  },
  {
   "cell_type": "code",
   "execution_count": 41,
   "metadata": {},
   "outputs": [
    {
     "data": {
      "image/png": "[encoded data removed]",
      "text/plain": [
       "<Figure size 640x480 with 2 Axes>"
      ]
     },
     "metadata": {},
     "output_type": "display_data"
    }
   ],
   "source": [
    "random.seed(12345)\n",
    "values = list(range(0,2))\n",
    "weight = (test_target.value_counts() / test_target.count()).sort_index()\n",
    "predict_random = random.choices(values, weights=weight, k=test_target.count())\n",
    "cf_matrix = confusion_matrix(test_target, predict_random)\n",
    "ax = sns.heatmap(cf_matrix/np.sum(cf_matrix), annot=True,cmap='Blues',fmt='.2%')\n",
    "ax.xaxis.set_ticklabels(['True','False'])\n",
    "ax.yaxis.set_ticklabels(['True','False'])\n",
    "ax.set_title('Random confusion_matrix')\n",
    "plt.show()"
   ]
  },
  {
   "cell_type": "markdown",
   "metadata": {},
   "source": [
    "Если построить случайную модель с учетом весов, то наша модель в среднем лучше предсказывает уход клиентов на `2%`. При этом на `10%` лучше предсказывает клиентов, которые не уходят. Таким образом у случайное модели намного больше ложно положительных и ложно отрицательных предсказаний. Можно сделать вывод, что модель прошла тест на адекватность."
   ]
  },
  {
   "cell_type": "code",
   "execution_count": 42,
   "metadata": {
    "colab": {
     "base_uri": "https://localhost:8080/",
     "height": 472
    },
    "executionInfo": {
     "elapsed": 24,
     "status": "ok",
     "timestamp": 1683105517898,
     "user": {
      "displayName": "Григорий Жилин",
      "userId": "01074399555567380101"
     },
     "user_tz": -60
    },
    "id": "abc07b7I5iHq",
    "outputId": "8ff38bba-e615-449a-902c-b789295406ee"
   },
   "outputs": [
    {
     "data": {
      "image/png": "[encoded data removed]",
      "text/plain": [
       "<Figure size 640x480 with 1 Axes>"
      ]
     },
     "metadata": {},
     "output_type": "display_data"
    }
   ],
   "source": [
    "plt.title('ROC curve')\n",
    "plt.plot(fpr, tpr, 'b', label = 'AUC = {:.2}'.format(auc_roc))\n",
    "plt.legend(loc = 'lower right')\n",
    "plt.plot([0, 1], [0, 1],'r--')\n",
    "plt.xlim([0, 1])\n",
    "plt.ylim([0, 1])\n",
    "plt.ylabel('True Positive Rate')\n",
    "plt.xlabel('False Positive Rate')\n",
    "plt.show()"
   ]
  },
  {
   "cell_type": "markdown",
   "metadata": {},
   "source": [
    "AUC = 0.84 также свидетельствует о том, что наша модель с поставленной задачей справляется хорошо."
   ]
  },
  {
   "cell_type": "markdown",
   "metadata": {
    "id": "UTkB_ecR5iHr"
   },
   "source": [
    "### Вывод\n",
    "\n",
    "В исследовании был проведен анализ исторических данных поведения клиентов банка. \n",
    "\n",
    "a. Исходные данные:\n",
    "\n",
    "Исход данные представляли собой датасет с размером: `10000` уникальных строк и `14` колонок. После удаления неинформативных данных и использования метода `get_dummies` стало `12` колонок. В результате удаления пропусков датасет стал содержать `9091` строк.\n",
    "\n",
    "b. Разделение данных:\n",
    "\n",
    "Исходя из поставленной задачи данные были разделены на целевой показатель `Exited` и признаки;\n",
    "\n",
    "После features и target были разделены на три выборки: train, valid, test;\n",
    "\n",
    "c. Был применён метод scaling и sampling (был выбран метод up) для признаков. В результате чего получили сбалансированные выборки с отскалированными признаками.  \n",
    "\n",
    "d. Проведено обучение и оценены модели с разными гиперпараметрами;\n",
    "\n",
    "f. Модели были протестированы на тестовых данных. Наилучшей моделью оказалась RandomForestClassifier c n_estimators равным 19 и max_depth равным 16. Оценка `f1_score` достигла целевого показателя и составила: `0.602`,  auc_roc - 0.84. При этом модель прошла тест на адекватность и показывает результаты лучше, чем случайное предсказывание."
   ]
  }
 ],
 "metadata": {
  "colab": {
   "provenance": []
  },
  "kernelspec": {
   "display_name": "Python 3 (ipykernel)",
   "language": "python",
   "name": "python3"
  },
  "language_info": {
   "codemirror_mode": {
    "name": "ipython",
    "version": 3
   },
   "file_extension": ".py",
   "mimetype": "text/x-python",
   "name": "python",
   "nbconvert_exporter": "python",
   "pygments_lexer": "ipython3",
   "version": "3.9.5"
  },
  "toc": {
   "base_numbering": 1,
   "nav_menu": {},
   "number_sections": true,
   "sideBar": true,
   "skip_h1_title": true,
   "title_cell": "Содержание",
   "title_sidebar": "Contents",
   "toc_cell": true,
   "toc_position": {},
   "toc_section_display": true,
   "toc_window_display": true
  },
  "vscode": {
   "interpreter": {
    "hash": "0f722720931fbd7bac8fa92a0efaafb415e0b529bea29341344773e6eccc6c21"
   }
  }
 },
 "nbformat": 4,
 "nbformat_minor": 1
}
